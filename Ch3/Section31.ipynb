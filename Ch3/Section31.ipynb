{
 "cells": [
  {
   "cell_type": "code",
   "execution_count": null,
   "id": "69de66c5-732d-4c68-87f5-7e986df6b43b",
   "metadata": {},
   "outputs": [],
   "source": [
    "mode = \"png\"\n",
    "\n",
    "import matplotlib\n",
    "from matplotlib import pyplot as plt\n",
    "\n",
    "font = {'family' : 'Dejavu Sans',\n",
    "        'weight' : 'normal',\n",
    "        'size'   : 20}\n",
    "\n",
    "matplotlib.rc('font', **font)"
   ]
  },
  {
   "cell_type": "code",
   "execution_count": null,
   "id": "39fc9532-5051-4e3d-9291-172d7b02eab4",
   "metadata": {},
   "outputs": [],
   "source": [
    "import numpy as np\n",
    "import networkx as nx\n",
    "\n",
    "\n",
    "G = nx.DiGraph()\n",
    "# add nodes to the network\n",
    "G.add_node(\"1\", pos=(1,1))\n",
    "G.add_node(\"2\", pos=(4,4))\n",
    "G.add_node(\"3\", pos=(4,2))\n",
    "# add edges to the network\n",
    "G.add_edge(\"1\", \"2\")\n",
    "G.add_edge(\"2\", \"1\")\n",
    "G.add_edge(\"1\", \"3\")\n",
    "G.add_edge(\"3\", \"1\")\n",
    "# the coordinates in space to use for plotting the nodes\n",
    "# in the layout plot\n",
    "pos = {\"1\": (0, 0), \"2\": (1, 0), \"3\": (.5, .5)}\n",
    "\n",
    "fig, axs = plt.subplots(1,2, figsize=(12, 6))\n",
    "nx.draw_networkx(G, with_labels=True, node_color=\"white\", pos=pos,\n",
    "                 font_size=20, node_size=800, font_color=\"black\", arrows=False,\n",
    "                 width=1, edgecolors=\"#000000\", ax=axs[0])\n",
    "axs[0].annotate(\"Nodes 1 and 3\\nare connected\", (0, .15), rotation=65)\n",
    "axs[0].annotate(\"Nodes 2 and 3\\nare not connected\", (.6, .1), rotation=-65)"
   ]
  },
  {
   "cell_type": "code",
   "execution_count": null,
   "id": "ace9cca7-3157-477d-a1e5-60e4ed2cdd9f",
   "metadata": {},
   "outputs": [],
   "source": [
    "from graphbook_code import heatmap\n",
    "import seaborn as sns\n",
    "\n",
    "# convert the networkx graph to a numpy array\n",
    "A = np.asarray(nx.to_numpy_matrix(G))\n",
    "\n",
    "heatmap(A, annot=True, linewidths=.1, cbar=False, \n",
    "        title=\"Adjacency matrix\", xticklabels=[1,2,3], xtitle=\"Node\", \n",
    "        yticklabels=[1,2,3], ytitle=\"Node\", ax=axs[1]\n",
    "       )\n",
    "axs[1].annotate(\"Nodes 1 and 3\\nare connected\", (2.03, .9), color=\"white\", size=14)\n",
    "axs[1].annotate(\"Nodes 2 and 3\\naren't connected\", (2.03, 1.9), color=\"black\", size=14)\n",
    "axs[0].set_title(\"(A) Layout Plot\")\n",
    "axs[1].set_title(\"(B) Adjacency Matrix\")\n",
    "fig.tight_layout()\n",
    "fig.savefig(\"Figures/basic_mtxs.{}\".format(mode))"
   ]
  },
  {
   "cell_type": "code",
   "execution_count": null,
   "id": "4a86ca11-ff66-4bc4-a45d-a94bbd2f1aae",
   "metadata": {},
   "outputs": [],
   "source": [
    "import networkx as nx\n",
    "from graphbook_code import heatmap\n",
    "\n",
    "# create an undirected network G\n",
    "G = nx.Graph()\n",
    "# add the nodes like before\n",
    "G.add_node(\"SI\", pos=(2,1))\n",
    "G.add_node(\"MH\", pos=(4,4))\n",
    "G.add_node(\"BK\", pos=(4,1.7))\n",
    "G.add_node(\"Q\", pos=(6,3))\n",
    "G.add_node(\"BX\", pos=(6,6))\n",
    "\n",
    "# specify boroughs that are connected to one another\n",
    "pos = nx.get_node_attributes(G, 'pos')\n",
    "G.add_edge(\"SI\", \"BK\")\n",
    "G.add_edge(\"MH\", \"BK\")\n",
    "G.add_edge(\"MH\", \"Q\")\n",
    "G.add_edge(\"MH\", \"BX\")\n",
    "G.add_edge(\"Q\", \"BX\")\n",
    "\n",
    "A = nx.to_numpy_array(G)"
   ]
  },
  {
   "cell_type": "code",
   "execution_count": null,
   "id": "415ab5b5-6382-416e-8d14-a8089ffc3473",
   "metadata": {},
   "outputs": [],
   "source": [
    "import matplotlib.image as mpimg\n",
    "\n",
    "# plotting\n",
    "fig, axs = plt.subplots(1, 3, figsize=(18, 6), gridspec_kw={\"width_ratios\": [1,1, 1.29]})\n",
    "nx.draw_networkx(G, with_labels=True, node_color=\"white\", pos=pos,\n",
    "                 font_size=20, node_size=1500, font_color=\"black\", arrows=False,\n",
    "                 width=1, edgecolors=\"#000000\", ax=axs[1])\n",
    "\n",
    "# pass in the xticklabels and yticklabels corresponding to the\n",
    "# appropriately ordered boroughs (in the order we constructed them)\n",
    "heatmap(A.astype(int), xticklabels=[\"SI\", \"MH\", \"BK\", \"Q\", \"BX\"],\n",
    "        yticklabels=[\"SI\", \"MH\", \"BK\", \"Q\", \"BX\"], ax=axs[2],\n",
    "        xtitle=\"Borough\", ytitle=\"Borough\"\n",
    "       )\n",
    "axs[0].imshow(mpimg.imread('./Images/NYC_boros.png'))\n",
    "axs[0].axis(\"off\")\n",
    "axs[1].set_title(\"(B) Layout Plot\")\n",
    "axs[2].set_title(\"(C) Adjacency Matrix\")\n",
    "axs[0].set_title(\"(A) Map of NYC Boroughs\")\n",
    "fig.tight_layout()\n",
    "fig.savefig(\"Figures/nyc_ex.{}\".format(mode))"
   ]
  },
  {
   "cell_type": "code",
   "execution_count": null,
   "id": "03b83c5e-25a3-4b43-be5f-a6fa99d3d8ea",
   "metadata": {},
   "outputs": [],
   "source": [
    "fig, axs = plt.subplots(1, 3, figsize=(18, 6))\n",
    "nx.draw_networkx(G, with_labels=True, node_color=\"white\", pos=pos,\n",
    "                 font_size=20, node_size=1500, font_color=\"black\", arrows=False,\n",
    "                 width=1, edgecolors=\"#000000\", ax=axs[0])\n",
    "axs[0].set_title(\"(A) Undirected Network\")"
   ]
  },
  {
   "cell_type": "code",
   "execution_count": null,
   "id": "376231a5-0569-4263-9455-913b75d38466",
   "metadata": {},
   "outputs": [],
   "source": [
    "from copy import deepcopy\n",
    "\n",
    "G_dir = G.to_directed()\n",
    "# remove the edge from MH to BK\n",
    "G_dir.remove_edge(\"BK\", \"MH\")\n",
    "\n",
    "nx.draw_networkx(G_dir, with_labels=True, node_color=\"white\", pos=pos,\n",
    "                 font_size=20, node_size=1500, font_color=\"black\", arrows=True,\n",
    "                 width=1, edgecolors=\"#000000\", ax=axs[1], arrowsize=25)\n",
    "axs[1].annotate(\"BK to MH out\\nof service\", xytext=(1.65, 2.6), xy=(3.8,3.65),\n",
    "            arrowprops=dict(arrowstyle=\"->\", color=\"#444444\", connectionstyle=\"arc3\"), color=\"#666666\")\n",
    "axs[1].set_title(\"(B) Directed network\")"
   ]
  },
  {
   "cell_type": "code",
   "execution_count": null,
   "id": "e5316f87-f34b-4d50-9654-8f4a6c79afd6",
   "metadata": {},
   "outputs": [],
   "source": [
    "from graspologic.utils import is_symmetric\n",
    "\n",
    "A = nx.to_numpy_array(G)\n",
    "is_symmetric(A)\n",
    "# True\n",
    "A_dir = nx.to_numpy_array(G_dir)\n",
    "is_symmetric(A_dir)\n",
    "# False"
   ]
  },
  {
   "cell_type": "code",
   "execution_count": null,
   "id": "af265e2e-e6fc-4080-b99f-73b267885bdc",
   "metadata": {},
   "outputs": [],
   "source": [
    "G_loopy = deepcopy(G)\n",
    "# add edge from SI to itself\n",
    "G_loopy.add_edge(\"SI\", \"SI\")\n",
    "\n",
    "circle_rad = 20  # This is the radius, in points\n",
    "axs[2].plot(2, 1.5, 'o',\n",
    "        ms=circle_rad * 2, mec='black', mfc='none', mew=2)\n",
    "\n",
    "\n",
    "nx.draw_networkx(G, with_labels=True, node_color=\"white\", pos=pos,\n",
    "                 font_size=20, node_size=1500, font_color=\"black\", arrows=True,\n",
    "                 width=1, edgecolors=\"#000000\", ax=axs[2], arrowsize=25)\n",
    "\n",
    "\n",
    "axs[2].annotate(\"SI self-loop\", xytext=(1.65, 2.7), xy=(2,1.85),\n",
    "            arrowprops=dict(arrowstyle=\"->\", color=\"#444444\", connectionstyle=\"arc3\"), color=\"#666666\")\n",
    "\n",
    "axs[2].set_title(\"(C) Network with self-loops\")\n",
    "fig.tight_layout()\n",
    "fig.savefig(\"Figures/directed.{}\".format(mode))"
   ]
  },
  {
   "cell_type": "code",
   "execution_count": null,
   "id": "ce429bc9-f6ca-4bb3-a98f-f2f72551bdc7",
   "metadata": {},
   "outputs": [],
   "source": [
    "\n",
    "from graspologic.utils import is_loopless\n",
    "is_loopless(A)\n",
    "# True\n",
    "A_loopy = nx.to_numpy_array(G_loopy)\n",
    "is_loopless(A_loopy)\n",
    "# False"
   ]
  },
  {
   "cell_type": "code",
   "execution_count": null,
   "id": "95e489d5-b913-4fe4-b8ee-ec5a3f106894",
   "metadata": {},
   "outputs": [],
   "source": [
    "G_weight = nx.Graph()\n",
    "\n",
    "G_weight.add_node(\"SI\", pos=(2,1))\n",
    "G_weight.add_node(\"MH\", pos=(4,4))\n",
    "G_weight.add_node(\"BK\", pos=(4,1.7))\n",
    "G_weight.add_node(\"Q\", pos=(6,3))\n",
    "G_weight.add_node(\"BX\", pos=(6,6))\n",
    "\n",
    "# this time, we add weights to the edges\n",
    "pos = nx.get_node_attributes(G, 'pos')\n",
    "G_weight.add_edge(\"SI\", \"BK\", weight=20)\n",
    "G_weight.add_edge(\"MH\", \"BK\", weight=15)\n",
    "G_weight.add_edge(\"MH\", \"Q\", weight=15)\n",
    "G_weight.add_edge(\"MH\", \"BX\", weight=5)\n",
    "G_weight.add_edge(\"Q\", \"BX\", weight=15)\n",
    "\n",
    "fig, axs = plt.subplots(1, 2, figsize=(15, 6))\n",
    "\n",
    "edge_wts = nx.get_edge_attributes(G_weight, \"weight\")\n",
    "nx.draw_networkx(G_weight, with_labels=True, node_color=\"white\", pos=pos,\n",
    "                 font_size=20, node_size=1500, font_color=\"black\", arrows=True,\n",
    "                 width=1, edgecolors=\"#000000\", ax=axs[0], arrowsize=25)\n",
    "nx.draw_networkx_edge_labels(G_weight, pos, edge_wts, font_size=15, ax=axs[0])"
   ]
  },
  {
   "cell_type": "code",
   "execution_count": null,
   "id": "9ecd0aec-6ce2-4335-a5a8-ef9b1e03c7a2",
   "metadata": {},
   "outputs": [],
   "source": [
    "from graspologic.utils import is_unweighted\n",
    "\n",
    "A_weight = nx.to_numpy_array(G_weight)\n",
    "is_unweighted(A)\n",
    "# True\n",
    "is_unweighted(A_weight)\n",
    "# False"
   ]
  },
  {
   "cell_type": "code",
   "execution_count": null,
   "id": "9d199c4b-1143-4fb5-98a7-2b9c833cca28",
   "metadata": {},
   "outputs": [],
   "source": [
    "A_weight = nx.to_numpy_array(G_weight, nonedge=0).astype(float)\n",
    "\n",
    "heatmap(A_weight, xticklabels=[\"SI\", \"MH\", \"BK\", \"Q\", \"BX\"],\n",
    "        yticklabels=[\"SI\", \"MH\", \"BK\", \"Q\", \"BX\"], title=\"(B) Weighted adjacency matrix\", \n",
    "        font_scale=1.3, xtitle=\"Borough\", ytitle=\"Borough\", ax=axs[1])\n",
    "fig.tight_layout()\n",
    "fig.savefig(\"Figures/weighted.{}\".format(mode))"
   ]
  },
  {
   "cell_type": "code",
   "execution_count": null,
   "id": "7d24de49-536b-4f5b-a762-c8794c680bed",
   "metadata": {},
   "outputs": [],
   "source": []
  }
 ],
 "metadata": {
  "kernelspec": {
   "display_name": "Python 3 (ipykernel)",
   "language": "python",
   "name": "python3"
  },
  "language_info": {
   "codemirror_mode": {
    "name": "ipython",
    "version": 3
   },
   "file_extension": ".py",
   "mimetype": "text/x-python",
   "name": "python",
   "nbconvert_exporter": "python",
   "pygments_lexer": "ipython3",
   "version": "3.9.13"
  }
 },
 "nbformat": 4,
 "nbformat_minor": 5
}
