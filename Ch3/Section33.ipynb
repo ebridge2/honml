{
 "cells": [
  {
   "cell_type": "code",
   "execution_count": null,
   "id": "e2d293d4-bcb8-4c10-ac9e-07304380d684",
   "metadata": {},
   "outputs": [],
   "source": [
    "mode = \"png\"\n",
    "\n",
    "import matplotlib\n",
    "\n",
    "font = {'family' : 'Dejavu Sans',\n",
    "        'weight' : 'normal',\n",
    "        'size'   : 20}\n",
    "\n",
    "matplotlib.rc('font', **font)\n",
    "\n",
    "from matplotlib import pyplot as plt"
   ]
  },
  {
   "cell_type": "code",
   "execution_count": null,
   "id": "6d1f685e-d6cb-4229-b134-8790f587a319",
   "metadata": {},
   "outputs": [],
   "source": [
    "import networkx as nx\n",
    "\n",
    "# create an undirected network G\n",
    "G = nx.Graph()\n",
    "# add the nodes like before\n",
    "G.add_node(\"SI\", pos=(2,1))\n",
    "G.add_node(\"MH\", pos=(4,4))\n",
    "G.add_node(\"BK\", pos=(4,1.7))\n",
    "G.add_node(\"Q\", pos=(6,3))\n",
    "G.add_node(\"BX\", pos=(6,6))\n",
    "\n",
    "# specify boroughs that are connected to one another\n",
    "pos = nx.get_node_attributes(G, 'pos')\n",
    "G.add_edge(\"SI\", \"BK\")\n",
    "G.add_edge(\"MH\", \"BK\")\n",
    "G.add_edge(\"MH\", \"Q\")\n",
    "G.add_edge(\"MH\", \"BX\")\n",
    "G.add_edge(\"Q\", \"BX\")\n",
    "\n",
    "A = nx.to_numpy_array(G)"
   ]
  },
  {
   "cell_type": "code",
   "execution_count": null,
   "id": "6b9b7106-1363-4503-9377-4ed2df6b714e",
   "metadata": {},
   "outputs": [],
   "source": [
    "fig, axs = plt.subplots(1, 2, figsize=(12, 5))\n",
    "nx.draw_networkx(G, with_labels=True, node_color=\"white\", pos=pos,\n",
    "                 font_size=20, node_size=1500, font_color=\"black\", arrows=False,\n",
    "                 width=1, edgecolors=\"#000000\", ax=axs[0])\n",
    "\n",
    "G_pot = nx.Graph()\n",
    "G_pot.add_node(\"SI\", pos=(2,1))\n",
    "G_pot.add_node(\"MH\", pos=(4,4))\n",
    "G_pot.add_node(\"BK\", pos=(4,1.7))\n",
    "G_pot.add_node(\"Q\", pos=(6,3))\n",
    "G_pot.add_node(\"BX\", pos=(6,6))\n",
    "\n",
    "for nodei in G_pot.nodes():\n",
    "    for nodej in G_pot.nodes():\n",
    "        if nodei != nodej:\n",
    "            G_pot.add_edge(nodei, nodej)\n",
    "nx.draw_networkx(G_pot, with_labels=True, node_color=\"white\", pos=pos,\n",
    "                 font_size=20, node_size=1500, font_color=\"black\", arrows=False,\n",
    "                 width=1, edgecolors=\"#000000\", ax=axs[1])\n",
    "axs[0].set_title(\"(A) NYC borough network\")\n",
    "axs[1].set_title(\"(B) Potential edges\")\n",
    "fig.tight_layout()\n",
    "fig.savefig(\"Figures/density.{}\".format(mode))"
   ]
  },
  {
   "cell_type": "code",
   "execution_count": null,
   "id": "6bb3692b-1273-4d39-b2bf-223c7b0479ce",
   "metadata": {},
   "outputs": [],
   "source": [
    "nx.density(G)\n",
    "# 0.5"
   ]
  },
  {
   "cell_type": "code",
   "execution_count": null,
   "id": "175da5e5-c5e0-409c-a184-92b57afb0664",
   "metadata": {},
   "outputs": [],
   "source": [
    "G_clus = nx.Graph()\n",
    "\n",
    "G_clus.add_node(\"MH\", pos=(4,4))\n",
    "G_clus.add_node(\"BK\", pos=(4,1.7))\n",
    "G_clus.add_node(\"Q\", pos=(6,3))\n",
    "G_clus.add_node(\"BX\", pos=(6,6))\n",
    "\n",
    "\n",
    "pos = nx.get_node_attributes(G, 'pos')\n",
    "G_clus.add_edge(\"MH\", \"BX\")\n",
    "G_clus.add_edge(\"MH\", \"BK\")\n",
    "G_clus.add_edge(\"MH\", \"Q\")\n",
    "G_clus.add_edge(\"Q\", \"BX\")"
   ]
  },
  {
   "cell_type": "code",
   "execution_count": null,
   "id": "e1c97aa9-e48f-403d-8c5b-6526691acf2a",
   "metadata": {},
   "outputs": [],
   "source": [
    "nx.transitivity(G_clus)"
   ]
  },
  {
   "cell_type": "code",
   "execution_count": null,
   "id": "d0aa0b9b-ad68-432e-9d8e-e2ee0aeafdbd",
   "metadata": {},
   "outputs": [],
   "source": [
    "l = nx.average_shortest_path_length(G)"
   ]
  },
  {
   "cell_type": "code",
   "execution_count": null,
   "id": "2c8de25a-4216-43cd-a49f-2ab10f5f6ecc",
   "metadata": {},
   "outputs": [],
   "source": []
  }
 ],
 "metadata": {
  "kernelspec": {
   "display_name": "Python 3 (ipykernel)",
   "language": "python",
   "name": "python3"
  },
  "language_info": {
   "codemirror_mode": {
    "name": "ipython",
    "version": 3
   },
   "file_extension": ".py",
   "mimetype": "text/x-python",
   "name": "python",
   "nbconvert_exporter": "python",
   "pygments_lexer": "ipython3",
   "version": "3.9.13"
  }
 },
 "nbformat": 4,
 "nbformat_minor": 5
}
