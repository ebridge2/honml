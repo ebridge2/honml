{
 "cells": [
  {
   "cell_type": "code",
   "execution_count": null,
   "id": "637faeff-f384-4994-b15a-a48e07455bcd",
   "metadata": {},
   "outputs": [],
   "source": [
    "mode = \"png\"\n",
    "\n",
    "import matplotlib\n",
    "font = {'family' : 'Dejavu Sans',\n",
    "        'weight' : 'normal',\n",
    "        'size'   : 20}\n",
    "\n",
    "matplotlib.rc('font', **font)\n",
    "\n",
    "import matplotlib\n",
    "from matplotlib import pyplot as plt"
   ]
  },
  {
   "cell_type": "code",
   "execution_count": null,
   "id": "d8fb1139-0da0-4c7b-8998-8143a1573b7d",
   "metadata": {},
   "outputs": [],
   "source": [
    "import networkx as nx\n",
    "import numpy as np\n",
    "\n",
    "# create an undirected network G\n",
    "G = nx.Graph()\n",
    "# add the nodes like before\n",
    "G.add_node(\"SI\", pos=(2,1))\n",
    "G.add_node(\"MH\", pos=(4,4))\n",
    "G.add_node(\"BK\", pos=(4,1.7))\n",
    "G.add_node(\"Q\", pos=(6,3))\n",
    "G.add_node(\"BX\", pos=(6,6))\n",
    "\n",
    "# specify boroughs that are connected to one another\n",
    "pos = nx.get_node_attributes(G, 'pos')\n",
    "G.add_edge(\"SI\", \"BK\")\n",
    "G.add_edge(\"MH\", \"BK\")\n",
    "G.add_edge(\"BK\", \"Q\")\n",
    "G.add_edge(\"MH\", \"Q\")\n",
    "G.add_edge(\"MH\", \"BX\")\n",
    "G.add_edge(\"Q\", \"BX\")\n",
    "\n",
    "A = nx.to_numpy_array(G)"
   ]
  },
  {
   "cell_type": "code",
   "execution_count": null,
   "id": "0aa33119-6a2d-4105-a252-4d52d738c7c3",
   "metadata": {},
   "outputs": [],
   "source": [
    "def in_degree(A):\n",
    "    \"\"\"\n",
    "    A function to compute the in-degrees for the nodes of an adjacency matrix.\n",
    "    \"\"\"\n",
    "    return A.sum(axis=1)\n",
    "\n",
    "def out_degree(A):\n",
    "    \"\"\"\n",
    "    A function to compute the out-degrees for the nodes of an adjacency matrix.\n",
    "    \"\"\"\n",
    "    return A.sum(axis=0)\n",
    "\n",
    "# in-degree matrix\n",
    "D_in = np.diag(in_degree(A))\n",
    "# out-degree matrix\n",
    "D_out = np.diag(out_degree(A))\n",
    "# network is undirected, so in and out degrees are same\n",
    "print(np.all(D_in == D_out))\n",
    "# True\n",
    "# arbitrarily set degree matrix to in-degree matrix\n",
    "D = D_in"
   ]
  },
  {
   "cell_type": "code",
   "execution_count": null,
   "id": "9eac2a9c-12a1-409c-9380-3db654334839",
   "metadata": {},
   "outputs": [],
   "source": [
    "L = D - A"
   ]
  },
  {
   "cell_type": "code",
   "execution_count": null,
   "id": "b7789744-c025-4f8b-b5ed-5819cbe9a0cb",
   "metadata": {},
   "outputs": [],
   "source": [
    "from graphbook_code import heatmap\n",
    "import seaborn as sns\n",
    "import os\n",
    "\n",
    "fig, axs = plt.subplots(1, 5, figsize=(18,5), gridspec_kw={\"width_ratios\": [1, .2, 1, .02, 1.27]})\n",
    "\n",
    "global_min = np.floor(np.min((np.min(L), np.min(A), np.min(D))))\n",
    "global_max = np.ceil(np.max((np.max(L), np.max(A), np.max(D))))\n",
    "heatmap(L.astype(float), cbar=False, vmin=global_min, vmax=global_max,\n",
    "        ax=axs[0], title=\"Laplacian $L$\", annot=True,\n",
    "        xticklabels=[\"SI\", \"MH\", \"BK\", \"Q\", \"BX\"],\n",
    "        yticklabels=[\"SI\", \"MH\", \"BK\", \"Q\", \"BX\"],\n",
    "        xtitle=\"Borough\", ytitle=\"Borough\")\n",
    "heatmap(D.astype(float), cbar=False, vmin=global_min, vmax=global_max,\n",
    "        ax=axs[2], title=\"Degree matrix $D$\", annot=True,\n",
    "        xticklabels=[\"SI\", \"MH\", \"BK\", \"Q\", \"BX\"],\n",
    "        yticklabels=[\"SI\", \"MH\", \"BK\", \"Q\", \"BX\"],\n",
    "        xtitle=\"Borough\", ytitle=\"Borough\")\n",
    "heatmap(A.astype(float), vmin=global_min, vmax=global_max,\n",
    "        ax=axs[4], title=\"Adjacency matrix $A$\", annot=True,\n",
    "        xticklabels=[\"SI\", \"MH\", \"BK\", \"Q\", \"BX\"],\n",
    "        yticklabels=[\"SI\", \"MH\", \"BK\", \"Q\", \"BX\"],\n",
    "        xtitle=\"Borough\", ytitle=\"Borough\")\n",
    "axs[1].text(x=0, y=.5, s=\"=\", fontsize=200, \n",
    "            va='center', ha='center')\n",
    "axs[1].get_xaxis().set_visible(False)\n",
    "axs[1].get_yaxis().set_visible(False)\n",
    "sns.despine(ax=axs[1], left=True, bottom=True)\n",
    "axs[3].text(x=0, y=.5, s=\"-\", fontsize=200, \n",
    "            va='center', ha='center')\n",
    "axs[3].get_xaxis().set_visible(False)\n",
    "axs[3].get_yaxis().set_visible(False)\n",
    "sns.despine(ax=axs[3], left=True, bottom=True)\n",
    "fig.tight_layout()\n",
    "\n",
    "fname = \"simple_lapl\"\n",
    "if mode != \"png\":\n",
    "    os.makedirs(f\"Figures/{mode:s}\", exist_ok=True)\n",
    "    fig.savefig(f\"Figures/{mode:s}/{fname:s}.{mode:s}\")\n",
    "\n",
    "os.makedirs(\"Figures/png\", exist_ok=True)\n",
    "fig.savefig(f\"Figures/png/{fname:s}.png\")"
   ]
  },
  {
   "cell_type": "code",
   "execution_count": null,
   "id": "71841453-f237-4349-9588-87a25876b6fe",
   "metadata": {},
   "outputs": [],
   "source": [
    "from graspologic.utils import to_laplacian\n",
    "L_sym = to_laplacian(A, form=\"I-DAD\")"
   ]
  },
  {
   "cell_type": "code",
   "execution_count": null,
   "id": "86f847b4-fe64-4697-833b-7047e7ef4d89",
   "metadata": {},
   "outputs": [],
   "source": [
    "L_dad = to_laplacian(A, form=\"DAD\")"
   ]
  },
  {
   "cell_type": "code",
   "execution_count": null,
   "id": "3f16821b-7df8-4d95-9e2e-88aa20058583",
   "metadata": {},
   "outputs": [],
   "source": [
    "tau = 1\n",
    "L_rdad = to_laplacian(A, form=\"R-DAD\", regularizer=tau)"
   ]
  },
  {
   "cell_type": "code",
   "execution_count": null,
   "id": "8c1bc62e-42d4-42ba-8bb7-61ca67964353",
   "metadata": {},
   "outputs": [],
   "source": [
    "fig, axs = plt.subplots(1, 3, figsize=(12, 5), gridspec_kw={\"width_ratios\": [1,1,1.27]})\n",
    "\n",
    "global_min = np.floor(np.min((np.min(L_sym), np.min(L_dad), np.min(L_rdad))))\n",
    "global_max = np.ceil(np.max((np.max(L_sym), np.max(L_dad), np.max(L_rdad))))\n",
    "heatmap(L_sym.astype(float), cbar=False, vmin=global_min, vmax=global_max,\n",
    "        ax=axs[0], title=\"(A) Normalized Laplacian\",\n",
    "        xticklabels=[\"SI\", \"MH\", \"BK\", \"Q\", \"BX\"],\n",
    "        yticklabels=[\"SI\", \"MH\", \"BK\", \"Q\", \"BX\"],\n",
    "        xtitle=\"Borough\", ytitle=\"Borough\")\n",
    "heatmap(L_dad.astype(float), cbar=False, vmin=global_min, vmax=global_max,\n",
    "        ax=axs[1], title=\"(B) DAD Laplacian\",\n",
    "        xticklabels=[\"SI\", \"MH\", \"BK\", \"Q\", \"BX\"],\n",
    "        yticklabels=[\"SI\", \"MH\", \"BK\", \"Q\", \"BX\"],\n",
    "        xtitle=\"Borough\", ytitle=\"Borough\")\n",
    "heatmap(L_rdad.astype(float), vmin=global_min, vmax=global_max,\n",
    "        ax=axs[2], title=\"(C) reg. DAD Laplacian\",\n",
    "        xticklabels=[\"SI\", \"MH\", \"BK\", \"Q\", \"BX\"],\n",
    "        yticklabels=[\"SI\", \"MH\", \"BK\", \"Q\", \"BX\"],\n",
    "        xtitle=\"Borough\", ytitle=\"Borough\", shrink=.4)\n",
    "fig.tight_layout()\n",
    "\n",
    "fname = \"normlapls\"\n",
    "if mode != \"png\":\n",
    "    fig.savefig(f\"Figures/{mode:s}/{fname:s}.{mode:s}\")\n",
    "\n",
    "fig.savefig(f\"Figures/png/{fname:s}.png\")"
   ]
  },
  {
   "cell_type": "code",
   "execution_count": null,
   "id": "f99d8809-8f6d-4734-a468-01af1bb37227",
   "metadata": {},
   "outputs": [],
   "source": []
  }
 ],
 "metadata": {
  "kernelspec": {
   "display_name": "Python 3 (ipykernel)",
   "language": "python",
   "name": "python3"
  },
  "language_info": {
   "codemirror_mode": {
    "name": "ipython",
    "version": 3
   },
   "file_extension": ".py",
   "mimetype": "text/x-python",
   "name": "python",
   "nbconvert_exporter": "python",
   "pygments_lexer": "ipython3",
   "version": "3.9.13"
  }
 },
 "nbformat": 4,
 "nbformat_minor": 5
}
