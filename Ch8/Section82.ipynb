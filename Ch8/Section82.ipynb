{
 "cells": [
  {
   "cell_type": "code",
   "execution_count": null,
   "id": "2a0a4cd7-32cf-4c61-b072-57b643cce1f5",
   "metadata": {},
   "outputs": [],
   "source": [
    "mode = \"png\"\n",
    "\n",
    "import matplotlib\n",
    "\n",
    "font = {'family' : 'Dejavu Sans',\n",
    "        'weight' : 'normal',\n",
    "        'size'   : 20}\n",
    "\n",
    "matplotlib.rc('font', **font)\n",
    "\n",
    "import matplotlib\n",
    "from matplotlib import pyplot as plt"
   ]
  },
  {
   "cell_type": "code",
   "execution_count": null,
   "id": "d1443fbb-1d19-44c8-b97d-391f7c510a6f",
   "metadata": {},
   "outputs": [],
   "source": [
    "import numpy as np\n",
    "\n",
    "pi_astronaut = 0.45\n",
    "pi_earthling = 0.55\n",
    "M = 200\n",
    "\n",
    "# roll a 2-sided die 200 times, with probability 0.45 of landing on side 2 (astronaut)\n",
    "# and probability 0.55 of landing on side 1 (earthling)\n",
    "classnames = [\"Earthling\", \"Earthling\"]\n",
    "np.random.seed(0)\n",
    "ys = np.random.choice(2, p=[pi_earthling, pi_astronaut], size=M)\n",
    "print(f\"Number of individuals who are earthlings: {(ys == 0).sum():d}\")\n",
    "print(f\"Number of individuals who are astronauts: {(ys == 1).sum():d}\")"
   ]
  },
  {
   "cell_type": "code",
   "execution_count": null,
   "id": "9e3490f2-9cdc-4c9c-8c3c-c70a537101b6",
   "metadata": {},
   "outputs": [],
   "source": [
    "n = 5\n",
    "P_earthling = np.full(shape=(n, n), fill_value=0.3)\n",
    "\n",
    "nodenames = [\n",
    "    \"SI\", \"L\", \"H/E\", \n",
    "    \"T/M\", \"BS\"\n",
    "]\n",
    "\n",
    "signal_subnetwork = np.full(shape=(n, n), fill_value=False)\n",
    "signal_subnetwork[1:n, 0] = True\n",
    "signal_subnetwork[0, 1:n] = True\n",
    "P_astronaut = np.copy(P_earthling)\n",
    "\n",
    "# probabilities for signal edges are higher in astronauts than earthlings\n",
    "P_astronaut[signal_subnetwork] = np.tile(np.linspace(0.4, 0.9, num=4), reps=2)"
   ]
  },
  {
   "cell_type": "code",
   "execution_count": null,
   "id": "01cf0e95-c2f5-435a-9567-271899de6029",
   "metadata": {},
   "outputs": [],
   "source": [
    "from graspologic.simulations import sample_edges\n",
    "\n",
    "# the probability matrices for each class\n",
    "Ps = [P_earthling, P_astronaut]\n",
    "\n",
    "# sample networks with the indicated probability matrix\n",
    "np.random.seed(0)\n",
    "As = np.stack([sample_edges(P=Ps[y]) for y in ys], axis=2)"
   ]
  },
  {
   "cell_type": "code",
   "execution_count": null,
   "id": "ab5d7424-2d1f-4403-af5b-ee8e071a052c",
   "metadata": {},
   "outputs": [],
   "source": [
    "def generate_table(As, ys, i, j):\n",
    "    \"\"\"\n",
    "    A function to generate a contingency table for a given edge.\n",
    "    \"\"\"\n",
    "    # count the number of earthlings with edge i,j\n",
    "    a = As[i,j,ys == 0].sum()\n",
    "    # count the number of astronauts with edge i,j\n",
    "    b = As[i,j,ys == 1].sum()\n",
    "\n",
    "    c = len(As[i,j,ys == 0]) - a\n",
    "    d = len(As[i,j,ys == 1]) - b\n",
    "    \n",
    "    edge_tab = np.array([[a, b], [c, d]])\n",
    "    return edge_tab\n",
    "\n",
    "# edge (0, 4) corresponds to SI to BS\n",
    "edge_tab = generate_table(As, ys, 0, 4)\n",
    "print(edge_tab)"
   ]
  },
  {
   "cell_type": "code",
   "execution_count": null,
   "id": "cb478557-a133-4599-8531-33b8aa11902a",
   "metadata": {},
   "outputs": [],
   "source": [
    "from scipy.stats import fisher_exact\n",
    "\n",
    "_, pval = fisher_exact(edge_tab)\n",
    "print(f\"p-value: {pval:.4f}\")\n",
    "# p-value: 0.0000"
   ]
  },
  {
   "cell_type": "code",
   "execution_count": null,
   "id": "da253c42-4558-43bc-b4d4-b153a956e736",
   "metadata": {},
   "outputs": [],
   "source": [
    "_, pval = fisher_exact(generate_table(As, ys, 2, 1))\n",
    "print(f\"p-value: {pval:.4f}\")\n",
    "# p-value: 0.7600"
   ]
  },
  {
   "cell_type": "code",
   "execution_count": null,
   "id": "e06bc8f4-7ba2-40d7-a328-3b2856f0866d",
   "metadata": {},
   "outputs": [],
   "source": [
    "from graspologic.utils import symmetrize\n",
    "from scipy.stats import rankdata\n",
    "\n",
    "fisher_mtx = np.empty((n, n))\n",
    "fisher_mtx[:] = np.nan\n",
    "\n",
    "for i in range(0, n):\n",
    "    for j in range(i+1, n):\n",
    "        fisher_mtx[i, j] = fisher_exact(generate_table(As, ys, i, j))[1]\n",
    "fisher_mtx = symmetrize(fisher_mtx, method=\"triu\")\n",
    "# use rankdata on -fisher_mtx, to rank from largest p-value to smallest p-value\n",
    "edge_imp = rankdata(-fisher_mtx, method=\"dense\", nan_policy=\"omit\").reshape(fisher_mtx.shape)\n",
    "np.fill_diagonal(edge_imp, 0)"
   ]
  },
  {
   "cell_type": "code",
   "execution_count": null,
   "id": "3d33ccd8-da16-46af-bdbe-69ba48e56ea9",
   "metadata": {},
   "outputs": [],
   "source": [
    "from graspologic.subgraph import SignalSubgraph\n",
    "\n",
    "K = 8  # the number of edges in the subgraph\n",
    "ssn_mod = SignalSubgraph()\n",
    "ssn_mod.fit_transform(As, labels=ys, constraints=K);\n",
    "\n",
    "sn_est = np.zeros((n,n))  # initialize empty matrix\n",
    "sn_est[ssn_mod.sigsub_] = 1"
   ]
  },
  {
   "cell_type": "code",
   "execution_count": null,
   "id": "a5aa9b4c-ce9c-44ca-8a65-eaa317ab647d",
   "metadata": {},
   "outputs": [],
   "source": [
    "from graphbook_code import heatmap\n",
    "\n",
    "fig, axs = plt.subplots(1, 3, figsize=(18, 6))\n",
    "\n",
    "heatmap(signal_subnetwork.astype(int), ax = axs[0], title=\"(A) Signal subnetwork\",\n",
    "        xtitle=\"Brain area\", ytitle=\"Brain area\", xticklabels=nodenames, yticklabels=nodenames, shrink=0.5,\n",
    "        legend_title=\"Part of $\\\\mathcal{S}$?\")\n",
    "heatmap(edge_imp, ax = axs[1], title=\"(B) Edge importance matrix\",\n",
    "        xtitle=\"Brain area\", ytitle=\"Brain area\", xticklabels=nodenames, yticklabels=nodenames,\n",
    "        legend_title=\"Edge importance\", annot=True)\n",
    "heatmap(sn_est.astype(int), ax = axs[2], title=\"(C) Estimated signal subnetwork\",\n",
    "        xtitle=\"Brain area\", ytitle=\"Brain area\", shrink=0.5, xticklabels=nodenames, yticklabels=nodenames,\n",
    "        legend_title=\"Part of $\\\\hat{\\\\mathcal{S}}$?\")\n",
    "fig.tight_layout()\n",
    "\n",
    "fname = \"ssn_inco_edgeimp\"\n",
    "if mode == \"png\":\n",
    "    fig.savefig(\"Figures/{}.{}\".format(fname, mode))\n",
    "    fig.savefig(\"Figures/{}.svg\".format(fname))\n",
    "else:\n",
    "    fig.savefig(\"Figures/{}.svg\".format(fname))"
   ]
  },
  {
   "cell_type": "code",
   "execution_count": null,
   "id": "6461f175-d18f-4628-a6ee-2a76842f8c6b",
   "metadata": {},
   "outputs": [],
   "source": [
    "D = As[ssn_mod.sigsub_[0], ssn_mod.sigsub_[1],:].T"
   ]
  },
  {
   "cell_type": "code",
   "execution_count": null,
   "id": "67337ee4-c8ad-4839-9d13-91f5aa47fba9",
   "metadata": {},
   "outputs": [],
   "source": [
    "from sklearn.naive_bayes import BernoulliNB\n",
    "\n",
    "classifier = BernoulliNB()\n",
    "# fit the classifier using the vector of classes for each sample\n",
    "classifier.fit(D, ys)"
   ]
  },
  {
   "cell_type": "code",
   "execution_count": null,
   "id": "c6700af9-5ec5-4235-b816-7d2f7c145427",
   "metadata": {},
   "outputs": [],
   "source": [
    "# number of holdout samples\n",
    "Mp = 200\n",
    "y_heldout = np.random.choice(2, p=[pi_earthling, pi_astronaut], size=M)\n",
    "# sample networks with the appropriate probability matrix\n",
    "A_heldout = np.stack([sample_edges(Ps[y]) for y in y_heldout], axis=2)\n",
    "\n",
    "# compute testing data on the estimated signal subnetwork\n",
    "D_heldout = A_heldout[ssn_mod.sigsub_[0], ssn_mod.sigsub_[1],:].T\n",
    "\n",
    "yhat_heldout = classifier.predict(D_heldout)\n",
    "\n",
    "# classifier accuracy is the fraction of predictions that are correct\n",
    "heldout_acc = np.mean(yhat_heldout == y_heldout)\n",
    "print(f\"Classifier Testing Accuracy: {heldout_acc:.3f}\")"
   ]
  },
  {
   "cell_type": "code",
   "execution_count": null,
   "id": "83b594c1-e429-4e57-ab63-525e69c1b4be",
   "metadata": {},
   "outputs": [],
   "source": [
    "def train_and_eval_ssn(Atrain, ytrain, Atest, ytest, K):\n",
    "    \"\"\"\n",
    "    A function which trains and tests an incoherent signal subnetwork\n",
    "    classifier with K signal edges.\n",
    "    \"\"\"\n",
    "    ssn_mod = SignalSubgraph()\n",
    "    ssn_mod.fit_transform(Atrain, labels=ytrain, constraints=int(K));\n",
    "\n",
    "    Dtrain = Atrain[ssn_mod.sigsub_[0], ssn_mod.sigsub_[1],:].T\n",
    "    classifier = BernoulliNB()\n",
    "    # fit the classifier using the vector of classes for each sample\n",
    "    classifier.fit(Dtrain, ytrain)\n",
    "\n",
    "    # compute testing data on the estimated signal subnetwork\n",
    "    Dtest = Atest[ssn_mod.sigsub_[0], ssn_mod.sigsub_[1],:].T\n",
    "    yhat_test = classifier.predict(Dtest)\n",
    "    \n",
    "    # classifier accuracy is the fraction of predictions that are correct\n",
    "    return (np.mean(yhat_test == ytest), ssn_mod, classifier)"
   ]
  },
  {
   "cell_type": "code",
   "execution_count": null,
   "id": "e087cf1b-e123-4354-9a5c-fddbc1398a55",
   "metadata": {},
   "outputs": [],
   "source": [
    "from sklearn.model_selection import KFold\n",
    "import pandas as pd\n",
    "\n",
    "kf = KFold(n_splits=20, random_state=None)\n",
    "xv_res = []\n",
    "for l, (train_index, test_index) in enumerate(kf.split(range(0, M))):\n",
    "    A_train, A_test = As[:,:,train_index], As[:,:,test_index]\n",
    "    y_train, y_test = ys[train_index], ys[test_index]\n",
    "    nl = len(test_index)\n",
    "    \n",
    "    for k in np.arange(2, 20, step=2):\n",
    "        acc_kl, _, _ = train_and_eval_ssn(A_train, y_train, A_test, y_test, k)\n",
    "        xv_res.append({\"Fold\": l, \"k\": k, \"nl\": nl, \"Accuracy\": acc_kl})\n",
    "xv_data = pd.DataFrame(xv_res)\n",
    "\n",
    "def weighted_avg(group):\n",
    "    acc = group['Accuracy']\n",
    "    nl = group['nl']\n",
    "    return (acc * nl).sum() / nl.sum()\n",
    "\n",
    "xv_acc = xv_data.groupby([\"k\"]).apply(weighted_avg)\n",
    "print(xv_acc)"
   ]
  }
 ],
 "metadata": {
  "kernelspec": {
   "display_name": "Python 3 (ipykernel)",
   "language": "python",
   "name": "python3"
  },
  "language_info": {
   "codemirror_mode": {
    "name": "ipython",
    "version": 3
   },
   "file_extension": ".py",
   "mimetype": "text/x-python",
   "name": "python",
   "nbconvert_exporter": "python",
   "pygments_lexer": "ipython3",
   "version": "3.9.13"
  }
 },
 "nbformat": 4,
 "nbformat_minor": 5
}
