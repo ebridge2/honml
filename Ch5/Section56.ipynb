{
 "cells": [
  {
   "cell_type": "code",
   "execution_count": null,
   "id": "2a0a4cd7-32cf-4c61-b072-57b643cce1f5",
   "metadata": {},
   "outputs": [],
   "source": [
    "mode = \"svg\"\n",
    "\n",
    "import matplotlib\n",
    "\n",
    "font = {'family' : 'Dejavu Sans',\n",
    "        'weight' : 'normal',\n",
    "        'size'   : 20}\n",
    "\n",
    "matplotlib.rc('font', **font)\n",
    "\n",
    "import matplotlib\n",
    "from matplotlib import pyplot as plt"
   ]
  },
  {
   "cell_type": "code",
   "execution_count": null,
   "id": "eacfd38c-b1e5-492f-b7c3-1e8825e6e9f1",
   "metadata": {},
   "outputs": [],
   "source": [
    "from graspologic.simulations import sbm\n",
    "import numpy as np\n",
    "\n",
    "n = 200  # total number of nodes\n",
    "# first two communities are the ``core'' pages for statistics\n",
    "# and computer science, and second two are the ``peripheral'' pages\n",
    "# for statistics and computer science.\n",
    "B = np.array([[.4, .3, .05, .05],\n",
    "              [.3, .4, .05, .05],\n",
    "              [.05, .05, .05, .02],\n",
    "              [.05, .05, .02, .05]])\n",
    "\n",
    "# make the stochastic block model\n",
    "A, labels = sbm([n // 4, n // 4, n // 4, n // 4], B, return_labels=True)\n",
    "# generate labels for core/periphery\n",
    "co_per_labels = np.repeat([\"Core\", \"Per.\"], repeats=n//2)\n",
    "# generate labels for statistics/CS.\n",
    "st_cs_labels = np.repeat([\"Stat\", \"CS\", \"Stat\", \"CS\"], repeats=n//4)"
   ]
  },
  {
   "cell_type": "code",
   "execution_count": null,
   "id": "2439e4ad-5a9e-4e08-8c5b-ca35cb317e52",
   "metadata": {},
   "outputs": [],
   "source": [
    "from graspologic.embed import LaplacianSpectralEmbed as lse\n",
    "\n",
    "Xhat = lse(n_components=2).fit_transform(A)"
   ]
  },
  {
   "cell_type": "code",
   "execution_count": null,
   "id": "6725ef36-a7db-4e7e-bf1d-65dc8e087c7a",
   "metadata": {},
   "outputs": [],
   "source": [
    "from graphbook_code import heatmap, plot_latents\n",
    "import os\n",
    "\n",
    "fig, axs = plt.subplots(1, 2, figsize=(15, 6))\n",
    "\n",
    "comb_labels = [\"{:s} {:s}\".format(a, b) for a, b in zip(st_cs_labels, co_per_labels)]\n",
    "heatmap(A.astype(int), inner_hier_labels=st_cs_labels, outer_hier_labels=co_per_labels, ax=axs[0],\n",
    "       title=\"(A) Network\", xtitle=\"Node (wikipedia page\", title_pad=100)\n",
    "plot_latents(Xhat, labels=comb_labels, ax=axs[1], s=30, title=\"(B) $lse(A)$\")\n",
    "axs[1].set_xlabel(\"Dimension 1\"); axs[1].set_ylabel(\"Dimension 2\")\n",
    "\n",
    "plt.tight_layout()\n",
    "fig.tight_layout()\n",
    "\n",
    "os.makedirs(\"Figures\", exist_ok=True)\n",
    "fname = \"casc_net\"\n",
    "if mode != \"png\":\n",
    "    os.makedirs(f\"Figures/{mode:s}\", exist_ok=True)\n",
    "    fig.savefig(f\"Figures/{mode:s}/{fname:s}.{mode:s}\")\n",
    "\n",
    "os.makedirs(\"Figures/png\", exist_ok=True)\n",
    "fig.savefig(f\"Figures/png/{fname:s}.png\")"
   ]
  },
  {
   "cell_type": "code",
   "execution_count": null,
   "id": "fdf61d08-8605-480b-9dd9-06b24b0fc33e",
   "metadata": {},
   "outputs": [],
   "source": [
    "trial = []\n",
    "for label in st_cs_labels:\n",
    "    if \"Stat\" in label:\n",
    "        # if the page is a statistics page, there is a 50% chance\n",
    "        # of citing each of the scholars\n",
    "        trial.append(np.random.binomial(1, 0.5, size=20))\n",
    "    else:\n",
    "        # if the page is a CS page, there is a 5% chance of citing\n",
    "        # each of the scholars\n",
    "        trial.append(np.random.binomial(1, 0.05, size=20))\n",
    "Y = np.vstack(trial)"
   ]
  },
  {
   "cell_type": "code",
   "execution_count": null,
   "id": "bb0bef56-7629-4620-863a-a19a007a0063",
   "metadata": {},
   "outputs": [],
   "source": [
    "def embed(X, d=2):\n",
    "    \"\"\"\n",
    "    A function to embed a matrix.\n",
    "    \"\"\"\n",
    "    Lambda, V = np.linalg.eig(X)\n",
    "    return V[:, 0:d] @ np.diag(np.sqrt(np.abs(Lambda[0:d])))\n",
    "\n",
    "def pca(X, d=2):\n",
    "    \"\"\"\n",
    "    A function to perform a pca on a data matrix.\n",
    "    \"\"\"\n",
    "    X_centered = X - np.mean(X, axis=0)\n",
    "    return embed(X_centered @ X_centered.T, d=d)\n",
    "\n",
    "Y_embedded = pca(Y, d=2)"
   ]
  },
  {
   "cell_type": "code",
   "execution_count": null,
   "id": "273f47bd-1b88-4003-a84b-7bafa4ade5bc",
   "metadata": {},
   "outputs": [],
   "source": [
    "from graphbook_code import lpm_heatmap\n",
    "\n",
    "fig, axs = plt.subplots(1, 2, figsize=(12, 6), gridspec_kw={\"width_ratios\": [1, 1.5]})\n",
    "\n",
    "lpm_heatmap(Y, ax=axs[0], title=\"(A) Covariates $Y$\", xtitle=\"Statistician\", xticks=[0.5, 19.5],\n",
    "           xticklabels=[1, 20])\n",
    "\n",
    "plot_latents(Y_embedded, labels=comb_labels, ax=axs[1], s=30, title=\"(B) $pca(Y)$\")\n",
    "axs[1].set_xlabel(\"Dimension 1\"); axs[1].set_ylabel(\"Dimension 2\")\n",
    "\n",
    "fig.tight_layout()\n",
    "\n",
    "fname = \"casc_covs\"\n",
    "if mode != \"png\":\n",
    "    fig.savefig(f\"Figures/{mode:s}/{fname:s}.{mode:s}\")\n",
    "\n",
    "fig.savefig(f\"Figures/png/{fname:s}.png\")"
   ]
  },
  {
   "cell_type": "code",
   "execution_count": null,
   "id": "c1696195-b87c-4317-803c-8575e00bb0ea",
   "metadata": {},
   "outputs": [],
   "source": [
    "from graspologic.utils import to_laplacian\n",
    "\n",
    "# compute the network Laplacian\n",
    "L_wiki = to_laplacian(A, form=\"DAD\")\n",
    "# log transform, strictly for visualization purposes\n",
    "L_wiki_logxfm = np.log(L_wiki + np.min(L_wiki[L_wiki > 0])/np.exp(1))\n",
    "\n",
    "# compute the node similarity matrix\n",
    "Y_sim = Y @ Y.T"
   ]
  },
  {
   "cell_type": "code",
   "execution_count": null,
   "id": "01d8003a-2c7c-4a2d-861b-26b3b6fbd6e0",
   "metadata": {},
   "outputs": [],
   "source": [
    "fig, axs = plt.subplots(1, 2, figsize=(14, 6))\n",
    "\n",
    "heatmap(L_wiki_logxfm, ax=axs[0], title=\"(A) $log(L + \\\\epsilon)$\",\n",
    "       xtitle=\"Node\", cbar=False, inner_hier_labels=st_cs_labels, outer_hier_labels=co_per_labels)\n",
    "heatmap(Y_sim, ax=axs[1], title=\"(B) $YY^\\\\top$\", cbar=False, xtitle=\"Node\", inner_hier_labels=st_cs_labels, outer_hier_labels=co_per_labels)\n",
    "\n",
    "fig.tight_layout()\n",
    "fig.savefig(\"Figures/casc_inputs.svg\")"
   ]
  },
  {
   "cell_type": "code",
   "execution_count": null,
   "id": "9eac9301-bd67-4b36-8b23-165cf048b0fa",
   "metadata": {},
   "outputs": [],
   "source": [
    "from graspologic.embed import AdjacencySpectralEmbed as ase\n",
    "\n",
    "def case(A, Y, weight=0, d=2, tau=0):\n",
    "    \"\"\"\n",
    "    A function for performing case.\n",
    "    \"\"\"\n",
    "    # compute the laplacian\n",
    "    L = to_laplacian(A, form=\"R-DAD\", regularizer=tau)\n",
    "    YYt = Y @ Y.T\n",
    "    return ase(n_components=2).fit_transform(L + weight*YYt)\n",
    "\n",
    "embedded = case(A, Y, weight=.002)"
   ]
  },
  {
   "cell_type": "code",
   "execution_count": null,
   "id": "36923adf-57c0-466a-984e-5965d2b4b459",
   "metadata": {},
   "outputs": [],
   "source": [
    "weights = np.logspace(-4, 0, num=6)\n",
    "\n",
    "fig, axs = plt.subplots(2, 3, figsize=(15, 8))\n",
    "\n",
    "for weight, ax in zip(weights, axs.flat):\n",
    "    embedded = case(A, Y, weight=weight)\n",
    "    plot_latents(embedded, title=\"weight: {:.4f}\".format(weight),\n",
    "                 ax=ax, s=20, labels=comb_labels)\n",
    "    ax.get_legend().remove()\n",
    "fig.tight_layout()\n",
    "\n",
    "fname = \"case_outputs\"\n",
    "if mode != \"png\":\n",
    "    fig.savefig(f\"Figures/{mode:s}/{fname:s}.{mode:s}\")\n",
    "\n",
    "fig.savefig(f\"Figures/png/{fname:s}.png\")"
   ]
  },
  {
   "cell_type": "code",
   "execution_count": null,
   "id": "068a65c5-e9c9-4a64-b756-0c32db50d9a8",
   "metadata": {},
   "outputs": [],
   "source": [
    "from graspologic.embed import CovariateAssistedEmbed as case\n",
    "\n",
    "embedding = case(alpha=None, n_components=2).fit_transform(A, covariates=Y)"
   ]
  }
 ],
 "metadata": {
  "kernelspec": {
   "display_name": "Python 3 (ipykernel)",
   "language": "python",
   "name": "python3"
  },
  "language_info": {
   "codemirror_mode": {
    "name": "ipython",
    "version": 3
   },
   "file_extension": ".py",
   "mimetype": "text/x-python",
   "name": "python",
   "nbconvert_exporter": "python",
   "pygments_lexer": "ipython3",
   "version": "3.9.13"
  }
 },
 "nbformat": 4,
 "nbformat_minor": 5
}
