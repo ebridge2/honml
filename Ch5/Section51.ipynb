{
 "cells": [
  {
   "cell_type": "code",
   "execution_count": null,
   "id": "2a0a4cd7-32cf-4c61-b072-57b643cce1f5",
   "metadata": {},
   "outputs": [],
   "source": [
    "mode = \"png\"\n",
    "\n",
    "import matplotlib\n",
    "\n",
    "font = {'family' : 'Dejavu Sans',\n",
    "        'weight' : 'normal',\n",
    "        'size'   : 20}\n",
    "\n",
    "matplotlib.rc('font', **font)\n",
    "\n",
    "import matplotlib\n",
    "from matplotlib import pyplot as plt"
   ]
  },
  {
   "cell_type": "code",
   "execution_count": null,
   "id": "9c4d1ff7-38bb-4eb1-870c-1b8952391944",
   "metadata": {},
   "outputs": [],
   "source": [
    "from graspologic.simulations import er_np\n",
    "\n",
    "p = 0.3\n",
    "A = er_np(n=50, p=p)"
   ]
  },
  {
   "cell_type": "code",
   "execution_count": null,
   "id": "aa41d292-601d-42a9-ae82-9c773f37959a",
   "metadata": {},
   "outputs": [],
   "source": [
    "import numpy as np\n",
    "from graspologic.models import EREstimator\n",
    "\n",
    "model = EREstimator(directed=False, loops=False)\n",
    "model.fit(A)\n",
    "# obtain the estimate from the fit model\n",
    "phat = model.p_"
   ]
  },
  {
   "cell_type": "code",
   "execution_count": null,
   "id": "6812c7b0-2828-41bb-8c78-5b7d5577d76f",
   "metadata": {},
   "outputs": [],
   "source": [
    "print(\"Difference between phat and p: {:.3f}\".format(phat - p))"
   ]
  },
  {
   "cell_type": "code",
   "execution_count": null,
   "id": "358cfaa5-ed70-47bb-b210-f950558d166f",
   "metadata": {},
   "outputs": [],
   "source": [
    "from graspologic.simulations import sbm\n",
    "\n",
    "nks = [50, 50]\n",
    "B = np.array([[0.6, 0.2], \n",
    "              [0.2, 0.4]])\n",
    "\n",
    "A, z = sbm(n=nks, p=B, return_labels=True)"
   ]
  },
  {
   "cell_type": "code",
   "execution_count": null,
   "id": "a64c8a67-97de-4d5e-8fca-bfd207e22c1f",
   "metadata": {},
   "outputs": [],
   "source": [
    "from graspologic.models import SBMEstimator\n",
    "from graphbook_code import heatmap\n",
    "\n",
    "model = SBMEstimator(directed=False, loops=False)\n",
    "model.fit(A, y=z)\n",
    "Bhat = model.block_p_\n",
    "\n",
    "fig, axs = plt.subplots(1, 3, figsize=(15, 5), gridspec_kw={\"width_ratios\": [1, 1.27, 1.27]})\n",
    "# plot the block matrix vs estimate\n",
    "heatmap(B, title=\"(A) $B$ true block matrix\", vmin=0, vmax=1, ax=axs[0],\n",
    "        xtitle=\"Community\", xticks=[0.5, 1.5], xticklabels=[1, 2],\n",
    "        ytitle=\"Community\", yticks=[0.5, 1.5], yticklabels=[1, 2], annot=True, fmt=\".3f\", cbar=False)\n",
    "heatmap(Bhat, title=\"(B) $\\hat B$ estimate of block matrix\", vmin=0, vmax=1, ax=axs[1],\n",
    "        xtitle=\"Community\", xticks=[0.5, 1.5], xticklabels=[1, 2],\n",
    "        ytitle=\"Community\", yticks=[0.5, 1.5], yticklabels=[1, 2], annot=True, fmt=\".3f\", legend_title=\"Probability\")\n",
    "heatmap(np.abs(Bhat - B), title=\"(C) $|\\hat B - B|$\", vmin=0, vmax=1, ax=axs[2],\n",
    "        xtitle=\"Community\", xticks=[0.5, 1.5], xticklabels=[1, 2],\n",
    "        ytitle=\"Community\", yticks=[0.5, 1.5], yticklabels=[1, 2], annot=True, fmt=\".3f\", legend_title=\"Abs. Diff.\")\n",
    "\n",
    "fig.tight_layout()\n",
    "fig.savefig(\"Figures/sbm_est.{}\".format(mode))"
   ]
  }
 ],
 "metadata": {
  "kernelspec": {
   "display_name": "Python 3 (ipykernel)",
   "language": "python",
   "name": "python3"
  },
  "language_info": {
   "codemirror_mode": {
    "name": "ipython",
    "version": 3
   },
   "file_extension": ".py",
   "mimetype": "text/x-python",
   "name": "python",
   "nbconvert_exporter": "python",
   "pygments_lexer": "ipython3",
   "version": "3.9.13"
  }
 },
 "nbformat": 4,
 "nbformat_minor": 5
}
