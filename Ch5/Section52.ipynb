{
 "cells": [
  {
   "cell_type": "code",
   "execution_count": null,
   "id": "2a0a4cd7-32cf-4c61-b072-57b643cce1f5",
   "metadata": {},
   "outputs": [],
   "source": [
    "mode = \"png\"\n",
    "\n",
    "import matplotlib\n",
    "\n",
    "font = {'family' : 'Dejavu Sans',\n",
    "        'weight' : 'normal',\n",
    "        'size'   : 20}\n",
    "\n",
    "matplotlib.rc('font', **font)\n",
    "\n",
    "import matplotlib\n",
    "from matplotlib import pyplot as plt"
   ]
  },
  {
   "cell_type": "code",
   "execution_count": null,
   "id": "9f89eb97-1eca-4909-b39f-2578064ca713",
   "metadata": {},
   "outputs": [],
   "source": [
    "import pandas as pd\n",
    "import seaborn as sns\n",
    "\n",
    "lobst_dat = pd.read_csv(\"Data/lobster.csv\")\n",
    "sex_colors = {\"Males\": \"#000000\", \"Females\": \"#888888\"}\n",
    "\n",
    "fig, axs = plt.subplots(2,1, figsize=(10, 8))\n",
    "sns.scatterplot(x=\"TotalLength\", y=\"CrusherClawWidth\", hue=\"Sex\", style=\"Sex\", data=lobst_dat,\n",
    "                palette=sex_colors, alpha=0.6, markers={\"Males\": \"o\", \"Females\": \"s\"}, edgecolor=(\"white\", \"black\"),\n",
    "                ax=axs[0])\n",
    "\n",
    "for lh in axs[0].get_legend().legend_handles:\n",
    "    lh.set_alpha(1)\n",
    "    lh._sizes = [100] \n",
    "    \n",
    "axs[0].set_title(\"(A) Plot of lobster data\")\n",
    "axs[0].set_xlabel(\"Total Length\")\n",
    "axs[0].set_ylabel(\"Crusher Claw Width\")"
   ]
  },
  {
   "cell_type": "code",
   "execution_count": null,
   "id": "67474b51-0ec3-49b4-b618-0645bd02a2b8",
   "metadata": {},
   "outputs": [],
   "source": [
    "import statsmodels.api as sm\n",
    "import statsmodels.formula.api as smf\n",
    "\n",
    "fit_mod = smf.ols(\"CrusherClawWidth ~ TotalLength + C(Sex) + TotalLength:C(Sex)\", data=lobst_dat).fit()\n",
    "\n",
    "lobst_dat[\"Predicted\"] = fit_mod.predict(lobst_dat)\n",
    "# Plot the fitted regression line\n",
    "\n",
    "sns.scatterplot(x=\"TotalLength\", y=\"CrusherClawWidth\", hue=\"Sex\", style=\"Sex\", data=lobst_dat,\n",
    "                palette=sex_colors, alpha=0.2, markers={\"Males\": \"o\", \"Females\": \"s\"}, edgecolor=(\"white\", \"black\"),\n",
    "                ax=axs[1], legend=False)\n",
    "\n",
    "\n",
    "sns.lineplot(x=\"TotalLength\", y=\"Predicted\", hue=\"Sex\", data=lobst_dat,\n",
    "                palette=sex_colors, ax=axs[1], linewidth=5.5)\n",
    "\n",
    "# Customize legend marker sizes\n",
    "for line in axs[1].get_legend().get_lines():\n",
    "    line.set_linewidth(7)  # Adjust the size as needed for the legend markers\n",
    "\n",
    "axs[1].set_title(\"(B) Regression fit\")\n",
    "axs[1].set_xlabel(\"Total Length\")\n",
    "axs[1].set_ylabel(\"Crusher Claw Width\")\n",
    "fig.tight_layout()\n",
    "fig.savefig(\"Figures/lobster.{}\".format(mode))\n",
    "fig"
   ]
  },
  {
   "cell_type": "code",
   "execution_count": null,
   "id": "b53b494a",
   "metadata": {},
   "outputs": [],
   "source": []
  }
 ],
 "metadata": {
  "kernelspec": {
   "display_name": "Python 3 (ipykernel)",
   "language": "python",
   "name": "python3"
  },
  "language_info": {
   "codemirror_mode": {
    "name": "ipython",
    "version": 3
   },
   "file_extension": ".py",
   "mimetype": "text/x-python",
   "name": "python",
   "nbconvert_exporter": "python",
   "pygments_lexer": "ipython3",
   "version": "3.12.4"
  }
 },
 "nbformat": 4,
 "nbformat_minor": 5
}
