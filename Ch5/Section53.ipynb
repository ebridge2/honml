{
 "cells": [
  {
   "cell_type": "code",
   "execution_count": 1,
   "id": "2a0a4cd7-32cf-4c61-b072-57b643cce1f5",
   "metadata": {},
   "outputs": [],
   "source": [
    "mode = \"png\"\n",
    "\n",
    "import matplotlib\n",
    "\n",
    "font = {'family' : 'Dejavu Sans',\n",
    "        'weight' : 'normal',\n",
    "        'size'   : 20}\n",
    "\n",
    "matplotlib.rc('font', **font)\n",
    "\n",
    "import matplotlib\n",
    "from matplotlib import pyplot as plt"
   ]
  },
  {
   "cell_type": "code",
   "execution_count": null,
   "id": "cfccdddf-4f40-45dd-a44b-1c89ae4e917f",
   "metadata": {},
   "outputs": [],
   "source": [
    "fig.tight_layout()\n",
    "fig.savefig(\"Figures/.{}\".format(mode))"
   ]
  },
  {
   "cell_type": "code",
   "execution_count": null,
   "id": "273f47bd-1b88-4003-a84b-7bafa4ade5bc",
   "metadata": {},
   "outputs": [],
   "source": [
    "fig.tight_layout()\n",
    "fig.savefig(\"Figures/.{}\".format(mode))"
   ]
  },
  {
   "cell_type": "code",
   "execution_count": null,
   "id": "54a996b1-d57d-444f-8fdb-c4e051649996",
   "metadata": {},
   "outputs": [],
   "source": [
    "fig.tight_layout()\n",
    "fig.savefig(\"Figures/.{}\".format(mode))"
   ]
  },
  {
   "cell_type": "code",
   "execution_count": null,
   "id": "3e933504-b8ad-448c-8f91-ee20c4923ed1",
   "metadata": {},
   "outputs": [],
   "source": [
    "fig.tight_layout()\n",
    "fig.savefig(\"Figures/.{}\".format(mode))"
   ]
  }
 ],
 "metadata": {
  "kernelspec": {
   "display_name": "Python 3 (ipykernel)",
   "language": "python",
   "name": "python3"
  },
  "language_info": {
   "codemirror_mode": {
    "name": "ipython",
    "version": 3
   },
   "file_extension": ".py",
   "mimetype": "text/x-python",
   "name": "python",
   "nbconvert_exporter": "python",
   "pygments_lexer": "ipython3",
   "version": "3.9.13"
  }
 },
 "nbformat": 4,
 "nbformat_minor": 5
}
