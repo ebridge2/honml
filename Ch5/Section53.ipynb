{
 "cells": [
  {
   "cell_type": "code",
   "execution_count": null,
   "id": "2a0a4cd7-32cf-4c61-b072-57b643cce1f5",
   "metadata": {},
   "outputs": [],
   "source": [
    "mode = \"svg\"\n",
    "\n",
    "import matplotlib\n",
    "\n",
    "font = {'family' : 'Dejavu Sans',\n",
    "        'weight' : 'normal',\n",
    "        'size'   : 20}\n",
    "\n",
    "matplotlib.rc('font', **font)\n",
    "\n",
    "import matplotlib\n",
    "from matplotlib import pyplot as plt"
   ]
  },
  {
   "cell_type": "code",
   "execution_count": null,
   "id": "d634a84c-f798-4ae2-b5b0-b146af83450d",
   "metadata": {},
   "outputs": [],
   "source": [
    "from graspologic.simulations import sbm\n",
    "from graphbook_code import generate_sbm_pmtx, lpm_from_sbm\n",
    "import numpy as np\n",
    "\n",
    "n = 100\n",
    "# construct the block matrix B as described above\n",
    "B = np.array([[0.6, 0.1], \n",
    "              [0.1, 0.4]])\n",
    "\n",
    "# sample a graph from SBM_{100}(tau, B)\n",
    "np.random.seed(0)\n",
    "A, zs = sbm(n=[n//2, n//2], p=B, return_labels=True)\n",
    "zs = zs + 1 # shift to 1-index\n",
    "\n",
    "X = lpm_from_sbm(zs, B)\n",
    "P = generate_sbm_pmtx(zs, B)"
   ]
  },
  {
   "cell_type": "code",
   "execution_count": null,
   "id": "7e76d4c3-9676-4e76-87e5-0b10eb749594",
   "metadata": {},
   "outputs": [],
   "source": [
    "from graphbook_code import lpm_heatmap, heatmap\n",
    "import os\n",
    "\n",
    "fig, axs = plt.subplots(1, 3, figsize=(14, 5), gridspec_kw={\"width_ratios\": [.5, 1.27, 1.27]})\n",
    "\n",
    "lpm_heatmap(X, xtitle=\"Latent Dim.\", xticks=[0.5, 1.5], xticklabels=[1, 2],\n",
    "            yticks=[0.5, 49.5, 99.5], yticklabels=[1, 50, 100], ytitle=\"Node\",\n",
    "            ax=axs[0], title=\"(A) Latent positions\")\n",
    "heatmap(P, legend_title=\"Edge probability\", ax=axs[1],\n",
    "        xticks=[0.5, 49.5, 99.5], xticklabels=[1, 50, 100], xtitle=\"Node\",\n",
    "        yticks=[0.5, 49.5, 99.5], yticklabels=[1, 50, 100], ytitle=\"Node\",\n",
    "        title=\"(B) Probability matrix\", vmin=0, vmax=1)\n",
    "heatmap(A.astype(int), legend_title=\"Edge?\", ax=axs[2],\n",
    "        xticks=[0.5, 49.5, 99.5], xticklabels=[1, 50, 100], xtitle=\"Node\",\n",
    "        yticks=[0.5, 49.5, 99.5], yticklabels=[1, 50, 100], ytitle=\"Node\",\n",
    "        title=\"(C) Sampled adj. matrix\")\n",
    "fig.tight_layout()\n",
    "\n",
    "os.makedirs(\"Figures\", exist_ok=True)\n",
    "fname = \"ase_sbm_ex\"\n",
    "if mode != \"png\":\n",
    "    os.makedirs(f\"Figures/{mode:s}\", exist_ok=True)\n",
    "    fig.savefig(f\"Figures/{mode:s}/{fname:s}.{mode:s}\")\n",
    "\n",
    "os.makedirs(\"Figures/png\", exist_ok=True)\n",
    "fig.savefig(f\"Figures/png/{fname:s}.png\")"
   ]
  },
  {
   "cell_type": "code",
   "execution_count": null,
   "id": "13d12cfa-e668-477d-ae9f-838d1ab425ac",
   "metadata": {},
   "outputs": [],
   "source": [
    "from graspologic.embed import AdjacencySpectralEmbed as ase\n",
    "\n",
    "d = 2  # the latent dimensionality\n",
    "# estimate the latent position matrix with ase\n",
    "Xhat = ase(n_components=d, svd_seed=0).fit_transform(A)"
   ]
  },
  {
   "cell_type": "code",
   "execution_count": null,
   "id": "84a962f8-b501-4a59-9f38-bd31a1982f2e",
   "metadata": {},
   "outputs": [],
   "source": [
    "Phat = Xhat @ Xhat.transpose()"
   ]
  },
  {
   "cell_type": "code",
   "execution_count": null,
   "id": "9eafa722-2720-43ab-9b78-9e13cebf0292",
   "metadata": {},
   "outputs": [],
   "source": [
    "fig, axs = plt.subplots(1, 4, figsize=(15, 5), gridspec_kw={\"width_ratios\": [.4, .5, 1, 1.27]})\n",
    "\n",
    "\n",
    "lpm_heatmap(X, xtitle=\"Latent Dim.\", xticks=[0.5, 1.5], xticklabels=[1, 2],\n",
    "            yticks=[0.5, 49.5, 99.5], cbar=False, yticklabels=[1, 50, 100], ytitle=\"Node\",\n",
    "            ax=axs[0], title=\"(A) $X$\", vmin=-.5, vmax=1)\n",
    "lpm_heatmap(Xhat, xtitle=\"Latent Dim.\", xticks=[0.5, 1.5], xticklabels=[1, 2],\n",
    "            yticks=[0.5, 49.5, 99.5], yticklabels=[1, 50, 100], ytitle=\"Node\",\n",
    "            ax=axs[1], title=\"(B) $\\hat X$\", shrink=0.7, vmin=-.5, vmax=1)\n",
    "\n",
    "heatmap(P, cbar=False, ax=axs[2],\n",
    "        xticks=[0.5, 49.5, 99.5], xticklabels=[1, 50, 100], xtitle=\"Node\",\n",
    "        inner_hier_labels=zs, title=\"(C) $P = XX^\\\\top$\", vmin=0, vmax=1)\n",
    "heatmap(Phat, legend_title=\"Edge probability\", ax=axs[3],\n",
    "        xticks=[0.5, 49.5, 99.5], xticklabels=[1, 50, 100], xtitle=\"Node\",\n",
    "        inner_hier_labels=zs, title=\"(D) $\\hat P = \\\\hat X \\\\hat X^\\\\top$\", vmin=0, vmax=1)\n",
    "\n",
    "fig.tight_layout()\n",
    "\n",
    "fname = \"ase_result\"\n",
    "if mode != \"png\":\n",
    "    fig.savefig(f\"Figures/{mode:s}/{fname:s}.{mode:s}\")\n",
    "\n",
    "fig.savefig(f\"Figures/png/{fname:s}.png\")"
   ]
  },
  {
   "cell_type": "code",
   "execution_count": null,
   "id": "b0a3fc69-547a-44dc-909f-97f54937592e",
   "metadata": {},
   "outputs": [],
   "source": [
    "vtx_perm = np.random.choice(n, size=n, replace=False)\n",
    "\n",
    "# reorder the adjacency matrix\n",
    "Aperm = A[tuple([vtx_perm])] [:,vtx_perm]\n",
    "# reorder the community assignment vector\n",
    "zperm = np.array(zs)[vtx_perm]\n",
    "\n",
    "# compute the estimated latent positions using the\n",
    "# permuted adjacency matrix\n",
    "Xhat_perm = ase(n_components=2, svd_seed=0).fit_transform(Aperm)"
   ]
  },
  {
   "cell_type": "code",
   "execution_count": null,
   "id": "a90ce659-5405-4769-9998-caf576d607e5",
   "metadata": {},
   "outputs": [],
   "source": [
    "import matplotlib.gridspec as gridspec\n",
    "import matplotlib.image as mpimg\n",
    "\n",
    "fig, axs = plt.subplots(1, 2, figsize=(10, 5), gridspec_kw={\"width_ratios\": [1, .2]})\n",
    "\n",
    "heatmap(Aperm.astype(int), legend_title=\"Edge?\", ax=axs[0],\n",
    "        xticks=[0.5, 49.5, 99.5], xticklabels=[1, 50, 100], xtitle=\"Node (Random Order)\",\n",
    "        yticks=[0.5, 49.5, 99.5], yticklabels=[1, 50, 100], ytitle=\"Node (Random Order)\",\n",
    "        title=\"(A) Permuted adj. matrix\")\n",
    "lpm_heatmap(Xhat_perm, xtitle=\"Latent Dim.\", xticks=[0.5, 1.5], xticklabels=[1, 2],\n",
    "            yticks=[0.5, 49.5, 99.5], yticklabels=[1, 50, 100], ytitle=\"Node (Random Order)\",\n",
    "            ax=axs[1], title=\"(B) $\\hat X$ for permuted $A$\", shrink=0.7, vmin=-.5, vmax=1)\n",
    "fig.tight_layout()\n",
    "\n",
    "fname = \"ase_permutedab\"\n",
    "if mode != \"png\":\n",
    "    fig.savefig(f\"Figures/{mode:s}/{fname:s}.{mode:s}\")\n",
    "\n",
    "fig.savefig(f\"Figures/png/{fname:s}.png\")"
   ]
  },
  {
   "cell_type": "code",
   "execution_count": null,
   "id": "d73b585a-7ced-40bc-934b-d9ec4f8cde19",
   "metadata": {},
   "outputs": [],
   "source": [
    "import pandas as pd\n",
    "\n",
    "def tidy_lpm(X, labels=None, label_name=\"Community\"):\n",
    "    \"\"\"\n",
    "    A function which takes a latent position matrix X,\n",
    "    and tidyfies it for seaborn. Optionally, adds a column\n",
    "    for the community of the nodes.\n",
    "    \"\"\"\n",
    "    X_tidy = pd.DataFrame(X)\n",
    "    X_tidy.columns = [\"Dimension {:d}\".format(d + 1) for d in range(0, X.shape[1])]\n",
    "    if labels is not None:\n",
    "        X_tidy[label_name] = labels\n",
    "    return X_tidy\n",
    "\n",
    "Xhat_perm_tidy = tidy_lpm(Xhat_perm, labels=zperm)"
   ]
  },
  {
   "cell_type": "code",
   "execution_count": null,
   "id": "7f9d3c10-36a1-4c98-b5ab-6b0692401c1b",
   "metadata": {},
   "outputs": [],
   "source": [
    "import seaborn as sns\n",
    "\n",
    "def pairplot(X, labels=None, label_name=\"Community\", title=None, **kwargs):\n",
    "    \"\"\"\n",
    "    A function which takes a latent position matrix X,\n",
    "    and plots it as a pairplot with seaborn.\n",
    "    \"\"\"\n",
    "    X_tidy = tidy_lpm(X, labels=labels, label_name=label_name)\n",
    "    cols_to_pairplot = [col for col in X_tidy.columns.tolist() if \"Dimension\" in col]\n",
    "    fig = sns.pairplot(Xhat_perm_tidy, vars=[\"Dimension 1\", \"Dimension 2\"], **kwargs)\n",
    "    # delete useless axis values\n",
    "    for ax in fig.axes.flatten():\n",
    "        ax.set_yticks([])\n",
    "        ax.set_xticks([])\n",
    "    if title is not None:\n",
    "        fig.fig.suptitle(title, y=1.05)\n",
    "    \n",
    "    if labels is not None and \"hue\" in kwargs.keys():\n",
    "        for lh in fig._legend.legend_handles:\n",
    "            lh.set_alpha(1)\n",
    "            lh._sizes = [100] \n",
    "    return fig\n",
    "\n",
    "fig = pairplot(Xhat_perm, labels=zperm, diag_kind=\"hist\", title=\"(C) Pairs plot of $\\\\hat X$ for permuted $A$\", height=2.5,\n",
    "               plot_kws={\"color\": \"#000000\"}, diag_kws={\"color\": \"#000000\"})\n",
    "fig.tight_layout()\n",
    "\n",
    "fname = \"ase_permutedc\"\n",
    "if mode != \"png\":\n",
    "    fig.savefig(f\"Figures/{mode:s}/{fname:s}.{mode:s}\")\n",
    "\n",
    "fig.savefig(f\"Figures/png/{fname:s}.png\")"
   ]
  },
  {
   "cell_type": "code",
   "execution_count": null,
   "id": "af306f54-15bf-4ce8-bb5e-76e6a467b102",
   "metadata": {},
   "outputs": [],
   "source": [
    "fig = pairplot(Xhat_perm, labels=zperm, diag_kind=\"hist\", title=\"(D) Pairs plot of $\\\\hat X$ with community annotation\", height=2.5,\n",
    "              hue=\"Community\", palette={1: \"#000000\", 2: \"#999999\"}, markers={1: \"o\", 2: \"s\"})\n",
    "fig.tight_layout()\n",
    "\n",
    "fname = \"ase_permutedd\"\n",
    "if mode != \"png\":\n",
    "    fig.savefig(f\"Figures/{mode:s}/{fname:s}.{mode:s}\")\n",
    "\n",
    "fig.savefig(f\"Figures/png/{fname:s}.png\")"
   ]
  },
  {
   "cell_type": "code",
   "execution_count": null,
   "id": "87276ab7-c453-4f99-b0f3-559acc422707",
   "metadata": {},
   "outputs": [],
   "source": [
    "from scipy.spatial import distance_matrix\n",
    "\n",
    "D = distance_matrix(Xhat, Xhat)"
   ]
  },
  {
   "cell_type": "code",
   "execution_count": null,
   "id": "66018108-6e1d-41bf-b43c-ec1262953198",
   "metadata": {},
   "outputs": [],
   "source": [
    "import math\n",
    "from matplotlib import patches\n",
    "\n",
    "fig, axs = plt.subplots(1, 1, figsize=(5, 5))\n",
    "\n",
    "heatmap(D, title=\"Pairwise dist. matrix\", ax=axs,\n",
    "        xticks=[0.5, 49.5, 99.5], xticklabels=[1, 50, 100], xtitle=\"Node\",\n",
    "        inner_hier_labels=zs, legend_title=\"Eucl. dist.\")\n",
    "fig.tight_layout()\n",
    "\n",
    "fname = \"dist\"\n",
    "if mode != \"png\":\n",
    "    fig.savefig(f\"Figures/{mode:s}/{fname:s}.{mode:s}\")\n",
    "\n",
    "fig.savefig(f\"Figures/png/{fname:s}.png\")"
   ]
  },
  {
   "cell_type": "code",
   "execution_count": null,
   "id": "85210e2c",
   "metadata": {},
   "outputs": [],
   "source": []
  }
 ],
 "metadata": {
  "kernelspec": {
   "display_name": "Python 3 (ipykernel)",
   "language": "python",
   "name": "python3"
  },
  "language_info": {
   "codemirror_mode": {
    "name": "ipython",
    "version": 3
   },
   "file_extension": ".py",
   "mimetype": "text/x-python",
   "name": "python",
   "nbconvert_exporter": "python",
   "pygments_lexer": "ipython3",
   "version": "3.9.13"
  }
 },
 "nbformat": 4,
 "nbformat_minor": 5
}
