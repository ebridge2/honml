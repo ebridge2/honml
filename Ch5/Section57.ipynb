{
 "cells": [
  {
   "cell_type": "code",
   "execution_count": 1,
   "id": "2a0a4cd7-32cf-4c61-b072-57b643cce1f5",
   "metadata": {},
   "outputs": [],
   "source": [
    "mode = \"png\"\n",
    "\n",
    "import matplotlib\n",
    "\n",
    "font = {'family' : 'Dejavu Sans',\n",
    "        'weight' : 'normal',\n",
    "        'size'   : 20}\n",
    "\n",
    "matplotlib.rc('font', **font)\n",
    "\n",
    "import matplotlib\n",
    "from matplotlib import pyplot as plt"
   ]
  },
  {
   "cell_type": "code",
   "execution_count": 2,
   "id": "cfccdddf-4f40-45dd-a44b-1c89ae4e917f",
   "metadata": {},
   "outputs": [
    {
     "ename": "NameError",
     "evalue": "name 'fig' is not defined",
     "output_type": "error",
     "traceback": [
      "\u001b[0;31m---------------------------------------------------------------------------\u001b[0m",
      "\u001b[0;31mNameError\u001b[0m                                 Traceback (most recent call last)",
      "Input \u001b[0;32mIn [2]\u001b[0m, in \u001b[0;36m<cell line: 6>\u001b[0;34m()\u001b[0m\n\u001b[1;32m      3\u001b[0m p \u001b[38;5;241m=\u001b[39m \u001b[38;5;241m0.3\u001b[39m\n\u001b[1;32m      4\u001b[0m A \u001b[38;5;241m=\u001b[39m er_np(n\u001b[38;5;241m=\u001b[39m\u001b[38;5;241m50\u001b[39m, p\u001b[38;5;241m=\u001b[39mp)\n\u001b[0;32m----> 6\u001b[0m \u001b[43mfig\u001b[49m\u001b[38;5;241m.\u001b[39mtight_layout()\n\u001b[1;32m      7\u001b[0m fig\u001b[38;5;241m.\u001b[39msavefig(\u001b[38;5;124m\"\u001b[39m\u001b[38;5;124mFigures/.\u001b[39m\u001b[38;5;132;01m{}\u001b[39;00m\u001b[38;5;124m\"\u001b[39m\u001b[38;5;241m.\u001b[39mformat(mode))\n",
      "\u001b[0;31mNameError\u001b[0m: name 'fig' is not defined"
     ]
    }
   ],
   "source": [
    "\n",
    "\n",
    "fig.tight_layout()\n",
    "fig.savefig(\"Figures/.{}\".format(mode))"
   ]
  },
  {
   "cell_type": "code",
   "execution_count": null,
   "id": "273f47bd-1b88-4003-a84b-7bafa4ade5bc",
   "metadata": {},
   "outputs": [],
   "source": [
    "fig.tight_layout()\n",
    "fig.savefig(\"Figures/.{}\".format(mode))"
   ]
  },
  {
   "cell_type": "code",
   "execution_count": null,
   "id": "54a996b1-d57d-444f-8fdb-c4e051649996",
   "metadata": {},
   "outputs": [],
   "source": [
    "fig.tight_layout()\n",
    "fig.savefig(\"Figures/.{}\".format(mode))"
   ]
  },
  {
   "cell_type": "code",
   "execution_count": null,
   "id": "3e933504-b8ad-448c-8f91-ee20c4923ed1",
   "metadata": {},
   "outputs": [],
   "source": [
    "fig.tight_layout()\n",
    "fig.savefig(\"Figures/.{}\".format(mode))"
   ]
  }
 ],
 "metadata": {
  "kernelspec": {
   "display_name": "Python 3 (ipykernel)",
   "language": "python",
   "name": "python3"
  },
  "language_info": {
   "codemirror_mode": {
    "name": "ipython",
    "version": 3
   },
   "file_extension": ".py",
   "mimetype": "text/x-python",
   "name": "python",
   "nbconvert_exporter": "python",
   "pygments_lexer": "ipython3",
   "version": "3.9.13"
  }
 },
 "nbformat": 4,
 "nbformat_minor": 5
}
