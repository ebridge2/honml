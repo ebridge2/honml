{
 "cells": [
  {
   "cell_type": "code",
   "execution_count": null,
   "id": "2a0a4cd7-32cf-4c61-b072-57b643cce1f5",
   "metadata": {},
   "outputs": [],
   "source": [
    "mode = \"png\"\n",
    "\n",
    "import matplotlib\n",
    "\n",
    "font = {'family' : 'Dejavu Sans',\n",
    "        'weight' : 'normal',\n",
    "        'size'   : 20}\n",
    "\n",
    "matplotlib.rc('font', **font)\n",
    "\n",
    "import matplotlib\n",
    "from matplotlib import pyplot as plt"
   ]
  },
  {
   "cell_type": "code",
   "execution_count": null,
   "id": "081b6c54-bbec-47d4-801c-572ef7e59856",
   "metadata": {},
   "outputs": [],
   "source": [
    "from graspologic.simulations import sbm\n",
    "import numpy as np\n",
    "\n",
    "# block matrix\n",
    "n = 100\n",
    "B = np.array([[0.6, 0.2], [0.2, 0.4]])\n",
    "# network sample\n",
    "A, z = sbm([n // 2, n // 2], B, return_labels=True)"
   ]
  },
  {
   "cell_type": "code",
   "execution_count": null,
   "id": "8dbf2c78-8655-4f68-b049-a4270304ce40",
   "metadata": {},
   "outputs": [],
   "source": [
    "from scipy.linalg import svdvals\n",
    "\n",
    "# use scipy to obtain the singular values\n",
    "s = svdvals(A)"
   ]
  },
  {
   "cell_type": "code",
   "execution_count": null,
   "id": "e74644f3-dd30-413f-b18c-f7174f61c5ab",
   "metadata": {},
   "outputs": [],
   "source": [
    "from pandas import DataFrame\n",
    "import seaborn as sns\n",
    "import matplotlib.pyplot as plt\n",
    "\n",
    "\n",
    "def plot_scree(svs, title=\"\", ax=None):\n",
    "    \"\"\"\n",
    "    A utility to plot the scree plot for a list of singular values\n",
    "    svs.\n",
    "    \"\"\"\n",
    "    if ax is None:\n",
    "        fig, ax = plt.subplots(1,1, figsize=(10, 4))\n",
    "    sv_dat = DataFrame({\"Singular Value\": svs, \"Dimension\": range(1, len(svs) + 1)})\n",
    "    sns.scatterplot(data=sv_dat, x=\"Dimension\", y=\"Singular Value\", ax=ax, color=\"black\")\n",
    "    sns.lineplot(data=sv_dat, x=\"Dimension\", y=\"Singular Value\", ax=ax, color=\"black\")\n",
    "    ax.set_xlim([0.5, len(svs)])\n",
    "    ax.set_ylim([0, svs.max() + 1])\n",
    "    ax.set_title(title)"
   ]
  },
  {
   "cell_type": "code",
   "execution_count": null,
   "id": "11007186-2477-41fb-a128-58b5182c8f62",
   "metadata": {},
   "outputs": [],
   "source": [
    "from matplotlib.patches import Ellipse\n",
    "\n",
    "fig, axs = plt.subplots(2, 1, figsize=(10, 10))\n",
    "\n",
    "plot_scree(s, ax=axs[0], title=\"(A) Scree plot of $A$\")\n",
    "plot_scree(s[0:10], ax=axs[1], title=\"(B) Scree plot of first ten dimensions of $A$\")\n",
    "\n",
    "x0, y0 = axs[1].transAxes.transform((0, 0)) # lower left in pixels\n",
    "x1, y1 = axs[1].transAxes.transform((1, 1)) # upper right in pixes\n",
    "\n",
    "r = 5\n",
    "# Create a circle annotation\n",
    "circle = Ellipse((3, s[2]), 1, 8, color='black', fill=\"gray\", alpha=0.2, linewidth=2)\n",
    "axs[1].add_patch(circle)\n",
    "axs[1].annotate(\"Elbow\", xy=(3.1, s[2] + 5))\n",
    "\n",
    "fig.tight_layout()\n",
    "fig.savefig(\"Figures/scree.{}\".format(mode))\n",
    "fig.savefig(\"Figures/scree.{}\".format(\"svg\"))"
   ]
  },
  {
   "cell_type": "code",
   "execution_count": null,
   "id": "184626c6-08ff-4edd-a949-0b9ecb874542",
   "metadata": {},
   "outputs": [],
   "source": [
    "from graspologic.embed import AdjacencySpectralEmbed as ase\n",
    "\n",
    "# use automatic elbow selection\n",
    "Xhat_auto = ase().fit_transform(A)"
   ]
  },
  {
   "cell_type": "code",
   "execution_count": null,
   "id": "22d5d4e6-b1e7-4073-9ce6-0692097c24eb",
   "metadata": {},
   "outputs": [],
   "source": [
    "from graspologic.embed import AdjacencySpectralEmbed as ase\n",
    "from scipy.spatial import distance_matrix\n",
    "\n",
    "nk = 50  # the number of nodes in each community\n",
    "B_indef = np.array([[.1, .5], [.5, .2]])\n",
    "A_dis, z = sbm([nk, nk], B_indef, return_labels=True)\n",
    "Xhat = ase(n_components=2).fit_transform(A_dis)\n",
    "D = distance_matrix(Xhat, Xhat)"
   ]
  },
  {
   "cell_type": "code",
   "execution_count": null,
   "id": "7a5814a3-9c10-4d15-823d-57d51051dfcf",
   "metadata": {},
   "outputs": [],
   "source": [
    "from graphbook_code import heatmap, plot_latents\n",
    "\n",
    "fig, axs = plt.subplots(1, 3, figsize=(17, 6), gridspec_kw={\"width_ratios\": [1, .6, 1]})\n",
    "\n",
    "heatmap(A_dis.astype(int), ax=axs[0], inner_hier_labels=z, title=\"(A) Network sample\", xtitle=\"Node\")\n",
    "plot_latents(Xhat, labels=z, palette={0: \"#999999\", 1: \"#000000\"}, title=\"(B) $\\\\hat X = ase(A)$\", s=30, ax=axs[1])\n",
    "axs[1].get_legend().remove()\n",
    "axs[1].set_xlabel(\"Dimension 1\")\n",
    "axs[1].set_ylabel(\"Dimension 2\")\n",
    "axs[1].set_title(\"(B) $\\\\hat X = ase(A)$\", pad=45, loc=\"left\", fontsize=20)\n",
    "heatmap(D, ax=axs[2], inner_hier_labels=z, title=\"(C) Distance matrix for $\\\\hat X$\", xtitle=\"Node\", legend_title=\"Distance\")\n",
    "\n",
    "fig.tight_layout()\n",
    "fig.savefig(\"Figures/diss.{}\".format(mode))\n",
    "fig.savefig(\"Figures/diss.{}\".format(\"svg\"))"
   ]
  }
 ],
 "metadata": {
  "kernelspec": {
   "display_name": "Python 3 (ipykernel)",
   "language": "python",
   "name": "python3"
  },
  "language_info": {
   "codemirror_mode": {
    "name": "ipython",
    "version": 3
   },
   "file_extension": ".py",
   "mimetype": "text/x-python",
   "name": "python",
   "nbconvert_exporter": "python",
   "pygments_lexer": "ipython3",
   "version": "3.9.13"
  }
 },
 "nbformat": 4,
 "nbformat_minor": 5
}
