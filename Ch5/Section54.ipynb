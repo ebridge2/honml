{
 "cells": [
  {
   "cell_type": "code",
   "execution_count": null,
   "id": "2a0a4cd7-32cf-4c61-b072-57b643cce1f5",
   "metadata": {},
   "outputs": [],
   "source": [
    "mode = \"svg\"\n",
    "\n",
    "import matplotlib\n",
    "\n",
    "font = {'family' : 'Dejavu Sans',\n",
    "        'weight' : 'normal',\n",
    "        'size'   : 20}\n",
    "\n",
    "matplotlib.rc('font', **font)\n",
    "\n",
    "import matplotlib\n",
    "from matplotlib import pyplot as plt"
   ]
  },
  {
   "cell_type": "code",
   "execution_count": null,
   "id": "94f282f7-d364-4566-b379-380ba7a842b9",
   "metadata": {},
   "outputs": [],
   "source": [
    "import numpy as np\n",
    "from graphbook_code import dcsbm\n",
    "\n",
    "np.random.seed(0)\n",
    "\n",
    "nk = 150\n",
    "z = np.repeat([1,2], nk)\n",
    "B = np.array([[0.6, 0.2], [0.2, 0.4]])\n",
    "theta = np.tile(6**np.linspace(0, -1, nk), 2)\n",
    "np.random.seed(0)\n",
    "A, P = dcsbm(z, theta, B, return_prob=True)"
   ]
  },
  {
   "cell_type": "code",
   "execution_count": null,
   "id": "146cc0fc-1e13-4079-b803-1e98e594c86a",
   "metadata": {},
   "outputs": [],
   "source": [
    "from graspologic.embed import AdjacencySpectralEmbed as ase\n",
    "from scipy.spatial import distance_matrix\n",
    "\n",
    "d = 2  # the latent dimensionality\n",
    "# estimate the latent position matrix with ase\n",
    "Xhat = ase(n_components=d, svd_seed=0).fit_transform(A)\n",
    "# compute the distance matrix\n",
    "D = distance_matrix(Xhat, Xhat)"
   ]
  },
  {
   "cell_type": "code",
   "execution_count": null,
   "id": "952ef6ed-b342-437a-a9bd-72ab3dbf054b",
   "metadata": {},
   "outputs": [],
   "source": [
    "Xhat_rescaled = Xhat / theta[:,None]\n",
    "D_rescaled = distance_matrix(Xhat_rescaled, Xhat_rescaled)"
   ]
  },
  {
   "cell_type": "code",
   "execution_count": null,
   "id": "52ea006f-9b24-42b2-a7bb-6fac93ba424b",
   "metadata": {},
   "outputs": [],
   "source": [
    "from graphbook_code import heatmap, plot_latents\n",
    "import os\n",
    "fig, axs = plt.subplots(2, 2, gridspec_kw={\"width_ratios\": [1.5, 2]}, figsize=(12, 12))\n",
    "\n",
    "ase_lim=(np.min((np.min(Xhat[:, 0]), np.min(Xhat[:, 1]))), np.max((np.max(Xhat[:, 0]), np.max(Xhat[:, 1])))) \n",
    "resc_lim=(np.min((np.min(Xhat_rescaled[:, 0]), np.min(Xhat_rescaled[:, 1]))), np.max((np.max(Xhat_rescaled[:, 0]), np.max(Xhat_rescaled[:, 1])))) \n",
    "\n",
    "ax = plot_latents(Xhat, labels=z, title=\"(A) $\\\\hat X = ase(A)$\", palette={1: \"#000000\", 2: \"#999999\"}, \n",
    "                  size=5, ax=axs[0][0], legend=False, xtitle=\"Dimension 1\", ytitle=\"Dimension 2\")\n",
    "ax.set_title(\"(A) $\\\\hat X = ase(A)$\", pad=42, fontsize=18, loc=\"left\")\n",
    "ax.set_xlim(*ase_lim)\n",
    "ax.set_ylim(*ase_lim)\n",
    "ax.set_xticks([-.5, 0, .5])\n",
    "ax.set_yticks([-.5, 0, .5])\n",
    "heatmap(D, title=\"(B) Distance Matrix for $\\\\hat X$\", ax=axs[0][1],\n",
    "        xticks=[0.5, 149.5, 299.5], xticklabels=[1, 150, 300], xtitle=\"Node\",\n",
    "        inner_hier_labels=z, legend_title=\"Eucl. dist.\")\n",
    "\n",
    "ax = plot_latents(Xhat_rescaled, labels=z, title=\"(C) $\\\\hat X$, rescaled by $\\\\vec \\\\theta$\", \n",
    "                  palette={1: \"#000000\", 2: \"#999999\"}, size=5, ax=axs[1][0], legend=False,\n",
    "                  xtitle=\"Dimension 1\", ytitle=\"Dimension 2\")\n",
    "ax.set_xlim(*resc_lim)\n",
    "ax.set_ylim(*resc_lim)\n",
    "ax.set_xticks([-.5, 0, .5, 1])\n",
    "ax.set_yticks([-.5, 0, .5, 1])\n",
    "ax.set_title(\"(C) $\\\\hat X$, rescaled by $\\\\theta$\", pad=42, fontsize=18, loc=\"left\")\n",
    "heatmap(D_rescaled, title=\"(D) Distance Matrix for rescaled $\\\\hat X$\", ax=axs[1][1],\n",
    "        xticks=[0.5, 149.5, 299.5], xticklabels=[1, 150, 300], xtitle=\"Node\",\n",
    "        inner_hier_labels=z, legend_title=\"\")\n",
    "\n",
    "fig.tight_layout()\n",
    "\n",
    "os.makedirs(\"Figures\", exist_ok=True)\n",
    "fname = \"dcsbm_ase\"\n",
    "if mode != \"png\":\n",
    "    os.makedirs(f\"Figures/{mode:s}\", exist_ok=True)\n",
    "    fig.savefig(f\"Figures/{mode:s}/{fname:s}.{mode:s}\")\n",
    "\n",
    "os.makedirs(\"Figures/png\", exist_ok=True)\n",
    "fig.savefig(f\"Figures/png/{fname:s}.png\")"
   ]
  },
  {
   "cell_type": "code",
   "execution_count": null,
   "id": "04c696ca-9dc9-4b4e-99ff-9dcf5f9c163c",
   "metadata": {},
   "outputs": [],
   "source": [
    "from graspologic.embed import LaplacianSpectralEmbed as lse\n",
    "\n",
    "d = 2  # embed into two dimensions\n",
    "Xhat_lapl = lse(n_components=d, svd_seed=0).fit_transform(A)\n",
    "D_lapl = distance_matrix(Xhat_lapl, Xhat_lapl)"
   ]
  },
  {
   "cell_type": "code",
   "execution_count": null,
   "id": "2fa7f97c-af56-4f7d-b967-70cefd09c8ee",
   "metadata": {},
   "outputs": [],
   "source": [
    "fig, axs = plt.subplots(2, 2, gridspec_kw={\"width_ratios\": [1.5, 2]}, figsize=(12, 12))\n",
    "\n",
    "lse_lim=(np.min((np.min(Xhat_lapl[:, 0]), np.min(Xhat_lapl[:, 1]))), np.max((np.max(Xhat_lapl[:, 0]), np.max(Xhat_lapl[:, 1])))) \n",
    "\n",
    "ax = plot_latents(Xhat, labels=z, title=\"(A) $\\\\hat X = ase(A)$\", palette={1: \"#000000\", 2: \"#999999\"}, size=5, ax=axs[0][0], legend=False,\n",
    "                 xtitle=\"Dimension 1\", ytitle=\"Dimension 2\")\n",
    "ax.set_title(\"(A) $\\\\hat X = ase(A)$\", pad=42, fontsize=18, loc=\"left\")\n",
    "ax.set_xlim(*ase_lim)\n",
    "ax.set_ylim(*ase_lim)\n",
    "ax.set_xticks([-.5, 0, .5])\n",
    "ax.set_yticks([-.5, 0, .5])\n",
    "heatmap(D, title=\"(B) Distance Matrix for $\\\\hat X$\", ax=axs[0][1],\n",
    "        xticks=[0.5, 149.5, 299.5], xticklabels=[1, 150, 300], xtitle=\"Node\",\n",
    "        inner_hier_labels=z, legend_title=\"Eucl. dist.\")\n",
    "\n",
    "ax = plot_latents(Xhat_lapl, labels=z, title=\"(C) $\\\\hat Y = lse(A)$\", \n",
    "             palette={1: \"#000000\", 2: \"#999999\"}, size=5, ax=axs[1][0], legend=False,\n",
    "                 xtitle=\"Dimension 1\", ytitle=\"Dimension 2\")\n",
    "ax.set_xlim(*lse_lim)\n",
    "ax.set_ylim(*lse_lim)\n",
    "ax.set_title(\"(C) $\\\\hat Y = lse(A)$\", pad=42, fontsize=18, loc=\"left\")\n",
    "heatmap(D_lapl, title=\"(D) Distance Matrix for $\\\\hat Y$\", ax=axs[1][1],\n",
    "        xticks=[0.5, 149.5, 299.5], xticklabels=[1, 150, 300], xtitle=\"Node\",\n",
    "        inner_hier_labels=z, legend_title=\"\")\n",
    "\n",
    "fig.tight_layout()\n",
    "\n",
    "fname = \"dcsbm_lse\"\n",
    "if mode != \"png\":\n",
    "    fig.savefig(f\"Figures/{mode:s}/{fname:s}.{mode:s}\")\n",
    "\n",
    "fig.savefig(f\"Figures/png/{fname:s}.png\")"
   ]
  },
  {
   "cell_type": "code",
   "execution_count": null,
   "id": "2a25a4d7-9b38-4259-a6fc-de16499fa028",
   "metadata": {},
   "outputs": [],
   "source": [
    "import seaborn as sns\n",
    "import pandas as pd\n",
    "\n",
    "# compute the degrees for each node, using the\n",
    "# row-sums of the network\n",
    "degrees = A.sum(axis = 0)\n",
    "\n",
    "# plot the degree histogram\n",
    "df = pd.DataFrame({\"Node degree\" : degrees, \"Community\": z})"
   ]
  },
  {
   "cell_type": "code",
   "execution_count": null,
   "id": "99bc3abd-1963-47c2-adc1-a615c4abbc4b",
   "metadata": {},
   "outputs": [],
   "source": [
    "from graspologic.simulations import sbm\n",
    "\n",
    "Asbm = sbm([nk, nk], B)\n",
    "\n",
    "# row-sums of the network\n",
    "degrees_sbm = Asbm.sum(axis = 0)\n",
    "df_sbm = pd.DataFrame({\"Node degree\" : degrees_sbm, \"Community\": z})"
   ]
  },
  {
   "cell_type": "code",
   "execution_count": null,
   "id": "1045cf7d-98e3-4d9c-b0f4-7a199152eab8",
   "metadata": {},
   "outputs": [],
   "source": [
    "fig, axs = plt.subplots(1, 2, figsize=(12, 4))\n",
    "\n",
    "sns.histplot(data=df, x=\"Node degree\", bins=20, color=\"black\", ax=axs[0])\n",
    "axs[0].set_title(\"$DCSBM_n(\\\\vec z, \\\\vec \\\\theta, B)$ sample\")\n",
    "axs[0].annotate(\"Heavy tail\", xy=(35, 15), rotation=-25)\n",
    "axs[0].annotate(\"\", xy=(55, 10), xytext=(30, 25), arrowprops={\"arrowstyle\": \"->\"}, rotation=-25)\n",
    "sns.histplot(data=df_sbm, x=\"Node degree\", bins=20, color=\"black\", ax=axs[1])\n",
    "axs[1].set_title(\"$SBM_n(\\\\vec z, B)$ sample\")\n",
    "axs[1].annotate(\"No tail\", xy=(140, 10), xytext=(140, 15), arrowprops={\"arrowstyle\": \"->\"})\n",
    "axs[1].set_xlim(60, 160)\n",
    "\n",
    "fig.tight_layout()\n",
    "\n",
    "fname = \"lse_degree\"\n",
    "if mode != \"png\":\n",
    "    fig.savefig(f\"Figures/{mode:s}/{fname:s}.{mode:s}\")\n",
    "\n",
    "fig.savefig(f\"Figures/png/{fname:s}.png\")"
   ]
  },
  {
   "cell_type": "code",
   "execution_count": null,
   "id": "7f517140",
   "metadata": {},
   "outputs": [],
   "source": []
  }
 ],
 "metadata": {
  "kernelspec": {
   "display_name": "Python 3 (ipykernel)",
   "language": "python",
   "name": "python3"
  },
  "language_info": {
   "codemirror_mode": {
    "name": "ipython",
    "version": 3
   },
   "file_extension": ".py",
   "mimetype": "text/x-python",
   "name": "python",
   "nbconvert_exporter": "python",
   "pygments_lexer": "ipython3",
   "version": "3.9.13"
  }
 },
 "nbformat": 4,
 "nbformat_minor": 5
}
