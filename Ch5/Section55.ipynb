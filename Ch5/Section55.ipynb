{
 "cells": [
  {
   "cell_type": "code",
   "execution_count": null,
   "id": "2a0a4cd7-32cf-4c61-b072-57b643cce1f5",
   "metadata": {},
   "outputs": [],
   "source": [
    "mode = \"png\"\n",
    "\n",
    "import matplotlib\n",
    "\n",
    "font = {'family' : 'Dejavu Sans',\n",
    "        'weight' : 'normal',\n",
    "        'size'   : 20}\n",
    "\n",
    "matplotlib.rc('font', **font)\n",
    "\n",
    "import matplotlib\n",
    "from matplotlib import pyplot as plt"
   ]
  },
  {
   "cell_type": "code",
   "execution_count": null,
   "id": "fae4a79c-cc9a-4c10-a9ff-8e5ca12f9072",
   "metadata": {},
   "outputs": [],
   "source": [
    "from graspologic.simulations import sbm\n",
    "import numpy as np\n",
    "from sklearn.preprocessing import LabelEncoder\n",
    "import os\n",
    "\n",
    "n = 100  # the number of nodes\n",
    "M = 8  # the total number of networks\n",
    "# human brains have homophilic block structure\n",
    "Bhuman = np.array([[0.4, 0.02], [0.02, 0.4]])\n",
    "# alien brains have a core-periphery block structure\n",
    "Balien = np.array([[0.3, 0.1], [0.1, 0.05]])\n",
    "\n",
    "# set seed for reproducibility\n",
    "np.random.seed(123)\n",
    "# generate 4 human and alien brain networks\n",
    "A_humans = [sbm([n // 2, n // 2], Bhuman) for i in range(M // 2)]\n",
    "A_aliens = [sbm([n // 2, n // 2], Balien) for i in range(M // 2)]\n",
    "# concatenate list of human and alien networks\n",
    "networks2 = A_humans + A_aliens\n",
    "\n",
    "# 1 = left hemisphere, 2 = right hemisphere for node communities\n",
    "le = LabelEncoder()\n",
    "labels = np.repeat([\"L\", \"R\"], n//2)\n",
    "zs = le.fit_transform(labels) + 1"
   ]
  },
  {
   "cell_type": "code",
   "execution_count": null,
   "id": "de7e5ee6-6aac-45d9-846a-e85a3ecd1606",
   "metadata": {},
   "outputs": [],
   "source": [
    "from mpl_toolkits.axes_grid1 import ImageGrid\n",
    "from graphbook_code import heatmap\n",
    "\n",
    "fig = plt.figure(figsize=(14,7))\n",
    "\n",
    "grid1 = ImageGrid(fig, 121, (2, 2), axes_pad=.1, share_all=True)\n",
    "grid2 = ImageGrid(fig, 122, (2, 2), axes_pad=.1, share_all=True)\n",
    "\n",
    "for i, (axi, axj) in enumerate(zip(grid1, grid2)):\n",
    "    hmn = heatmap(A_humans[i].astype(int), ax=axi, cbar=False)\n",
    "    hma = heatmap(A_aliens[i].astype(int), ax=axj, cbar=False)\n",
    "\n",
    "grid1.axes_all[0].set_title(\"(A) Human Brain Networks\", fontsize=24, y=1, loc=\"left\")\n",
    "grid2.axes_all[0].set_title(\"(B) Alien Brain Networks\", fontsize=24, y=1, loc=\"left\")\n",
    "fig.tight_layout()\n",
    "fig.savefig(\"Figures/multi_ex.{}\".format(mode))"
   ]
  },
  {
   "cell_type": "code",
   "execution_count": null,
   "id": "ced4a5d1-7dfd-4fa1-9702-4973b6317876",
   "metadata": {},
   "outputs": [],
   "source": [
    "from graspologic.embed import AdjacencySpectralEmbed as ase\n",
    "\n",
    "# embed the first network with a seed for reproducibility\n",
    "Xhat = ase(n_components=2, svd_seed=123).fit_transform(A_humans[0])"
   ]
  },
  {
   "cell_type": "code",
   "execution_count": null,
   "id": "c636285f-dc75-4ac2-8fd3-3c0a3d2ca554",
   "metadata": {},
   "outputs": [],
   "source": [
    "# a rotation by 90 degrees\n",
    "W = np.array([[0, -1], [1, 0]])\n",
    "Yhat = Xhat @ W\n",
    "\n",
    "# check that probability matrix is the same\n",
    "np.allclose(Yhat @ Yhat.transpose(), Xhat @ Xhat.transpose())\n",
    "# returns True"
   ]
  },
  {
   "cell_type": "code",
   "execution_count": null,
   "id": "273f47bd-1b88-4003-a84b-7bafa4ade5bc",
   "metadata": {},
   "outputs": [],
   "source": [
    "from matplotlib import patches\n",
    "fig, axs = plt.subplots(1, 2, figsize=(12, 5))\n",
    "\n",
    "axs[0].scatter(Xhat[:,0], Xhat[:,1], color=\"gray\", alpha=0.7)\n",
    "axs[0].set_xlim([-1,1])\n",
    "axs[0].set_ylim([-1,1])\n",
    "axs[0].set_title(\"(A) $\\\\hat X$\")\n",
    "axs[0].set_xlabel(\"Dimension 1\")\n",
    "axs[0].set_ylabel(\"Dimension 2\")\n",
    "\n",
    "arrow_dat = {}\n",
    "for z in np.unique(zs):\n",
    "    center_unrot = Xhat[zs == z,:].mean(axis=0)\n",
    "    center_rot = Yhat[zs == z,:].mean(axis=0)\n",
    "    arrow_dat[z] = {\"unrot\": center_unrot, \"rot\": center_rot}\n",
    "\n",
    "axs[1].scatter(Xhat[:,0], Xhat[:,1], color=\"gray\", alpha=0.3)\n",
    "axs[1].scatter(Yhat[:,0], Yhat[:,1], color=\"black\", alpha=0.7)\n",
    "axs[1].set_xlim([-1,1])\n",
    "axs[1].set_ylim([-1,1])\n",
    "axs[1].set_title(\"(B) $\\\\hat Y = \\\\hat X W$\")\n",
    "axs[1].set_xlabel(\"Dimension 1\")\n",
    "axs[1].set_ylabel(\"Dimension 2\")\n",
    "\n",
    "style = \"->, head_length=10, head_width=5, scaleB=10, scaleA=10\"\n",
    "kw = dict(arrowstyle=style, color=\"gray\", linewidth=\"2\")\n",
    "\n",
    "for z in arrow_dat.keys():\n",
    "    arrow = arrow_dat[z]\n",
    "    axs[1].add_patch(patches.FancyArrowPatch(arrow[\"unrot\"]*.5, arrow[\"rot\"]*.5, connectionstyle=\"arc3,rad=-.3\", **kw))\n",
    "\n",
    "fig.tight_layout()\n",
    "fig.savefig(\"Figures/rotation.{}\".format(mode))"
   ]
  },
  {
   "cell_type": "code",
   "execution_count": null,
   "id": "4926f2ba-04fc-4201-b7a2-d0725830aab7",
   "metadata": {},
   "outputs": [],
   "source": [
    "# embed the second network\n",
    "Xhat2 = ase(n_components=2, svd_seed=123).fit_transform(A_humans[3])"
   ]
  },
  {
   "cell_type": "code",
   "execution_count": null,
   "id": "2034f8c4-ba7d-4449-84b9-93c42152bed0",
   "metadata": {},
   "outputs": [],
   "source": [
    "from graphbook_code import lpm_heatmap\n",
    "\n",
    "fig, axs = plt.subplots(1, 4, figsize=(15, 5), gridspec_kw = {\"width_ratios\": [1, 1.27, .35, .45]})\n",
    "\n",
    "heatmap(A_humans[0].astype(int), cbar=False, ax=axs[0],\n",
    "        xticks=[0.5, 49.5, 99.5], xticklabels=[1, 50, 100], xtitle=\"Node\",\n",
    "        inner_hier_labels=zs, title=\"(A) First human network $A^{(1)}$\")\n",
    "heatmap(A_humans[1].astype(int), legend_title=\"Edge?\", ax=axs[1],\n",
    "        xticks=[0.5, 49.5, 99.5], xticklabels=[1, 50, 100], xtitle=\"Node\",\n",
    "        inner_hier_labels=zs, title=\"(B) Third human network $A^{(3)}$\")\n",
    "\n",
    "vmin = np.min([Xhat, Xhat2]); vmax = np.max([Xhat, Xhat2])\n",
    "lpm_heatmap(Xhat, xtitle=\"Latent Dim.\", xticks=[0.5, 1.5], xticklabels=[1, 2],\n",
    "            yticks=[0.5, 49.5, 99.5], yticklabels=[1, 50, 100], ytitle=\"Node\",\n",
    "            ax=axs[2], cbar=False, vmin=vmin, vmax=vmax, title=\"(C) $\\\\hat X^{(1)}$\")\n",
    "lpm_heatmap(Xhat2, xtitle=\"Latent Dim.\", xticks=[0.5, 1.5], xticklabels=[1, 2],\n",
    "            yticks=[0.5, 49.5, 99.5], yticklabels=[1, 50, 100], ytitle=\"Node\",\n",
    "            ax=axs[3], vmin=vmin, vmax=vmax, title=\"(D) $\\\\hat X^{(3)}$\", shrink=0.7)\n",
    "\n",
    "fig.tight_layout()\n",
    "fig.savefig(\"Figures/cmp_identical.{}\".format(mode))"
   ]
  },
  {
   "cell_type": "code",
   "execution_count": null,
   "id": "afc3183d-7178-47ee-b231-e8f99bb1738d",
   "metadata": {},
   "outputs": [],
   "source": [
    "# embed the first alien network\n",
    "Xhat_alien = ase(n_components=2, svd_seed=123).fit_transform(A_aliens[0])"
   ]
  },
  {
   "cell_type": "code",
   "execution_count": null,
   "id": "b70d03ee-984a-45a3-87fb-090d7a1c6719",
   "metadata": {},
   "outputs": [],
   "source": [
    "fig, axs = plt.subplots(1, 4, figsize=(15, 5), gridspec_kw = {\"width_ratios\": [1, 1.27, .35, .45]})\n",
    "\n",
    "heatmap(A_humans[0].astype(int), cbar=False, ax=axs[0],\n",
    "        xticks=[0.5, 49.5, 99.5], xticklabels=[1, 50, 100], xtitle=\"Node\",\n",
    "        inner_hier_labels=zs, title=\"(A) First human network $A^{(1)}$\")\n",
    "heatmap(A_aliens[0].astype(int), legend_title=\"Edge?\", ax=axs[1],\n",
    "        xticks=[0.5, 49.5, 99.5], xticklabels=[1, 50, 100], xtitle=\"Node\",\n",
    "        inner_hier_labels=zs, title=\"(B) First alien network $A^{(5)}$\")\n",
    "\n",
    "vmin = np.min([Xhat, Xhat2]); vmax = np.max([Xhat, Xhat2])\n",
    "lpm_heatmap(Xhat, xtitle=\"Latent Dim.\", xticks=[0.5, 1.5], xticklabels=[1, 2],\n",
    "            yticks=[0.5, 49.5, 99.5], yticklabels=[1, 50, 100], ytitle=\"Node\",\n",
    "            ax=axs[2], cbar=False, vmin=vmin, vmax=vmax, title=\"(C) $\\\\hat X^{(1)}$\")\n",
    "lpm_heatmap(Xhat_alien, xtitle=\"Latent Dim.\", xticks=[0.5, 1.5], xticklabels=[1, 2],\n",
    "            yticks=[0.5, 49.5, 99.5], yticklabels=[1, 50, 100], ytitle=\"Node\",\n",
    "            ax=axs[3], vmin=vmin, vmax=vmax, title=\"(D) $\\\\hat X^{(5)}$\", shrink=0.7)\n",
    "\n",
    "fig.tight_layout()\n",
    "fig.savefig(\"Figures/cmp_diss.{}\".format(mode))"
   ]
  },
  {
   "cell_type": "code",
   "execution_count": null,
   "id": "8de00f3b-de8b-44ec-a721-1a20877f62a0",
   "metadata": {},
   "outputs": [],
   "source": [
    "# compute frob norm between first human and third human net\n",
    "# estimated latent positions\n",
    "dist_firsthum_thirdhum = np.linalg.norm(Xhat - Xhat2, ord=\"fro\")\n",
    "print(\"Frob. norm(first human, third human) = {:3f}\".format(dist_firsthum_thirdhum))\n",
    "#\n",
    "\n",
    "# compute frob norm between first human and first alien net\n",
    "# estimated latent positions\n",
    "dist_firsthum_alien = np.linalg.norm(Xhat - Xhat_alien, ord=\"fro\")\n",
    "print(\"Frob. norm(first human, alien) = {:3f}\".format(dist_firsthum_alien))"
   ]
  },
  {
   "cell_type": "code",
   "execution_count": null,
   "id": "c6e4a2b8-3bf9-4eae-a41f-818d8f85ac23",
   "metadata": {},
   "outputs": [],
   "source": []
  },
  {
   "cell_type": "code",
   "execution_count": null,
   "id": "75ac401c-293b-4cd4-ab71-97c962426b01",
   "metadata": {},
   "outputs": [],
   "source": [
    "from graspologic.embed import MultipleASE as mase\n",
    "\n",
    "# Use mase to embed everything\n",
    "mase = mase(n_components=2, svd_seed=123)\n",
    "# fit_transform on the human and alien networks simultaneously\n",
    "# + combines the two lists\n",
    "latents_mase = mase.fit_transform(networks)"
   ]
  },
  {
   "cell_type": "code",
   "execution_count": null,
   "id": "2a3320ef-5ddc-4d85-896e-493f2e60d873",
   "metadata": {},
   "outputs": [],
   "source": [
    "from graspologic.embed import AdjacencySpectralEmbed as ase\n",
    "\n",
    "dhat = int(np.ceil(np.log2(n)))\n",
    "# spectrally embed each network into ceil(log2(n)) dimensions with ASE\n",
    "separate_embeddings = [ase(n_components=dhat, svd_seed=123).fit_transform(network) for network in networks]"
   ]
  },
  {
   "cell_type": "code",
   "execution_count": null,
   "id": "400259d4-ffac-494a-903f-004e9e0124a1",
   "metadata": {},
   "outputs": [],
   "source": [
    "from graphbook_code import plot_latents\n",
    "\n",
    "fig, axs = plt.subplots(1, 2, figsize=(12, 5))\n",
    "\n",
    "ax = plot_latents(separate_embeddings[0], labels=labels, title=\"(A) Human Embedding\",\n",
    "                  palette={\"L\": \"#000000\", \"R\": \"#999999\"}, s=30, ax=axs[0], legend=True)\n",
    "ax.get_legend().remove()\n",
    "plot_latents(separate_embeddings[3], labels=labels, title=\"(B) Alien Embedding\",\n",
    "                  palette={\"L\": \"#000000\", \"R\": \"#999999\"}, s=30, ax=axs[1], legend=True)\n",
    "fig.tight_layout()\n",
    "fig.savefig(\"Figures/mase_ase.{}\".format(mode))"
   ]
  },
  {
   "cell_type": "code",
   "execution_count": null,
   "id": "38ebab78-2fb2-428f-a2b6-55c4fb24386c",
   "metadata": {},
   "outputs": [],
   "source": [
    "# Concatenate your embeddings horizontally into a single n x Md matrix\n",
    "joint_matrix = np.hstack(separate_embeddings)"
   ]
  },
  {
   "cell_type": "code",
   "execution_count": null,
   "id": "b476a959-3d4f-44f4-b423-11ecf28c3b93",
   "metadata": {},
   "outputs": [],
   "source": [
    "import matplotlib.gridspec as gridspec\n",
    "\n",
    "# Create a figure\n",
    "fig = plt.figure(figsize=(20, 15))\n",
    "\n",
    "# Create a GridSpec object\n",
    "gs = gridspec.GridSpec(2, 9)\n",
    "\n",
    "vmin = np.min(joint_matrix); vmax=np.max(joint_matrix)\n",
    "\n",
    "for i, network in enumerate(networks):\n",
    "    ax = fig.add_subplot(gs[0, i])\n",
    "    if i == 0:\n",
    "        lpm_heatmap(separate_embeddings[i], ax=ax, vmin=vmin, vmax=vmax, cbar=False,\n",
    "                    xticks=[0.5, 1.5, 2.5, 3.5, 4.5, 5.5, 6.5], xticklabels=[1,2,3,4,5,6,7],\n",
    "                    yticks=[0.5, 49.5, 99.5], yticklabels=[1,50,100], ytitle=\"Node\")\n",
    "    else:\n",
    "        lpm_heatmap(separate_embeddings[i], ax=ax, vmin=vmin, vmax=vmax, cbar=False,\n",
    "                    xticks=[0.5, 1.5, 2.5, 3.5, 4.5, 5.5, 6.5], xticklabels=[1,2,3,4,5,6,7])\n",
    "\n",
    "ax = fig.add_subplot(gs[1, :])\n",
    "lpm_heatmap(joint_matrix, xticks=[0.5, 7.5, 14.5, 21.5, 28.5, 35.5, 42.5,49.5], xticklabels=[1,8,15,22,29,36,43,50],\n",
    "            yticks=[0.5, 49.5, 99.5], yticklabels=[1,50,100], ytitle=\"Node\", ax=ax)\n",
    "\n",
    "fig.tight_layout()\n",
    "fig.savefig(\"Figures/mase_embed_joint.svg\")"
   ]
  },
  {
   "cell_type": "code",
   "execution_count": null,
   "id": "c79df6b2-d36d-47e7-a3de-69122a146074",
   "metadata": {},
   "outputs": [],
   "source": [
    "def unscaled_embed(X, d):\n",
    "    U, s, Vt = np.linalg.svd(X)\n",
    "    return U[:,0:d]\n",
    "\n",
    "Vhat = unscaled_embed(joint_matrix, 2)"
   ]
  },
  {
   "cell_type": "code",
   "execution_count": null,
   "id": "6e099d4f-d2ba-4c7e-93e3-dd1d9dbc25fa",
   "metadata": {},
   "outputs": [],
   "source": [
    "# stack the networks into a numpy array\n",
    "As_ar = np.asarray(networks)\n",
    "# compute the scores\n",
    "scores = Vhat.T @ As_ar @ Vhat"
   ]
  },
  {
   "cell_type": "code",
   "execution_count": null,
   "id": "1084df74-49c0-4417-bbfd-6b46acffe9eb",
   "metadata": {},
   "outputs": [],
   "source": [
    "# Create a figure\n",
    "fig = plt.figure(figsize=(12, 10))\n",
    "\n",
    "# Create a GridSpec object\n",
    "gs = gridspec.GridSpec(2, 2)\n",
    "\n",
    "ax = fig.add_subplot(gs[0, :])\n",
    "plot_latents(Vhat, labels=labels, s=40, palette={\"L\": \"#000000\", \"R\": \"#999999\"},\n",
    "            title=\"(A) Estimated shared latent positions\")\n",
    "ax.set_xlabel(\"Dimension 1\")\n",
    "ax.set_ylabel(\"Dimension 2\")\n",
    "ax.set_title(\"(A) Estimated shared latent positions\", fontsize=22, pad=10, loc=\"left\")\n",
    "\n",
    "ax = fig.add_subplot(gs[1, 0])\n",
    "smin=scores.min(); smax=scores.max()\n",
    "heatmap(scores[0], vmin=smin, vmax=smax, annot=True, ax=ax, title=\"(B) Human 1 scores\",\n",
    "        xticks=[0.5, 1.5], xticklabels=[1, 2], yticks=[0.5, 1.5], yticklabels=[1, 2],\n",
    "        xtitle=\"Dimension\", ytitle=\"Dimension\", cbar=False)\n",
    "ax.set_title(\"(B) Human 1 scores\", fontsize=22, pad=10)\n",
    "\n",
    "ax = fig.add_subplot(gs[1, 1])\n",
    "smin=scores.min(); smax=scores.max()\n",
    "heatmap(scores[4], vmin=smin, vmax=smax, annot=True, ax=ax, title=\"(C) Alien 1 scores\", legend_title=\"Score\")\n",
    "ax.set_title(\"(C) Alien 1 scores\", fontsize=22, pad=10)\n",
    "fig.tight_layout()\n",
    "fig.savefig(\"Figures/mase_shared_lpm.{}\".format(mode))"
   ]
  },
  {
   "cell_type": "code",
   "execution_count": null,
   "id": "4cbe8789-d29f-4567-851e-4be2eafc89fc",
   "metadata": {},
   "outputs": [],
   "source": [
    "from graphbook_code import generate_sbm_pmtx\n",
    "\n",
    "Phum = generate_sbm_pmtx(zs, Bhuman)\n",
    "Palien = generate_sbm_pmtx(zs, Balien)\n",
    "Pests = Vhat @ scores @ Vhat.T"
   ]
  },
  {
   "cell_type": "code",
   "execution_count": null,
   "id": "c6b043e7-16ba-4251-99c3-f6b04bf1c67e",
   "metadata": {},
   "outputs": [],
   "source": [
    "fig, axs = plt.subplots(2, 2, figsize=(12, 12))\n",
    "\n",
    "heatmap(Phum, ax=axs[0][0], title=\"(A) $P$ Human\", inner_hier_labels=labels, vmin=0, vmax=1,\n",
    "       xticks=[0.5, 49.5, 99.5], xticklabels=[1, 50, 100], xtitle=\"Node\", legend_title=\"Probability\")\n",
    "heatmap(Pests[0], ax=axs[0][1], title=\"(B) $\\\\hat P$ Human 1\", inner_hier_labels=labels, vmin=0, vmax=1,\n",
    "       xticks=[0.5, 49.5, 99.5], xticklabels=[1, 50, 100], xtitle=\"Node\", legend_title=\"Estimated Probability\")\n",
    "\n",
    "heatmap(Palien, ax=axs[1][0], title=\"(C) $P$ Alien\", inner_hier_labels=labels, vmin=0, vmax=1,\n",
    "       xticks=[0.5, 49.5, 99.5], xticklabels=[1, 50, 100], xtitle=\"Node\", legend_title=\"Probability\")\n",
    "heatmap(Pests[4], ax=axs[1][1], title=\"(D) $\\\\hat P$ Alien 1\", inner_hier_labels=labels, vmin=0, vmax=1,\n",
    "       xticks=[0.5, 49.5, 99.5], xticklabels=[1, 50, 100], xtitle=\"Node\", legend_title=\"Probability\")\n",
    "\n",
    "fig.tight_layout()\n",
    "fig.savefig(\"Figures/mase_probs.{}\".format(mode))"
   ]
  },
  {
   "cell_type": "code",
   "execution_count": null,
   "id": "f86d9d85-c931-437d-bc87-d074ba2b3476",
   "metadata": {},
   "outputs": [],
   "source": [
    "import seaborn as sns\n",
    "from graphbook_code import text\n",
    "from graphbook_code import lined_heatmap, add_legend\n",
    "\n",
    "# fig, axs = plt.subplots(1, 3, figsize=(15, 5))\n",
    "fig = plt.figure(figsize=(12, 8))\n",
    "gs = gridspec.GridSpec(2, 3)\n",
    "ax0 = fig.add_subplot(gs[0, 0])\n",
    "ax1 = fig.add_subplot(gs[1, 0])\n",
    "ax_omni = fig.add_subplot(gs[:, 1:])\n",
    "\n",
    "# first two\n",
    "omni_cmap = [[1,1,1], [0.5,0.5,0.5], [0,0,0]]\n",
    "print(omni_cmap)\n",
    "for i, (ax, data) in enumerate(zip([ax0, ax1], [networks[0], networks[1]])):\n",
    "    title = r\"(A) First network ($A^{(1)}$)\" if i==0 else r\"(B) Second network ($A^{(2)}$)\"\n",
    "    heatmap(data, ax=ax, cbar=False, title=title, inner_hier_labels=labels)\n",
    "\n",
    "from graspologic.embed.omni import _get_omni_matrix\n",
    "omni = _get_omni_matrix([networks[0], networks[1]])\n",
    "# big one\n",
    "hm = lined_heatmap(omni, ax=ax_omni, binary=False, cbar=False,\n",
    "                   title=\"(C) Omnibus Matrix for first \\nand second network\",\n",
    "                   center=None)\n",
    "\n",
    "# outline\n",
    "sns.despine(ax=ax_omni, top=False, bottom=False, left=False, right=False)\n",
    "\n",
    "# separating lines\n",
    "hm.vlines(len(omni)//2, 0, len(omni), colors=\"black\", lw=.9, alpha=1)\n",
    "hm.hlines(len(omni)//2, 0, len(omni), colors=\"black\", lw=.9, alpha=1)\n",
    "for i in [.25, .75]:\n",
    "    hm.vlines(len(omni)*i, 0, len(omni), colors=\"black\", lw=.9, linestyle=\"dashed\", alpha=.6)\n",
    "    hm.hlines(len(omni)*i, 0, len(omni), colors=\"black\", lw=.9, linestyle=\"dashed\", alpha=.6)\n",
    "    \n",
    "# text\n",
    "t = text(r\"$A^{(1)}$\", .25, .75, ax=ax_omni)\n",
    "t.set_bbox(dict(facecolor=\"white\", edgecolor=\"white\"))\n",
    "t = text(r\"$A^{(2)}$\", .75, .25, ax=ax_omni)\n",
    "t.set_bbox(dict(facecolor=\"white\", edgecolor=\"white\"))\n",
    "t = text(r\"$\\frac{(A^{(2)} + A^{(1)}}{2}$\", .25, .25, ax=ax_omni)\n",
    "t.set_bbox(dict(facecolor=\"white\", edgecolor=\"white\"))\n",
    "t = text(r\"$\\frac{(A^{(1)} + A^{(2)})}{2}$\", .75, .75, ax=ax_omni)\n",
    "t.set_bbox(dict(facecolor=\"white\", edgecolor=\"white\"))\n",
    "\n",
    "fig.tight_layout()\n",
    "fig.savefig(\"Figures/omni_ex.{}\".format(mode))"
   ]
  },
  {
   "cell_type": "code",
   "execution_count": null,
   "id": "b5abca57-2fe3-4d8c-9c9f-3ef370d8b0aa",
   "metadata": {},
   "outputs": [],
   "source": [
    "from graspologic.embed.omni import _get_omni_matrix\n",
    "omni_mtx = _get_omni_matrix(networks)"
   ]
  },
  {
   "cell_type": "code",
   "execution_count": null,
   "id": "d68229ae-4a6f-49da-9583-228eae2ecd53",
   "metadata": {},
   "outputs": [],
   "source": [
    "from graspologic.embed import AdjacencySpectralEmbed as ase\n",
    "\n",
    "dhat = int(np.ceil(np.log2(n)))\n",
    "Xhat_omni = ase(n_components=dhat).fit_transform(omni_mtx)"
   ]
  },
  {
   "cell_type": "code",
   "execution_count": null,
   "id": "7b751704-6f9b-4a5a-9f0c-dfe1fc694032",
   "metadata": {},
   "outputs": [],
   "source": [
    "fig, axs = plt.subplots(1, 2, figsize=(15, 9.5), gridspec_kw={\"width_ratios\": [2, 1]})\n",
    "\n",
    "hm = lined_heatmap(omni_mtx, binary=False, cmap=omni_cmap, cbar=False,\n",
    "                   title=\"(A) Omnibus matrix\", center=None, alpha=0, ax=axs[0])\n",
    "sns.despine(ax=hm, top=False, bottom=False, left=False, right=False)\n",
    "for i in np.arange(8)*1/8:\n",
    "    hm.vlines(len(omni_mtx)*i, 0, len(omni_mtx), colors=\"black\", lw=.9, linestyle=\"dashed\", alpha=1)\n",
    "    hm.hlines(len(omni_mtx)*i, 0, len(omni_mtx), colors=\"black\", lw=.9, linestyle=\"dashed\", alpha=1)\n",
    "for i in np.arange(1, 16, 2)*1/16:\n",
    "    hm.vlines(len(omni_mtx)*i, 0, len(omni_mtx), colors=\"black\", lw=.9, linestyle=\"dashed\", alpha=.2)\n",
    "    hm.hlines(len(omni_mtx)*i, 0, len(omni_mtx), colors=\"black\", lw=.9, linestyle=\"dashed\", alpha=.2)\n",
    "hm.vlines(len(omni_mtx)*1/2, 0, len(omni_mtx), colors=\"black\", lw=1.3, linestyle=\"solid\")\n",
    "hm.hlines(len(omni_mtx)*1/2, 0, len(omni_mtx), colors=\"black\", lw=1.3, linestyle=\"solid\")\n",
    "\n",
    "lpm_heatmap(Xhat_omni, ax=axs[1], title=\"(B) Estimated latent positions\", xtitle=\"Latent dimension\")\n",
    "fig.tight_layout()\n",
    "fig.savefig(\"Figures/omni_mtx.{}\".format(mode))"
   ]
  },
  {
   "cell_type": "code",
   "execution_count": null,
   "id": "9bfe1a35-0bb1-4574-a637-e3382b08aa86",
   "metadata": {},
   "outputs": [],
   "source": [
    "M = len(networks)\n",
    "n = len(networks[0])\n",
    "\n",
    "# obtain a M x n x d tensor\n",
    "Xhat_tensor = Xhat_omni.reshape(M, n, -1)\n",
    "# the estimated latent positions for the first network\n",
    "Xhat_human1 = Xhat_tensor[0,:,:]"
   ]
  },
  {
   "cell_type": "code",
   "execution_count": null,
   "id": "5e908c32-5aa3-4f83-9751-590f33c59acf",
   "metadata": {},
   "outputs": [],
   "source": [
    "fig, axs = plt.subplots(2, 4, figsize=(18, 8))\n",
    "\n",
    "for i in range(4):\n",
    "    plot_latents(Xhat_tensor[i, :, :], ax=axs[0, i], labels=labels, palette={\"L\": \"#000000\", \"R\": \"#999999\"},\n",
    "                 title=\"Human {:d}\".format(i + 1), s=20)\n",
    "    axs[0,i].get_legend().remove()\n",
    "    axs[0,i].set_xlim((Xhat_tensor[:,:,0].min(), Xhat_tensor[:,:,0].max()))\n",
    "    axs[0,i].set_ylim((Xhat_tensor[:,:,1].min(), Xhat_tensor[:,:,1].max()))\n",
    "    axs[0,i].set_xlabel(\"Dimension 1\")\n",
    "    axs[0,i].set_ylabel(\"Dimension 2\")\n",
    "    \n",
    "for i in range(4):\n",
    "    plot_latents(Xhat_tensor[i+4, :, :], ax=axs[1, i], labels=labels, palette={\"L\": \"#000000\", \"R\": \"#999999\"},\n",
    "                 title=\"Alien {:d}\".format(i + 1), s=20)\n",
    "    if i != 3:\n",
    "        axs[1,i].get_legend().remove()\n",
    "    axs[1,i].set_xlim((Xhat_tensor[:,:,0].min(), Xhat_tensor[:,:,0].max()))\n",
    "    axs[1,i].set_ylim((Xhat_tensor[:,:,1].min(), Xhat_tensor[:,:,1].max()))\n",
    "    axs[1,i].set_xlabel(\"Dimension 1\")\n",
    "    axs[1,i].set_ylabel(\"Dimension 2\")\n",
    "    \n",
    "fig.tight_layout()\n",
    "fig.savefig(\"Figures/omni_ind.{}\".format(mode))"
   ]
  },
  {
   "cell_type": "code",
   "execution_count": null,
   "id": "84a09f07-5f8c-4a29-81c7-81b8d0a7b0c0",
   "metadata": {},
   "outputs": [],
   "source": [
    "Phat_hum1 = Xhat_human1 @ Xhat_human1.T"
   ]
  },
  {
   "cell_type": "code",
   "execution_count": null,
   "id": "f8f939b8-6077-4bf6-adab-52ed929a8daa",
   "metadata": {},
   "outputs": [],
   "source": []
  }
 ],
 "metadata": {
  "kernelspec": {
   "display_name": "Python 3 (ipykernel)",
   "language": "python",
   "name": "python3"
  },
  "language_info": {
   "codemirror_mode": {
    "name": "ipython",
    "version": 3
   },
   "file_extension": ".py",
   "mimetype": "text/x-python",
   "name": "python",
   "nbconvert_exporter": "python",
   "pygments_lexer": "ipython3",
   "version": "3.9.13"
  }
 },
 "nbformat": 4,
 "nbformat_minor": 5
}
