{
  "nbformat": 4,
  "nbformat_minor": 5,
  "metadata": {},
  "cells": [
    {
      "id": "4ca51327",
      "cell_type": "code",
      "metadata": {},
      "execution_count": null,
      "source": "import seaborn as sns\nimport numpy as np\nfrom math import comb\n\n\nn = np.arange(2, 51)\nlogAn = np.array([comb(ni, 2) for ni in n])*np.log10(2)",
      "outputs": []
    }
  ]
}