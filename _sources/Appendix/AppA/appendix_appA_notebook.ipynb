{
  "nbformat": 4,
  "nbformat_minor": 5,
  "metadata": {},
  "cells": [
    {
      "id": "b3808b3a",
      "cell_type": "markdown",
      "source": "(appA:code_repr)=\n# Code Reproducibility",
      "metadata": {}
    },
    {
      "id": "5ed88665",
      "cell_type": "code",
      "metadata": {},
      "execution_count": null,
      "source": "import seaborn as sns\nimport numpy as np\nfrom math import comb\n\n\nn = np.arange(2, 51)\nlogAn = np.array([comb(ni, 2) for ni in n])*np.log10(2)",
      "outputs": []
    }
  ]
}