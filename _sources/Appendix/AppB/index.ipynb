{
 "cells": [
  {
   "cell_type": "markdown",
   "id": "fc16fda3-3dab-4c11-81c7-815c48e7a4d7",
   "metadata": {},
   "source": [
    "(appB)=\n",
    "# B: Learning representations theory\n",
    "\n",
    "+ {ref}`appB:mle`\n",
    "+ {ref}`appB:spectral`\n",
    "+ {ref}`appB:code_repr` contains all of the code as-provided in the manuscript for the entire section."
   ]
  }
 ],
 "metadata": {
  "kernelspec": {
   "display_name": "Python 3 (ipykernel)",
   "language": "python",
   "name": "python3"
  },
  "language_info": {
   "codemirror_mode": {
    "name": "ipython",
    "version": 3
   },
   "file_extension": ".py",
   "mimetype": "text/x-python",
   "name": "python",
   "nbconvert_exporter": "python",
   "pygments_lexer": "ipython3",
   "version": "3.9.13"
  }
 },
 "nbformat": 4,
 "nbformat_minor": 5
}
