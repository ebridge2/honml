{
  "nbformat": 4,
  "nbformat_minor": 5,
  "metadata": {},
  "cells": [
    {
      "id": "4c79dc26",
      "cell_type": "markdown",
      "source": "(appC:code_repr)=\n# Code Reproducibility",
      "metadata": {}
    },
    {
      "id": "9da14e58",
      "cell_type": "code",
      "metadata": {},
      "execution_count": null,
      "source": "from graspologic.simulations import sbm\nfrom graspologic.embed import AdjacencySpectralEmbed as ASE\nimport numpy as np\n\nns = [50, 40, 30]\nB = [[0.6, 0.2, 0.2],\n     [0.2, 0.6, 0.2],\n     [0.2, 0.2, 0.6]]\n\nnp.random.seed(1234)\nA = sbm(n=ns, p = B)\n\n# the true community labels\nz = [0 for i in range(0,ns[0])] + [1 for i in range(0, ns[1])] + [2 for i in range(0, ns[2])]\nXhat = ASE(n_components=3).fit(A).latent_left_",
      "outputs": []
    },
    {
      "id": "46130ab7",
      "cell_type": "code",
      "metadata": {},
      "execution_count": null,
      "source": "from pandas import DataFrame\nimport seaborn as sns\nimport matplotlib.pyplot as plt\n\ndata = DataFrame({\"Dimension 2\" : Xhat[:,1], \"Dimension 3\" : Xhat[:,2]})\npalette = {\"0\" : \"blue\", \"1\": \"green\", \"2\": \"red\"}\nfig, ax = plt.subplots(1, 1, figsize=(6, 4))\nsns.scatterplot(data=data, x=\"Dimension 2\", y=\"Dimension 3\", color=\"gray\", ax=ax)\nax.set_title(\"Estimates of latent positions\");",
      "outputs": []
    },
    {
      "id": "1b9ae03c",
      "cell_type": "code",
      "metadata": {},
      "execution_count": null,
      "source": "centers = np.array([[.5, .5], [-0.05, 0.05], [-0.05, -0.05]])\ndatcenters = DataFrame({\"Dimension 2\": centers[:,0], \"Dimension 3\": centers[:,1], \"Cluster\": [\"0\", \"1\",\"2\"]})",
      "outputs": []
    },
    {
      "id": "5f47e148",
      "cell_type": "code",
      "metadata": {},
      "execution_count": null,
      "source": "from scipy.spatial import distance_matrix\ndistances = distance_matrix(Xhat[:,1:3], centers)\nassignment = np.argmin(distances, axis=1)\n\ndata[\"Closest Center\"] = assignment.astype(str)",
      "outputs": []
    },
    {
      "id": "199dce75",
      "cell_type": "code",
      "metadata": {},
      "execution_count": null,
      "source": "centers = np.array([np.mean(Xhat[assignment == k,1:3], axis=0) for k in range(0, 3)])\n\ndatcenters = DataFrame({\"Dimension 2\": centers[:,0], \"Dimension 3\": centers[:,1], \"Cluster\": [\"0\", \"1\",\"2\"]})",
      "outputs": []
    },
    {
      "id": "a16ccca8",
      "cell_type": "code",
      "metadata": {},
      "execution_count": null,
      "source": "distances = distance_matrix(Xhat[:,1:3], centers)\nassignment = np.argmin(distances, axis=1)\ncenters_new = np.array([np.mean(Xhat[assignment == k,1:3], axis=0) for k in range(0, 3)])\n\ndata[\"Closest Center\"] = assignment.astype(str)",
      "outputs": []
    },
    {
      "id": "965982ec",
      "cell_type": "code",
      "metadata": {},
      "execution_count": null,
      "source": "from sklearn.cluster import KMeans\n\nlabels_kmeans = KMeans(n_clusters = 3, random_state=1234).fit_predict(Xhat)",
      "outputs": []
    },
    {
      "id": "74e21a5b",
      "cell_type": "code",
      "metadata": {},
      "execution_count": null,
      "source": "from graspologic.plot import pairplot\n\n_ = pairplot(Xhat, labels=labels_kmeans, title=\"Pairplot of embedding of $A$\", legend_name=\"Predicted Cluster\")",
      "outputs": []
    },
    {
      "id": "c06885b5",
      "cell_type": "code",
      "metadata": {},
      "execution_count": null,
      "source": "from sklearn.metrics import confusion_matrix\n# compute the confusion matrix between the true labels z\n# and the predicted labels labels_kmeans\ncf_matrix = confusion_matrix(z, labels_kmeans)",
      "outputs": []
    },
    {
      "id": "99b147a7",
      "cell_type": "code",
      "metadata": {},
      "execution_count": null,
      "source": "cfm_norm = cf_matrix/cf_matrix.sum(axis=1)[:,None]",
      "outputs": []
    },
    {
      "id": "e223b036",
      "cell_type": "code",
      "metadata": {},
      "execution_count": null,
      "source": "from graphbook_code import cmaps\n\nfig, ax = plt.subplots(1,1, figsize=(6,4))\nsns.heatmap(cfm_norm, cmap=cmaps[\"sequential\"], ax=ax)\nax.set_title(\"Normalized confusion matrix\")\nax.set_ylabel(\"True Label\")\nax.set_xlabel(\"Predicted Label\");",
      "outputs": []
    },
    {
      "id": "7402cf2b",
      "cell_type": "code",
      "metadata": {},
      "execution_count": null,
      "source": "from sklearn.metrics import adjusted_rand_score\n\nari_kmeans = adjusted_rand_score(z, labels_kmeans)",
      "outputs": []
    },
    {
      "id": "fa4429a9",
      "cell_type": "code",
      "metadata": {},
      "execution_count": null,
      "source": "print(\"ARI(predicted communities, true communities) = {}\".format(ari_kmeans))",
      "outputs": []
    }
  ]
}