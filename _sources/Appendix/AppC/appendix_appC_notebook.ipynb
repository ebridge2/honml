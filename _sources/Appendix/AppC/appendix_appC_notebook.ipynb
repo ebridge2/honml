{
  "nbformat": 4,
  "nbformat_minor": 5,
  "metadata": {},
  "cells": [
    {
      "id": "d5c3cca2",
      "cell_type": "code",
      "metadata": {},
      "execution_count": null,
      "source": "from graspologic.simulations import sbm\nfrom graspologic.embed import AdjacencySpectralEmbed as ASE\nimport numpy as np\n\nns = [50, 40, 30]\nB = [[0.6, 0.2, 0.2],\n     [0.2, 0.6, 0.2],\n     [0.2, 0.2, 0.6]]\n\nnp.random.seed(1234)\nA = sbm(n=ns, p = B)\n\n# the true community labels\nz = [0 for i in range(0,ns[0])] + [1 for i in range(0, ns[1])] + [2 for i in range(0, ns[2])]\nXhat = ASE(n_components=3).fit(A).latent_left_",
      "outputs": []
    },
    {
      "id": "69a63e57",
      "cell_type": "code",
      "metadata": {},
      "execution_count": null,
      "source": "from pandas import DataFrame\nimport seaborn as sns\nimport matplotlib.pyplot as plt\n\ndata = DataFrame({\"Dimension 2\" : Xhat[:,1], \"Dimension 3\" : Xhat[:,2]})\npalette = {\"0\" : \"blue\", \"1\": \"green\", \"2\": \"red\"}\nfig, ax = plt.subplots(1, 1, figsize=(6, 4))\nsns.scatterplot(data=data, x=\"Dimension 2\", y=\"Dimension 3\", color=\"gray\", ax=ax)\nax.set_title(\"Estimates of latent positions\");",
      "outputs": []
    },
    {
      "id": "4a35230a",
      "cell_type": "code",
      "metadata": {},
      "execution_count": null,
      "source": "centers = np.array([[.5, .5], [-0.05, 0.05], [-0.05, -0.05]])\ndatcenters = DataFrame({\"Dimension 2\": centers[:,0], \"Dimension 3\": centers[:,1], \"Cluster\": [\"0\", \"1\",\"2\"]})",
      "outputs": []
    },
    {
      "id": "99c29f25",
      "cell_type": "code",
      "metadata": {},
      "execution_count": null,
      "source": "from scipy.spatial import distance_matrix\ndistances = distance_matrix(Xhat[:,1:3], centers)\nassignment = np.argmin(distances, axis=1)\n\ndata[\"Closest Center\"] = assignment.astype(str)",
      "outputs": []
    },
    {
      "id": "9c3adf32",
      "cell_type": "code",
      "metadata": {},
      "execution_count": null,
      "source": "centers = np.array([np.mean(Xhat[assignment == k,1:3], axis=0) for k in range(0, 3)])\n\ndatcenters = DataFrame({\"Dimension 2\": centers[:,0], \"Dimension 3\": centers[:,1], \"Cluster\": [\"0\", \"1\",\"2\"]})",
      "outputs": []
    },
    {
      "id": "112bdbac",
      "cell_type": "code",
      "metadata": {},
      "execution_count": null,
      "source": "distances = distance_matrix(Xhat[:,1:3], centers)\nassignment = np.argmin(distances, axis=1)\ncenters_new = np.array([np.mean(Xhat[assignment == k,1:3], axis=0) for k in range(0, 3)])\n\ndata[\"Closest Center\"] = assignment.astype(str)",
      "outputs": []
    },
    {
      "id": "d8656ccb",
      "cell_type": "code",
      "metadata": {},
      "execution_count": null,
      "source": "from sklearn.cluster import KMeans\n\nlabels_kmeans = KMeans(n_clusters = 3, random_state=1234).fit_predict(Xhat)",
      "outputs": []
    },
    {
      "id": "9b9481fa",
      "cell_type": "code",
      "metadata": {},
      "execution_count": null,
      "source": "from graspologic.plot import pairplot\n\n_ = pairplot(Xhat, labels=labels_kmeans, title=\"Pairplot of embedding of $A$\", legend_name=\"Predicted Cluster\")",
      "outputs": []
    },
    {
      "id": "260122d6",
      "cell_type": "code",
      "metadata": {},
      "execution_count": null,
      "source": "from sklearn.metrics import confusion_matrix\n# compute the confusion matrix between the true labels z\n# and the predicted labels labels_kmeans\ncf_matrix = confusion_matrix(z, labels_kmeans)",
      "outputs": []
    },
    {
      "id": "2a29ffdd",
      "cell_type": "code",
      "metadata": {},
      "execution_count": null,
      "source": "cfm_norm = cf_matrix/cf_matrix.sum(axis=1)[:,None]",
      "outputs": []
    },
    {
      "id": "9fe831d4",
      "cell_type": "code",
      "metadata": {},
      "execution_count": null,
      "source": "from graphbook_code import cmaps\n\nfig, ax = plt.subplots(1,1, figsize=(6,4))\nsns.heatmap(cfm_norm, cmap=cmaps[\"sequential\"], ax=ax)\nax.set_title(\"Normalized confusion matrix\")\nax.set_ylabel(\"True Label\")\nax.set_xlabel(\"Predicted Label\");",
      "outputs": []
    },
    {
      "id": "25e5eedd",
      "cell_type": "code",
      "metadata": {},
      "execution_count": null,
      "source": "from sklearn.metrics import adjusted_rand_score\n\nari_kmeans = adjusted_rand_score(z, labels_kmeans)",
      "outputs": []
    },
    {
      "id": "60f4d3e9",
      "cell_type": "code",
      "metadata": {},
      "execution_count": null,
      "source": "print(\"ARI(predicted communities, true communities) = {}\".format(ari_kmeans))",
      "outputs": []
    }
  ]
}