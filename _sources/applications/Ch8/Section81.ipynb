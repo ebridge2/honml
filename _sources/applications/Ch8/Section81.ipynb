{
 "cells": [
  {
   "cell_type": "markdown",
   "id": "8771cede-effe-46a5-b6d3-b90fb9c0b73c",
   "metadata": {},
   "source": [
    "(ch8:anomaly)=\n",
    "# 8.1 Anomaly detection in timeseries of networks"
   ]
  },
  {
   "cell_type": "code",
   "execution_count": null,
   "id": "0c1e247e-00f8-4a90-bb15-eeae2a463bba",
   "metadata": {},
   "outputs": [],
   "source": [
    "mode = \"svg\"\n",
    "\n",
    "import matplotlib\n",
    "\n",
    "font = {'family' : 'Dejavu Sans',\n",
    "        'weight' : 'normal',\n",
    "        'size'   : 20}\n",
    "\n",
    "matplotlib.rc('font', **font)\n",
    "\n",
    "import matplotlib\n",
    "from matplotlib import pyplot as plt"
   ]
  },
  {
   "cell_type": "code",
   "execution_count": null,
   "id": "87bba16f-252d-4fc4-98e4-9e73f2fbbc60",
   "metadata": {},
   "outputs": [],
   "source": [
    "import numpy as np\n",
    "from graspologic.simulations import sbm\n",
    "from graphbook_code import dcsbm\n",
    "\n",
    "np.random.seed(2)\n",
    "\n",
    "# the block matrix for the neurons before learning\n",
    "B0 = 0.05*np.ones((3, 3))\n",
    "np.fill_diagonal(B0, 0.4)\n",
    "\n",
    "nk = 40\n",
    "ns = np.repeat(nk, 3)\n",
    "\n",
    "theta = np.tile(np.linspace(np.sqrt(2), np.sqrt(2) - 1, nk), 3)\n",
    "zs = np.repeat([1,2,3], nk)\n",
    "\n",
    "T = 12\n",
    "networks = np.array([sbm(ns, B0) if (t < 6 or t >= 9) else dcsbm(zs, theta, B0) for t in range(T)])"
   ]
  },
  {
   "cell_type": "code",
   "execution_count": null,
   "id": "d140cce0-270f-4bfa-afcc-c6d147033af0",
   "metadata": {},
   "outputs": [],
   "source": [
    "from graphbook_code import heatmap\n",
    "import seaborn as sns\n",
    "import os\n",
    "\n",
    "def add_border(ax, **kwargs):\n",
    "    sns.despine(ax=ax, **kwargs)\n",
    "\n",
    "# Create the combined figure\n",
    "fig_combined = plt.figure(figsize=(20, 5))\n",
    "\n",
    "for i in range(6):\n",
    "    ax = fig_combined.add_axes([0.01 * i + 0.00, -0.02 * i, 0.13, 0.8])\n",
    "    if i == 0:\n",
    "        ylab = \"Brain area\"\n",
    "    else:\n",
    "        ylab = \"\"\n",
    "    if i == 5:\n",
    "        xlab = \"Brain area\"\n",
    "    else:\n",
    "        xlab = \"\"\n",
    "    heatmap(networks[i].astype(int), ax=ax, xtitle=xlab, ytitle=ylab, cbar=False)\n",
    "    if i == 0:\n",
    "        ax.set_title(\"(A) Six timepoints before learning\", loc=\"left\", fontsize=16)\n",
    "    add_border(ax, top=False, right=False)\n",
    "\n",
    "# Add the axes from fig2\n",
    "for i in range(3):\n",
    "    ax = fig_combined.add_axes([0.01 * i + 0.27, -0.02 * i, 0.13, 0.8])\n",
    "    if i == 0:\n",
    "        ylab = \"Brain area\"\n",
    "    else:\n",
    "        ylab = \"\"\n",
    "    if i == 2:\n",
    "        xlab = \"Brain area\"\n",
    "    else:\n",
    "        xlab = \"\"\n",
    "    heatmap(networks[i + 6].astype(int), ax=ax, xtitle=xlab, ytitle=ylab, cbar=False)\n",
    "    if i == 0:\n",
    "        ax.set_title(\"(B) Three timepoints after learning\", loc=\"left\", fontsize=16)\n",
    "    add_border(ax, top=False, right=False)\n",
    "\n",
    "# Add the axes from fig3\n",
    "for i in range(3):\n",
    "    ax = fig_combined.add_axes([0.01 * i + 0.5, -0.02 * i, 0.13, 0.8])\n",
    "    if i == 0:\n",
    "        ylab = \"Brain area\"\n",
    "    else:\n",
    "        ylab = \"\"\n",
    "    if i == 2:\n",
    "        xlab = \"Brain area\"\n",
    "    else:\n",
    "        xlab = \"\"\n",
    "    heatmap(networks[i + 9].astype(int), ax=ax, xtitle=xlab, ytitle=ylab, cbar=False)\n",
    "    if i == 0:\n",
    "        ax.set_title(\"(C) Three timepoints after shock\", loc=\"left\", fontsize=16)\n",
    "    add_border(ax, top=False, right=False)\n",
    "\n",
    "fig_combined.tight_layout(rect=[0,0, 1, .95])\n",
    "\n",
    "os.makedirs(\"Figures\", exist_ok=True)\n",
    "fname = \"anom_ex\"\n",
    "if mode != \"png\":\n",
    "    os.makedirs(f\"Figures/{mode:s}\", exist_ok=True)\n",
    "    fig_combined.savefig(f\"Figures/{mode:s}/{fname:s}.{mode:s}\", bbox_inches='tight')\n",
    "\n",
    "os.makedirs(\"Figures/png\", exist_ok=True)\n",
    "fig_combined.savefig(f\"Figures/png/{fname:s}.png\", bbox_inches='tight')"
   ]
  },
  {
   "cell_type": "code",
   "execution_count": null,
   "id": "d82b808a-9396-4bc2-8fe8-6eb2054b5de8",
   "metadata": {},
   "outputs": [],
   "source": [
    "from graspologic.inference import latent_position_test\n",
    "import warnings\n",
    "\n",
    "warnings.filterwarnings('ignore')\n",
    "pvalues = [latent_position_test(networks[t + 1], networks[t], n_components=3,\n",
    "                                n_bootstraps=1000, workers=-1)[1] for t in range(T-1)]"
   ]
  },
  {
   "cell_type": "code",
   "execution_count": null,
   "id": "55292e24-530d-4938-8aa9-6f5453d4941c",
   "metadata": {},
   "outputs": [],
   "source": [
    "from statsmodels.stats.multitest import multipletests\n",
    "\n",
    "alpha = 0.05\n",
    "_, adj_pvals, _, _ = multipletests(pvalues, alpha=alpha, method=\"holm\")"
   ]
  },
  {
   "cell_type": "code",
   "execution_count": null,
   "id": "19408d93-6c6d-4a63-800d-59133af20289",
   "metadata": {},
   "outputs": [],
   "source": [
    "from graphbook_code import lpm_heatmap\n",
    "\n",
    "fig, ax = plt.subplots(1, 1, figsize=(15, 3))\n",
    "\n",
    "lpm_heatmap(adj_pvals.reshape(1, -1), title=\"Corrected $p$-value for test of anomalies from one timepoint to next\",\n",
    "            ax = ax, xtitle=\"Timepoint Comparison\", annot=True, vmin=0, vmax=1, cbar=False,\n",
    "           xticklabels=[f\"{i+1:d}:{i+2:d}\" for i in range(0, T-1)])\n",
    "\n",
    "fig.tight_layout()\n",
    "\n",
    "fname = \"anom_pvals\"\n",
    "if mode != \"png\":\n",
    "    fig.savefig(f\"Figures/{mode:s}/{fname:s}.{mode:s}\")\n",
    "\n",
    "fig.savefig(f\"Figures/png/{fname:s}.png\")"
   ]
  },
  {
   "cell_type": "code",
   "execution_count": null,
   "id": "9ed63a0a-7907-4be2-8115-b9951d30258c",
   "metadata": {},
   "outputs": [],
   "source": []
  }
 ],
 "metadata": {
  "kernelspec": {
   "display_name": "Python 3 (ipykernel)",
   "language": "python",
   "name": "python3"
  },
  "language_info": {
   "codemirror_mode": {
    "name": "ipython",
    "version": 3
   },
   "file_extension": ".py",
   "mimetype": "text/x-python",
   "name": "python",
   "nbconvert_exporter": "python",
   "pygments_lexer": "ipython3",
   "version": "3.9.13"
  }
 },
 "nbformat": 4,
 "nbformat_minor": 5
}
