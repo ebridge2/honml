{
  "nbformat": 4,
  "nbformat_minor": 5,
  "metadata": {},
  "cells": [
    {
      "id": "f9d1b050",
      "cell_type": "markdown",
      "source": "(ch8:code_repr)=\n# Code Reproducibility",
      "metadata": {}
    },
    {
      "id": "d65a802b",
      "cell_type": "code",
      "metadata": {},
      "execution_count": null,
      "source": "import numpy as np\nfrom graspologic.simulations import sbm\nfrom graphbook_code import dcsbm\n\n# the block matrix for the neurons before learning\nB0 = 0.05*np.ones((3, 3))\nnp.fill_diagonal(B0, 0.4)\n\nnk = 40\nns = np.repeat(nk, 3)\n\ntheta = np.tile(np.linspace(np.sqrt(2), np.sqrt(2) - 1, nk), 3)\nzs = np.repeat([1,2,3], nk)\n\nT = 12\nnp.random.seed(0)\nnetworks = np.array([sbm(ns, B0) if (t < 6 or t >= 9) else dcsbm(zs, theta, B0) for t in range(T)])",
      "outputs": []
    },
    {
      "id": "e73219aa",
      "cell_type": "code",
      "metadata": {},
      "execution_count": null,
      "source": "from graspologic.inference import latent_position_test\nimport warnings\nfrom tqdm import tqdm\n\nwarnings.filterwarnings('ignore')\npvalues = [latent_position_test(networks[t + 1], networks[t], n_components=3,\n                                n_bootstraps=1000, workers=-1)[1] for t in tqdm(range(T-1))]",
      "outputs": []
    },
    {
      "id": "ccfd2eba",
      "cell_type": "code",
      "metadata": {},
      "execution_count": null,
      "source": "from statsmodels.stats.multitest import multipletests\n\nalpha = 0.05\n_, adj_pvals, _, _ = multipletests(pvalues, alpha=alpha, method=\"holm\")",
      "outputs": []
    },
    {
      "id": "0d90c318",
      "cell_type": "code",
      "metadata": {},
      "execution_count": null,
      "source": "import numpy as np\n\npi_astronaut = 0.45\npi_earthling = 0.55\nM = 200\n\n# roll a 2-sided die 200 times, with probability 0.55 of landing on side 1 (earthling)p\n# and robability 0.45 of landing on side 2 (astronaut)\nclassnames = [\"Earthling\", \"Earthling\"]\nnp.random.seed(0)\nys = np.random.choice([1, 2], p=[pi_earthling, pi_astronaut], size=M)\nprint(f\"Number of individuals who are earthlings: {(ys == 1).sum():d}\")\nprint(f\"Number of individuals who are astronauts: {(ys == 2).sum():d}\")",
      "outputs": []
    },
    {
      "id": "0bf11ab7",
      "cell_type": "code",
      "metadata": {},
      "execution_count": null,
      "source": "n = 5\nP_earthling = np.full(shape=(n, n), fill_value=0.3)\n\nnodenames = [\n    \"SI\", \"L\", \"H/E\", \n    \"T/M\", \"BS\"\n]\n\nsignal_subnetwork = np.full(shape=(n, n), fill_value=False)\nsignal_subnetwork[1:n, 0] = True\nsignal_subnetwork[0, 1:n] = True\nP_astronaut = np.copy(P_earthling)\n\n# probabilities for signal edges are higher in astronauts than earthlings\nP_astronaut[signal_subnetwork] = np.tile(np.linspace(0.4, 0.9, num=4), reps=2)",
      "outputs": []
    },
    {
      "id": "9717f0d8",
      "cell_type": "code",
      "metadata": {},
      "execution_count": null,
      "source": "from graspologic.simulations import sample_edges\n\n# the probability matrices for each class\nPs = [P_earthling, P_astronaut]\n\n# sample networks with the indicated probability matrix\nnp.random.seed(0)\nAs = np.stack([sample_edges(P=Ps[y-1]) for y in ys], axis=2)",
      "outputs": []
    },
    {
      "id": "26b1039c",
      "cell_type": "code",
      "metadata": {},
      "execution_count": null,
      "source": "def generate_table(As, ys, i, j):\n    \"\"\"\n    A function to generate a contingency table for a given edge.\n    \"\"\"\n    # count the number of earthlings with edge i,j\n    a = As[i,j,ys == 1].sum()\n    # count the number of astronauts with edge i,j\n    b = As[i,j,ys == 2].sum()\n\n    c = len(As[i,j,ys == 1]) - a\n    d = len(As[i,j,ys == 2]) - b\n    \n    edge_tab = np.array([[a, b], [c, d]])\n    return edge_tab\n\n# edge (0, 4) corresponds to SI to BS\nedge_tab = generate_table(As, ys, 0, 4)\nprint(edge_tab)",
      "outputs": []
    },
    {
      "id": "ff04ca41",
      "cell_type": "code",
      "metadata": {},
      "execution_count": null,
      "source": "from scipy.stats import fisher_exact\n\n_, pval = fisher_exact(edge_tab)\nprint(f\"p-value: {pval:.4f}\")\n# p-value: 0.0000",
      "outputs": []
    },
    {
      "id": "1383cbbf",
      "cell_type": "code",
      "metadata": {},
      "execution_count": null,
      "source": "_, pval = fisher_exact(generate_table(As, ys, 2, 1))\nprint(f\"p-value: {pval:.4f}\")\n# p-value: 0.7600",
      "outputs": []
    },
    {
      "id": "fe164ea4",
      "cell_type": "code",
      "metadata": {},
      "execution_count": null,
      "source": "from graspologic.utils import symmetrize\nfrom scipy.stats import rankdata\n\nfisher_mtx = np.empty((n, n))\nfisher_mtx[:] = np.nan\n\nfor i in range(0, n):\n    for j in range(i+1, n):\n        fisher_mtx[i, j] = fisher_exact(generate_table(As, ys, i, j))[1]\nfisher_mtx = symmetrize(fisher_mtx, method=\"triu\")\n# use rankdata on -fisher_mtx, to rank from largest p-value to smallest p-value\nedge_imp = rankdata(-fisher_mtx, method=\"dense\", nan_policy=\"omit\").reshape(fisher_mtx.shape)\nnp.fill_diagonal(edge_imp, 0)",
      "outputs": []
    },
    {
      "id": "f8b51482",
      "cell_type": "code",
      "metadata": {},
      "execution_count": null,
      "source": "from graspologic.subgraph import SignalSubgraph\n\nK = 8  # the number of edges in the subgraph\nssn_mod = SignalSubgraph()\n# graspologic signal subgraph module assumes labels are 0, ..., K-1\n# so use ys - 1 to rescale from (1, 2) to (0, 1)\nssn_mod.fit_transform(As, labels=ys - 1, constraints=K);\n\nsn_est = np.zeros((n,n))  # initialize empty matrix\nsn_est[ssn_mod.sigsub_] = 1",
      "outputs": []
    },
    {
      "id": "c986a0be",
      "cell_type": "code",
      "metadata": {},
      "execution_count": null,
      "source": "D = As[ssn_mod.sigsub_[0], ssn_mod.sigsub_[1],:].T",
      "outputs": []
    },
    {
      "id": "f8033bab",
      "cell_type": "code",
      "metadata": {},
      "execution_count": null,
      "source": "from sklearn.naive_bayes import BernoulliNB\n\nclassifier = BernoulliNB()\n# fit the classifier using the vector of classes for each sample\nclassifier.fit(D, ys)",
      "outputs": []
    },
    {
      "id": "554ce251",
      "cell_type": "code",
      "metadata": {},
      "execution_count": null,
      "source": "# number of holdout samples\nMp = 200\n# new random seed so heldout samples differ\nnp.random.seed(123)\ny_heldout = np.random.choice([1, 2], p=[pi_earthling, pi_astronaut], size=Mp)\n# sample networks with the appropriate probability matrix\nA_heldout = np.stack([sample_edges(Ps[y-1]) for y in y_heldout], axis=2)\n\n# compute testing data on the estimated signal subnetwork\nD_heldout = A_heldout[ssn_mod.sigsub_[0], ssn_mod.sigsub_[1],:].T\n\nyhat_heldout = classifier.predict(D_heldout)\n\n# classifier accuracy is the fraction of predictions that are correct\nheldout_acc = np.mean(yhat_heldout == y_heldout)\nprint(f\"Classifier Testing Accuracy: {heldout_acc:.3f}\")\n# Classifier Testing Accuracy: 0.810",
      "outputs": []
    },
    {
      "id": "9dbde1a8",
      "cell_type": "code",
      "metadata": {},
      "execution_count": null,
      "source": "def train_and_eval_ssn(Atrain, ytrain, Atest, ytest, K):\n    \"\"\"\n    A function which trains and tests an incoherent signal subnetwork\n    classifier with K signal edges.\n    \"\"\"\n    ssn_mod = SignalSubgraph()\n    ssn_mod.fit_transform(Atrain, labels=ytrain - 1, constraints=int(K));\n\n    Dtrain = Atrain[ssn_mod.sigsub_[0], ssn_mod.sigsub_[1],:].T\n    classifier = BernoulliNB()\n    # fit the classifier using the vector of classes for each sample\n    classifier.fit(Dtrain, ytrain)\n\n    # compute testing data on the estimated signal subnetwork\n    Dtest = Atest[ssn_mod.sigsub_[0], ssn_mod.sigsub_[1],:].T\n    yhat_test = classifier.predict(Dtest)\n    \n    # classifier accuracy is the fraction of predictions that are correct\n    return (np.mean(yhat_test == ytest), ssn_mod, classifier)",
      "outputs": []
    },
    {
      "id": "99eccc67",
      "cell_type": "code",
      "metadata": {},
      "execution_count": null,
      "source": "from sklearn.model_selection import KFold\nimport pandas as pd\n\nkf = KFold(n_splits=20, shuffle=True, random_state=0)\nxv_res = []\nfor l, (train_index, test_index) in enumerate(kf.split(range(0, M))):\n    A_train, A_test = As[:,:,train_index], As[:,:,test_index]\n    y_train, y_test = ys[train_index], ys[test_index]\n    nl = len(test_index)\n    \n    for k in np.arange(2, 20, step=2):\n        acc_kl, _, _ = train_and_eval_ssn(A_train, y_train, A_test, y_test, k)\n        xv_res.append({\"Fold\": l, \"k\": k, \"nl\": nl, \"Accuracy\": acc_kl})\nxv_data = pd.DataFrame(xv_res)\n\ndef weighted_avg(group):\n    acc = group['Accuracy']\n    nl = group['nl']\n    return (acc * nl).sum() / nl.sum()\n\nxv_acc = xv_data.groupby([\"k\"]).apply(weighted_avg)\nprint(xv_acc)",
      "outputs": []
    },
    {
      "id": "4752b48e",
      "cell_type": "code",
      "metadata": {},
      "execution_count": null,
      "source": "import numpy as np\nfrom graspologic.simulations import sample_edges\n\nnodenames = [\n    \"SI\", \"L\", \"H/E\", \n    \"T/M\", \"BS\"\n]\n\n# generate probability matrices\nn = 5  # the number of nodes\nP_earthling = 0.3*np.ones((n, n))\nsignal_subnetwork = np.zeros((n, n), dtype=bool)\nsignal_subnetwork[1:n, 0] = True\nsignal_subnetwork[0, 1:n] = True\nP_astronaut = np.copy(P_earthling)\nP_astronaut[signal_subnetwork] = np.tile(np.linspace(0.4, 0.9, num=4), 2)\n\n# sample the classes of each sample\nM = 200  # the number of training and testing samples\npi_astronaut = 0.45\npi_earthling = 0.55\nnp.random.seed(0)\nytrain = np.random.choice([1,2], p=[pi_earthling, pi_astronaut], size=M)\nytest = np.random.choice([1,2], p=[pi_earthling, pi_astronaut], size=M)\n\n# sample network realizations given the class of each sample\nPs = [P_earthling, P_astronaut]\nnp.random.seed(0)\nAtrain = np.stack([sample_edges(Ps[y-1]) for y in ytrain], axis=2)\nAtest = np.stack([sample_edges(Ps[y-1]) for y in ytest], axis=2)",
      "outputs": []
    },
    {
      "id": "7893c3d8",
      "cell_type": "code",
      "metadata": {},
      "execution_count": null,
      "source": "from graspologic.subgraph import SignalSubgraph\nK = 8  # the number of signal edges\nV = 1  # the number of signal nodes\n\n# the incoherent signal subnetwork estimator\nssn_est_inco = SignalSubgraph()\nssn_est_inco.fit_transform(Atrain, labels=ytrain-1, constraints=K)\n\n# the coherent signal subnetwork estimator\nssn_est_coherent = SignalSubgraph()\nssn_est_coherent.fit_transform(Atrain, labels=ytrain-1, constraints=[K, V])",
      "outputs": []
    },
    {
      "id": "3797430b",
      "cell_type": "code",
      "metadata": {},
      "execution_count": null,
      "source": "ssn_coherent = np.zeros((n, n))\nssn_incoherent = np.zeros((n, n))\n\nssn_incoherent[ssn_est_inco.sigsub_] = 1\nssn_coherent[ssn_est_coherent.sigsub_] = 1",
      "outputs": []
    },
    {
      "id": "7f2f6862",
      "cell_type": "code",
      "metadata": {},
      "execution_count": null,
      "source": "from sklearn.naive_bayes import BernoulliNB\n\ndef train_and_eval_coherent_ssn(Atrain, ytrain, Atest, ytest, K, V):\n    \"\"\"\n    A function which trains and tests an incoherent signal subnetwork\n    classifier with K signal edges and V signal nodes.\n    \"\"\"\n    ssn_mod = SignalSubgraph()\n    ssn_mod.fit_transform(Atrain, labels=ytrain-1, constraints=[int(K), int(V)]);\n\n    Dtrain = Atrain[ssn_mod.sigsub_[0], ssn_mod.sigsub_[1],:].T\n    classifier = BernoulliNB()\n    # fit the classifier using the vector of classes for each sample\n    classifier.fit(Dtrain, ytrain)\n\n    # compute testing data on the estimated signal subnetwork\n    Dtest = Atest[ssn_mod.sigsub_[0], ssn_mod.sigsub_[1],:].T\n    yhat_test = classifier.predict(Dtest)\n    \n    # classifier accuracy is the fraction of predictions that are correct\n    return (np.mean(yhat_test == ytest), ssn_mod, classifier)",
      "outputs": []
    },
    {
      "id": "ea8eaf6d",
      "cell_type": "code",
      "metadata": {},
      "execution_count": null,
      "source": "from sklearn.model_selection import KFold\nimport pandas as pd\nfrom tqdm import tqdm\n\nkf = KFold(n_splits=20, shuffle=True, random_state=0)\nxv_res = []\nfor l, (train_index, test_index) in tqdm(enumerate(kf.split(range(0, M)))):\n    A_train, A_test = Atrain[:,:,train_index], Atrain[:,:,test_index]\n    y_train, y_test = ytrain[train_index], ytrain[test_index]\n    nl = len(test_index)\n    \n    for k in np.arange(2, n*(n-1), step=2):\n        for v in range(1, n+1):\n            try:\n                acc_kl, _, _ = train_and_eval_coherent_ssn(A_train, y_train, A_test, y_test, k, v)\n                xv_res.append({\"Fold\": l, \"k\": k, \"nl\": nl, \"v\": v, \"Accuracy\": acc_kl})\n            except:\n                xv_res.append({\"Fold\": l, \"k\": k, \"nl\": nl, \"v\": v, \"Accuracy\": np.nan})\nxv_data = pd.DataFrame(xv_res)\n\ndef weighted_avg(group):\n    acc = group['Accuracy']\n    nl = group['nl']\n    return (acc * nl).sum() / nl.sum()\n\nxv_acc = xv_data.groupby([\"k\", \"v\"]).apply(weighted_avg).reset_index(name='Accuracy')\n# convert the pandas dataframe (long format) to a data matrix (wide format)\ndf_hm = xv_acc.pivot(index=\"k\", columns=\"v\", values=\"Accuracy\")",
      "outputs": []
    },
    {
      "id": "6290bfbb",
      "cell_type": "code",
      "metadata": {},
      "execution_count": null,
      "source": "# the coherent signal subnetwork estimator, using the parameters from xv\nssn_est_coherent_xv = SignalSubgraph()\nssn_est_coherent_xv.fit_transform(Atrain, labels=ytrain-1, constraints=[6, 1])\n\nssn_coherent_xv = np.zeros((n, n))\nssn_coherent_xv[ssn_est_coherent_xv.sigsub_] = 1",
      "outputs": []
    }
  ]
}