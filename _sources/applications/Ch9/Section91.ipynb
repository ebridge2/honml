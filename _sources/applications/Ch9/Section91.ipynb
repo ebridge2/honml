{
 "cells": [
  {
   "cell_type": "markdown",
   "id": "ee095352-0b97-4dee-96eb-e9e6f2e3dd69",
   "metadata": {},
   "source": [
    "(ch9:gnns)=\n",
    "# 9.1 Graph neural networks"
   ]
  },
  {
   "cell_type": "code",
   "execution_count": null,
   "id": "2a0a4cd7-32cf-4c61-b072-57b643cce1f5",
   "metadata": {},
   "outputs": [],
   "source": [
    "mode = \"svg\"\n",
    "\n",
    "import matplotlib\n",
    "\n",
    "font = {'family' : 'Dejavu Sans',\n",
    "        'weight' : 'normal',\n",
    "        'size'   : 20}\n",
    "\n",
    "matplotlib.rc('font', **font)\n",
    "\n",
    "import matplotlib\n",
    "from matplotlib import pyplot as plt"
   ]
  },
  {
   "cell_type": "code",
   "execution_count": null,
   "id": "9fe4a646-c995-4364-9058-0c912b46eb8c",
   "metadata": {},
   "outputs": [],
   "source": [
    "from torch_geometric.datasets import MoleculeNet\n",
    "\n",
    "dataset = MoleculeNet(root='data/clintox', name='ClinTox')\n",
    "print(f'Dataset: {dataset}\\nNumber of molecules/graphs: {len(dataset)}\\nNumber of classes: {dataset.num_classes}')"
   ]
  },
  {
   "cell_type": "code",
   "execution_count": null,
   "id": "ab77eb44-988d-430e-9ecd-ba59b7a1ed7f",
   "metadata": {},
   "outputs": [],
   "source": [
    "mols = dataset[26], dataset[83]\n",
    "for m in mols:\n",
    "    print(m.smiles)"
   ]
  },
  {
   "cell_type": "code",
   "execution_count": null,
   "id": "8ff21a17-59ac-4c0a-afe8-6b16f118fec3",
   "metadata": {},
   "outputs": [],
   "source": [
    "from rdkit import Chem\n",
    "from rdkit.Chem.Draw import rdMolDraw2D\n",
    "from IPython.display import SVG\n",
    "\n",
    "smiles = [Chem.MolFromSmiles(m.smiles) for m in mols]\n",
    "d2d = rdMolDraw2D.MolDraw2DSVG(600,280,300,280)\n",
    "d2d.drawOptions().addAtomIndices = True\n",
    "d2d.DrawMolecules(smiles)\n",
    "d2d.FinishDrawing()\n",
    "SVG(d2d.GetDrawingText())"
   ]
  },
  {
   "cell_type": "code",
   "execution_count": null,
   "id": "3d1f999f-1584-461c-985a-05e02e0f2f5b",
   "metadata": {},
   "outputs": [],
   "source": [
    "for i,m in enumerate(mols):\n",
    "    print(f'Molecule {i+1}: Number of atoms={m.x.shape[0]}, Features per atom={m.x.shape[1]}')"
   ]
  },
  {
   "cell_type": "code",
   "execution_count": null,
   "id": "dfea8372-9ce8-4554-9630-d9e1119fca4c",
   "metadata": {},
   "outputs": [],
   "source": [
    "d2d = rdMolDraw2D.MolDraw2DSVG(600,280,300,280)\n",
    "d2d.drawOptions().addBondIndices = True\n",
    "d2d.DrawMolecules(smiles)\n",
    "d2d.FinishDrawing()\n",
    "SVG(d2d.GetDrawingText())"
   ]
  },
  {
   "cell_type": "code",
   "execution_count": null,
   "id": "18d26742-45b3-494d-bbd2-2d2e4d64f3cd",
   "metadata": {},
   "outputs": [],
   "source": [
    "import numpy as np\n",
    "\n",
    "_process = lambda x: [e[0] for e in np.split(x, 2)]\n",
    "def adj_from_edgelist(molecule):\n",
    "    \"\"\"\n",
    "    A function that takes a molecule edgelist and produces an adjacency matrix.\n",
    "    \"\"\"\n",
    "    # the number of nodes is the number of atoms (rows of .x attribute)\n",
    "    n = molecule.x.shape[0]\n",
    "    # the adjacency matrix is n x n\n",
    "    A = np.zeros((n, n))\n",
    "    edgelist = m.edge_index.numpy()\n",
    "    # loop over the edges e_k, and for each edge, unpack the \n",
    "    # nodes that are incident it. for this pair of nodes, \n",
    "    # change the adjacency matrix entry to 1\n",
    "    for e_k, (i, j) in enumerate(zip(*_process(edgelist))):\n",
    "        A[i, j] = 1\n",
    "    return A"
   ]
  },
  {
   "cell_type": "code",
   "execution_count": null,
   "id": "f81c0ac4-7a9d-43ec-9fe5-ca941174f27b",
   "metadata": {},
   "outputs": [],
   "source": [
    "\n",
    "from graphbook_code import heatmap\n",
    "\n",
    "for m_i, m in enumerate(mols):\n",
    "    A = adj_from_edgelist(m)\n",
    "    heatmap(A)"
   ]
  },
  {
   "cell_type": "code",
   "execution_count": null,
   "id": "ba615883-0f69-4547-8347-8bba37903a50",
   "metadata": {},
   "outputs": [],
   "source": [
    "from PIL import Image\n",
    "import os\n",
    "\n",
    "fig, axs = plt.subplots(2, 2, figsize=(13, 15), gridspec_kw={\"width_ratios\": [1, 1.2]})\n",
    "\n",
    "plot_titles = [[f\"({x:s}.{y:s}\" for y in [f\"I) Molecular structure, {z:s}\", f\"II) Adjacency matrix, {z:s}\"]] for x, z in zip([\"A\", \"B\"], [\"Molecule 1\", \"Molecule 2\"])]\n",
    "title_left = [\"Molecule 1\", \"Molecule 2\"]\n",
    "for i, m in enumerate(mols):\n",
    "    d2d = rdMolDraw2D.MolDraw2DCairo(300,300)\n",
    "    options = d2d.drawOptions()\n",
    "    options.addAtomIndices = True; options.minFontSize = 14; options.annotationFontScale = 0.8\n",
    "    \n",
    "    d2d.DrawMolecule(Chem.MolFromSmiles(m.smiles))\n",
    "    d2d.FinishDrawing()\n",
    "    png_data = d2d.GetDrawingText()\n",
    "    \n",
    "    # save png to file\n",
    "    png_fname = f'mol{i:d}.png'\n",
    "    with open(png_fname, 'wb') as png_file:\n",
    "        png_file.write(png_data)\n",
    "    axs[i][0].imshow(Image.open(png_fname))\n",
    "    axs[i][0].set_title(plot_titles[i][0], fontsize=18)\n",
    "    axs[i][0].axis(\"off\")\n",
    "\n",
    "    A = adj_from_edgelist(m)\n",
    "    tick_range = range(0, np.ceil(A.shape[0] / 2).astype(int))\n",
    "    xticks = yticks = [2 * i + 0.5 for i in tick_range]\n",
    "    xticklabels = yticklabels = [f\"{2 * i}\" for i in tick_range]\n",
    "    heatmap(A.astype(int), ax=axs[i][1], xticks=xticks, xticklabels=xticklabels,\n",
    "            yticks=yticks, yticklabels=yticklabels, shrink=0.6,\n",
    "            title=plot_titles[i][1], xtitle=\"Atom number\", ytitle=\"Atom number\")\n",
    "\n",
    "fig.tight_layout()\n",
    "\n",
    "fname = \"molecule_ex\"\n",
    "os.makedirs(\"Figures\", exist_ok=True)\n",
    "fname = \"basic_mtxs\"\n",
    "if mode != \"png\":\n",
    "    os.makedirs(f\"Figures/{mode:s}\", exist_ok=True)\n",
    "    fig.savefig(f\"Figures/{mode:s}/{fname:s}.{mode:s}\")\n",
    "\n",
    "os.makedirs(\"Figures/png\", exist_ok=True)\n",
    "fig.savefig(f\"Figures/png/{fname:s}.png\")"
   ]
  },
  {
   "cell_type": "code",
   "execution_count": null,
   "id": "f2c1531f-054e-47b6-aa07-0c8797c0b9cd",
   "metadata": {},
   "outputs": [],
   "source": [
    "import torch\n",
    "# for notebook reproducibility\n",
    "torch.manual_seed(12345)\n",
    "\n",
    "dataset = dataset.shuffle()\n",
    "\n",
    "train_dataset = dataset[:1216]\n",
    "test_dataset = dataset[1216:]\n",
    "\n",
    "print(f'Number of training networks: {len(train_dataset)}')\n",
    "print(f'Number of test networks: {len(test_dataset)}')"
   ]
  },
  {
   "cell_type": "code",
   "execution_count": null,
   "id": "b63f753a-177e-4d21-b6f3-816c73c95821",
   "metadata": {},
   "outputs": [],
   "source": [
    "from torch_geometric.loader import DataLoader\n",
    "\n",
    "train_loader = DataLoader(train_dataset, batch_size=64, shuffle=True)\n",
    "test_loader = DataLoader(test_dataset, batch_size=64, shuffle=False)"
   ]
  },
  {
   "cell_type": "code",
   "execution_count": null,
   "id": "592919ea-4dd8-4e04-bef2-98c9665c5c9d",
   "metadata": {},
   "outputs": [],
   "source": [
    "for step, data in enumerate(train_loader):\n",
    "    print(f'Step {step + 1}:')\n",
    "    print(f'Number of networks in the current batch: {data.num_graphs}')\n",
    "    print(data)\n",
    "    break"
   ]
  },
  {
   "cell_type": "code",
   "execution_count": null,
   "id": "9e0d2948-184a-42e8-ba05-6a4513ea0344",
   "metadata": {},
   "outputs": [],
   "source": [
    "from torch.nn import Linear\n",
    "import torch.nn.functional as F\n",
    "from torch_geometric.nn import GCNConv\n",
    "from torch_geometric.nn import global_mean_pool\n",
    "\n",
    "torch.manual_seed(12345)\n",
    "class GCN(torch.nn.Module):\n",
    "    def __init__(self, hidden_channels):\n",
    "        super(GCN, self).__init__()\n",
    "        self.conv1 = GCNConv(dataset.num_node_features, hidden_channels)\n",
    "        self.conv2 = GCNConv(hidden_channels, hidden_channels)\n",
    "        self.conv3 = GCNConv(hidden_channels, hidden_channels)\n",
    "        self.lin = Linear(hidden_channels, dataset.num_classes, bias=False)\n",
    "\n",
    "    def forward(self, x, edge_index, batch):\n",
    "\n",
    "        # 1. Obtain node embeddings via convolutional layers\n",
    "        x = self.conv1(x, edge_index)\n",
    "        x = x.relu()\n",
    "        x = self.conv2(x, edge_index)\n",
    "        x = x.relu()\n",
    "        x = self.conv3(x, edge_index)\n",
    "\n",
    "        # 2. Readout layer to produce network embedding\n",
    "        x = global_mean_pool(x, batch)  # [batch_size, hidden_channels]\n",
    "\n",
    "        # 3. Apply a prediction classifier to the network embedding\n",
    "        x = self.lin(x)\n",
    "\n",
    "        return x\n",
    "\n",
    "model = GCN(hidden_channels=64)\n",
    "print(model)"
   ]
  },
  {
   "cell_type": "code",
   "execution_count": null,
   "id": "f446b756-a258-45c6-a784-1013f9c18ac1",
   "metadata": {},
   "outputs": [],
   "source": [
    "model = GCN(hidden_channels=64)\n",
    "optimizer = torch.optim.Adam(model.parameters(), lr=0.0001)\n",
    "criterion = torch.nn.CrossEntropyLoss()\n",
    "\n",
    "def train():\n",
    "    model.train()\n",
    "    for data in train_loader:  # Iterate in batches over the training dataset.\n",
    "        out = model(data.x.float(), data.edge_index, data.batch)  # Perform a single forward pass.\n",
    "        # Handle a pyg bug where last element in batch may be all zeros and excluded in the model output.\n",
    "        # https://github.com/pyg-team/pytorch_geometric/issues/1813\n",
    "        num_batch = out.shape[0]\n",
    "        loss = criterion(out, data.y[:num_batch, 0].long())  # Compute the loss.\n",
    "        \n",
    "        loss.backward()  # Derive gradients.\n",
    "        optimizer.step()  # Update parameters based on gradients.\n",
    "        optimizer.zero_grad()  # Clear gradients.\n",
    "\n",
    "def test(loader):\n",
    "        model.eval()\n",
    "        correct = 0\n",
    "        for data in loader:  # Iterate in batches over the training/test dataset.\n",
    "            out = model(data.x.float(), data.edge_index, data.batch)  \n",
    "            pred = out.argmax(dim=1)  # Use the class with highest probability.\n",
    "            num_batch = pred.shape[0]\n",
    "            correct += int((pred == data.y[:num_batch, 0]).sum())  # Check against ground-truth labels.\n",
    "        return correct / len(loader.dataset)  # Derive ratio of correct predictions.\n",
    "\n",
    "R = 10  # number of epochs\n",
    "for epoch in range(0, R):\n",
    "    train()\n",
    "    train_acc = test(train_loader)\n",
    "    test_acc = test(test_loader)\n",
    "    print(f'Epoch: {epoch:03d}, Train Acc: {train_acc:.4f}, Test Acc: {test_acc:.4f}')"
   ]
  },
  {
   "cell_type": "code",
   "execution_count": null,
   "id": "71c80bac-1d22-494d-90bd-d533efe570ce",
   "metadata": {},
   "outputs": [],
   "source": []
  }
 ],
 "metadata": {
  "kernelspec": {
   "display_name": "Python 3 (ipykernel)",
   "language": "python",
   "name": "python3"
  },
  "language_info": {
   "codemirror_mode": {
    "name": "ipython",
    "version": 3
   },
   "file_extension": ".py",
   "mimetype": "text/x-python",
   "name": "python",
   "nbconvert_exporter": "python",
   "pygments_lexer": "ipython3",
   "version": "3.9.13"
  }
 },
 "nbformat": 4,
 "nbformat_minor": 5
}
