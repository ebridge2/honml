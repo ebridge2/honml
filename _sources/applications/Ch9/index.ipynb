{
 "cells": [
  {
   "cell_type": "markdown",
   "id": "fc16fda3-3dab-4c11-81c7-815c48e7a4d7",
   "metadata": {},
   "source": [
    "()=\n",
    "#\n",
    "\n",
    "+ {ref}``"
   ]
  }
 ],
 "metadata": {
  "kernelspec": {
   "display_name": "Python 3 (ipykernel)",
   "language": "python",
   "name": "python3"
  },
  "language_info": {
   "codemirror_mode": {
    "name": "ipython",
    "version": 3
   },
   "file_extension": ".py",
   "mimetype": "text/x-python",
   "name": "python",
   "nbconvert_exporter": "python",
   "pygments_lexer": "ipython3",
   "version": "3.9.13"
  }
 },
 "nbformat": 4,
 "nbformat_minor": 5
}
