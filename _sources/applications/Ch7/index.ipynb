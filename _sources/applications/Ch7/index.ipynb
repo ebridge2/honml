{
 "cells": [
  {
   "cell_type": "markdown",
   "id": "ed8e1d12-2864-45ea-ada6-f52342cbef7b",
   "metadata": {},
   "source": [
    "(ch7)=\n",
    "# 7 Applications for two networks\n",
    "\n",
    "+ {ref}`ch7:twosample`\n",
    "+ {ref}`ch7:twosamplesbm`\n",
    "+ {ref}`ch7:gm`"
   ]
  }
 ],
 "metadata": {
  "kernelspec": {
   "display_name": "Python 3 (ipykernel)",
   "language": "python",
   "name": "python3"
  },
  "language_info": {
   "codemirror_mode": {
    "name": "ipython",
    "version": 3
   },
   "file_extension": ".py",
   "mimetype": "text/x-python",
   "name": "python",
   "nbconvert_exporter": "python",
   "pygments_lexer": "ipython3",
   "version": "3.9.13"
  }
 },
 "nbformat": 4,
 "nbformat_minor": 5
}
