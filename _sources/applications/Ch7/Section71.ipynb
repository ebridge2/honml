{
 "cells": [
  {
   "cell_type": "markdown",
   "id": "8d4da1e3-137d-4b9c-9fc2-f3f2e82a1f33",
   "metadata": {},
   "source": [
    "(ch7:twosample)=\n",
    "# 7.1 Two-sample testing for networks"
   ]
  },
  {
   "cell_type": "code",
   "execution_count": null,
   "id": "2a0a4cd7-32cf-4c61-b072-57b643cce1f5",
   "metadata": {},
   "outputs": [],
   "source": [
    "mode = \"svg\"\n",
    "\n",
    "import matplotlib\n",
    "\n",
    "font = {'family' : 'Dejavu Sans',\n",
    "        'weight' : 'normal',\n",
    "        'size'   : 20}\n",
    "\n",
    "matplotlib.rc('font', **font)\n",
    "\n",
    "import matplotlib\n",
    "from matplotlib import pyplot as plt\n",
    "\n",
    "import warnings; warnings.filterwarnings(\"ignore\")"
   ]
  },
  {
   "cell_type": "code",
   "execution_count": null,
   "id": "fd1f7d17-dc4d-430e-971a-5623bc9ded17",
   "metadata": {},
   "outputs": [],
   "source": [
    "from graspologic.simulations import sbm\n",
    "import numpy as np\n",
    "from graphbook_code import dcsbm, generate_dcsbm_pmtx, \\\n",
    "                           generate_sbm_pmtx\n",
    "\n",
    "n = 150  # the number of nodes\n",
    "# human brains have homophilic block structure\n",
    "Bhum = np.array([[0.2, 0.02], [0.02, 0.2]])\n",
    "# alien brains add degree-correction\n",
    "theta_alien = np.tile(np.linspace(1.5, 0.5, n // 2), 2)\n",
    "\n",
    "# generate human and alien brain network\n",
    "np.random.seed(0)\n",
    "A_human, z = sbm([n // 2, n // 2], Bhum, return_labels=True)\n",
    "A_alien = dcsbm(z, theta_alien, Bhum)\n",
    "\n",
    "Phum = generate_sbm_pmtx(z, Bhum)\n",
    "Palien = generate_dcsbm_pmtx(z, theta_alien, Bhum)"
   ]
  },
  {
   "cell_type": "code",
   "execution_count": null,
   "id": "7c7ab0cd-b9a5-49fa-aa42-f494835a2db4",
   "metadata": {},
   "outputs": [],
   "source": [
    "from graphbook_code import heatmap\n",
    "import os\n",
    "fig, axs = plt.subplots(2, 2, figsize=(10, 10))\n",
    "\n",
    "heatmap(Phum, legend_title=\"Probability\", ax=axs[0][0],\n",
    "       xtitle=\"Node\", inner_hier_labels=z + 1, vmin=0, vmax=1,\n",
    "       title=\"(A) $P^{(1)}$\")\n",
    "heatmap(A_human.astype(int), ax=axs[0][1],\n",
    "       xtitle=\"Node\", inner_hier_labels=z + 1, vmin=0, vmax=1,\n",
    "       title=\"(A) $A^{(1)}$, human network\")\n",
    "\n",
    "heatmap(Palien, legend_title=\"Probability\", ax=axs[1][0],\n",
    "       xtitle=\"Node\", inner_hier_labels=z + 1, vmin=0, vmax=1,\n",
    "       title=\"(A) $P^{(2)}$\")\n",
    "heatmap(A_alien.astype(int), ax=axs[1][1],\n",
    "       xtitle=\"Node\", inner_hier_labels=z + 1, vmin=0, vmax=1,\n",
    "       title=\"(A) $A^{(2)}$, alien network\")\n",
    "\n",
    "fig.tight_layout()\n",
    "\n",
    "fname = \"ts_ex\"\n",
    "os.makedirs(\"Figures\", exist_ok=True)\n",
    "if mode != \"png\":\n",
    "    os.makedirs(f\"Figures/{mode:s}\", exist_ok=True)\n",
    "    fig.savefig(f\"Figures/{mode:s}/{fname:s}.{mode:s}\")\n",
    "\n",
    "os.makedirs(\"Figures/png\", exist_ok=True)\n",
    "fig.savefig(f\"Figures/png/{fname:s}.png\")"
   ]
  },
  {
   "cell_type": "code",
   "execution_count": null,
   "id": "4584069d-f702-4244-8d20-7eb8dd0260f9",
   "metadata": {},
   "outputs": [],
   "source": [
    "from scipy.linalg import orthogonal_procrustes\n",
    "from graspologic.embed import AdjacencySpectralEmbed as ase\n",
    "\n",
    "d = 2\n",
    "# estimate latent positions for alien and human networks\n",
    "Xhat_human = ase(n_components=d).fit_transform(A_human)\n",
    "Xhat_alien = ase(n_components=d).fit_transform(A_alien)\n",
    "# estimate best possible rotation of Xhat_alien to Xhat_human by \n",
    "# solving orthogonal procrustes problem\n",
    "W = orthogonal_procrustes(Xhat_alien, Xhat_human)[0]\n",
    "observed_norm = np.linalg.norm(Xhat_human - Xhat_alien @ W, ord=\"fro\")"
   ]
  },
  {
   "cell_type": "code",
   "execution_count": null,
   "id": "dec1f5a0-da3e-435d-a1ca-6e3188cfe420",
   "metadata": {},
   "outputs": [],
   "source": [
    "from graspologic.simulations import rdpg\n",
    "\n",
    "def generate_synthetic_networks(X):\n",
    "    \"\"\"\n",
    "    A function which generates two synthetic networks with\n",
    "    same latent position matrix X.\n",
    "    \"\"\"\n",
    "    A1 = rdpg(X, directed=False, loops=False)\n",
    "    A2 = rdpg(X, directed=False, loops=False)\n",
    "    return A1, A2\n",
    "\n",
    "Ap, App = generate_synthetic_networks(Xhat_human)"
   ]
  },
  {
   "cell_type": "code",
   "execution_count": null,
   "id": "3af5c3eb-ba73-4ddd-9bbf-2ef4875ce65a",
   "metadata": {},
   "outputs": [],
   "source": [
    "def compute_latent(A, d):\n",
    "    \"\"\"\n",
    "    A function which returns the latent position estimate\n",
    "    for an adjacency matrix A.\n",
    "    \"\"\"\n",
    "    return ase(n_components=d).fit_transform(A)\n",
    "\n",
    "Xhat_p = compute_latent(Ap, d)\n",
    "Xhat_pp = compute_latent(App, d)"
   ]
  },
  {
   "cell_type": "code",
   "execution_count": null,
   "id": "bbbf5510-2e17-42c9-aa39-8164a5926b8a",
   "metadata": {},
   "outputs": [],
   "source": [
    "def compute_norm_orth_proc(A, B):\n",
    "    \"\"\"\n",
    "    A function which finds the best rotation of B onto A,\n",
    "    and then computes and returns the norm.\n",
    "    \"\"\"\n",
    "    R = orthogonal_procrustes(B, A)[0]\n",
    "    return np.linalg.norm(A - B @ R)\n",
    "\n",
    "norm_null = compute_norm_orth_proc(Xhat_p, Xhat_pp)"
   ]
  },
  {
   "cell_type": "code",
   "execution_count": null,
   "id": "bd3f1fc3-75a6-44cb-a57d-f6798592a1e5",
   "metadata": {},
   "outputs": [],
   "source": [
    "def parametric_resample(A1, A2, d, nreps=100):\n",
    "    \"\"\"\n",
    "    A function to generate samples of the null distribution under H0\n",
    "    using parametric resampling.\n",
    "    \"\"\"\n",
    "    null_norms = np.zeros(nreps)\n",
    "    Xhat1 = compute_latent(A1, d)\n",
    "    for i in range(0, nreps):\n",
    "        Ap, App = generate_synthetic_networks(Xhat1)\n",
    "        Xhat_p = compute_latent(Ap, d)\n",
    "        Xhat_pp = compute_latent(App, d)\n",
    "        null_norms[i] = compute_norm_orth_proc(Xhat_p, Xhat_pp)\n",
    "    return null_norms\n",
    "\n",
    "nreps = 1000\n",
    "null_norms = parametric_resample(A_alien, A_human, 2, nreps=nreps)"
   ]
  },
  {
   "cell_type": "code",
   "execution_count": null,
   "id": "82ca396c-a9e2-4156-be4b-e307577e25b3",
   "metadata": {},
   "outputs": [],
   "source": [
    "pval = ((null_norms >= observed_norm).sum() + 1)/(nreps + 1)\n",
    "print(f\"estimate of p-value: {pval:.5f}\")\n",
    "# estimate of p-value: 0.00100"
   ]
  },
  {
   "cell_type": "code",
   "execution_count": null,
   "id": "4abd8fd6-63b5-4e16-8e7b-6af189cc4e5e",
   "metadata": {},
   "outputs": [],
   "source": [
    "from graspologic.inference import latent_position_test\n",
    "\n",
    "nreps = 1000 # the number of null replicates\n",
    "lpt = latent_position_test(A_human, A_alien, n_bootstraps = nreps, n_components=d, workers=-1)\n",
    "print(\"estimate of p-value: {:.5f}\".format(lpt[1]))\n",
    "# estimate of p-value: 0.00100"
   ]
  },
  {
   "cell_type": "code",
   "execution_count": null,
   "id": "60ca9e48-0488-4ef4-a096-454a248a1ab4",
   "metadata": {},
   "outputs": [],
   "source": [
    "# generate a new human brain network with same block matrix\n",
    "A_human2 = sbm([n // 2, n // 2], Bhum)\n",
    "\n",
    "lpt_hum2hum = latent_position_test(A_human, A_human2, n_bootstraps=nreps, n_components=d, workers=-1)\n",
    "print(\"estimate of p-value: {:.5f}\".format(lpt_hum2hum[1]))\n",
    "# estimate of p-value: 0.84715"
   ]
  },
  {
   "cell_type": "code",
   "execution_count": null,
   "id": "38f0b31f-7c71-4d98-a909-dcba43287da7",
   "metadata": {},
   "outputs": [],
   "source": [
    "import seaborn as sns\n",
    "\n",
    "fig, axs = plt.subplots(1, 3, figsize=(21, 5))\n",
    "sns.histplot(null_norms, ax=axs[0], stat=\"probability\", bins=15, color=\"black\", label=\"Null\")\n",
    "axs[0].set_xlabel(\"Statistic\")\n",
    "axs[0].set_ylabel(\"Fraction of replicates\")\n",
    "axs[0].set_title(\"(A) Latent position test\", loc=\"left\", fontsize=20)\n",
    "axs[0].axvline(x=observed_norm, color=\"#888888\", label=\"Observed\")\n",
    "axs[0].legend(title=\"Statistic\")\n",
    "axs[0].annotate(\"$\\\\| \\\\hat X^{(1)} - \\\\hat X^{(2)}\\\\hat W\\\\|_F$\", (observed_norm + .03, 0.1), color=\"#888888\", fontsize=15)\n",
    "axs[0].set_xlim([0.5, observed_norm + 1.2])\n",
    "axs[0].set_yticks([0, 0.05, 0.1, 0.15])\n",
    "axs[0].annotate(\"$\\\\| \\\\hat X^{\\\\prime} - \\\\hat X^{\\\\prime \\\\prime}\\\\hat W''\\\\|_F$\", (0.7, 0.1), color=\"#000000\", fontsize=15)"
   ]
  },
  {
   "cell_type": "code",
   "execution_count": null,
   "id": "531d9d3b-1672-4b84-a3d0-3c2e73da74ac",
   "metadata": {},
   "outputs": [],
   "source": [
    "ncoins = 300  # the number of coins in each container\n",
    "\n",
    "# the probabilities from container 1 landing on heads\n",
    "# with a much larger variance\n",
    "pi1 = np.random.beta(a=4, b=4, size=ncoins)\n",
    "\n",
    "# the probabilities of container 2 landing on heads,\n",
    "# with a much smaller variance\n",
    "pi2 = np.random.beta(a=15, b=15, size=ncoins)"
   ]
  },
  {
   "cell_type": "code",
   "execution_count": null,
   "id": "c0f1c2df-11e2-42f4-8568-d44106a1e644",
   "metadata": {},
   "outputs": [],
   "source": [
    "import pandas as pd\n",
    "\n",
    "# Create common bins\n",
    "bins = np.linspace(0, 1, 20)\n",
    "# Plot histograms\n",
    "sns.histplot(pi1, color=\"black\", label=\"1\", kde=False, bins=bins, ax=axs[1])\n",
    "sns.histplot(pi2, color=\"grey\", label=\"2\", kde=False, bins=bins, ax=axs[1])\n",
    "\n",
    "# Add legend\n",
    "axs[1].legend(title=\"Manufacturer\")\n",
    "axs[1].set_xlim([0, 1])\n",
    "\n",
    "# Add titles and labels\n",
    "axs[1].set_title('(B) Distribution of Coin Probabilities', loc=\"left\", fontsize=20)\n",
    "axs[1].set_xlabel('Probability of Heads')\n",
    "\n",
    "fig"
   ]
  },
  {
   "cell_type": "code",
   "execution_count": null,
   "id": "875712b2-b03e-4030-a4d7-7b8d802ba988",
   "metadata": {},
   "outputs": [],
   "source": [
    "from graspologic.inference import latent_distribution_test\n",
    "\n",
    "nreps = 1000\n",
    "approach = 'mgc'  # the strategy for the latent distribution test\n",
    "ldt_dcorr = latent_distribution_test(A_human, A_alien, test=approach, metric=\"euclidean\", n_bootstraps=nreps, workers=-1)\n",
    "print(\"estimate of p-value: {:.5f}\".format(ldt_dcorr.pvalue))"
   ]
  },
  {
   "cell_type": "code",
   "execution_count": null,
   "id": "b557083f-b5d4-47d9-b3a0-f7838a1c90f8",
   "metadata": {},
   "outputs": [],
   "source": [
    "sns.histplot(ldt_dcorr.misc_dict[\"null_distribution\"], color=\"black\", ax=axs[2], stat=\"probability\", label=\"Null\")\n",
    "axs[2].axvline(ldt_dcorr.stat, color=\"#888888\", label=\"Observed\")\n",
    "axs[2].legend(title=\"Statistic\")\n",
    "axs[2].set_title(\"(C) Latent distribution test\")\n",
    "fig.tight_layout()\n",
    "\n",
    "fname = \"ts_ldt_ex\"\n",
    "if mode != \"png\":\n",
    "    fig.savefig(f\"Figures/{mode:s}/{fname:s}.{mode:s}\")\n",
    "\n",
    "fig.savefig(f\"Figures/png/{fname:s}.png\")"
   ]
  },
  {
   "cell_type": "code",
   "execution_count": null,
   "id": "7575c53a-012d-4852-889b-1dccdeea2a3f",
   "metadata": {},
   "outputs": [],
   "source": [
    "fig"
   ]
  },
  {
   "cell_type": "code",
   "execution_count": null,
   "id": "205bc5e3",
   "metadata": {},
   "outputs": [],
   "source": []
  }
 ],
 "metadata": {
  "kernelspec": {
   "display_name": "Python 3 (ipykernel)",
   "language": "python",
   "name": "python3"
  },
  "language_info": {
   "codemirror_mode": {
    "name": "ipython",
    "version": 3
   },
   "file_extension": ".py",
   "mimetype": "text/x-python",
   "name": "python",
   "nbconvert_exporter": "python",
   "pygments_lexer": "ipython3",
   "version": "3.9.13"
  }
 },
 "nbformat": 4,
 "nbformat_minor": 5
}
