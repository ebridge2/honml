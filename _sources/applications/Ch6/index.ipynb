{
 "cells": [
  {
   "cell_type": "markdown",
   "id": "ed47f917-1425-44c5-9f47-6a6cd887bf3e",
   "metadata": {},
   "source": [
    "(ch6)=\n",
    "# 6 Applications for a single network\n",
    "\n",
    "+ {ref}`ch6:comm_detect`\n",
    "+ {ref}`ch6:sparsity`\n",
    "+ {ref}`ch6:testing`\n",
    "+ {ref}`ch6:modelselect`\n",
    "+ {ref}`ch6:vn`\n",
    "+ {ref}`ch6:oos`"
   ]
  }
 ],
 "metadata": {
  "kernelspec": {
   "display_name": "Python 3 (ipykernel)",
   "language": "python",
   "name": "python3"
  },
  "language_info": {
   "codemirror_mode": {
    "name": "ipython",
    "version": 3
   },
   "file_extension": ".py",
   "mimetype": "text/x-python",
   "name": "python",
   "nbconvert_exporter": "python",
   "pygments_lexer": "ipython3",
   "version": "3.9.13"
  }
 },
 "nbformat": 4,
 "nbformat_minor": 5
}
