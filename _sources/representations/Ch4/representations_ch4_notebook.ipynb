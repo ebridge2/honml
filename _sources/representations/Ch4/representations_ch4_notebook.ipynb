{
 "cells": [
  {
   "cell_type": "markdown",
   "id": "e8c356ac-15a6-45d8-80ee-1473898df60b",
   "metadata": {},
   "source": [
    "# Code Reproducibility: Chapter 4"
   ]
  },
  {
   "cell_type": "code",
   "execution_count": null,
   "id": "cdedb3a6-084a-4b92-a845-cfc144eaa436",
   "metadata": {},
   "outputs": [],
   "source": [
    "import numpy as np\n",
    "from graphbook_code import heatmap\n",
    "\n",
    "def generate_unit_circle(radius):\n",
    "    diameter = 2*radius + 1\n",
    "    rx = ry = diameter/2\n",
    "    x, y = np.indices((diameter, diameter))\n",
    "\n",
    "    circle_dist = np.hypot(rx - x, ry - y)\n",
    "    diff_from_radius = np.abs(circle_dist - radius)\n",
    "    less_than_half = diff_from_radius < 0.5\n",
    "\n",
    "    return less_than_half.astype(int)\n",
    "\n",
    "def add_smile():\n",
    "    canvas = np.zeros((51, 51))\n",
    "    canvas[2:45, 2:45] = generate_unit_circle(21)\n",
    "    mask = np.zeros((51, 51), dtype=bool)\n",
    "    mask[np.triu_indices_from(mask)] = True\n",
    "    upper_left = np.rot90(mask)\n",
    "    canvas[upper_left] = 0\n",
    "    return canvas\n",
    "    \n",
    "def smile_probability(upper_p, lower_p):\n",
    "    smiley = add_smile()\n",
    "    P = generate_unit_circle(25)\n",
    "    P[5:16, 25:36] = generate_unit_circle(5)\n",
    "    P[smiley != 0] = smiley[smiley != 0]\n",
    "    \n",
    "    mask = np.zeros((51, 51), dtype=bool)\n",
    "    mask[np.triu_indices_from(mask)] = True\n",
    "    P[~mask] = 0\n",
    "    # symmetrize the probability matrix\n",
    "    P = (P + P.T - np.diag(np.diag(P))).astype(float)\n",
    "    P[P == 1] = lower_p\n",
    "    P[P == 0] = upper_p\n",
    "    return P\n",
    "\n",
    "P = smile_probability(.95, 0.05)\n",
    "heatmap(P, vmin=0, vmax=1, title=\"Probability matrix $P$\")"
   ]
  },
  {
   "cell_type": "code",
   "execution_count": null,
   "id": "41dfaa68",
   "metadata": {},
   "outputs": [],
   "source": [
    "from graspologic.simulations import sample_edges\n",
    "\n",
    "A = sample_edges(P, directed=False, loops=False)\n",
    "heatmap(A.astype(int), title=\"$IER_n(P)$ sample\")"
   ]
  },
  {
   "cell_type": "code",
   "execution_count": null,
   "id": "e26a3079",
   "metadata": {},
   "outputs": [],
   "source": [
    "import numpy as np\n",
    "from math import comb\n",
    "\n",
    "node_count = np.arange(2, 51)\n",
    "log_unique_network_count = np.array([comb(n, 2) for n in node_count])*np.log10(2)"
   ]
  },
  {
   "cell_type": "code",
   "execution_count": null,
   "id": "81179156",
   "metadata": {},
   "outputs": [],
   "source": [
    "from graphbook_code import draw_multiplot\n",
    "from graspologic.simulations import er_np\n",
    "\n",
    "n = 50  # network with 50 nodes\n",
    "p = 0.3  # probability of an edge existing is .3\n",
    "\n",
    "# sample a single simple adjacency matrix from ER(50, .3)\n",
    "A = er_np(n=n, p=p, directed=False, loops=False)\n",
    "\n",
    "# and plot it\n",
    "draw_multiplot(A.astype(int), title=\"$ER_{50}(0.3)$ Simulation\")"
   ]
  },
  {
   "cell_type": "code",
   "execution_count": null,
   "id": "07a4184d",
   "metadata": {},
   "outputs": [],
   "source": [
    "p = 0.7  # network has an edge probability of 0.7\n",
    "\n",
    "# sample a single adjacency matrix from ER(50, 0.7)\n",
    "A = er_np(n=n, p=p, directed=False, loops=False)"
   ]
  },
  {
   "cell_type": "code",
   "execution_count": null,
   "id": "cd296f82",
   "metadata": {},
   "outputs": [],
   "source": [
    "from graphbook_code import plot_vector\n",
    "import numpy as np\n",
    "\n",
    "n = 100  # number of students\n",
    "\n",
    "# z is a column vector of 50 1s followed by 50 2s\n",
    "# this vector gives the school each of the 100 students are from\n",
    "z = np.repeat([1, 2], repeats=n//2)\n",
    "plot_vector(z, title=\"$\\\\vec z$, Node Assignment Vector\",\n",
    "            legend_title=\"School\", color=\"qualitative\", \n",
    "            ticks=[0.5, 49.5, 99.5], ticklabels=[1, 50, 100],\n",
    "            ticktitle=\"Student\")"
   ]
  },
  {
   "cell_type": "code",
   "execution_count": null,
   "id": "0a8e347c",
   "metadata": {},
   "outputs": [],
   "source": [
    "from graphbook_code import heatmap\n",
    "\n",
    "K = 2  # community count\n",
    "# construct the block matrix B as described above\n",
    "B = np.array([[0.6, 0.1], \n",
    "              [0.1, 0.4]])\n",
    "\n",
    "heatmap(B, xticklabels=[1, 2], yticklabels=[1,2], vmin=0, \n",
    "             vmax=1, annot=True, xtitle=\"School\",\n",
    "             ytitle=\"School\", title=\"Block Matrix $B$\")"
   ]
  },
  {
   "cell_type": "code",
   "execution_count": null,
   "id": "0f82efd3",
   "metadata": {},
   "outputs": [],
   "source": [
    "from graspologic.simulations import sbm\n",
    "from graphbook_code import draw_multiplot\n",
    "\n",
    "# sample a graph from SBM_{100}(tau, B)\n",
    "A, labels = sbm(n=[n//2, n//2], p=B, directed=False, loops=False, return_labels=True)\n",
    "draw_multiplot(A, labels=labels, title=\"$SBM_n(z, B)$ Simulation\");"
   ]
  },
  {
   "cell_type": "code",
   "execution_count": null,
   "id": "188bd1e7",
   "metadata": {},
   "outputs": [],
   "source": [
    "import numpy as np\n",
    "\n",
    "# generate a reordering of the n nodes\n",
    "permutation = np.random.choice(n, size=n, replace=False)\n",
    "\n",
    "Aperm = A[permutation][:,permutation]\n",
    "yperm = labels[permutation]\n",
    "heatmap(Aperm, title=\"Nodes randomly reordered\")"
   ]
  },
  {
   "cell_type": "code",
   "execution_count": null,
   "id": "30dd7785",
   "metadata": {},
   "outputs": [],
   "source": [
    "def ohe_comm_vec(z):\n",
    "    \"\"\"\n",
    "    A function to generate the one-hot-encoded community\n",
    "    assignment matrix from a community assignment vector.\n",
    "    \"\"\"\n",
    "    K = len(np.unique(z))\n",
    "    n = len(z)\n",
    "    C = np.zeros((n, K))\n",
    "    for i, zi in enumerate(z):\n",
    "        C[i, zi - 1] = 1\n",
    "    return C"
   ]
  },
  {
   "cell_type": "code",
   "execution_count": null,
   "id": "42a6e3e7",
   "metadata": {},
   "outputs": [],
   "source": [
    "import numpy as np\n",
    "from graphbook_code import lpm_heatmap\n",
    "\n",
    "n = 100  # the number of nodes in our network\n",
    "# design the latent position matrix X according to \n",
    "# the rules we laid out previously\n",
    "X = np.zeros((n,2))\n",
    "for i in range(0, n):\n",
    "    X[i,:] = [(n - i)/n, i/n]\n",
    "\n",
    "lpm_heatmap(X, ytitle=\"Person\", xticks=[0.5, 1.5], xticklabels=[1, 2], \n",
    "            yticks=[0.5, 49.5, 99.5], yticklabels=[1, 50, 100],\n",
    "            xtitle=\"Latent Dimension\", title=\"Latent Position Matrix, X\")"
   ]
  },
  {
   "cell_type": "code",
   "execution_count": null,
   "id": "5e3a5328",
   "metadata": {},
   "outputs": [],
   "source": [
    "from graspologic.simulations import rdpg\n",
    "from graphbook_code import heatmap\n",
    "\n",
    "# sample an RDPG with the latent position matrix\n",
    "# created above\n",
    "A = rdpg(X, loops=False, directed=False)\n",
    "\n",
    "# and plot it\n",
    "heatmap(A.astype(int), xtitle=\"Person\", ytitle=\"Person\",\n",
    "        title=\"$RDPG_{100}(X)$ Simulation\")"
   ]
  },
  {
   "cell_type": "code",
   "execution_count": null,
   "id": "36143bca",
   "metadata": {},
   "outputs": [],
   "source": [
    "import numpy as np\n",
    "\n",
    "def block_mtx_psd(B):\n",
    "    \"\"\"\n",
    "    A function which indicates whether a matrix\n",
    "    B is positive semidefinite.\n",
    "    \"\"\"\n",
    "    return np.all(np.linalg.eigvals(B) >= 0)"
   ]
  },
  {
   "cell_type": "code",
   "execution_count": null,
   "id": "e9f6935e",
   "metadata": {},
   "outputs": [],
   "source": [
    "import numpy as np\n",
    "from graphbook_code import heatmap\n",
    "\n",
    "B = np.array([[0.6, 0.2], \n",
    "              [0.2, 0.4]])\n",
    "heatmap(B, title=\"A homophilic block matrix\", annot=True, vmin=0, vmax=1)\n",
    "block_mtx_psd(B)\n",
    "# True"
   ]
  },
  {
   "cell_type": "code",
   "execution_count": null,
   "id": "d8372310",
   "metadata": {},
   "outputs": [],
   "source": [
    "B_indef = np.array([[.1, .2], \n",
    "                    [.2, .1]])\n",
    "block_mtx_psd(B_indef)\n",
    "# False"
   ]
  },
  {
   "cell_type": "code",
   "execution_count": null,
   "id": "3b963f64",
   "metadata": {},
   "outputs": [],
   "source": [
    "# a positive semidefinite kidney-egg block matrix\n",
    "B_psd = np.array([[.6, .2], \n",
    "                  [.2, .2]])\n",
    "block_mtx_psd(B_psd)\n",
    "# True\n",
    "\n",
    "# an indefinite kidney-egg block matrix\n",
    "B_indef = np.array([[.1, .2], \n",
    "                    [.2, .2]])\n",
    "block_mtx_psd(B_indef)\n",
    "#False"
   ]
  },
  {
   "cell_type": "code",
   "execution_count": null,
   "id": "e0b65966",
   "metadata": {},
   "outputs": [],
   "source": [
    "# a positive semidefinite core-periphery block matrix\n",
    "B_psd = np.array([[.6, .2], \n",
    "                  [.2, .1]])\n",
    "block_mtx_psd(B_psd)\n",
    "# True\n",
    "\n",
    "# an indefinite core-periphery block matrix\n",
    "B_indef = np.array([[.6, .2], \n",
    "                    [.2, .05]])\n",
    "block_mtx_psd(B_indef)\n",
    "# False"
   ]
  },
  {
   "cell_type": "code",
   "execution_count": null,
   "id": "18523c34",
   "metadata": {},
   "outputs": [],
   "source": [
    "# an indefinite disassortative block matrix\n",
    "B = np.array([[.1, .5], \n",
    "              [.5, .2]])\n",
    "block_mtx_psd(B)\n",
    "# False"
   ]
  },
  {
   "cell_type": "code",
   "execution_count": null,
   "id": "b0050efe",
   "metadata": {},
   "outputs": [],
   "source": [
    "# homophilic, and hence positive semidefinite, block matrix\n",
    "B = np.array([[0.6, 0.2], \n",
    "              [0.2, 0.4]])\n",
    "\n",
    "# generate square root matrix\n",
    "sqrtB = np.linalg.cholesky(B)\n",
    "\n",
    "# verify that the process worked through by equality element-wise\n",
    "# use allclose instead of array_equal because of tiny\n",
    "# numerical precision errors\n",
    "np.allclose(sqrtB @ sqrtB.T, B)\n",
    "# True"
   ]
  },
  {
   "cell_type": "code",
   "execution_count": null,
   "id": "8f5ecae0",
   "metadata": {},
   "outputs": [],
   "source": [
    "from graphbook_code import ohe_comm_vec\n",
    "\n",
    "def lpm_from_sbm(z, B):\n",
    "    \"\"\"\n",
    "    A function to produce a latent position matrix from a\n",
    "    community assignment vector and a block matrix.\n",
    "    \"\"\"\n",
    "    if not block_mtx_psd(B):\n",
    "        raise ValueError(\"Latent position matrices require PSD block matrices!\")\n",
    "    # one-hot encode the community assignment vector\n",
    "    C = ohe_comm_vec(z)\n",
    "    # compute square root matrix\n",
    "    sqrtB = np.linalg.cholesky(B)\n",
    "    # X = C*sqrt(B)\n",
    "    return C @ sqrtB\n",
    "\n",
    "# make a community assignment vector for 25 nodes / community\n",
    "nk = 25\n",
    "z = np.repeat([1, 2], nk)\n",
    "\n",
    "# latent position matrix for an equivalent RDPG\n",
    "X = lpm_from_sbm(z, B)"
   ]
  },
  {
   "cell_type": "code",
   "execution_count": null,
   "id": "3ba85544",
   "metadata": {},
   "outputs": [],
   "source": [
    "from graphbook_code import generate_sbm_pmtx\n",
    "\n",
    "# generate the probability matrices for an RDPG using X and SBM\n",
    "P_rdpg = X @ X.T\n",
    "P_sbm = generate_sbm_pmtx(z, B)\n",
    "\n",
    "# verify equality element-wise\n",
    "np.allclose(P_rdpg, P_sbm)\n",
    "# True"
   ]
  },
  {
   "cell_type": "code",
   "execution_count": null,
   "id": "f65841e2",
   "metadata": {},
   "outputs": [],
   "source": [
    "import numpy as np\n",
    "from graspologic.simulations import sample_edges\n",
    "from graphbook_code import heatmap, plot_vector, \\\n",
    "    generate_sbm_pmtx\n",
    "\n",
    "def dcsbm(z, theta, B, directed=False, loops=False, return_prob=False):\n",
    "    \"\"\"\n",
    "    A function to sample a DCSBM.\n",
    "    \"\"\"\n",
    "    # uncorrected probability matrix\n",
    "    Pp = generate_sbm_pmtx(z, B)\n",
    "    theta = theta.reshape(-1)\n",
    "    # apply the degree correction\n",
    "    Theta = np.diag(theta)\n",
    "    P = Theta @ Pp @ Theta.transpose()\n",
    "    network = sample_edges(P, directed=directed, loops=loops)\n",
    "    if return_prob:\n",
    "        network = (network, P)\n",
    "    return network"
   ]
  },
  {
   "cell_type": "code",
   "execution_count": null,
   "id": "8ab2d342",
   "metadata": {},
   "outputs": [],
   "source": [
    "# Observe a network from a DCSBM\n",
    "nk = 50  # students per school\n",
    "z = np.repeat([1, 2], 50)\n",
    "B = np.array([[0.6, 0.2], [0.2, 0.4]])  # same probabilities as from SBM section\n",
    "theta = np.tile(np.linspace(1, 0.5, nk), 2)\n",
    "A, P = dcsbm(z, theta, B, return_prob=True)\n",
    "\n",
    "# Visualize\n",
    "plot_vector(z, title=\"$\\\\vec z$\", legend_title=\"School\", color=\"qualitative\", \n",
    "            ticks=[0.5, 49.5, 99.5], ticklabels=[1, 50, 100],\n",
    "            ticktitle=\"Student\")\n",
    "plot_vector(theta, title=\"$\\\\vec \\\\theta$\", \n",
    "            legend_title=\"Degree-Correction Factor\", \n",
    "            ticks=[0.5, 49.5, 99.5], ticklabels=[1, 50, 100],\n",
    "            ticktitle=\"Student\")\n",
    "heatmap(P, title=\"$P = \\\\Theta C B C^\\\\top \\\\Theta^\\\\top$\", vmin=0, vmax=1)\n",
    "heatmap(A.astype(int), title=\"Sample of $DCSBM_n(\\\\vec z, \\\\vec \\\\theta, B)$\")"
   ]
  },
  {
   "cell_type": "code",
   "execution_count": null,
   "id": "4d7c71e5",
   "metadata": {},
   "outputs": [],
   "source": [
    "import numpy as np\n",
    "\n",
    "n = 100\n",
    "Z = np.ones((n, n))\n",
    "for i in range(0, int(n / 2)):\n",
    "    Z[int(i + n / 2), i] = 3\n",
    "    Z[i, int(i + n / 2)] = 3\n",
    "Z[0:50, 0:50] = Z[50:100, 50:100] = 2\n",
    "np.fill_diagonal(Z, 0)"
   ]
  },
  {
   "cell_type": "code",
   "execution_count": null,
   "id": "512631a4",
   "metadata": {},
   "outputs": [],
   "source": [
    "from graphbook_code import heatmap\n",
    "\n",
    "labels = np.repeat([\"L\", \"R\"], repeats=n/2)\n",
    "heatmap(Z.astype(int), title=\"Cluster assignment matrix\", \n",
    "        inner_hier_labels=labels)"
   ]
  },
  {
   "cell_type": "code",
   "execution_count": null,
   "id": "84be4595",
   "metadata": {},
   "outputs": [],
   "source": [
    "from graphbook_code import siem, plot_vector\n",
    "\n",
    "p = np.array([0.1, 0.3, 0.8])\n",
    "A = siem(n, p, Z)\n",
    "plot_vector(p, title=\"probability vector\", vmin=0, vmax=1, annot=True)\n",
    "heatmap(A.astype(int), title=\"$SIEM_n(Z, \\\\vec p)$ sample\", \n",
    "        inner_hier_labels=labels)"
   ]
  },
  {
   "cell_type": "code",
   "execution_count": null,
   "id": "e96ebbbc",
   "metadata": {},
   "outputs": [],
   "source": [
    "from graspologic.simulations import sbm\n",
    "import numpy as np\n",
    "from graphbook_code import dcsbm\n",
    "from sklearn.preprocessing import LabelEncoder\n",
    "\n",
    "# Create block probability matrix B\n",
    "K = 3\n",
    "B = np.full(shape=(K, K), fill_value=0.15)\n",
    "np.fill_diagonal(B, 0.4)\n",
    "\n",
    "# degree-correct the different groups for linkedin\n",
    "ml, admin, marketing = nks = [50, 25, 25]\n",
    "theta = np.ones((np.sum(nks), 1))\n",
    "theta[(ml):(ml + admin), :] = np.sqrt(2)\n",
    "\n",
    "# our dcsbm function only works with communities encoded 1,2,...,K\n",
    "# so we'll use a LabelEncoder to map labels to natural numbers\n",
    "labels = np.repeat([\"ML\", \"AD\", \"MA\"], nks)\n",
    "le = LabelEncoder().fit(labels)\n",
    "z = le.transform(labels) + 1\n",
    "\n",
    "# sample the random networks\n",
    "A_facebook = sbm(n=nks, p=B)\n",
    "A_insta = sbm(n=nks, p=B)\n",
    "A_linkedin, P_linkedin = dcsbm(z, theta, B, return_prob=True)"
   ]
  },
  {
   "cell_type": "code",
   "execution_count": null,
   "id": "bed6b17a",
   "metadata": {},
   "outputs": [],
   "source": [
    "from graphbook_code import generate_sbm_pmtx, heatmap\n",
    "\n",
    "# we already returned P_linkedin for the linkedin\n",
    "# probability matrix from dcsbm() function\n",
    "P_facebook_insta = generate_sbm_pmtx(z, B)\n",
    "\n",
    "# when plotting for comparison purposes, make sure you are\n",
    "# using the same scale from 0 to 1\n",
    "heatmap(P_facebook_insta, vmin=0, vmax=1)\n",
    "heatmap(P_linkedin, vmin=0, vmax=1)\n",
    "heatmap(P_linkedin - P_facebook_insta, vmin=0, vmax=1)"
   ]
  },
  {
   "cell_type": "code",
   "execution_count": null,
   "id": "83a1645e",
   "metadata": {},
   "outputs": [],
   "source": [
    "from graspologic.embed import MultipleASE as mase\n",
    "from graphbook_code import lpm_heatmap\n",
    "\n",
    "embedder = mase(n_components=3, svd_seed=0)\n",
    "# obtain shared latent positions\n",
    "S = embedder.fit_transform([P_facebook_insta, P_facebook_insta, P_linkedin])\n",
    "\n",
    "lpm_heatmap(S)"
   ]
  },
  {
   "cell_type": "code",
   "execution_count": null,
   "id": "0af9ffb0",
   "metadata": {},
   "outputs": [],
   "source": [
    "import matplotlib.pyplot as plt\n",
    "\n",
    "R_facebook = embedder.scores_[0]\n",
    "R_insta = embedder.scores_[1]\n",
    "R_linkedin = embedder.scores_[2]\n",
    "\n",
    "# and plot them\n",
    "smin = np.min(embedder.scores_)\n",
    "smax = np.max(embedder.scores_)\n",
    "\n",
    "fig, axs = plt.subplots(1, 3, figsize=(20, 7))\n",
    "heatmap(R_facebook, vmin=smin, vmax=smax, ax=axs[0], annot=True, title=\"facebook score matrix\")\n",
    "heatmap(R_insta, vmin=smin, vmax=smax, ax=axs[1], annot=True, title=\"Instagram score matrix\")\n",
    "heatmap(R_linkedin, vmin=smin, vmax=smax, ax=axs[2], annot=True, title=\"LinkedIn score matrix\")"
   ]
  },
  {
   "cell_type": "code",
   "execution_count": null,
   "id": "26a87a61",
   "metadata": {},
   "outputs": [],
   "source": [
    "from graphbook_code import lpm_from_sbm\n",
    "X_facebook_insta = lpm_from_sbm(z, B)"
   ]
  },
  {
   "cell_type": "code",
   "execution_count": null,
   "id": "8e3b8f97",
   "metadata": {},
   "outputs": [],
   "source": [
    "from graspologic.simulations import rdpg_corr\n",
    "\n",
    "# generate the network samples\n",
    "rho = 0.7\n",
    "facebook_correlated_network, insta_correlated_network = rdpg_corr(\n",
    "    X_facebook_insta, Y=None, r=rho\n",
    ")\n",
    "\n",
    "# the difference matrix\n",
    "correlated_difference_matrix = np.abs(\n",
    "    facebook_correlated_network - insta_correlated_network\n",
    ")\n",
    "# the total number of differences\n",
    "correlated_differences = correlated_difference_matrix.sum()"
   ]
  },
  {
   "cell_type": "code",
   "execution_count": null,
   "id": "2ad025c9",
   "metadata": {},
   "outputs": [],
   "source": [
    "rho_nil = 0.0\n",
    "facebook_uncorrelated_network, insta_uncorrelated_network = rdpg_corr(\n",
    "    X_facebook_insta, Y=None, r=rho_nil\n",
    ")\n",
    "\n",
    "# the difference matrix\n",
    "uncorrelated_difference_matrix = np.abs(\n",
    "    facebook_uncorrelated_network - insta_uncorrelated_network\n",
    ")\n",
    "# the total number of differences\n",
    "uncorrelated_differences = uncorrelated_difference_matrix.sum()"
   ]
  },
  {
   "cell_type": "code",
   "execution_count": null,
   "id": "001010a3",
   "metadata": {},
   "outputs": [],
   "source": [
    "import numpy as np\n",
    "from graspologic.simulations import sample_edges\n",
    "\n",
    "nodenames = [\n",
    "    \"SI\", \"L\", \"H/E\", \n",
    "    \"T/M\", \"BS\"\n",
    "]\n",
    "\n",
    "# generate probability matrices\n",
    "n = 5  # the number of nodes\n",
    "P_earthling = 0.3*np.ones((n, n))\n",
    "signal_subnetwork = np.zeros((n, n), dtype=bool)\n",
    "signal_subnetwork[1:n, 0] = True\n",
    "signal_subnetwork[0, 1:n] = True\n",
    "P_astronaut = np.copy(P_earthling)\n",
    "P_astronaut[signal_subnetwork] = np.tile(np.linspace(0.4, 0.9, num=4), 2)\n",
    "\n",
    "# sample two networks\n",
    "A_earthling = sample_edges(P_earthling)\n",
    "A_astronaut = sample_edges(P_astronaut)"
   ]
  },
  {
   "cell_type": "code",
   "execution_count": null,
   "id": "55aa207b",
   "metadata": {},
   "outputs": [],
   "source": [
    "# plot probability matrices and their differences on the same scale\n",
    "heatmap(P_earthling, vmin=0, vmax=1)\n",
    "heatmap(P_astronaut, vmin=0, vmax=1)\n",
    "heatmap(np.abs(P_astronaut - P_earthling), vmin=0, vmax=1)"
   ]
  },
  {
   "cell_type": "code",
   "execution_count": null,
   "id": "f7a2fdd8",
   "metadata": {},
   "outputs": [],
   "source": [
    "# plot the signal subnetwork\n",
    "ax = heatmap(signal_subnetwork)"
   ]
  },
  {
   "cell_type": "code",
   "execution_count": null,
   "id": "1e3b269b",
   "metadata": {},
   "outputs": [],
   "source": [
    "# sample the classes of each sample\n",
    "M = 200  # the number of training and testing samples\n",
    "pi_astronaut = 0.45\n",
    "pi_earthling = 0.55\n",
    "np.random.seed(0)\n",
    "yvec = np.random.choice(2, p=[pi_earthling, pi_astronaut], size=M)\n",
    "\n",
    "# sample network realizations given the class of each sample\n",
    "Ps = [P_earthling, P_astronaut]\n",
    "\n",
    "As = np.stack([sample_edges(Ps[y]) for y in yvec], axis=2)"
   ]
  }
 ],
 "metadata": {
  "kernelspec": {
   "display_name": "Python 3 (ipykernel)",
   "language": "python",
   "name": "python3"
  },
  "language_info": {
   "codemirror_mode": {
    "name": "ipython",
    "version": 3
   },
   "file_extension": ".py",
   "mimetype": "text/x-python",
   "name": "python",
   "nbconvert_exporter": "python",
   "pygments_lexer": "ipython3",
   "version": "3.9.13"
  }
 },
 "nbformat": 4,
 "nbformat_minor": 5
}
