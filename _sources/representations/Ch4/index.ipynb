{
 "cells": [
  {
   "cell_type": "markdown",
   "id": "24557594-df64-446c-b62a-2e9b99271b04",
   "metadata": {},
   "source": [
    "(ch4)=\n",
    "# 4 Statistical Models of Random Networks\n",
    "\n",
    "+ {ref}`ch4:ier`\n",
    "+ {ref}`ch4:er`\n",
    "+ {ref}`ch4:sbm`\n",
    "+ {ref}`ch4:rdpg`\n",
    "+ {ref}`ch4:indef_blockmatrix`\n",
    "+ {ref}`ch4:dcsbm`\n",
    "+ {ref}`ch4:siem`\n",
    "+ {ref}`ch4:multi-network-models`\n",
    "+ {ref}`ch4:models-with-covariates`"
   ]
  }
 ],
 "metadata": {
  "kernelspec": {
   "display_name": "Python 3 (ipykernel)",
   "language": "python",
   "name": "python3"
  },
  "language_info": {
   "codemirror_mode": {
    "name": "ipython",
    "version": 3
   },
   "file_extension": ".py",
   "mimetype": "text/x-python",
   "name": "python",
   "nbconvert_exporter": "python",
   "pygments_lexer": "ipython3",
   "version": "3.9.13"
  }
 },
 "nbformat": 4,
 "nbformat_minor": 5
}
