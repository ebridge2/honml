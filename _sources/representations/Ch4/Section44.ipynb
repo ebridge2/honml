{
 "cells": [
  {
   "cell_type": "markdown",
   "id": "ac833f64-82a7-4ac0-9f7f-bd33d2a21801",
   "metadata": {},
   "source": [
    "(ch4:rdpg)=\n",
    "# 4.4 Random Dot Product Graphs"
   ]
  },
  {
   "cell_type": "code",
   "execution_count": null,
   "id": "2a0a4cd7-32cf-4c61-b072-57b643cce1f5",
   "metadata": {},
   "outputs": [],
   "source": [
    "mode = \"svg\"\n",
    "\n",
    "import matplotlib\n",
    "\n",
    "font = {'family' : 'Dejavu Sans',\n",
    "        'weight' : 'normal',\n",
    "        'size'   : 20}\n",
    "\n",
    "matplotlib.rc('font', **font)\n",
    "\n",
    "import matplotlib\n",
    "from matplotlib import pyplot as plt"
   ]
  },
  {
   "cell_type": "code",
   "execution_count": null,
   "id": "2b231435-ce4e-4222-ad73-c7b15119b0f8",
   "metadata": {},
   "outputs": [],
   "source": [
    "import numpy as np\n",
    "from graphbook_code import lpm_heatmap\n",
    "\n",
    "n = 100  # the number of nodes in our network\n",
    "# design the latent position matrix X according to \n",
    "# the rules we laid out previously\n",
    "X = np.zeros((n,2))\n",
    "for i in range(0, n):\n",
    "    X[i,:] = [(n - i)/n, i/n]\n"
   ]
  },
  {
   "cell_type": "code",
   "execution_count": null,
   "id": "5a5acbfc-3f9d-4bae-9fc7-046fb79eb945",
   "metadata": {},
   "outputs": [],
   "source": [
    "from graspologic.simulations import rdpg\n",
    "from graphbook_code import heatmap\n",
    "# sample an RDPG with the latent position matrix\n",
    "# created above\n",
    "A = rdpg(X, loops=False, directed=False)\n",
    "\n",
    "# and plot it"
   ]
  },
  {
   "cell_type": "code",
   "execution_count": null,
   "id": "3cd5a13d-3a3c-445b-8844-290ad719ddd5",
   "metadata": {},
   "outputs": [],
   "source": [
    "import os\n",
    "\n",
    "fig, axs = plt.subplots(1, 2, figsize=(10, 5), gridspec_kw={\"width_ratios\": [1.5,3]})\n",
    "lpm_heatmap(X, ytitle=\"Person\", xticks=[0.5, 1.5], xticklabels=[1, 2], yticks=[0.5, 49.5, 99.5],\n",
    "            yticklabels=[1,50,100], xtitle=\"Latent Dimension\", \n",
    "            title=\"(A) Latent Position Matrix, $X$\", ax=axs[0])\n",
    "\n",
    "heatmap(A.astype(int), xtitle=\"Person\", ytitle=\"Person\", \n",
    "        yticks=[0.5, 49.5, 99.5], yticklabels=[1,50,100],\n",
    "        xticks=[0.5, 49.5, 99.5], xticklabels=[1,50,100],\n",
    "        title=\"(B) $RDPG_{100}(X)$ Simulation\", ax=axs[1], legend_title=\"Edge?\")\n",
    "\n",
    "fig.tight_layout()\n",
    "\n",
    "os.makedirs(\"Figures\", exist_ok=True)\n",
    "fname = \"rdpg\"\n",
    "if mode != \"png\":\n",
    "    os.makedirs(f\"Figures/{mode:s}\", exist_ok=True)\n",
    "    fig.savefig(f\"Figures/{mode:s}/{fname:s}.{mode:s}\")\n",
    "\n",
    "os.makedirs(\"Figures/png\", exist_ok=True)\n",
    "fig.savefig(f\"Figures/png/{fname:s}.png\")"
   ]
  },
  {
   "cell_type": "code",
   "execution_count": null,
   "id": "2a36017f",
   "metadata": {},
   "outputs": [],
   "source": []
  }
 ],
 "metadata": {
  "kernelspec": {
   "display_name": "Python 3 (ipykernel)",
   "language": "python",
   "name": "python3"
  },
  "language_info": {
   "codemirror_mode": {
    "name": "ipython",
    "version": 3
   },
   "file_extension": ".py",
   "mimetype": "text/x-python",
   "name": "python",
   "nbconvert_exporter": "python",
   "pygments_lexer": "ipython3",
   "version": "3.9.13"
  }
 },
 "nbformat": 4,
 "nbformat_minor": 5
}
