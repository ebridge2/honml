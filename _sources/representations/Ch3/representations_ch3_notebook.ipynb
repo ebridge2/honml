{
  "nbformat": 4,
  "nbformat_minor": 5,
  "metadata": {},
  "cells": [
    {
      "id": "827062a9",
      "cell_type": "markdown",
      "source": "(ch3:code_repr)=\n# Code Reproducibility",
      "metadata": {}
    },
    {
      "id": "b948bcdf",
      "cell_type": "code",
      "metadata": {},
      "execution_count": null,
      "source": "import numpy as np\nimport networkx as nx\n\nG = nx.DiGraph()\n# add nodes to the network\nG.add_node(\"1\", pos=(1,1))\nG.add_node(\"2\", pos=(4,4))\nG.add_node(\"3\", pos=(4,2))\n# add edges to the network\nG.add_edge(\"1\", \"2\")\nG.add_edge(\"2\", \"1\")\nG.add_edge(\"1\", \"3\")\nG.add_edge(\"3\", \"1\")\n\n# the coordinates in space to use for plotting the nodes\n# in the layout plot\npos = {\"1\": (0, 0), \"2\": (1, 0), \"3\": (.5, .5)}\n\nnx.draw_networkx(G, with_labels=True, node_color=\"white\", pos=pos,\n                font_size=10, font_color=\"black\", arrows=False, edge_color=\"black\",\n                width=1)",
      "outputs": []
    },
    {
      "id": "33198e2b",
      "cell_type": "code",
      "metadata": {},
      "execution_count": null,
      "source": "from graphbook_code import heatmap\nimport matplotlib.pyplot as plt\nimport seaborn as sns\n\n# convert the networkx graph to a numpy array\nA = np.asarray(nx.to_numpy_array(G))\n\nheatmap(A, annot=True, linewidths=.1, cbar=False, \n        title=\"Adjacency matrix\", xticklabels=[1,2,3], xtitle=\"Node\", \n        yticklabels=[1,2,3], ytitle=\"Node\"\n       )",
      "outputs": []
    },
    {
      "id": "638c8c61",
      "cell_type": "code",
      "metadata": {},
      "execution_count": null,
      "source": "import networkx as nx\nfrom graphbook_code import heatmap\n\n# create an undirected network G\nG = nx.Graph()\n# add the nodes like before\nG.add_node(\"SI\", pos=(2,1))\nG.add_node(\"MH\", pos=(4,4))\nG.add_node(\"BK\", pos=(4,1.7))\nG.add_node(\"Q\", pos=(6,3))\nG.add_node(\"BX\", pos=(6,6))\n\n# specify boroughs that are adjacent to one another\npos = nx.get_node_attributes(G, 'pos')\nG.add_edge(\"SI\", \"BK\")\nG.add_edge(\"MH\", \"BK\")\nG.add_edge(\"BK\", \"Q\")\nG.add_edge(\"MH\", \"Q\")\nG.add_edge(\"MH\", \"BX\")\nG.add_edge(\"Q\", \"BX\")\n\nA = nx.to_numpy_array(G)\n\n# plotting\nnx.draw_networkx(G, with_labels=True, node_color=\"black\", pos=pos,\n                font_color=\"white\", edge_color=\"black\")\n\n# pass in the xticklabels and yticklabels corresponding to the\n# appropriately ordered boroughs (in the order we constructed them)\nheatmap(A.astype(int), xticklabels=[\"SI\", \"MH\", \"BK\", \"Q\", \"BX\"],\n        yticklabels=[\"SI\", \"MH\", \"BK\", \"Q\", \"BX\"],\n        xtitle=\"Borough\", ytitle=\"Borough\"\n       )",
      "outputs": []
    },
    {
      "id": "4c9e6423",
      "cell_type": "code",
      "metadata": {},
      "execution_count": null,
      "source": "from copy import deepcopy\n\nG_dir = G.to_directed()\n\n# remove the edge from BK to SI\nG_dir.remove_edge(\"BK\", \"SI\")\n\nnx.draw_networkx(G_dir, with_labels=True, node_color=\"black\", pos=pos,\n                font_color=\"white\", arrows=True, edge_color=\"black\")",
      "outputs": []
    },
    {
      "id": "25cac56c",
      "cell_type": "code",
      "metadata": {},
      "execution_count": null,
      "source": "from graspologic.utils import is_symmetric\n\nA = nx.to_numpy_array(G)\nis_symmetric(A)\n# True\nA_dir = nx.to_numpy_array(G_dir)\nis_symmetric(A_dir)\n# False",
      "outputs": []
    },
    {
      "id": "47561003",
      "cell_type": "code",
      "metadata": {},
      "execution_count": null,
      "source": "G_loopy = deepcopy(G)\n# add edge from SI to itself\nG_loopy.add_edge(\"SI\", \"SI\")\nnx.draw_networkx(G_loopy, with_labels=True, node_color=\"black\", pos=pos,\n                font_color=\"white\", edge_color=\"black\")",
      "outputs": []
    },
    {
      "id": "0647ca8d",
      "cell_type": "code",
      "metadata": {},
      "execution_count": null,
      "source": "from graspologic.utils import is_loopless\nis_loopless(A)\n# True\nA_loopy = nx.to_numpy_array(G_loopy)\nis_loopless(A_loopy)\n# False",
      "outputs": []
    },
    {
      "id": "c79023f1",
      "cell_type": "code",
      "metadata": {},
      "execution_count": null,
      "source": "G_weight = nx.Graph()\n\nG_weight.add_node(\"SI\", pos=(2,1))\nG_weight.add_node(\"MH\", pos=(4,4))\nG_weight.add_node(\"BK\", pos=(4,1.7))\nG_weight.add_node(\"Q\", pos=(6,3))\nG_weight.add_node(\"BX\", pos=(6,6))\n\n# this time, we add weights to the edges\npos = nx.get_node_attributes(G, 'pos')\nG_weight.add_edge(\"SI\", \"BK\", weight=20)\nG_weight.add_edge(\"MH\", \"BK\", weight=15)\nG_weight.add_edge(\"BK\", \"Q\", weight=5)\nG_weight.add_edge(\"MH\", \"Q\", weight=15)\nG_weight.add_edge(\"MH\", \"BX\", weight=5)\nG_weight.add_edge(\"Q\", \"BX\", weight=15)\n\nedge_wts = nx.get_edge_attributes(G_weight, \"weight\")\nnx.draw_networkx(G_weight, with_labels=True, node_color=\"black\", pos=pos,\n                 font_color=\"white\", edge_color=\"black\")\nnx.draw_networkx_edge_labels(G_weight, pos, edge_wts)",
      "outputs": []
    },
    {
      "id": "7ddd477c",
      "cell_type": "code",
      "metadata": {},
      "execution_count": null,
      "source": "from graspologic.utils import is_unweighted\n\nA_weight = nx.to_numpy_array(G_weight)\nis_unweighted(A)\n# True\nis_unweighted(A_weight)\n# False",
      "outputs": []
    },
    {
      "id": "b6f63586",
      "cell_type": "code",
      "metadata": {},
      "execution_count": null,
      "source": "A_weight = nx.to_numpy_array(G_weight, nonedge=0).astype(float)\n\nheatmap(A_weight, xticklabels=[\"SI\", \"MH\", \"BK\", \"Q\", \"BX\"],\n        yticklabels=[\"SI\", \"MH\", \"BK\", \"Q\", \"BX\"], title=\"Weighted adjacency matrix\", \n        xtitle=\"Borough\", ytitle=\"Borough\")",
      "outputs": []
    },
    {
      "id": "417900a9",
      "cell_type": "code",
      "metadata": {},
      "execution_count": null,
      "source": "def in_degrees(A):\n    \"\"\"\n    A function to compute the in-degrees for the nodes of an adjacency matrix.\n    \"\"\"\n    return A.sum(axis=1)\n\ndef out_degrees(A):\n    \"\"\"\n    A function to compute the out-degrees for the nodes of an adjacency matrix.\n    \"\"\"\n    return A.sum(axis=0)\n\n# get the degree for node BK, which is node 2 in our network,\n# using either the in- or out-degree\nprint(in_degrees(A)[2])\n# 3.0",
      "outputs": []
    },
    {
      "id": "eea3c702",
      "cell_type": "code",
      "metadata": {},
      "execution_count": null,
      "source": "D = nx.floyd_warshall_numpy(G)\nheatmap(D, title=\"Distance matrix\",  xticklabels=[\"SI\", \"MH\", \"BK\", \"Q\", \"BX\"],\n        yticklabels=[\"SI\", \"MH\", \"BK\", \"Q\", \"BX\"], xtitle=\"Borough\", ytitle=\"Borough\")",
      "outputs": []
    },
    {
      "id": "2304af20",
      "cell_type": "code",
      "metadata": {},
      "execution_count": null,
      "source": "nx.density(G)\n# 0.6",
      "outputs": []
    },
    {
      "id": "3ac92716",
      "cell_type": "code",
      "metadata": {},
      "execution_count": null,
      "source": "G_clus = nx.Graph()\n\nG_clus.add_node(\"MH\", pos=(4,4))\nG_clus.add_node(\"BK\", pos=(4,1.7))\nG_clus.add_node(\"Q\", pos=(6,3))\nG_clus.add_node(\"BX\", pos=(6,6))\n\n\npos = nx.get_node_attributes(G, 'pos')\nG_clus.add_edge(\"MH\", \"BX\")\nG_clus.add_edge(\"MH\", \"BK\")\nG_clus.add_edge(\"BK\", \"Q\")\nG_clus.add_edge(\"MH\", \"Q\")\nG_clus.add_edge(\"Q\", \"BX\")\n\nnx.draw_networkx(G_clus, with_labels=True, node_color=\"black\", pos=pos,\n                 font_color=\"white\", edge_color=\"black\")",
      "outputs": []
    },
    {
      "id": "edbb1055",
      "cell_type": "code",
      "metadata": {},
      "execution_count": null,
      "source": "nx.transitivity(G_clus)\n# 0.75",
      "outputs": []
    },
    {
      "id": "53305722",
      "cell_type": "code",
      "metadata": {},
      "execution_count": null,
      "source": "# in-degree matrix\nD_in = np.diag(in_degrees(A))\n# out-degree matrix\nD_out = np.diag(out_degrees(A))\n# the network is undirected, so in and out degrees are same\nprint(np.all(D_in == D_out))\n# True",
      "outputs": []
    },
    {
      "id": "a4035f28",
      "cell_type": "code",
      "metadata": {},
      "execution_count": null,
      "source": "# arbitrarily set degree matrix to in-degree matrix\nD = D_in",
      "outputs": []
    },
    {
      "id": "34a3a44b",
      "cell_type": "code",
      "metadata": {},
      "execution_count": null,
      "source": "L = D - A",
      "outputs": []
    },
    {
      "id": "d2a2242a",
      "cell_type": "code",
      "metadata": {},
      "execution_count": null,
      "source": "from graspologic.utils import to_laplacian\nL_sym = to_laplacian(A, form=\"I-DAD\")",
      "outputs": []
    },
    {
      "id": "44c584c3",
      "cell_type": "code",
      "metadata": {},
      "execution_count": null,
      "source": "L_dad = to_laplacian(A, form=\"DAD\")",
      "outputs": []
    },
    {
      "id": "e0363ea7",
      "cell_type": "code",
      "metadata": {},
      "execution_count": null,
      "source": "tau = 1\nL_rdad = to_laplacian(A, form=\"R-DAD\", regularizer=tau)",
      "outputs": []
    },
    {
      "id": "e60df5f0",
      "cell_type": "code",
      "metadata": {},
      "execution_count": null,
      "source": "G_induced = G.subgraph([\"BK\", \"MH\", \"Q\", \"BX\"]).copy()\nnx.draw_networkx(G_induced, with_labels=True, node_color=\"black\", pos=pos,\n                 font_color=\"white\", edge_color=\"black\")",
      "outputs": []
    },
    {
      "id": "d080f548",
      "cell_type": "code",
      "metadata": {},
      "execution_count": null,
      "source": "G_withbos = deepcopy(G)\nG_withbos.add_node(\"BO\", pos=(8, 6))\nG_withbos.add_node(\"CA\", pos=(8, 8))\nG_withbos.add_edge(\"BO\", \"CA\")\n# fetch positions with boston and cambridge added\npos = nx.get_node_attributes(G_withbos, 'pos')\n# plot\nnx.draw_networkx(G_withbos, with_labels=True, node_color=\"black\", pos=pos,\n                font_color=\"white\", edge_color=\"black\")",
      "outputs": []
    },
    {
      "id": "be76f588",
      "cell_type": "code",
      "metadata": {},
      "execution_count": null,
      "source": "# returns a list of connected components, ordered \n# by decreasing size (#nodes)\ncc_withbos = nx.connected_components(G_withbos)\n# return the connected components, as networks\nCC_nets = [G_withbos.subgraph(cc).copy() for cc in cc_withbos]\n\n# plot the LCC\nnx.draw_networkx(CC_nets[0], with_labels=True, node_color=\"black\", pos=pos,\n                font_color=\"white\", edge_color=\"black\")",
      "outputs": []
    },
    {
      "id": "48576308",
      "cell_type": "code",
      "metadata": {},
      "execution_count": null,
      "source": "from graphbook_code import heatmap\nfrom matplotlib import pyplot as plt\nfrom graspologic.simulations import er_np\nimport networkx as nx\n\nn = 10\nA_bus = er_np(n, 0.6)\n\n# add pendants\nn_pend = 3\nA_bus = np.column_stack([np.row_stack([A_bus, np.zeros((n_pend, n))]), \n                         np.zeros((n + n_pend, n_pend))])\nn = n + n_pend\n\n# add pizza hut node\nn_pizza = 1\nA_bus = np.column_stack([np.row_stack([A_bus, np.ones((n_pizza, n))]), \n                         np.ones((n + n_pizza, n_pizza))])\nn = n + n_pizza\n\n# add isolates\nn_iso = 3\nA_bus = np.column_stack([np.row_stack([A_bus, np.zeros((n_iso, n))]), \n                         np.zeros((n + n_iso, n_iso))])\nA_bus = A_bus - np.diag(np.diag(A_bus))\nn = n + n_iso\n\n# as a heatmap\nnode_names = [i for i in range(0, n)]\nheatmap(A_bus.astype(int), title=\"Business Network Adjacency Matrix\", \n               xticklabels=node_names, yticklabels=node_names)\n               \n# as a layout plot\nG_bus = nx.from_numpy_array(A_bus)\nnode_pos = nx.shell_layout(G_bus)\n\nplt.figure()\nnx.draw(G_bus, pos=node_pos, node_color='white', edgecolors='black', with_labels=True, node_size=1500)",
      "outputs": []
    },
    {
      "id": "fffbd492",
      "cell_type": "code",
      "metadata": {},
      "execution_count": null,
      "source": "def compute_degrees(A):\n    # compute the degrees of the network A\n    # since A is undirected, we can just sum\n    # along an axis.\n    return A.sum(axis=1)\n\ndef prune_low_degree(A, return_inds=True, threshold=1):\n    # remove nodes which have a degree under a given\n    # threshold. For a simple network, threshold=0 removes isolates,\n    # and threshold=1 removes pendants\n    degrees = compute_degrees(A)\n    non_prunes = degrees > threshold\n    robj = A[np.where(non_prunes)[0],:][:,np.where(non_prunes)[0]]\n    if return_inds:\n        robj = (robj, np.where(non_prunes)[0])\n    return robj\n\nA_bus_lowpruned, nonpruned_nodes = prune_low_degree(A_bus)",
      "outputs": []
    },
    {
      "id": "844a281c",
      "cell_type": "code",
      "metadata": {},
      "execution_count": null,
      "source": "# relabel the nodes from 0:10 to their original identifier names\nnode_names_lowpruned = {i: nodeidx for i, nodeidx in enumerate(nonpruned_nodes)}\n\nG_bus_lowpruned = nx.from_numpy_array(A_bus_lowpruned)\nG_bus_lowpruned = nx.relabel_nodes(G_bus_lowpruned, node_names_lowpruned)\n\nnx.draw(G_bus_lowpruned, pos=node_pos, with_labels=True, node_color='white', edgecolors='black', node_size=1500)",
      "outputs": []
    },
    {
      "id": "0ce92633",
      "cell_type": "code",
      "metadata": {},
      "execution_count": null,
      "source": "degrees_before = compute_degrees(A_bus)\ndegrees_after = compute_degrees(A_bus_lowpruned)",
      "outputs": []
    },
    {
      "id": "ccbe9aec",
      "cell_type": "code",
      "metadata": {},
      "execution_count": null,
      "source": "from seaborn import histplot\nfig, axs = plt.subplots(1,2, figsize=(15, 4))\n\nax = histplot(degrees_before, ax=axs[0], binwidth=1, binrange=(0, 14))\nax.set_xlabel(\"Node degree\");\nax.set_ylabel(\"Number of Nodes\");\nax.set_title(\"Business Network, before pruning\");\nax = histplot(degrees_after, ax=axs[1], binwidth=1, binrange=(0, 14))\nax.set_xlabel(\"Node degree\");\nax.set_title(\"Business Network, after pruning\")",
      "outputs": []
    },
    {
      "id": "c34bf675",
      "cell_type": "code",
      "metadata": {},
      "execution_count": null,
      "source": "def prune_high_degree(A, return_inds=True, threshold=0):\n    # remove nodes which have a degree over a given\n    # threshold. For a simple network, threshold=A.shape[0] - 1\n    # removes any pizza hut node\n    degrees = compute_degrees(A)\n    non_prunes = degrees < threshold\n    robj = A[np.where(non_prunes)[0],:][:,np.where(non_prunes)[0]]\n    if return_inds:\n        robj = (robj, np.where(non_prunes)[0])\n    return robj\n\n# pruning nodes \nA_bus_pruned, highpruned_nodes = prune_high_degree(A_bus_lowpruned, threshold=A_bus_lowpruned.shape[0] - 1)\n\n# relabel the nodes from 0:9 to their original identifier names,\n# using the previous filters from node_names_lowpruned\nnode_names_highpruned = {i: node_names_lowpruned[lowpruned_idx] for \n                          i, lowpruned_idx in enumerate(highpruned_nodes)}\n\nG_bus_pruned = nx.from_numpy_array(A_bus_pruned)\nG_bus_pruned = nx.relabel_nodes(G_bus_pruned, node_names_highpruned)\nnx.draw(G_bus_pruned, pos=node_pos, with_labels=True, node_color='white', edgecolors='black', node_size=1500)",
      "outputs": []
    },
    {
      "id": "deb5eccd",
      "cell_type": "code",
      "metadata": {},
      "execution_count": null,
      "source": "from graspologic.simulations import sbm\nimport numpy as np\n\nwtargsa = [[dict(n=50, p=.09), dict(n=50, p=.02)],\n          [dict(n=50, p=.02), dict(n=50, p=.06)]]\n# activity network as upper triangle matrix\nA_activity_uppertri = sbm(n=[25, 25], p=[[1,1], [1,1]], wt=np.random.binomial, wtargs=wtargsa, loops=False, directed=False)\nA_activity_uppertri = np.triu(A_activity_uppertri)\n\n# friend network\nwtargsf = [[dict(a=4, b=2), dict(a=2, b=5)],\n          [dict(a=2, b=5), dict(a=6, b=2)]]\nA_friend = sbm(n=[25, 25], p=[[.8, .4], [.4, 1]], wt=np.random.beta, wtargs=wtargsf, directed=True)",
      "outputs": []
    },
    {
      "id": "5cd253c5",
      "cell_type": "code",
      "metadata": {},
      "execution_count": null,
      "source": "from graspologic.utils import symmetrize\n\n# upper-triangle symmetrize the upper triangle\nA_activity = symmetrize(A_activity_uppertri, method=\"triu\")",
      "outputs": []
    },
    {
      "id": "771c08ff",
      "cell_type": "code",
      "metadata": {},
      "execution_count": null,
      "source": "# symmetrize with averaging\nA_friend_avg_sym = symmetrize(A_friend, method=\"avg\")",
      "outputs": []
    },
    {
      "id": "934f4b01",
      "cell_type": "code",
      "metadata": {},
      "execution_count": null,
      "source": "from graspologic.utils import augment_diagonal\n\nA_friend_aug = augment_diagonal(A_friend)",
      "outputs": []
    },
    {
      "id": "66a6cd14",
      "cell_type": "code",
      "metadata": {},
      "execution_count": null,
      "source": "def discard_diagonal(A):\n    \"\"\"\n    A function that discards the diagonal of a matrix,\n    and returns its non-diagonal edge-weights.\n    \"\"\"\n    # create a mask that is True for the non-diagonal edges\n    non_diag_idx = np.where(~np.eye(A.shape[0], dtype=bool))\n    return A[non_diag_idx].flatten()\n    \n# obtain the non-diagonal edge-weights\nfriend_nondiag_ew = discard_diagonal(A_friend)\n# get the non-zero, non-diagonal edge weights\nfriend_nondiag_nz_ew = friend_nondiag_ew[friend_nondiag_ew > 0]\n\n# plot the histogram, as above\nhistplot(friend_nondiag_nz_ew, bins=20, binrange=(0, 1))",
      "outputs": []
    },
    {
      "id": "c0cb3433",
      "cell_type": "code",
      "metadata": {},
      "execution_count": null,
      "source": "def truncate_network(A, threshold):\n    A_cp = np.copy(A)\n    A_cp[A_cp <= threshold] = 0\n    return A_cp\n\ntau = 0.4\nA_friend_trunc = truncate_network(A_friend, threshold=tau)",
      "outputs": []
    },
    {
      "id": "5ed19cad",
      "cell_type": "code",
      "metadata": {},
      "execution_count": null,
      "source": "friend_trunc_nondiag_ew = discard_diagonal(A_friend_trunc)\n# get the non-zero, non-diagonal edge weights\nfriend_trunc_nondiag_nz_ew = friend_trunc_nondiag_ew[friend_trunc_nondiag_ew > 0]\nhistplot(friend_trunc_nondiag_nz_ew, bins=20, binrange=(0, 1))",
      "outputs": []
    },
    {
      "id": "1620d84a",
      "cell_type": "code",
      "metadata": {},
      "execution_count": null,
      "source": "# find the indices which are in the upper triangle and not in the diagonal\nupper_tri_non_diag_idx = np.where(np.triu(np.ones(A_activity.shape), k=1).astype(bool))\nq = 0.5  # desired percentile is 50, or a fraction of 0.5\nhistplot(A_activity[upper_tri_non_diag_idx].flatten())\n# use the quantile function with the desired fraction q\ntau = np.quantile(A_activity[upper_tri_non_diag_idx], q=q)",
      "outputs": []
    },
    {
      "id": "255462ce",
      "cell_type": "code",
      "metadata": {},
      "execution_count": null,
      "source": "n_lteq_tau = np.sum(A_activity[upper_tri_non_diag_idx] <= tau)\nn_gt_tau = np.sum(A_activity[upper_tri_non_diag_idx] > tau)\nprint(\"Number of edges less than or equal to tau: {}\".format(n_lteq_tau))\nprint(\"Number of edges greater than to tau: {}\".format(n_gt_tau))",
      "outputs": []
    },
    {
      "id": "01f3a075",
      "cell_type": "code",
      "metadata": {},
      "execution_count": null,
      "source": "from numpy import copy\n\ndef min_difference(arr):\n    b = np.diff(np.sort(arr))\n    return b[b>0].min()\n\ndef quantile_threshold_network(A, directed=False, loops=False, q=0.5):\n    # a function to threshold a network on the basis of the\n    # fraction q\n    A_cp = np.copy(A)\n    n = A.shape[0]\n    E = np.random.uniform(low=0, high=min_difference(A)/10, size=(n, n))\n    if not directed:\n        # make E symmetric\n        E = (E + E.transpose())/2\n    mask = np.ones((n, n))\n    if not loops:\n        # remove diagonal from E\n        E = E - np.diag(np.diag(E))\n        # exclude diagonal from the mask\n        mask = mask - np.diag(np.diag(mask))\n    Ap = A_cp + E\n    tau = np.quantile(Ap[np.where(mask)].flatten(), q=q)\n    A_cp[Ap <= tau] = 0; A_cp[Ap > tau] = 1\n    return A_cp\n\nA_activity_thresholded03 = quantile_threshold_network(A_activity, q=0.3)\nA_activity_thresholded07 = quantile_threshold_network(A_activity, q=0.7)",
      "outputs": []
    },
    {
      "id": "d5de80f7",
      "cell_type": "code",
      "metadata": {},
      "execution_count": null,
      "source": "from graspologic.utils import is_unweighted, is_loopless, is_symmetric\n\ndef simple_network_dens(X):\n    # make sure the network is simple\n    if (not is_unweighted(X)) or (not is_loopless(X)) or (not is_symmetric(X)):\n        raise TypeError(\"Network is not simple!\")\n    # count the non-zero entries in the upper-right triangle\n    # for a simple network X\n    nnz = np.triu(X, k=1).sum()\n    # number of nodes\n    n = X.shape[0]\n    # number of possible edges is 1/2*n*(n-1)\n    poss_edges = 0.5*n*(n-1)\n    return nnz/poss_edges\n\nprint(\"Network Density: {:.3f}\".format(simple_network_dens(A_activity_thresholded03)))\n# Network Density: 0.700",
      "outputs": []
    },
    {
      "id": "c29a2b50",
      "cell_type": "code",
      "metadata": {},
      "execution_count": null,
      "source": "from graspologic.utils import is_loopless, is_symmetric\nfrom scipy.stats import zscore\n\ndef z_score_directed_loopless(X, undirected=False):\n    if not is_loopless(X):\n        raise TypeError(\"The network has loops!\")\n    if is_symmetric(X):\n        raise TypeError(\"The network is undirected!\")\n    # the entries of the adjacency matrix that are not on the diagonal\n    non_diag_idx = np.where(~np.eye(X.shape[0], dtype=bool))\n    Z = np.zeros(X.shape)\n    Z[non_diag_idx] = zscore(X[non_diag_idx])\n    return Z\n\nZA_friend = z_score_directed_loopless(A_friend)",
      "outputs": []
    },
    {
      "id": "af029981",
      "cell_type": "code",
      "metadata": {},
      "execution_count": null,
      "source": "from graspologic.utils import pass_to_ranks\n\nRA_friend = pass_to_ranks(A_friend)",
      "outputs": []
    },
    {
      "id": "540dc9df",
      "cell_type": "code",
      "metadata": {},
      "execution_count": null,
      "source": "RA_friend_zb = pass_to_ranks(A_friend, method=\"zero-boost\")",
      "outputs": []
    },
    {
      "id": "3fc29042",
      "cell_type": "code",
      "metadata": {},
      "execution_count": null,
      "source": "def augment_zeros(X, base=10):\n    if np.any(X < 0):\n        raise TypeError(\"The logarithm is not defined for negative values!\")\n    am = np.min(X[np.where(X > 0)])  # the smallest non-zero entry of X\n    eps = am/base  # epsilon is one order of magnitude smaller than the smallest non-zero entry\n    return X + eps  # augment all entries of X by epsilon\n\ndef log_transform(X, base=10):\n    \"\"\"\n    A function to log transform an adjacency matrix X, which may\n    have zero-weight edges.\n    \"\"\"\n    X_aug = augment_zeros(X, base=base)\n    return np.log(X_aug)/np.log(base)\n\nA_activity_log = log_transform(A_activity)",
      "outputs": []
    }
  ]
}