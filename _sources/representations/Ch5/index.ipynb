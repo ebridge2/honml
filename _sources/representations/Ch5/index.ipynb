{
 "cells": [
  {
   "cell_type": "markdown",
   "id": "70a74ffe-a834-460f-954c-a1d3cf166b1e",
   "metadata": {},
   "source": [
    "(ch5)=\n",
    "# 5: Learning Network Representations\n",
    "\n",
    "+ {ref}`ch5:mle`\n",
    "+ {ref}`ch5:why-embed`\n",
    "+ {ref}`ch5:ase`\n",
    "+ {ref}`ch5:lse`\n",
    "+ {ref}`ch5:multigraph`\n",
    "+ {ref}`ch5:jointrep`\n",
    "+ {ref}`ch5:dimest`"
   ]
  }
 ],
 "metadata": {
  "kernelspec": {
   "display_name": "Python 3 (ipykernel)",
   "language": "python",
   "name": "python3"
  },
  "language_info": {
   "codemirror_mode": {
    "name": "ipython",
    "version": 3
   },
   "file_extension": ".py",
   "mimetype": "text/x-python",
   "name": "python",
   "nbconvert_exporter": "python",
   "pygments_lexer": "ipython3",
   "version": "3.9.13"
  }
 },
 "nbformat": 4,
 "nbformat_minor": 5
}
