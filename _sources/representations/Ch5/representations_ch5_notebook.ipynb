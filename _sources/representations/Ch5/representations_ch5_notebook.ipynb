{
 "cells": [
  {
   "cell_type": "markdown",
   "id": "12ca1da2-27bd-4546-8a1f-a70c08ab363b",
   "metadata": {},
   "source": [
    "(ch5:code_repr)=\n",
    "# Code Reproducibility: Chapter 5"
   ]
  },
  {
   "cell_type": "code",
   "execution_count": null,
   "id": "a4a86033-24a6-42b1-a7ca-9ac265bf9b72",
   "metadata": {},
   "outputs": [],
   "source": [
    "from graspologic.simulations import er_np\n",
    "import numpy as np\n",
    "\n",
    "p = 0.3\n",
    "A = er_np(n=50, p=p)"
   ]
  },
  {
   "cell_type": "code",
   "execution_count": null,
   "id": "6fa379c8",
   "metadata": {},
   "outputs": [],
   "source": [
    "from graspologic.models import EREstimator\n",
    "\n",
    "model = EREstimator(directed=False, loops=False)\n",
    "model.fit(A)\n",
    "# obtain the estimate from the fit model\n",
    "phat = model.p_"
   ]
  },
  {
   "cell_type": "code",
   "execution_count": null,
   "id": "64b47cd3",
   "metadata": {},
   "outputs": [],
   "source": [
    "print(\"Difference between phat and p: {:.3f}\".format(phat - p))"
   ]
  },
  {
   "cell_type": "code",
   "execution_count": null,
   "id": "58a9caa5",
   "metadata": {},
   "outputs": [],
   "source": [
    "from graspologic.simulations import sbm\n",
    "\n",
    "n = [50, 50]\n",
    "B = np.array([[0.6, 0.1], \n",
    "              [0.1, 0.4]])\n",
    "\n",
    "A, z = sbm(n=n, p=B, return_labels=True)"
   ]
  },
  {
   "cell_type": "code",
   "execution_count": null,
   "id": "255bfbb1",
   "metadata": {},
   "outputs": [],
   "source": [
    "from graspologic.models import SBMEstimator\n",
    "from graphbook_code import heatmap\n",
    "\n",
    "model = SBMEstimator(directed=False, loops=False)\n",
    "model.fit(A, y=z)\n",
    "Bhat = model.block_p_\n",
    "\n",
    "# plot the block matrix vs estimate\n",
    "heatmap(B, title=\"$B$ true block matrix\", vmin=0, vmax=1, annot=True)\n",
    "heatmap(Bhat, title=\"$\\hat B$ estimate of block matrix\", vmin=0, vmax=1, annot=True)\n",
    "heatmap(np.abs(Bhat - B), title=\"$|\\hat B - B|$\", vmin=0, vmax=1, annot=True)"
   ]
  },
  {
   "cell_type": "code",
   "execution_count": null,
   "id": "ee5820df",
   "metadata": {},
   "outputs": [],
   "source": [
    "from graspologic.simulations import sbm\n",
    "from graphbook_code import generate_sbm_pmtx, lpm_from_sbm\n",
    "import numpy as np\n",
    "\n",
    "n = 100\n",
    "# construct the block matrix B as described above\n",
    "B = np.array([[0.6, 0.1], \n",
    "              [0.1, 0.4]])\n",
    "\n",
    "# sample a graph from SBM_{100}(tau, B)\n",
    "np.random.seed(0)\n",
    "A, zs = sbm(n=[n//2, n//2], p=B, return_labels=True)\n",
    "\n",
    "X = lpm_from_sbm(zs, B)\n",
    "P = generate_sbm_pmtx(zs, B)"
   ]
  },
  {
   "cell_type": "code",
   "execution_count": null,
   "id": "68984560",
   "metadata": {},
   "outputs": [],
   "source": [
    "from graspologic.embed import AdjacencySpectralEmbed as ase\n",
    "\n",
    "d = 2  # the latent dimensionality\n",
    "# estimate the latent position matrix with ase\n",
    "Xhat = ase(n_components=d, svd_seed=0).fit_transform(A)"
   ]
  },
  {
   "cell_type": "code",
   "execution_count": null,
   "id": "31d50795",
   "metadata": {},
   "outputs": [],
   "source": [
    "Phat = Xhat @ Xhat.transpose()"
   ]
  },
  {
   "cell_type": "code",
   "execution_count": null,
   "id": "53253543",
   "metadata": {},
   "outputs": [],
   "source": [
    "vtx_perm = np.random.choice(n, size=n, replace=False)\n",
    "\n",
    "# reorder the adjacency matrix\n",
    "Aperm = A[tuple([vtx_perm])] [:,vtx_perm]\n",
    "# reorder the community assignment vector\n",
    "zperm = np.array(zs)[vtx_perm]\n",
    "\n",
    "# compute the estimated latent positions using the\n",
    "# permuted adjacency matrix\n",
    "Xhat_perm = ase(n_components=2).fit_transform(Aperm)"
   ]
  },
  {
   "cell_type": "code",
   "execution_count": null,
   "id": "7a369cbf",
   "metadata": {},
   "outputs": [],
   "source": [
    "from graspologic.plot import pairplot\n",
    "\n",
    "pairplot(Xhat, title=r\"Pairs plot of $\\\\hat X$\")"
   ]
  },
  {
   "cell_type": "code",
   "execution_count": null,
   "id": "d9f978c1",
   "metadata": {},
   "outputs": [],
   "source": [
    "fig = pairplot(Xhat_perm, labels=zperm, legend_name = \"Community\",\n",
    "             title=\"Pairs plot of $\\\\widehat X$ with community annotation\",\n",
    "             dig_kind=\"hist\")"
   ]
  },
  {
   "cell_type": "code",
   "execution_count": null,
   "id": "ea9a7f8e",
   "metadata": {},
   "outputs": [],
   "source": [
    "from scipy.spatial import distance_matrix\n",
    "\n",
    "D = distance_matrix(Xhat, Xhat)"
   ]
  },
  {
   "cell_type": "code",
   "execution_count": null,
   "id": "eff9c4a5",
   "metadata": {},
   "outputs": [],
   "source": [
    "import numpy as np\n",
    "from graphbook_code import dcsbm\n",
    "\n",
    "nk = 150\n",
    "z = np.repeat([1,2], nk)\n",
    "B = np.array([[0.6, 0.2], [0.2, 0.4]])\n",
    "theta = np.tile(6**np.linspace(0, -1, nk), 2)\n",
    "np.random.seed(0)\n",
    "A, P = dcsbm(z, theta, B, return_prob=True)"
   ]
  },
  {
   "cell_type": "code",
   "execution_count": null,
   "id": "ed4517f9",
   "metadata": {},
   "outputs": [],
   "source": [
    "from graspologic.embed import AdjacencySpectralEmbed as ase\n",
    "from scipy.spatial import distance_matrix\n",
    "\n",
    "d = 2  # the latent dimensionality\n",
    "# estimate the latent position matrix with ase\n",
    "Xhat = ase(n_components=d, svd_seed=0).fit_transform(A)\n",
    "# compute the distance matrix\n",
    "D = distance_matrix(Xhat, Xhat)"
   ]
  },
  {
   "cell_type": "code",
   "execution_count": null,
   "id": "c2b74578",
   "metadata": {},
   "outputs": [],
   "source": [
    "Xhat_rescaled = Xhat / theta[:,None]\n",
    "D_rescaled = distance_matrix(Xhat_rescaled, Xhat_rescaled)"
   ]
  },
  {
   "cell_type": "code",
   "execution_count": null,
   "id": "15e4a203",
   "metadata": {},
   "outputs": [],
   "source": [
    "from graspologic.embed import LaplacianSpectralEmbed as lse\n",
    "\n",
    "d = 2  # embed into two dimensions\n",
    "Xhat_lapl = lse(n_components=d, svd_seed=0).fit_transform(A)\n",
    "D_lapl = distance_matrix(Xhat_lapl, Xhat_lapl)"
   ]
  },
  {
   "cell_type": "code",
   "execution_count": null,
   "id": "bcced886",
   "metadata": {},
   "outputs": [],
   "source": [
    "import seaborn as sns\n",
    "import pandas as pd\n",
    "\n",
    "# compute the degrees for each node, using the\n",
    "# row-sums of the network\n",
    "degrees = A.sum(axis = 0)\n",
    "\n",
    "# plot the degree histogram\n",
    "df = pd.DataFrame({\"Node degree\" : degrees, \"Community\": z})\n",
    "sns.histplot(data=df, x=\"Node degree\", bins=20, color=\"black\")"
   ]
  },
  {
   "cell_type": "code",
   "execution_count": null,
   "id": "4f41f3e8",
   "metadata": {},
   "outputs": [],
   "source": [
    "Asbm = sbm([nk, nk], B)\n",
    "\n",
    "# row-sums of the network\n",
    "degrees_sbm = Asbm.sum(axis = 0)"
   ]
  },
  {
   "cell_type": "code",
   "execution_count": null,
   "id": "f9aab2c8",
   "metadata": {},
   "outputs": [],
   "source": [
    "from graspologic.simulations import sbm\n",
    "import numpy as np\n",
    "from sklearn.preprocessing import LabelEncoder\n",
    "\n",
    "n = 100  # the number of nodes\n",
    "M = 8  # the total number of networks\n",
    "# human brains have homophilic block structure\n",
    "Bhuman = np.array([[0.2, 0.02], [0.02, 0.2]])\n",
    "# alien brains have a core-periphery block structure\n",
    "Balien = np.array([[0.4, 0.2], [0.2, 0.1]])\n",
    "\n",
    "# set seed for reproducibility\n",
    "np.random.seed(0)\n",
    "\n",
    "# generate 4 human and 4 alien brain networks\n",
    "A_humans = [sbm([n // 2, n // 2], Bhuman) for i in range(M // 2)]\n",
    "A_aliens = [sbm([n // 2, n // 2], Balien) for i in range(M // 2)]\n",
    "# concatenate list of human and alien networks\n",
    "networks = A_humans + A_aliens\n",
    "\n",
    "# 1 = left hemisphere, 2 = right hemisphere for node communities\n",
    "le = LabelEncoder()\n",
    "labels = np.repeat([\"L\", \"R\"], n//2)\n",
    "zs = le.fit_transform(labels) + 1"
   ]
  },
  {
   "cell_type": "code",
   "execution_count": null,
   "id": "665b4759",
   "metadata": {},
   "outputs": [],
   "source": [
    "from graspologic.embed import AdjacencySpectralEmbed as ase\n",
    "\n",
    "# embed the first network\n",
    "Xhat = ase(n_components=2, svd_seed=0).fit_transform(A_humans[0])"
   ]
  },
  {
   "cell_type": "code",
   "execution_count": null,
   "id": "1ae6fe90",
   "metadata": {},
   "outputs": [],
   "source": [
    "# a rotation by 90 degrees\n",
    "W = np.array([[0, -1], [1, 0]])\n",
    "Yhat = Xhat @ W"
   ]
  },
  {
   "cell_type": "code",
   "execution_count": null,
   "id": "f9b3aa1d",
   "metadata": {},
   "outputs": [],
   "source": [
    "# check that probability matrix is the same\n",
    "np.allclose(Yhat @ Yhat.transpose(), Xhat @ Xhat.transpose())\n",
    "# returns True"
   ]
  },
  {
   "cell_type": "code",
   "execution_count": null,
   "id": "81a42190",
   "metadata": {},
   "outputs": [],
   "source": [
    "# a reflection across first latent dimension\n",
    "Wp = np.array([[-1, 0], [0, 1]])\n",
    "Zhat = Xhat @ Wp\n",
    "# check that the probability matrix is the same\n",
    "# check that probability matrix is the same\n",
    "np.allclose(Zhat @ Zhat.transpose(), Xhat @ Xhat.transpose())\n",
    "# returns True"
   ]
  },
  {
   "cell_type": "code",
   "execution_count": null,
   "id": "a8525b17",
   "metadata": {},
   "outputs": [],
   "source": [
    "# embed the third human network\n",
    "Xhat3 = ase(n_components=2, svd_seed=0).fit_transform(A_humans[3])"
   ]
  },
  {
   "cell_type": "code",
   "execution_count": null,
   "id": "b564fe87",
   "metadata": {},
   "outputs": [],
   "source": [
    "# embed the first alien network\n",
    "Xhat_alien = ase(n_components=2, svd_seed=0).fit_transform(A_aliens[0])\n",
    "\n",
    "# compute frob norm between first human and third human net\n",
    "# estimated latent positions\n",
    "dist_firsthum_thirdhum = np.linalg.norm(Xhat - Xhat3, ord=\"fro\")\n",
    "print(\"Frob. norm(first human, third human) = {:3f}\".format(dist_firsthum_thirdhum))\n",
    "# Frob. norm(first human, third human) = 8.798482\n",
    "\n",
    "# compute frob norm between first human and first alien net\n",
    "# estimated latent positions\n",
    "dist_firsthum_alien = np.linalg.norm(Xhat - Xhat_alien, ord=\"fro\")\n",
    "print(\"Frob. norm(first human, alien) = {:3f}\".format(dist_firsthum_alien))\n",
    "# Frob. norm(first human, alien) = 5.991560"
   ]
  },
  {
   "cell_type": "code",
   "execution_count": null,
   "id": "3ac0bfb2",
   "metadata": {},
   "outputs": [],
   "source": [
    "from graspologic.embed import MultipleASE as mase\n",
    "\n",
    "# Use mase to embed everything\n",
    "mase = mase(n_components=2, svd_seed=0)\n",
    "# fit_transform on the human and alien networks simultaneously\n",
    "latents_mase = mase.fit_transform(networks)"
   ]
  },
  {
   "cell_type": "code",
   "execution_count": null,
   "id": "d6aab409",
   "metadata": {},
   "outputs": [],
   "source": [
    "from graspologic.embed import AdjacencySpectralEmbed as ase\n",
    "\n",
    "dhat = int(np.ceil(np.log2(n)))\n",
    "# spectrally embed each network into ceil(log2(n)) dimensions with ASE\n",
    "separate_embeddings = [ase(n_components=dhat, svd_seed=0).fit_transform(network) for network in networks]"
   ]
  },
  {
   "cell_type": "code",
   "execution_count": null,
   "id": "8c675d03",
   "metadata": {},
   "outputs": [],
   "source": [
    "# Concatenate the embeddings horizontally into a single n x Md matrix\n",
    "joint_matrix = np.hstack(separate_embeddings)"
   ]
  },
  {
   "cell_type": "code",
   "execution_count": null,
   "id": "bed011e7",
   "metadata": {},
   "outputs": [],
   "source": [
    "def unscaled_embed(X, d, seed=0):\n",
    "    np.random.seed(seed)\n",
    "    U, s, Vt = np.linalg.svd(X)\n",
    "    return U[:,0:d]\n",
    "\n",
    "Shat = unscaled_embed(joint_matrix, 2)"
   ]
  },
  {
   "cell_type": "code",
   "execution_count": null,
   "id": "3f99952d",
   "metadata": {},
   "outputs": [],
   "source": [
    "# stack the networks into a numpy array\n",
    "As_ar = np.asarray(networks)\n",
    "# compute the scores\n",
    "scores = Shat.T @ As_ar @ Shat"
   ]
  },
  {
   "cell_type": "code",
   "execution_count": null,
   "id": "b4c19963",
   "metadata": {},
   "outputs": [],
   "source": [
    "from graphbook_code import generate_sbm_pmtx\n",
    "\n",
    "Phum = generate_sbm_pmtx(zs, Bhuman)\n",
    "Palien = generate_sbm_pmtx(zs, Balien)\n",
    "Pests = Shat @ scores @ Shat.T"
   ]
  },
  {
   "cell_type": "code",
   "execution_count": null,
   "id": "3c90d9bf",
   "metadata": {},
   "outputs": [],
   "source": [
    "from graspologic.embed import MultipleASE as mase\n",
    "\n",
    "d = 2\n",
    "mase_embedder = mase(n_components=d)\n",
    "# obtain an estimate of the shared latent positions\n",
    "Shat = mase_embedder.fit_transform(networks)\n",
    "# obtain an estimate of the scores\n",
    "Rhat_hum1 = mase_embedder.scores_[0]\n",
    "# obtain an estimate of the probability matrix for the first human\n",
    "Phat_hum1 = Shat @ mase_embedder.scores_[0] @ Shat.T"
   ]
  },
  {
   "cell_type": "code",
   "execution_count": null,
   "id": "4d4dd9b2",
   "metadata": {},
   "outputs": [],
   "source": [
    "omni_ex = np.block(\n",
    "    [[networks[0], (networks[0]+networks[1])/2],\n",
    "     [(networks[1]+networks[0])/2, networks[1]]]\n",
    ")"
   ]
  },
  {
   "cell_type": "code",
   "execution_count": null,
   "id": "5cb26c49",
   "metadata": {},
   "outputs": [],
   "source": [
    "from graspologic.embed.omni import _get_omni_matrix\n",
    "omni_mtx = _get_omni_matrix(networks)"
   ]
  },
  {
   "cell_type": "code",
   "execution_count": null,
   "id": "1f47c4bd",
   "metadata": {},
   "outputs": [],
   "source": [
    "from graspologic.embed import AdjacencySpectralEmbed as ase\n",
    "\n",
    "dhat = int(np.ceil(np.log2(n)))\n",
    "Xhat_omni = ase(n_components=dhat, svd_seed=0).fit_transform(omni_mtx)"
   ]
  },
  {
   "cell_type": "code",
   "execution_count": null,
   "id": "c662a562",
   "metadata": {},
   "outputs": [],
   "source": [
    "M = len(networks)\n",
    "n = len(networks[0])\n",
    "\n",
    "# obtain an M x n x d tensor\n",
    "Xhat_tensor = Xhat_omni.reshape(M, n, -1)\n",
    "# the estimated latent positions for the first network\n",
    "Xhat_human1 = Xhat_tensor[0,:,:]"
   ]
  },
  {
   "cell_type": "code",
   "execution_count": null,
   "id": "c1f72e83",
   "metadata": {},
   "outputs": [],
   "source": [
    "from graspologic.embed import OmnibusEmbed as omni\n",
    "\n",
    "# obtain a tensor of the estimated latent positions\n",
    "Xhat_tensor = omni(n_components=int(np.log2(n)), svd_seed=0).fit_transform(networks)\n",
    "# obtain the estimated latent positions for the first human\n",
    "# network\n",
    "Xhat_human1 = Xhat_tensor[0,:,:]"
   ]
  },
  {
   "cell_type": "code",
   "execution_count": null,
   "id": "5bcdb4f4",
   "metadata": {},
   "outputs": [],
   "source": [
    "Phat_hum1 = Xhat_human1 @ Xhat_human1.T"
   ]
  },
  {
   "cell_type": "code",
   "execution_count": null,
   "id": "24d992f8",
   "metadata": {},
   "outputs": [],
   "source": [
    "from graspologic.simulations import sbm\n",
    "import numpy as np\n",
    "\n",
    "n = 200  # total number of nodes\n",
    "# first two communities are the ``core'' pages for statistics\n",
    "# and computer science, and second two are the ``peripheral'' pages\n",
    "# for statistics and computer science.\n",
    "B = np.array([[.4, .3, .05, .05],\n",
    "              [.3, .4, .05, .05],\n",
    "              [.05, .05, .05, .02],\n",
    "              [.05, .05, .02, .05]])\n",
    "\n",
    "# make the stochastic block model\n",
    "np.random.seed(0)\n",
    "A, labels = sbm([n // 4, n // 4, n // 4, n // 4], B, return_labels=True)\n",
    "# generate labels for core/periphery\n",
    "co_per_labels = np.repeat([\"Core\", \"Periphery\"], repeats=n//2)\n",
    "# generate labels for statistics/CS.\n",
    "st_cs_labels = np.repeat([\"Stat\", \"CS\", \"Stat\", \"CS\"], repeats=n//4)"
   ]
  },
  {
   "cell_type": "code",
   "execution_count": null,
   "id": "343483a6",
   "metadata": {},
   "outputs": [],
   "source": [
    "trial = []\n",
    "for label in st_cs_labels:\n",
    "    if \"Stat\" in label:\n",
    "        # if the page is a statistics page, there is a 50% chance\n",
    "        # of citing each of the scholars\n",
    "        trial.append(np.random.binomial(1, 0.5, size=20))\n",
    "    else:\n",
    "        # if the page is a CS page, there is a 5% chance of citing\n",
    "        # each of the scholars\n",
    "        trial.append(np.random.binomial(1, 0.05, size=20))\n",
    "Y = np.vstack(trial)"
   ]
  },
  {
   "cell_type": "code",
   "execution_count": null,
   "id": "c2a4c96f",
   "metadata": {},
   "outputs": [],
   "source": [
    "def embed(X, d=2, seed=0):\n",
    "    \"\"\"\n",
    "    A function to embed a matrix.\n",
    "    \"\"\"\n",
    "    np.random.seed(seed)\n",
    "    Lambda, V = np.linalg.eig(X)\n",
    "    return V[:, 0:d] @ np.diag(np.sqrt(np.abs(Lambda[0:d])))\n",
    "\n",
    "def pca(X, d=2, seed=0):\n",
    "    \"\"\"\n",
    "    A function to perform a pca on a data matrix.\n",
    "    \"\"\"\n",
    "    X_centered = X - np.mean(X, axis=0)\n",
    "    return embed(X_centered @ X_centered.T, d=d, seed=seed)\n",
    "\n",
    "Y_embedded = pca(Y, d=2)"
   ]
  },
  {
   "cell_type": "code",
   "execution_count": null,
   "id": "660fbeb2",
   "metadata": {},
   "outputs": [],
   "source": [
    "from graspologic.utils import to_laplacian\n",
    "\n",
    "# compute the network Laplacian\n",
    "L_wiki = to_laplacian(A, form=\"DAD\")\n",
    "# log transform, strictly for visualization purposes\n",
    "L_wiki_logxfm = np.log(L_wiki + np.min(L_wiki[L_wiki > 0])/np.exp(1))\n",
    "\n",
    "# compute the node similarity matrix\n",
    "Y_sim = Y @ Y.T"
   ]
  },
  {
   "cell_type": "code",
   "execution_count": null,
   "id": "a376e04e",
   "metadata": {},
   "outputs": [],
   "source": [
    "from graspologic.embed import AdjacencySpectralEmbed as ase\n",
    "\n",
    "def case(A, Y, weight=0, d=2, tau=0, seed=0):\n",
    "    \"\"\"\n",
    "    A function for performing case.\n",
    "    \"\"\"\n",
    "    # compute the laplacian\n",
    "    L = to_laplacian(A, form=\"R-DAD\", regularizer=tau)\n",
    "    YYt = Y @ Y.T\n",
    "    return ase(n_components=2, svd_seed=seed).fit_transform(L + weight*YYt)\n",
    "\n",
    "embedded = case(A, Y, weight=.002)"
   ]
  },
  {
   "cell_type": "code",
   "execution_count": null,
   "id": "8ce4fea0",
   "metadata": {},
   "outputs": [],
   "source": [
    "from graspologic.embed import CovariateAssistedEmbed as case\n",
    "\n",
    "embedding = case(alpha=None, n_components=2).fit_transform(A, covariates=Y)"
   ]
  },
  {
   "cell_type": "code",
   "execution_count": null,
   "id": "993a0faf",
   "metadata": {},
   "outputs": [],
   "source": [
    "embedding = case(assortative=False, n_components=2).fit_transform(A, covariates=Y)"
   ]
  },
  {
   "cell_type": "code",
   "execution_count": null,
   "id": "2ebc904c",
   "metadata": {},
   "outputs": [],
   "source": [
    "from graspologic.simulations import sbm\n",
    "import numpy as np\n",
    "\n",
    "# block matrix\n",
    "n = 100\n",
    "B = np.array([[0.6, 0.2], [0.2, 0.4]])\n",
    "# network sample\n",
    "np.random.seed(0)\n",
    "A, z = sbm([n // 2, n // 2], B, return_labels=True)"
   ]
  },
  {
   "cell_type": "code",
   "execution_count": null,
   "id": "17fd505b",
   "metadata": {},
   "outputs": [],
   "source": [
    "from scipy.linalg import svdvals\n",
    "\n",
    "# use scipy to obtain the singular values\n",
    "s = svdvals(A)"
   ]
  },
  {
   "cell_type": "code",
   "execution_count": null,
   "id": "37b3f529",
   "metadata": {},
   "outputs": [],
   "source": [
    "from pandas import DataFrame\n",
    "import seaborn as sns\n",
    "import matplotlib.pyplot as plt\n",
    "\n",
    "\n",
    "def plot_scree(svs, title=\"\", ax=None):\n",
    "    \"\"\"\n",
    "    A utility to plot the scree plot for a list of singular values\n",
    "    svs.\n",
    "    \"\"\"\n",
    "    if ax is None:\n",
    "        fig, ax = plt.subplots(1,1, figsize=(10, 4))\n",
    "    sv_dat = DataFrame({\"Singular Value\": svs, \"Dimension\": range(1, len(svs) + 1)})\n",
    "    sns.scatterplot(data=sv_dat, x=\"Dimension\", y=\"Singular Value\", ax=ax)\n",
    "    sns.lineplot(data=sv_dat, x=\"Dimension\", y=\"Singular Value\", ax=ax)\n",
    "    ax.set_xlim([0.5, len(s)])\n",
    "    ax.set_title(title)\n",
    "\n",
    "plot_scree(s, title=\"Scree plot of $L$\")"
   ]
  },
  {
   "cell_type": "code",
   "execution_count": null,
   "id": "cc4eaa60",
   "metadata": {},
   "outputs": [],
   "source": [
    "from graspologic.embed import AdjacencySpectralEmbed as ase\n",
    "\n",
    "# use automatic elbow selection\n",
    "Xhat_auto = ase(svd_seed=0).fit_transform(A)"
   ]
  },
  {
   "cell_type": "code",
   "execution_count": null,
   "id": "b774b8e0",
   "metadata": {},
   "outputs": [],
   "source": [
    "from graspologic.embed import AdjacencySpectralEmbed as ase\n",
    "from scipy.spatial import distance_matrix\n",
    "\n",
    "nk = 50  # the number of nodes in each community\n",
    "B_indef = np.array([[.1, .5], [.5, .2]])\n",
    "np.random.seed(0)\n",
    "A_dis, z = sbm([nk, nk], B_indef, return_labels=True)\n",
    "Xhat = ase(n_components=2, svd_seed=0).fit_transform(A_dis)\n",
    "D = distance_matrix(Xhat, Xhat)"
   ]
  }
 ],
 "metadata": {
  "kernelspec": {
   "display_name": "Python 3 (ipykernel)",
   "language": "python",
   "name": "python3"
  },
  "language_info": {
   "codemirror_mode": {
    "name": "ipython",
    "version": 3
   },
   "file_extension": ".py",
   "mimetype": "text/x-python",
   "name": "python",
   "nbconvert_exporter": "python",
   "pygments_lexer": "ipython3",
   "version": "3.9.13"
  }
 },
 "nbformat": 4,
 "nbformat_minor": 5
}
