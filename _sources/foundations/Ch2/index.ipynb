{
 "cells": [
  {
   "cell_type": "markdown",
   "id": "ab5bf5c6-9741-4b27-946a-e510b51562a2",
   "metadata": {},
   "source": [
    "(ch2)=\n",
    "# End-to-end Biology Network Machine Learning Project\n",
    "\n",
    "+ Section 2: {ref}`ch2:get`\n",
    "+ Section 3: {ref}`ch2:prepare`\n",
    "+ Section 4: {ref}`ch2:select`\n",
    "+ Section 5 + 6: {ref}`ch2:finetune`"
   ]
  },
  {
   "cell_type": "code",
   "execution_count": null,
   "id": "14446b9e-2827-4562-aef6-7090ad91e014",
   "metadata": {},
   "outputs": [],
   "source": []
  }
 ],
 "metadata": {
  "kernelspec": {
   "display_name": "Python 3 (ipykernel)",
   "language": "python",
   "name": "python3"
  },
  "language_info": {
   "codemirror_mode": {
    "name": "ipython",
    "version": 3
   },
   "file_extension": ".py",
   "mimetype": "text/x-python",
   "name": "python",
   "nbconvert_exporter": "python",
   "pygments_lexer": "ipython3",
   "version": "3.9.13"
  }
 },
 "nbformat": 4,
 "nbformat_minor": 5
}
