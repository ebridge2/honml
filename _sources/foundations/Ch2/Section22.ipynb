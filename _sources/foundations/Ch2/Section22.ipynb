{
 "cells": [
  {
   "cell_type": "markdown",
   "id": "abce5278-c992-4d8a-afa3-3376cef08751",
   "metadata": {},
   "source": [
    "(ch2:get)=\n",
    "# Get the Data"
   ]
  },
  {
   "cell_type": "code",
   "execution_count": null,
   "id": "f8e57b34-572f-47b9-a8d7-ce901b76de8d",
   "metadata": {},
   "outputs": [],
   "source": [
    "mode = \"svg\"  # output format for figs\n",
    "\n",
    "import matplotlib\n",
    "\n",
    "font = {'family' : 'Dejavu Sans',\n",
    "        'weight' : 'normal',\n",
    "        'size'   : 20}\n",
    "\n",
    "matplotlib.rc('font', **font)\n",
    "\n",
    "import matplotlib\n",
    "from matplotlib import pyplot as plt"
   ]
  },
  {
   "cell_type": "code",
   "execution_count": null,
   "id": "f4f51139-dbe5-460f-b2c0-af03ce64dd32",
   "metadata": {},
   "outputs": [],
   "source": [
    "import os\n",
    "import urllib\n",
    "import boto3\n",
    "from botocore import UNSIGNED\n",
    "from botocore.client import Config\n",
    "from graspologic.utils import import_edgelist\n",
    "import numpy as np\n",
    "import glob\n",
    "from tqdm import tqdm\n",
    "\n",
    "# the AWS bucket the data is stored in\n",
    "BUCKET_ROOT = \"open-neurodata\"\n",
    "parcellation = \"Schaefer400\"\n",
    "FMRI_PREFIX = \"m2g/Functional/BNU1-11-12-20-m2g-func/Connectomes/\" + parcellation + \"_space-MNI152NLin6_res-2x2x2.nii.gz/\"\n",
    "FMRI_PATH = os.path.join(\"datasets\", \"fmri\")  # the output folder\n",
    "DS_KEY = \"abs_edgelist\"  # correlation matrices for the networks to exclude\n",
    "\n",
    "def fetch_fmri_data(bucket=BUCKET_ROOT, fmri_prefix=FMRI_PREFIX,\n",
    "                    output=FMRI_PATH, name=DS_KEY):\n",
    "    \"\"\"\n",
    "    A function to fetch fMRI connectomes from AWS S3.\n",
    "    \"\"\"\n",
    "    # check that output directory exists\n",
    "    if not os.path.isdir(FMRI_PATH):\n",
    "        os.makedirs(FMRI_PATH)\n",
    "    # start boto3 session anonymously\n",
    "    s3 = boto3.client('s3', config=Config(signature_version=UNSIGNED))\n",
    "    # obtain the filenames\n",
    "    bucket_conts = s3.list_objects(Bucket=bucket, \n",
    "                    Prefix=fmri_prefix)[\"Contents\"]\n",
    "    for s3_key in tqdm(bucket_conts):\n",
    "        # get the filename\n",
    "        s3_object = s3_key['Key']\n",
    "        # verify that we are grabbing the right file\n",
    "        if name not in s3_object:\n",
    "            op_fname = os.path.join(FMRI_PATH, str(s3_object.split('/')[-1]))\n",
    "            if not os.path.exists(op_fname):\n",
    "                s3.download_file(bucket, s3_object, op_fname)\n",
    "\n",
    "def read_fmri_data(path=FMRI_PATH):\n",
    "    \"\"\"\n",
    "    A function which loads the connectomes as adjacency matrices.\n",
    "    \"\"\"\n",
    "    fnames = glob.glob(os.path.join(path, \"*.csv\"))\n",
    "    fnames.sort()\n",
    "    # import edgelists with graspologic\n",
    "    # edgelists will be all of the files that end in a csv\n",
    "    networks = [import_edgelist(fname) for fname in tqdm(fnames)]\n",
    "    return np.stack(networks, axis=0)"
   ]
  },
  {
   "cell_type": "code",
   "execution_count": null,
   "id": "e119c5b6-27a6-4a4f-961d-77fedf23e008",
   "metadata": {},
   "outputs": [],
   "source": [
    "fetch_fmri_data()\n",
    "As = read_fmri_data()"
   ]
  },
  {
   "cell_type": "code",
   "execution_count": null,
   "id": "d20616af-07ca-419c-a585-d1c9fe1afb32",
   "metadata": {},
   "outputs": [],
   "source": [
    "from graphbook_code import heatmap\n",
    "from matplotlib import pyplot as plt\n",
    "\n",
    "\n",
    "A = As[0]\n",
    "\n",
    "fig, axs = plt.subplots(1, 2, gridspec_kw={\"width_ratios\": [1.4, 2]}, figsize=(16, 5.5))\n",
    "heatmap(A, vmin=-1, vmax=1, ax=axs[0], xticks=[0, 199, 399], xticklabels=[1, 200, 400],\n",
    "        yticks=[0, 199, 399], yticklabels=[1, 200, 400], ytitle=\"Brain Area\", xtitle=\"Brain Area\",\n",
    "        title=\"(A) Heatmap of Functional Connectome\", shrink=0.6, legend_title=\"Edge weight\")\n",
    "import seaborn as sns\n",
    "\n",
    "sns.histplot(A.flatten(), ax=axs[1], bins=50, color=\"gray\")\n",
    "axs[1].set_xlabel(\"Edge weight\")\n",
    "axs[1].set_title(\"(B) Histogram of functional connectome edge-weights\", size=20, pad=15)\n",
    "\n",
    "fig.tight_layout()\n",
    "\n",
    "fname = \"raw\"\n",
    "if mode != \"png\":\n",
    "    os.makedirs(f\"Figures/{mode:s}\", exist_ok=True)\n",
    "    fig.savefig(f\"Figures/{mode:s}/{fname:s}.{mode:s}\")\n",
    "\n",
    "os.makedirs(\"Figures/png\", exist_ok=True)\n",
    "fig.savefig(f\"Figures/png/{fname:s}.png\")"
   ]
  },
  {
   "cell_type": "code",
   "execution_count": null,
   "id": "22d7ec64-08f4-418b-848e-99cc20494c7d",
   "metadata": {},
   "outputs": [],
   "source": []
  }
 ],
 "metadata": {
  "kernelspec": {
   "display_name": "Python 3 (ipykernel)",
   "language": "python",
   "name": "python3"
  },
  "language_info": {
   "codemirror_mode": {
    "name": "ipython",
    "version": 3
   },
   "file_extension": ".py",
   "mimetype": "text/x-python",
   "name": "python",
   "nbconvert_exporter": "python",
   "pygments_lexer": "ipython3",
   "version": "3.9.13"
  }
 },
 "nbformat": 4,
 "nbformat_minor": 5
}
