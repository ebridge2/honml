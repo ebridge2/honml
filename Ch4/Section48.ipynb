{
 "cells": [
  {
   "cell_type": "code",
   "execution_count": null,
   "id": "2a0a4cd7-32cf-4c61-b072-57b643cce1f5",
   "metadata": {},
   "outputs": [],
   "source": [
    "mode = \"svg\"\n",
    "\n",
    "import matplotlib\n",
    "\n",
    "font = {'family' : 'Dejavu Sans',\n",
    "        'weight' : 'normal',\n",
    "        'size'   : 20}\n",
    "\n",
    "matplotlib.rc('font', **font)\n",
    "\n",
    "import matplotlib\n",
    "from matplotlib import pyplot as plt"
   ]
  },
  {
   "cell_type": "code",
   "execution_count": null,
   "id": "712958fc-f7d4-43cd-85ea-eb3017a9730c",
   "metadata": {},
   "outputs": [],
   "source": [
    "import numpy as np\n",
    "\n",
    "n = 100\n",
    "Z = np.ones((n, n))\n",
    "for i in range(0, int(n/2)):\n",
    "    Z[int(i + n/2), i] = 3\n",
    "    Z[i, int(i + n/2)] = 3\n",
    "Z[0:50, 0:50] = Z[50:100, 50:100] = 2\n",
    "np.fill_diagonal(Z, 0)"
   ]
  },
  {
   "cell_type": "code",
   "execution_count": null,
   "id": "2f5c9215-ede9-4fcd-83ea-d4d35b824664",
   "metadata": {},
   "outputs": [],
   "source": [
    "from graphbook_code import heatmap\n",
    "\n",
    "fig, axs = plt.subplots(1, 3, figsize=(12, 5), gridspec_kw={\"width_ratios\": [1, .3, 1]})\n",
    "labels = np.repeat([\"L\", \"R\"], repeats=n/2)\n",
    "heatmap(Z.astype(int), title=\"(A) $Z$\", \n",
    "        inner_hier_labels=labels, ax=axs[0], xticks=[0.5, 49.5, 99.5],\n",
    "        xticklabels=[1, 50, 100], xtitle=\"Node\", legend_title=\"Edge cluster\")\n",
    "\n",
    "axs[0].set_title(\"(A) $Z$\", loc=\"left\", pad=50, fontsize=20)"
   ]
  },
  {
   "cell_type": "code",
   "execution_count": null,
   "id": "0ce2ee63-118b-48bb-8d06-0e718c27e2c2",
   "metadata": {},
   "outputs": [],
   "source": [
    "from graphbook_code import siem, plot_vector\n",
    "\n",
    "p = np.array([0.1, 0.3, 0.8])\n",
    "A = siem(n, p, Z)"
   ]
  },
  {
   "cell_type": "code",
   "execution_count": null,
   "id": "d4a1e200-7c04-488a-b5a3-5f867801f4cb",
   "metadata": {},
   "outputs": [],
   "source": [
    "import os\n",
    "\n",
    "plot_vector(p, annot=True, title=\"(B) $\\\\vec p$\",\n",
    "            ticks=[0.5, 1.5, 2.5], ticktitle=\"Edge cluster\", legend_title=\"Probability\",\n",
    "            ticklabels=[1,2,3], vmin=0, vmax=1, ax=axs[1])\n",
    "heatmap(A.astype(int), title=\"(C) $SIEM_n(Z, \\\\vec p)$ sample\", \n",
    "        inner_hier_labels=labels, ax=axs[2], xticks=[0.5, 49.5, 99.5],\n",
    "        xticklabels=[1, 50, 100], xtitle=\"Node\", legend_title=\"Edge?\")\n",
    "axs[2].set_title(\"(C) $SIEM_n(Z, \\\\vec p)$ sample\", loc=\"left\", pad=50, fontsize=20)\n",
    "\n",
    "fig.tight_layout()\n",
    "\n",
    "fname = \"siem\"\n",
    "if mode != \"png\":\n",
    "    os.makedirs(f\"Figures/{mode:s}\", exist_ok=True)\n",
    "    fig.savefig(f\"Figures/{mode:s}/{fname:s}.{mode:s}\")\n",
    "\n",
    "os.makedirs(\"Figures/png\", exist_ok=True)\n",
    "fig.savefig(f\"Figures/png/{fname:s}.png\")\n",
    "fig"
   ]
  },
  {
   "cell_type": "code",
   "execution_count": null,
   "id": "aa2a059c-f1f2-48a2-8102-a57d0ea93042",
   "metadata": {},
   "outputs": [],
   "source": []
  }
 ],
 "metadata": {
  "kernelspec": {
   "display_name": "Python 3 (ipykernel)",
   "language": "python",
   "name": "python3"
  },
  "language_info": {
   "codemirror_mode": {
    "name": "ipython",
    "version": 3
   },
   "file_extension": ".py",
   "mimetype": "text/x-python",
   "name": "python",
   "nbconvert_exporter": "python",
   "pygments_lexer": "ipython3",
   "version": "3.9.13"
  }
 },
 "nbformat": 4,
 "nbformat_minor": 5
}
