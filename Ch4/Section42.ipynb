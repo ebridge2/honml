{
 "cells": [
  {
   "cell_type": "code",
   "execution_count": null,
   "id": "2a0a4cd7-32cf-4c61-b072-57b643cce1f5",
   "metadata": {},
   "outputs": [],
   "source": [
    "mode = \"png\"\n",
    "\n",
    "import matplotlib\n",
    "\n",
    "font = {'family' : 'Dejavu Sans',\n",
    "        'weight' : 'normal',\n",
    "        'size'   : 20}\n",
    "\n",
    "matplotlib.rc('font', **font)\n",
    "\n",
    "import matplotlib\n",
    "from matplotlib import pyplot as plt"
   ]
  },
  {
   "cell_type": "code",
   "execution_count": null,
   "id": "cfccdddf-4f40-45dd-a44b-1c89ae4e917f",
   "metadata": {},
   "outputs": [],
   "source": [
    "from graphbook_code import draw_multiplot, heatmap\n",
    "from graspologic.simulations import er_np\n",
    "\n",
    "n = 50  # network with 50 nodes\n",
    "p = 0.3  # probability of an edge existing is .3\n",
    "\n",
    "# sample a single simple adjacency matrix from ER(50, .3)\n",
    "A3 = er_np(n=n, p=p, directed=False, loops=False)\n",
    "\n",
    "p = 0.7  # network has an edge probability of 0.7\n",
    "\n",
    "# sample a single adjacency matrix from ER(50, 0.7)\n",
    "A7 = er_np(n=n, p=p, directed=False, loops=False)\n",
    "\n",
    "\n",
    "fig, axs = plt.subplots(1, 2, figsize=(11, 5))\n",
    "\n",
    "heatmap(A3.astype(int), vmin=0, vmax=1,\n",
    "        title=\"(A) $ER_{50}(0.3)$ sample\", xtitle=\"Student\", ytitle=\"Student\",\n",
    "        xticks=[0.5, 24.5, 49.5], xticklabels=[1,25,50],\n",
    "        yticks=[0.5, 24.5, 49.5], yticklabels=[1,25,50], cbar=False,\n",
    "        ax=axs[0])\n",
    "heatmap(A7.astype(int), vmin=0, vmax=1, legend_title=\"Edge?\",\n",
    "        title=\"(B) $ER_{50}(0.7)$ sample\", xtitle=\"Student\", ytitle=\"Student\",\n",
    "        xticks=[0.5, 24.5, 49.5], xticklabels=[1,25,50],\n",
    "        yticks=[0.5, 24.5, 49.5], yticklabels=[1,25,50],\n",
    "        ax=axs[1])\n",
    "\n",
    "fig.tight_layout()\n",
    "fig.savefig(\"Figures/er.{}\".format(mode))"
   ]
  },
  {
   "cell_type": "code",
   "execution_count": null,
   "id": "986d21b9-6f40-446a-b68e-9008cc4cbd93",
   "metadata": {},
   "outputs": [],
   "source": []
  }
 ],
 "metadata": {
  "kernelspec": {
   "display_name": "Python 3 (ipykernel)",
   "language": "python",
   "name": "python3"
  },
  "language_info": {
   "codemirror_mode": {
    "name": "ipython",
    "version": 3
   },
   "file_extension": ".py",
   "mimetype": "text/x-python",
   "name": "python",
   "nbconvert_exporter": "python",
   "pygments_lexer": "ipython3",
   "version": "3.9.13"
  }
 },
 "nbformat": 4,
 "nbformat_minor": 5
}
