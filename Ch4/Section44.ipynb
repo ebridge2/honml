{
 "cells": [
  {
   "cell_type": "code",
   "execution_count": null,
   "id": "2a0a4cd7-32cf-4c61-b072-57b643cce1f5",
   "metadata": {},
   "outputs": [],
   "source": [
    "mode = \"png\"\n",
    "\n",
    "import matplotlib\n",
    "\n",
    "font = {'family' : 'Dejavu Sans',\n",
    "        'weight' : 'normal',\n",
    "        'size'   : 20}\n",
    "\n",
    "matplotlib.rc('font', **font)\n",
    "\n",
    "import matplotlib\n",
    "from matplotlib import pyplot as plt"
   ]
  },
  {
   "cell_type": "code",
   "execution_count": null,
   "id": "2b231435-ce4e-4222-ad73-c7b15119b0f8",
   "metadata": {},
   "outputs": [],
   "source": [
    "import numpy as np\n",
    "from graphbook_code import lpm_heatmap\n",
    "\n",
    "n = 100  # the number of nodes in our network\n",
    "# design the latent position matrix X according to \n",
    "# the rules we laid out previously\n",
    "X = np.zeros((n,2))\n",
    "for i in range(0, n):\n",
    "    X[i,:] = [(n - i)/n, i/n]\n"
   ]
  },
  {
   "cell_type": "code",
   "execution_count": null,
   "id": "2ed4cf7e-4a33-4818-b406-59c2431af499",
   "metadata": {},
   "outputs": [],
   "source": [
    "from graspologic.simulations import rdpg\n",
    "from graphbook_code import heatmap\n",
    "\n",
    "# sample an RDPG with the latent position matrix\n",
    "# created above\n",
    "A = rdpg(X, loops=False, directed=False)\n",
    "\n",
    "# and plot it\n",
    "\n",
    "fig, axs = plt.subplots(1, 2, figsize=(9, 5), gridspec_kw={\"width_ratios\": [1,3]})\n",
    "lpm_heatmap(X, ytitle=\"Person\", xticks=[0.5, 1.5], xticklabels=[1, 2], yticks=[0.5, 49.5, 99.5],\n",
    "            yticklabels=[1,50,100], xtitle=\"Latent Dimension\", \n",
    "            title=\"(A) Latent Position Matrix, $X$\", ax=axs[0])\n",
    "\n",
    "heatmap(A.astype(int), xtitle=\"Person\", ytitle=\"Person\", \n",
    "        yticks=[0.5, 49.5, 99.5], yticklabels=[1,50,100],\n",
    "        xticks=[0.5, 49.5, 99.5], xticklabels=[1,50,100],\n",
    "        title=\"(B) $RDPG_{100}(X)$ Simulation\", ax=axs[1], legend_title=\"Edge?\")\n",
    "\n",
    "fig.tight_layout()\n",
    "fig.savefig(\"Figures/.{}\".format(mode))"
   ]
  },
  {
   "cell_type": "code",
   "execution_count": null,
   "id": "2a36017f",
   "metadata": {},
   "outputs": [],
   "source": []
  }
 ],
 "metadata": {
  "kernelspec": {
   "display_name": "Python 3 (ipykernel)",
   "language": "python",
   "name": "python3"
  },
  "language_info": {
   "codemirror_mode": {
    "name": "ipython",
    "version": 3
   },
   "file_extension": ".py",
   "mimetype": "text/x-python",
   "name": "python",
   "nbconvert_exporter": "python",
   "pygments_lexer": "ipython3",
   "version": "3.12.4"
  }
 },
 "nbformat": 4,
 "nbformat_minor": 5
}
