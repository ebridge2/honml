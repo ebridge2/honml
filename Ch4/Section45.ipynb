{
 "cells": [
  {
   "cell_type": "code",
   "execution_count": null,
   "id": "2a0a4cd7-32cf-4c61-b072-57b643cce1f5",
   "metadata": {},
   "outputs": [],
   "source": [
    "mode = \"png\"\n",
    "\n",
    "import matplotlib\n",
    "\n",
    "font = {'family' : 'Dejavu Sans',\n",
    "        'weight' : 'normal',\n",
    "        'size'   : 20}\n",
    "\n",
    "matplotlib.rc('font', **font)\n",
    "\n",
    "import matplotlib\n",
    "from matplotlib import pyplot as plt"
   ]
  },
  {
   "cell_type": "code",
   "execution_count": null,
   "id": "4581f7f5-9c29-4782-a804-80a997eb3260",
   "metadata": {},
   "outputs": [],
   "source": [
    "import numpy as np\n",
    "\n",
    "def block_mtx_psd(B):\n",
    "    \"\"\"\n",
    "    A function which indicates whether a matrix\n",
    "    B is positive semi-definite.\n",
    "    \"\"\"\n",
    "    return np.all(np.linalg.eigvals(B) >= 0)"
   ]
  },
  {
   "cell_type": "code",
   "execution_count": null,
   "id": "31177e01-d536-4c4b-9c70-e6a82a7561c1",
   "metadata": {},
   "outputs": [],
   "source": [
    "import numpy as np\n",
    "from graphbook_code import heatmap\n",
    "\n",
    "B = np.array([[0.6, 0.2], \n",
    "              [0.2, 0.4]])\n",
    "block_mtx_psd(B)\n",
    "# True"
   ]
  },
  {
   "cell_type": "code",
   "execution_count": null,
   "id": "2432d3da-adfa-4c1c-b99e-c598aa5cdafa",
   "metadata": {},
   "outputs": [],
   "source": [
    "psdfig, psdaxs = plt.subplots(1, 3, figsize=(15, 5), gridspec_kw={\"width_ratios\": [1,1,1.27]})\n",
    "heatmap(B, title=\"(A) Homophilic\", ax=psdaxs[0],\n",
    "        xtitle=\"Community\", ytitle=\"Community\",\n",
    "        xticks=[0.5, 1.5], yticks=[0.5, 1.5],\n",
    "        xticklabels=[1, 2], yticklabels=[1, 2], vmin=0, vmax=1,\n",
    "        cbar=False, annot=True)"
   ]
  },
  {
   "cell_type": "code",
   "execution_count": null,
   "id": "f74b7b6b-6df4-45bd-ab8e-26e9ab8c3133",
   "metadata": {},
   "outputs": [],
   "source": [
    "B_indef = np.array([[.1, .2], \n",
    "                    [.2, .1]])\n",
    "block_mtx_psd(B_indef)\n",
    "# False"
   ]
  },
  {
   "cell_type": "code",
   "execution_count": null,
   "id": "5d887796-e138-4969-87b4-fb0f3b1baae8",
   "metadata": {},
   "outputs": [],
   "source": [
    "indeffig, indefaxs = plt.subplots(1, 4, figsize=(18, 5), gridspec_kw={\"width_ratios\": [1,1,1,1.27]})\n",
    "heatmap(B_indef, title=\"(A) Indefinite planted partition\", ax=indefaxs[0],\n",
    "        xtitle=\"Community\", ytitle=\"Community\",\n",
    "        xticks=[0.5, 1.5], yticks=[0.5, 1.5],\n",
    "        xticklabels=[1, 2], yticklabels=[1, 2], vmin=0, vmax=1,\n",
    "        cbar=False, annot=True)"
   ]
  },
  {
   "cell_type": "code",
   "execution_count": null,
   "id": "28398c43-6c58-4881-87d9-b52d45ef2338",
   "metadata": {},
   "outputs": [],
   "source": [
    "# a positive semi-definite kidney-egg block matrix\n",
    "B_psd = np.array([[.6, .2], \n",
    "                  [.2, .2]])\n",
    "block_mtx_psd(B_psd)\n",
    "# True"
   ]
  },
  {
   "cell_type": "code",
   "execution_count": null,
   "id": "3c46c800-7202-4246-8e71-62e412614fb7",
   "metadata": {},
   "outputs": [],
   "source": [
    "heatmap(B_psd, title=\"(B) PSD Kidney-Egg\", ax=psdaxs[1],\n",
    "        xtitle=\"Community\", ytitle=\"Community\",\n",
    "        xticks=[0.5, 1.5], yticks=[0.5, 1.5],\n",
    "        xticklabels=[1, 2], yticklabels=[1, 2], vmin=0, vmax=1,\n",
    "        cbar=False, annot=True)"
   ]
  },
  {
   "cell_type": "code",
   "execution_count": null,
   "id": "ce7000bd-bd7c-4ccc-a423-682c796c0869",
   "metadata": {},
   "outputs": [],
   "source": [
    "# an indefinite kidney-egg block matrix\n",
    "B_indef = np.array([[.1, .2], \n",
    "                    [.2, .2]])\n",
    "block_mtx_psd(B_indef)\n",
    "#False"
   ]
  },
  {
   "cell_type": "code",
   "execution_count": null,
   "id": "b01e10d1-c508-4a6a-b0e4-028da0db98ec",
   "metadata": {},
   "outputs": [],
   "source": [
    "heatmap(B_indef, title=\"(B) Indefinite Kidney-Egg\", ax=indefaxs[1],\n",
    "        xtitle=\"Community\", ytitle=\"Community\",\n",
    "        xticks=[0.5, 1.5], yticks=[0.5, 1.5],\n",
    "        xticklabels=[1, 2], yticklabels=[1, 2], vmin=0, vmax=1,\n",
    "        cbar=False, annot=True)"
   ]
  },
  {
   "cell_type": "code",
   "execution_count": null,
   "id": "c3e71211-3bd8-4746-bd9a-3b9e4d5bf765",
   "metadata": {},
   "outputs": [],
   "source": [
    "# a positive semi-definite core-periphery block matrix\n",
    "B_psd = np.array([[.6, .2], \n",
    "                  [.2, .1]])\n",
    "block_mtx_psd(B_psd)\n",
    "# True"
   ]
  },
  {
   "cell_type": "code",
   "execution_count": null,
   "id": "ccd2846c-671c-4933-b774-ecda8e3822b7",
   "metadata": {},
   "outputs": [],
   "source": [
    "heatmap(B_psd, title=\"(C) PSD Core-Periphery\", ax=psdaxs[2],\n",
    "        xtitle=\"Community\", ytitle=\"Community\",\n",
    "        xticks=[0.5, 1.5], yticks=[0.5, 1.5],\n",
    "        xticklabels=[1, 2], yticklabels=[1, 2], vmin=0, vmax=1,\n",
    "        cbar=True, annot=True, legend_title=\"Edge Probability\")"
   ]
  },
  {
   "cell_type": "code",
   "execution_count": null,
   "id": "77b6c16c-6018-448a-b853-3a841f26562c",
   "metadata": {},
   "outputs": [],
   "source": [
    "# an indefinite core-periphery block matrix\n",
    "B_indef = np.array([[.6, .2], \n",
    "                    [.2, .05]])\n",
    "block_mtx_psd(B_indef)\n",
    "# False"
   ]
  },
  {
   "cell_type": "code",
   "execution_count": null,
   "id": "45d7ad2c-c829-455a-8775-e5019760cf3a",
   "metadata": {},
   "outputs": [],
   "source": [
    "heatmap(B_indef, title=\"(C) Indefinite Core-Periphery\", ax=indefaxs[2],\n",
    "        xtitle=\"Community\", ytitle=\"Community\",\n",
    "        xticks=[0.5, 1.5], yticks=[0.5, 1.5],\n",
    "        xticklabels=[1, 2], yticklabels=[1, 2], vmin=0, vmax=1,\n",
    "        cbar=False, annot=True)"
   ]
  },
  {
   "cell_type": "code",
   "execution_count": null,
   "id": "1fc2478e-1802-4bf5-a2ca-c006a62d1a41",
   "metadata": {},
   "outputs": [],
   "source": [
    "# an indefinite disassortative block matrix\n",
    "B = np.array([[.1, .5], \n",
    "              [.5, .2]])\n",
    "block_mtx_psd(B)\n",
    "# False"
   ]
  },
  {
   "cell_type": "code",
   "execution_count": null,
   "id": "7cead6ad-127c-4d9e-a565-7966f8393c70",
   "metadata": {},
   "outputs": [],
   "source": [
    "heatmap(B, title=\"(D) Disassortative\", ax=indefaxs[3],\n",
    "        xtitle=\"Community\", ytitle=\"Community\",\n",
    "        xticks=[0.5, 1.5], yticks=[0.5, 1.5],\n",
    "        xticklabels=[1, 2], yticklabels=[1, 2], vmin=0, vmax=1,\n",
    "        cbar=True, annot=True, legend_title=\"Edge Probability\")"
   ]
  },
  {
   "cell_type": "code",
   "execution_count": null,
   "id": "8c38688a-c229-420a-ba50-e3ab159ded84",
   "metadata": {},
   "outputs": [],
   "source": [
    "psdfig.tight_layout()\n",
    "psdfig.savefig(\"Figures/psd.{}\".format(mode))\n",
    "psdfig"
   ]
  },
  {
   "cell_type": "code",
   "execution_count": null,
   "id": "273f47bd-1b88-4003-a84b-7bafa4ade5bc",
   "metadata": {},
   "outputs": [],
   "source": [
    "indeffig.tight_layout()\n",
    "indeffig.savefig(\"Figures/indef.{}\".format(mode))\n",
    "indeffig"
   ]
  }
 ],
 "metadata": {
  "kernelspec": {
   "display_name": "Python 3 (ipykernel)",
   "language": "python",
   "name": "python3"
  },
  "language_info": {
   "codemirror_mode": {
    "name": "ipython",
    "version": 3
   },
   "file_extension": ".py",
   "mimetype": "text/x-python",
   "name": "python",
   "nbconvert_exporter": "python",
   "pygments_lexer": "ipython3",
   "version": "3.9.13"
  }
 },
 "nbformat": 4,
 "nbformat_minor": 5
}
