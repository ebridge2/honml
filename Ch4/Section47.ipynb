{
 "cells": [
  {
   "cell_type": "code",
   "execution_count": null,
   "id": "2a0a4cd7-32cf-4c61-b072-57b643cce1f5",
   "metadata": {},
   "outputs": [],
   "source": [
    "mode = \"png\"\n",
    "\n",
    "import matplotlib\n",
    "\n",
    "font = {'family' : 'Dejavu Sans',\n",
    "        'weight' : 'normal',\n",
    "        'size'   : 20}\n",
    "\n",
    "matplotlib.rc('font', **font)\n",
    "\n",
    "import matplotlib\n",
    "from matplotlib import pyplot as plt"
   ]
  },
  {
   "cell_type": "code",
   "execution_count": null,
   "id": "2a65913e-ca47-4b16-adda-62abd6a967e3",
   "metadata": {},
   "outputs": [],
   "source": [
    "import numpy as np\n",
    "from graspologic.simulations import sample_edges\n",
    "from graphbook_code import heatmap, plot_vector, \\\n",
    "    generate_sbm_pmtx\n",
    "\n",
    "def dcsbm(z, theta, B, directed=False, loops=False, return_prob=False):\n",
    "    \"\"\"\n",
    "    A function to sample a DCSBM.\n",
    "    \"\"\"\n",
    "    # uncorrected probability matrix\n",
    "    Pp = generate_sbm_pmtx(z, B)\n",
    "    theta = theta.reshape(-1)\n",
    "    # apply the degree correction\n",
    "    Theta = np.diag(theta)\n",
    "    P = Theta @ Pp @ Theta.transpose()\n",
    "    network = sample_edges(P, directed=directed, loops=loops)\n",
    "    if return_prob:\n",
    "        network = (network, P)\n",
    "    return network"
   ]
  },
  {
   "cell_type": "code",
   "execution_count": null,
   "id": "94f23083-c750-429d-a790-2465f318a91d",
   "metadata": {},
   "outputs": [],
   "source": [
    "# Observe a network from a DCSBM\n",
    "nk = 50  # students per school\n",
    "z = np.repeat([1, 2], nk)\n",
    "B = np.array([[0.6, 0.2], [0.2, 0.4]])  # same probabilities as from SBM section\n",
    "theta = np.tile(np.linspace(1, 0.5, nk), 2)\n",
    "A, P = dcsbm(z, theta, B, return_prob=True)"
   ]
  },
  {
   "cell_type": "code",
   "execution_count": null,
   "id": "d6a25919-59c3-4704-834a-24f9263b10b5",
   "metadata": {},
   "outputs": [],
   "source": [
    "import matplotlib.gridspec as gridspec\n",
    "fig = plt.figure(figsize=(12, 10))\n",
    "gs=  fig.add_gridspec(2, 4)\n",
    "ax11 = plt.subplot(gs[0, 0],)\n",
    "ax11 = plt.subplot(gs[0, 0],)\n",
    "# Visualize\n",
    "\n",
    "plot_vector(z.astype(int), title=\"(A) $\\\\vec z$\", legend_title=\"School\", \n",
    "            ticks=[0.5, 49.5, 99.5], ticklabels=[1, 50, 100],\n",
    "            ticktitle=\"Student\", ax=plt.subplot(gs[0,0]))\n",
    "plot_vector(theta, title=\"(B) $\\\\vec \\\\theta$\", \n",
    "            legend_title=\"Degree-Correction Factor\", \n",
    "            ticks=[0.5, 49.5, 99.5], ticklabels=[1, 50, 100],\n",
    "            ticktitle=\"Student\", ax=plt.subplot(gs[0,1]))\n",
    "heatmap(B, ax=plt.subplot(gs[0, 2:4]), vmin=0, vmax=1, \n",
    "        xticks=[0.5, 1.5], xticklabels=[1,2], yticks=[0.5, 1.5], yticklabels=[1,2],\n",
    "        xtitle=\"School\", ytitle=\"School\", title=\"(C) $B$, Block matrix\", \n",
    "        legend_title=\"Block probability\", annot=True)\n",
    "heatmap(P, title=\"(D) $P = \\\\Theta C B C^\\\\top \\\\Theta^\\\\top$\", ax=plt.subplot(gs[1, 0:2]),\n",
    "        xticks=[0.5, 49.5, 99.5], xticklabels=[1, 50, 100], xtitle=\"Student\",\n",
    "        yticks=[0.5, 49.5, 99.5], yticklabels=[1, 50, 100], ytitle=\"Student\", vmin=0, vmax=1,\n",
    "        legend_title=\"Edge probability\")\n",
    "heatmap(A.astype(int), title=\"(E) Sample of $DCSBM_n(\\\\vec z, \\\\vec \\\\theta, B)$\",\n",
    "        xticks=[0.5, 49.5, 99.5], xticklabels=[1, 50, 100], xtitle=\"Student\",\n",
    "        yticks=[0.5, 49.5, 99.5], yticklabels=[1, 50, 100], ytitle=\"Student\",\n",
    "        ax=plt.subplot(gs[1, 2:4]))\n",
    "fig.tight_layout()\n",
    "fig.savefig(\"Figures/dcsbm.{}\".format(mode))"
   ]
  },
  {
   "cell_type": "code",
   "execution_count": null,
   "id": "2197f77e-7d81-45c1-b276-5e5509b234ff",
   "metadata": {},
   "outputs": [],
   "source": [
    "from graphbook_code import lpm_from_sbm\n",
    "\n",
    "def lpm_from_dcsbm(z, theta, B):\n",
    "    \"\"\"\n",
    "    A function to produce a latent position matrix from a\n",
    "    community assignment vector, a degree-correction vector,\n",
    "    and a block matrix.\n",
    "    \"\"\"\n",
    "    # X' = C*sqrt(B)\n",
    "    Xp = lpm_from_sbm(z, B)\n",
    "    # X = Theta*X' = Theta * C * sqrt(B)\n",
    "    return np.diag(theta) @ Xp\n",
    "\n",
    "X_dcsbm = lpm_from_dcsbm(z, theta, B)"
   ]
  },
  {
   "cell_type": "code",
   "execution_count": null,
   "id": "66d07d65-6c75-42da-b4fe-91d262601510",
   "metadata": {},
   "outputs": [],
   "source": [
    "from graphbook_code import lpm_heatmap\n",
    "\n",
    "fig, axs = plt.subplots(1, 4, figsize=(15, 5), gridspec_kw={\"width_ratios\": [.3, .3, 1, .5]})\n",
    "\n",
    "plot_vector(z.astype(int), title=\"(A) $\\\\vec z$\", legend_title=\"School\", \n",
    "            ticks=[0.5, 49.5, 99.5], ticklabels=[1, 50, 100],\n",
    "            ticktitle=\"Student\", ax=axs[0])\n",
    "plot_vector(theta, title=\"(B) $\\\\vec \\\\theta$\", \n",
    "            legend_title=\"Degree-Correction Factor\", \n",
    "            ticks=[0.5, 49.5, 99.5], ticklabels=[1, 50, 100],\n",
    "            ticktitle=\"Student\", ax=axs[1])\n",
    "heatmap(B, ax=axs[2], vmin=0, vmax=1, \n",
    "        xticks=[0.5, 1.5], xticklabels=[1,2], yticks=[0.5, 1.5], yticklabels=[1,2],\n",
    "        xtitle=\"School\", ytitle=\"School\", title=\"(C) $B$, Block matrix\", \n",
    "        legend_title=\"Block probability\", annot=True)\n",
    "lpm_heatmap(X_dcsbm, title=\"(D) $X = \\\\Theta C \\\\sqrt{B}$\", ax=axs[3],\n",
    "           xtitle=\"Latent Dimension\", xticks=[0.5, 1.5], xticklabels=[1, 2],\n",
    "           yticks=[0.5, 49.5, 99.5], yticklabels=[1, 50, 100], vmin=0, vmax=1)\n",
    "\n",
    "fig.tight_layout()\n",
    "fig.savefig(\"Figures/dcsbm_lpm.{}\".format(mode))"
   ]
  }
 ],
 "metadata": {
  "kernelspec": {
   "display_name": "Python 3 (ipykernel)",
   "language": "python",
   "name": "python3"
  },
  "language_info": {
   "codemirror_mode": {
    "name": "ipython",
    "version": 3
   },
   "file_extension": ".py",
   "mimetype": "text/x-python",
   "name": "python",
   "nbconvert_exporter": "python",
   "pygments_lexer": "ipython3",
   "version": "3.9.13"
  }
 },
 "nbformat": 4,
 "nbformat_minor": 5
}
