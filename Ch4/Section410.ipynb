{
 "cells": [
  {
   "cell_type": "code",
   "execution_count": null,
   "id": "2a0a4cd7-32cf-4c61-b072-57b643cce1f5",
   "metadata": {},
   "outputs": [],
   "source": [
    "mode = \"png\"\n",
    "\n",
    "import matplotlib\n",
    "\n",
    "font = {'family' : 'Dejavu Sans',\n",
    "        'weight' : 'normal',\n",
    "        'size'   : 20}\n",
    "\n",
    "matplotlib.rc('font', **font)\n",
    "\n",
    "import matplotlib\n",
    "from matplotlib import pyplot as plt"
   ]
  },
  {
   "cell_type": "code",
   "execution_count": null,
   "id": "42e469d8-006b-47a3-af92-3a06df5fea74",
   "metadata": {},
   "outputs": [],
   "source": [
    "from graspologic.simulations import sample_edges\n",
    "import numpy as np\n",
    "from graphbook_code import heatmap\n",
    "\n",
    "n = 5\n",
    "P_earthling = np.full((n,n), .3)\n",
    "\n",
    "nodenames = [\n",
    "    \"SI\", \"L\", \"H/E\", \n",
    "    \"T/M\", \"BS\"\n",
    "]\n",
    "\n",
    "signal_subnetwork = np.zeros((n, n), dtype=bool)\n",
    "signal_subnetwork[1:, 0] = True\n",
    "signal_subnetwork[0, 1:] = True\n",
    "P_astronaut = np.copy(P_earthling)\n",
    "\n",
    "# probabilities for signal edges are higher in astronauts than humans\n",
    "n_different_edges = signal_subnetwork.sum()\n",
    "P_astronaut[signal_subnetwork] = np.tile(np.linspace(0.35, 0.9, num=n_different_edges//2), 2)\n",
    "\n",
    "A_earthling = sample_edges(P_earthling)\n",
    "A_astronaut = sample_edges(P_astronaut)"
   ]
  },
  {
   "cell_type": "code",
   "execution_count": null,
   "id": "ef0d5bb4-7fe0-4ca4-87ba-502f3d084e84",
   "metadata": {},
   "outputs": [],
   "source": [
    "from graphbook_code import heatmap\n",
    "\n",
    "fig, axs = plt.subplots(1, 2, figsize=(12, 5), gridspec_kw={\"width_ratios\": [1, 1.27]})\n",
    "heatmap(A_earthling.astype(int), ax=axs[0], title=\"(A) Earthling adj. matrix\",\n",
    "        xtitle=\"Brain Area\", xticks=[0.5, 1.5, 2.5, 3.5, 4.5], xticklabels=nodenames,\n",
    "        ytitle=\"Brain Area\", yticks=[0.5, 1.5, 2.5, 3.5, 4.5], yticklabels=nodenames,\n",
    "        cbar=False)\n",
    "heatmap(A_astronaut.astype(int), ax=axs[1], title=\"(A) Astronaut adj. matrix\",\n",
    "        xtitle=\"Brain Area\", xticks=[0.5, 1.5, 2.5, 3.5, 4.5], xticklabels=nodenames,\n",
    "        ytitle=\"Brain Area\", yticks=[0.5, 1.5, 2.5, 3.5, 4.5], yticklabels=nodenames,\n",
    "        cbar=False)\n",
    "fig.tight_layout()\n",
    "\n",
    "fname = \"ssg_samps\"\n",
    "if mode == \"png\":\n",
    "    fig.savefig(\"Figures/{}.{}\".format(fname, mode))\n",
    "    fig.savefig(\"Figures/{}.svg\".format(fname))\n",
    "else:\n",
    "    fig.savefig(\"Figures/{}.svg\".format(fname))"
   ]
  },
  {
   "cell_type": "code",
   "execution_count": null,
   "id": "e0633887-6e11-4180-90a1-52c54b733580",
   "metadata": {},
   "outputs": [],
   "source": [
    "fig, axs = plt.subplots(1, 3, figsize=(15, 5), gridspec_kw={\"width_ratios\": [1, 1.27, 1.27]})\n",
    "\n",
    "# plot probability matrices and their differences on the same scale\n",
    "heatmap(P_earthling, vmin=0, vmax=1, title=\"(A) $P_{earth}$\",\n",
    "        xtitle=\"Brain Area\", xticks=[0.5, 1.5, 2.5, 3.5, 4.5], xticklabels=nodenames,\n",
    "        ytitle=\"Brain Area\", yticks=[0.5, 1.5, 2.5, 3.5, 4.5], yticklabels=nodenames,\n",
    "        cbar=False, ax=axs[0])\n",
    "heatmap(P_astronaut, vmin=0, vmax=1, title=\"(B) $P_{ast}$\",\n",
    "        xtitle=\"Brain Area\", xticks=[0.5, 1.5, 2.5, 3.5, 4.5], xticklabels=nodenames,\n",
    "        ytitle=\"Brain Area\", yticks=[0.5, 1.5, 2.5, 3.5, 4.5], yticklabels=nodenames,\n",
    "        legend_title=\"Probability\", ax=axs[1])\n",
    "heatmap(P_astronaut - P_earthling, vmin=0, vmax=1, title=\"(C) $P_{ast} - P_{earth}$\",\n",
    "        xtitle=\"Brain Area\", xticks=[0.5, 1.5, 2.5, 3.5, 4.5], xticklabels=nodenames,\n",
    "        ytitle=\"Brain Area\", yticks=[0.5, 1.5, 2.5, 3.5, 4.5], yticklabels=nodenames,\n",
    "        legend_title=\"Difference\", ax=axs[2])\n",
    "\n",
    "fig.tight_layout()\n",
    "fname = \"ssg_pmtxs\"\n",
    "if mode == \"png\":\n",
    "    fig.savefig(\"Figures/{}.{}\".format(fname, mode))\n",
    "    fig.savefig(\"Figures/{}.svg\".format(fname))\n",
    "else:\n",
    "    fig.savefig(\"Figures/{}.svg\".format(fname))"
   ]
  },
  {
   "cell_type": "code",
   "execution_count": null,
   "id": "273f47bd-1b88-4003-a84b-7bafa4ade5bc",
   "metadata": {},
   "outputs": [],
   "source": [
    "fig, axs = plt.subplots(1, 2, figsize=(12, 5), gridspec_kw = {\"width_ratios\": [1, 1]})\n",
    "heatmap(P_astronaut - P_earthling, vmin=0, vmax=1, title=\"(A) $P_{ast} - P_{earth}$\",\n",
    "        xtitle=\"Brain Area\", xticks=[0.5, 1.5, 2.5, 3.5, 4.5], xticklabels=nodenames,\n",
    "        ytitle=\"Brain Area\", yticks=[0.5, 1.5, 2.5, 3.5, 4.5], yticklabels=nodenames,\n",
    "        legend_title=\"Difference\", ax=axs[0])\n",
    "\n",
    "heatmap(signal_subnetwork.astype(int), title=\"(B) Signal subnetwork\",\n",
    "        xtitle=\"Brain Area\", xticks=[0.5, 1.5, 2.5, 3.5, 4.5], xticklabels=nodenames,\n",
    "        ytitle=\"Brain Area\", yticks=[0.5, 1.5, 2.5, 3.5, 4.5], yticklabels=nodenames,\n",
    "        legend_title=\"Part of $\\\\mathcal{S}$?\", ax=axs[1])\n",
    "\n",
    "fig.tight_layout()\n",
    "fname = \"ssg_ssn\"\n",
    "if mode == \"png\":\n",
    "    fig.savefig(\"Figures/{}.{}\".format(fname, mode))\n",
    "    fig.savefig(\"Figures/{}.svg\".format(fname))\n",
    "else:\n",
    "    fig.savefig(\"Figures/{}.svg\".format(fname))"
   ]
  },
  {
   "cell_type": "code",
   "execution_count": null,
   "id": "0e3ba003-07ab-4b1d-8bc8-6ddf5a63cf92",
   "metadata": {},
   "outputs": [],
   "source": []
  }
 ],
 "metadata": {
  "kernelspec": {
   "display_name": "Python 3 (ipykernel)",
   "language": "python",
   "name": "python3"
  },
  "language_info": {
   "codemirror_mode": {
    "name": "ipython",
    "version": 3
   },
   "file_extension": ".py",
   "mimetype": "text/x-python",
   "name": "python",
   "nbconvert_exporter": "python",
   "pygments_lexer": "ipython3",
   "version": "3.9.13"
  }
 },
 "nbformat": 4,
 "nbformat_minor": 5
}
