{
 "cells": [
  {
   "cell_type": "code",
   "execution_count": null,
   "id": "2a0a4cd7-32cf-4c61-b072-57b643cce1f5",
   "metadata": {},
   "outputs": [],
   "source": [
    "mode = \"svg\"\n",
    "\n",
    "import matplotlib\n",
    "\n",
    "font = {'family' : 'Dejavu Sans',\n",
    "        'weight' : 'normal',\n",
    "        'size'   : 20}\n",
    "\n",
    "matplotlib.rc('font', **font)\n",
    "\n",
    "import matplotlib\n",
    "from matplotlib import pyplot as plt"
   ]
  },
  {
   "cell_type": "code",
   "execution_count": null,
   "id": "275018c8-43d2-4c0d-8681-022e78df7a1a",
   "metadata": {},
   "outputs": [],
   "source": [
    "import numpy as np\n",
    "from graspologic.simulations import sbm\n",
    "\n",
    "nk = 50  # 50 nodes per community\n",
    "K = 2  # the number of communities\n",
    "n = nk * K  # total number of nodes\n",
    "\n",
    "zs = np.repeat(np.arange(1, K+1), repeats=nk)\n",
    "# block matrix\n",
    "B = np.array([[0.6, 0.3],[0.3, 0.5]])\n",
    "# generate network sample\n",
    "np.random.seed(0)\n",
    "A = sbm([nk, nk], B)"
   ]
  },
  {
   "cell_type": "code",
   "execution_count": null,
   "id": "9e7beb74-56df-4d33-9563-c60b20fa14a5",
   "metadata": {},
   "outputs": [],
   "source": [
    "from graspologic.models import SBMEstimator\n",
    "\n",
    "# instantiate the class object and fit\n",
    "model = SBMEstimator(directed=False, loops=False)\n",
    "model.fit(A, y=zs)\n",
    "# obtain the estimate of the block matrix\n",
    "Bhat = model.block_p_"
   ]
  },
  {
   "cell_type": "code",
   "execution_count": null,
   "id": "ec5bd0a4-31ac-4c26-9d2d-286cbcea72d3",
   "metadata": {},
   "outputs": [],
   "source": [
    "from graphbook_code import heatmap\n",
    "import os\n",
    "\n",
    "fig, axs = plt.subplots(1, 3, figsize=(18, 6))\n",
    "\n",
    "heatmap(B, ax=axs[0], xticks=[0.5, 1.5], xticklabels=[1, 2],\n",
    "        xtitle=\"Community\", ytitle=\"Community\", title=\"(A) Block matrix\",\n",
    "        vmin=0, vmax=1, annot=True)\n",
    "\n",
    "heatmap(A.astype(int), ax=axs[1], xticks=[0.5, 49.5, 99.5], xticklabels=[1, 50, 100],\n",
    "        xtitle=\"Node\", ytitle=\"Node\", title=\"(B) Adjacency matrix\")\n",
    "\n",
    "heatmap(Bhat, ax=axs[2], xticks=[0.5, 1.5], xticklabels=[1, 2],\n",
    "        xtitle=\"Community\", ytitle=\"Community\", title=\"(C) Estimated block matrix\",\n",
    "        vmin=0, vmax=1, annot=True)\n",
    "\n",
    "\n",
    "fig.tight_layout()\n",
    "\n",
    "os.makedirs(\"Figures\", exist_ok=True)\n",
    "fname = \"model_select_ex\"\n",
    "if mode != \"png\":\n",
    "    os.makedirs(f\"Figures/{mode:s}\", exist_ok=True)\n",
    "    fig.savefig(f\"Figures/{mode:s}/{fname:s}.{mode:s}\")\n",
    "\n",
    "os.makedirs(\"Figures/png\", exist_ok=True)\n",
    "fig.savefig(f\"Figures/png/{fname:s}.png\")"
   ]
  },
  {
   "cell_type": "code",
   "execution_count": null,
   "id": "90026878-cf20-46ac-8e7d-a86fd9250002",
   "metadata": {},
   "outputs": [],
   "source": [
    "from graphbook_code import heatmap\n",
    "# upper left has a value of 1, lower right has a value of 2,\n",
    "# and upper right, bottom left have a value of 3\n",
    "Z = np.array(zs).reshape(n, 1) @ np.array(zs).reshape(1, n)\n",
    "# make lower right have a value of 3\n",
    "Z[Z == 4] = 3"
   ]
  },
  {
   "cell_type": "code",
   "execution_count": null,
   "id": "3d6282c1-765d-4c92-9bd0-6cedbda3b9bd",
   "metadata": {},
   "outputs": [],
   "source": [
    "import statsmodels.api as sm\n",
    "import pandas as pd\n",
    "import statsmodels.formula.api as smf\n",
    "from scipy import stats as spstat\n",
    "\n",
    "# upper triangle since the network is simple (undirected and loopless)\n",
    "upper_tri_non_diag = np.triu(np.ones(A.shape), k=1).astype(bool)\n",
    "\n",
    "df_H1 = pd.DataFrame({\"Value\" : A[upper_tri_non_diag],\n",
    "            \"Group\": (Z[upper_tri_non_diag] != 2).astype(int)})\n",
    "\n",
    "# fit the logistic regression model\n",
    "model_H1 = smf.logit(\"Value ~ C(Group)\", df_H1).fit()\n",
    "\n",
    "# compare the likelihood ratio statistic to the chi2 distribution\n",
    "# with 1 dof to see the fraction that is less than l1\n",
    "dof = 1\n",
    "print(f\"p-value: {spstat.chi2.sf(model_H1.llr, dof):.5f}\")\n",
    "# p-value: 0.00000"
   ]
  },
  {
   "cell_type": "code",
   "execution_count": null,
   "id": "644284e8-1de9-4c52-ae6c-d85a8eae4586",
   "metadata": {},
   "outputs": [],
   "source": [
    "df_H2 = pd.DataFrame({\"Value\": A[upper_tri_non_diag],\n",
    "                      \"Group\": Z[upper_tri_non_diag].astype(int)})\n",
    "model_H2 = smf.logit(\"Value ~ C(Group)\", df_H2).fit()\n",
    "lr_stat_H2vsH1 = model_H2.llr - model_H1.llr\n",
    "print(f\"p-value: {spstat.chi2.sf(lr_stat_H2vsH1, 1):.5f}\")\n",
    "# p-value: 0.00008"
   ]
  },
  {
   "cell_type": "code",
   "execution_count": null,
   "id": "2777ebca",
   "metadata": {},
   "outputs": [],
   "source": []
  }
 ],
 "metadata": {
  "kernelspec": {
   "display_name": "Python 3 (ipykernel)",
   "language": "python",
   "name": "python3"
  },
  "language_info": {
   "codemirror_mode": {
    "name": "ipython",
    "version": 3
   },
   "file_extension": ".py",
   "mimetype": "text/x-python",
   "name": "python",
   "nbconvert_exporter": "python",
   "pygments_lexer": "ipython3",
   "version": "3.9.13"
  }
 },
 "nbformat": 4,
 "nbformat_minor": 5
}
