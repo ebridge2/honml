{
 "cells": [
  {
   "cell_type": "code",
   "execution_count": null,
   "id": "2a0a4cd7-32cf-4c61-b072-57b643cce1f5",
   "metadata": {},
   "outputs": [],
   "source": [
    "mode = \"svg\"\n",
    "\n",
    "import matplotlib\n",
    "\n",
    "font = {'family' : 'Dejavu Sans',\n",
    "        'weight' : 'normal',\n",
    "        'size'   : 20}\n",
    "\n",
    "matplotlib.rc('font', **font)\n",
    "\n",
    "import matplotlib\n",
    "from matplotlib import pyplot as plt"
   ]
  },
  {
   "cell_type": "code",
   "execution_count": null,
   "id": "0007709b-8567-4fec-b33d-889d69dc61bc",
   "metadata": {},
   "outputs": [],
   "source": [
    "import numpy as np\n",
    "from graphbook_code import siem\n",
    "\n",
    "np.random.seed(0)\n",
    "\n",
    "n = 100\n",
    "Z = np.ones((n, n))\n",
    "\n",
    "# Fill the upper and lower 50th diagonals with 2\n",
    "# and the main diagonal with 0\n",
    "np.fill_diagonal(Z[:, 50:], 2)\n",
    "np.fill_diagonal(Z[50:, :], 2)\n",
    "np.fill_diagonal(Z, 0)\n",
    "\n",
    "p = [0.4, 0.6]\n",
    "A = siem(n, p, Z)"
   ]
  },
  {
   "cell_type": "code",
   "execution_count": null,
   "id": "20539fd7-14c8-447b-a724-ae7be1729086",
   "metadata": {},
   "outputs": [],
   "source": [
    "est_pvec = {k: A[Z == k].mean() for k in [1, 2]}\n",
    "print(est_pvec)\n",
    "# {1: 0.4014285714285714, 2: 0.6}"
   ]
  },
  {
   "cell_type": "code",
   "execution_count": null,
   "id": "119e414d-71f3-4397-9f5a-bf9397bdc725",
   "metadata": {},
   "outputs": [],
   "source": [
    "from scipy.stats import fisher_exact\n",
    "import numpy as np\n",
    "\n",
    "# assemble the contingency table indicated\n",
    "table = np.array([[7, 3], [3, 7]])\n",
    "_, pvalue = fisher_exact(table)\n",
    "print(f\"p-value: {pvalue:.3f}\")"
   ]
  },
  {
   "cell_type": "code",
   "execution_count": null,
   "id": "4649c856-f1eb-42e5-a317-8466aebcc908",
   "metadata": {},
   "outputs": [],
   "source": [
    "# compute an upper-triangular mask to only look at the\n",
    "# upper triangle since the network is simple (undirected and loopless)\n",
    "upper_tri_mask = np.triu(np.ones(A.shape), k=1).astype(bool)\n",
    "column_clust1 = [\n",
    "    A[(Z == 1) & upper_tri_mask].sum(),\n",
    "    (A[(Z == 1) & upper_tri_mask] == 0).sum(),\n",
    "]\n",
    "column_clust2 = [\n",
    "    A[(Z == 2) & upper_tri_mask].sum(),\n",
    "    (A[(Z == 2) & upper_tri_mask] == 0).sum(),\n",
    "]\n",
    "cont_tabl = np.vstack((column_clust1, column_clust2)).T"
   ]
  },
  {
   "cell_type": "code",
   "execution_count": null,
   "id": "c42bfde9-c8a8-467f-b736-501b4ddab41f",
   "metadata": {},
   "outputs": [],
   "source": [
    "from graphbook_code import heatmap\n",
    "\n",
    "fig, axs = plt.subplots(1, 3, figsize=(20, 6))\n",
    "\n",
    "heatmap(Z.astype(int), ax=axs[0], xtitle=\"Node\", ytitle=\"Node\",\n",
    "        xticks=[0.5, 49.5, 99.5], xticklabels=[1, 50, 100],\n",
    "        yticks=[0.5, 49.5, 99.5], yticklabels=[1, 50, 100], \n",
    "        legend_title=\"Edge cluster\", title=\"(A) Cluster assignment matrix\")\n",
    "heatmap(A.astype(int), ax=axs[1], xtitle=\"Node\", ytitle=\"Node\",\n",
    "        xticks=[0.5, 49.5, 99.5], xticklabels=[1, 50, 100],\n",
    "        yticks=[0.5, 49.5, 99.5], yticklabels=[1, 50, 100], \n",
    "        title=\"(B) $SIEM_n(Z, \\\\vec p)$ sample\")\n",
    "heatmap(cont_tabl/cont_tabl.sum(axis=0, keepdims=1), ax=axs[2], title=\"(C) Contingency table\",\n",
    "        xticks=[0.5, 1.5], xticklabels=[\"Cluster 1\", \"Cluster 2\"],\n",
    "        yticks=[0.5, 1.5], yticklabels=[f\"Number\\nof edges\", f\"Number of\\nnon-edges\"],\n",
    "        vmin=0, vmax=1, annot=cont_tabl.astype(int), legend_title=\"Fraction of cluster\", fmt=\"d\")\n",
    "\n",
    "axs[2].tick_params(axis='y', labelrotation=90)\n",
    "fig.tight_layout()\n",
    "\n",
    "os.makedirs(\"Figures\", exist_ok=True)\n",
    "fname = \"testing_siem_ex\"\n",
    "if mode != \"png\":\n",
    "    os.makedirs(f\"Figures/{mode:s}\", exist_ok=True)\n",
    "    fig.savefig(f\"Figures/{mode:s}/{fname:s}.{mode:s}\")\n",
    "\n",
    "os.makedirs(\"Figures/png\", exist_ok=True)\n",
    "fig.savefig(f\"Figures/png/{fname:s}.png\")"
   ]
  },
  {
   "cell_type": "code",
   "execution_count": null,
   "id": "bcd4e810-e8dc-41c6-b9eb-50a2cd11acd5",
   "metadata": {},
   "outputs": [],
   "source": [
    "_, pvalue = fisher_exact(cont_tabl)\n",
    "print(f\"p-value: {pvalue:.5f}\")\n",
    "# p-value: 0.00123"
   ]
  },
  {
   "cell_type": "code",
   "execution_count": null,
   "id": "f7455984",
   "metadata": {},
   "outputs": [],
   "source": []
  }
 ],
 "metadata": {
  "kernelspec": {
   "display_name": "Python 3 (ipykernel)",
   "language": "python",
   "name": "python3"
  },
  "language_info": {
   "codemirror_mode": {
    "name": "ipython",
    "version": 3
   },
   "file_extension": ".py",
   "mimetype": "text/x-python",
   "name": "python",
   "nbconvert_exporter": "python",
   "pygments_lexer": "ipython3",
   "version": "3.9.13"
  }
 },
 "nbformat": 4,
 "nbformat_minor": 5
}
