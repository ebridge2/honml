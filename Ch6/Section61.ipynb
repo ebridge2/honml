{
 "cells": [
  {
   "cell_type": "code",
   "execution_count": null,
   "id": "2a0a4cd7-32cf-4c61-b072-57b643cce1f5",
   "metadata": {},
   "outputs": [],
   "source": [
    "mode = \"png\"\n",
    "\n",
    "import matplotlib\n",
    "\n",
    "font = {'family' : 'Dejavu Sans',\n",
    "        'weight' : 'normal',\n",
    "        'size'   : 20}\n",
    "\n",
    "matplotlib.rc('font', **font)\n",
    "\n",
    "import matplotlib\n",
    "from matplotlib import pyplot as plt"
   ]
  },
  {
   "cell_type": "code",
   "execution_count": null,
   "id": "c92f098a-4426-4acf-ab14-f522aae1aaa1",
   "metadata": {},
   "outputs": [],
   "source": [
    "import numpy as np\n",
    "from graphbook_code import dcsbm\n",
    "\n",
    "nk = 100  # 100 nodes per community\n",
    "K = 3  # the number of communities\n",
    "n = nk * K  # total number of nodes\n",
    "\n",
    "zs = np.repeat(np.arange(K)+1, repeats=nk)\n",
    "# block matrix and degree-correction factor\n",
    "B = np.array([[0.7, 0.2, 0.1], [0.2, 0.5, 0.1], [0.1, 0.1, 0.4]])\n",
    "theta = np.tile(np.linspace(start=0, stop=1, num=nk), reps=K)\n",
    "# generate network sample\n",
    "np.random.seed(123)\n",
    "A = dcsbm(zs, theta, B)\n",
    "\n",
    "# permute the nodes randomly\n",
    "vtx_perm = np.random.choice(n, size=n, replace=False)\n",
    "Aperm = A[vtx_perm, :][:,vtx_perm]\n",
    "zperm = zs[vtx_perm]"
   ]
  },
  {
   "cell_type": "code",
   "execution_count": null,
   "id": "969c25d1-dba7-4de9-b8bf-1b540acfb0a5",
   "metadata": {},
   "outputs": [],
   "source": [
    "from graphbook_code import generate_dcsbm_pmtx, heatmap\n",
    "\n",
    "Pdcsbm_perm = generate_dcsbm_pmtx(zperm, theta[vtx_perm], B)\n",
    "\n",
    "fig, axs = plt.subplots(1, 2, figsize=(15, 6))\n",
    "\n",
    "heatmap(Pdcsbm_perm, ax=axs[0], title=\"(A) Probability matrix\", xtitle=\"Node (random order)\", ytitle=\"Node (random order)\")\n",
    "heatmap(Aperm.astype(int), ax=axs[1], title=\"(B) Adjacency matrix\", xtitle=\"Node (random order)\", ytitle=\"Node (random order)\")\n",
    "\n",
    "fig.tight_layout()\n",
    "\n",
    "fname = \"comm_detect_ex\"\n",
    "if mode == \"png\":\n",
    "    fig.savefig(\"Figures/{}.{}\".format(fname, mode))\n",
    "    fig.savefig(\"Figures/{}.svg\".format(fname))\n",
    "else:\n",
    "    fig.savefig(\"Figures/{}.svg\".format(fname))"
   ]
  },
  {
   "cell_type": "code",
   "execution_count": null,
   "id": "1d76f19b-c013-43a2-99b7-a6dea53d3b03",
   "metadata": {},
   "outputs": [],
   "source": [
    "import scipy as sp\n",
    "from graspologic.embed import AdjacencySpectralEmbed as ase\n",
    "\n",
    "Xhat = ase(n_components=3, svd_seed=123).fit_transform(Aperm)\n",
    "D = sp.spatial.distance_matrix(Xhat, Xhat)"
   ]
  },
  {
   "cell_type": "code",
   "execution_count": null,
   "id": "c21be14d-76ba-482e-98d5-19fc3aabf63d",
   "metadata": {},
   "outputs": [],
   "source": [
    "from graphbook_code import plot_latents\n",
    "fig, axs = plt.subplots(1, 2, figsize=(15, 6))\n",
    "\n",
    "plot_latents(Xhat[:,1:3], labels=zperm,\n",
    "            title=\"(A) $\\\\hat X = ase(A)$\", ax=axs[0], s=30)\n",
    "axs[0].set_xlabel(\"Dimension 2\")\n",
    "axs[0].set_ylabel(\"Dimension 3\")\n",
    "axs[0].legend(bbox_to_anchor=(1.05, 1), title=\"Community\", loc='upper left', borderaxespad=0.)\n",
    "\n",
    "heatmap(D, inner_hier_labels=zperm, title=\"(B) Pairwise distances of $\\\\hat X$\",\n",
    "        xtitle=\"Node (ordered by community)\", ax=axs[1],\n",
    "        legend_title=\"Distance\")\n",
    "\n",
    "fig.tight_layout()\n",
    "fname = \"comm_detect_embed\"\n",
    "if mode == \"png\":\n",
    "    fig.savefig(\"Figures/{}.{}\".format(fname, mode))\n",
    "    fig.savefig(\"Figures/{}.svg\".format(fname))\n",
    "else:\n",
    "    fig.savefig(\"Figures/{}.svg\".format(fname))"
   ]
  },
  {
   "cell_type": "code",
   "execution_count": null,
   "id": "b25fa753-59bb-4cf7-8427-33052acc4b24",
   "metadata": {},
   "outputs": [],
   "source": [
    "from sklearn.cluster import KMeans\n",
    "\n",
    "labels_kmeans = KMeans(n_clusters = 3, random_state=123).fit_predict(Xhat)"
   ]
  },
  {
   "cell_type": "code",
   "execution_count": null,
   "id": "1dedc80f-341a-4803-9316-40234355840d",
   "metadata": {},
   "outputs": [],
   "source": [
    "from sklearn.metrics import confusion_matrix\n",
    "\n",
    "# compute the confusion matrix between the true labels z\n",
    "# and the predicted labels labels_kmeans\n",
    "cf_matrix = confusion_matrix(zperm, labels_kmeans)"
   ]
  },
  {
   "cell_type": "code",
   "execution_count": null,
   "id": "6b6b9739-b487-4bff-b691-45b45b444884",
   "metadata": {},
   "outputs": [],
   "source": [
    "\n",
    "from sklearn.metrics import adjusted_rand_score\n",
    "\n",
    "ari_kmeans = adjusted_rand_score(zperm, labels_kmeans)\n",
    "print(ari_kmeans)\n",
    "# 0.319"
   ]
  },
  {
   "cell_type": "code",
   "execution_count": null,
   "id": "6c77f12c-d970-4752-9812-661b7c287d2c",
   "metadata": {},
   "outputs": [],
   "source": [
    "from graspologic.utils import remap_labels\n",
    "\n",
    "labels_kmeans_remap = remap_labels(zperm, labels_kmeans)\n",
    "\n",
    "# compute which assigned labels from labels_kmeans_remap differ from the true labels z\n",
    "error = zperm - labels_kmeans_remap\n",
    "# if the difference between the community labels is non-zero, an error has occurred\n",
    "error = error != 0\n",
    "error_rate = np.mean(error)  # error rate is the frequency of making an error"
   ]
  },
  {
   "cell_type": "code",
   "execution_count": null,
   "id": "e9e8030e-30fa-4b04-9ffe-0938e3f4ec03",
   "metadata": {},
   "outputs": [],
   "source": [
    "import seaborn as sns\n",
    "\n",
    "fig, axs = plt.subplots(1, 2, figsize=(15, 6), gridspec_kw={\"width_ratios\": [1, 1.5]})\n",
    "\n",
    "heatmap(cf_matrix.astype(float), yticks=[1.5, 2.5, 3.5], yticklabels=[1, 2, 3],\n",
    "        xticks=[0.5, 1.5, 2.5], xticklabels=[0, 1, 2], xtitle=\"Predicted label\",\n",
    "        ytitle=\"True label (community)\", title=\"\", legend_title=\"Count\", ax=axs[0])\n",
    "axs[0].invert_yaxis()\n",
    "axs[0].set_ylim((1, 4))\n",
    "axs[0].set_xlim((0, 3))\n",
    "axs[0].set_title(\"(A) Confusion matrix\", pad=56, fontsize=23)\n",
    "\n",
    "error_str = [\"Correct Pred.\" if err == 0 else \"Wrong Pred.\" for err in error]\n",
    "plot_latents(Xhat[:,1:3], labels=error_str,\n",
    "            title=\"(B) Misclassified nodes\", ax=axs[1], s=30,\n",
    "            palette={\"Correct Pred.\": \"#11EE11\", \"Wrong Pred.\": \"#EE1111\"})\n",
    "axs[1].set_xlabel(\"Dimension 2\")\n",
    "axs[1].set_ylabel(\"Dimension 3\")\n",
    "axs[1].legend(bbox_to_anchor=(1.05, 1), title=\"Community\", loc='upper left', borderaxespad=0.)\n",
    "\n",
    "fig.tight_layout()\n",
    "fname = \"comm_detect_eval\"\n",
    "if mode == \"png\":\n",
    "    fig.savefig(\"Figures/{}.{}\".format(fname, mode))\n",
    "    fig.savefig(\"Figures/{}.svg\".format(fname))\n",
    "else:\n",
    "    fig.savefig(\"Figures/{}.svg\".format(fname))"
   ]
  },
  {
   "cell_type": "code",
   "execution_count": null,
   "id": "9cde49c9-7dd9-4cbe-ab5b-9fc20635375e",
   "metadata": {},
   "outputs": [],
   "source": [
    "Xhat = ase().fit_transform(Aperm)\n",
    "print(\"Estimated number of dimensions: {:d}\".format(Xhat.shape[1]))\n",
    "# Estimated number of dimensions: 3"
   ]
  },
  {
   "cell_type": "code",
   "execution_count": null,
   "id": "a3151def-a895-4405-ab82-75bb4b88383e",
   "metadata": {},
   "outputs": [],
   "source": [
    "from graspologic.cluster import KMeansCluster\n",
    "\n",
    "km_clust = KMeansCluster(max_clusters = 10)\n",
    "labels_kmclust = km_clust.fit_predict(Xhat)"
   ]
  },
  {
   "cell_type": "code",
   "execution_count": null,
   "id": "f0c55d9a-533f-4620-a636-a4b249fd678f",
   "metadata": {},
   "outputs": [],
   "source": [
    "import seaborn as sns\n",
    "from pandas import DataFrame as df\n",
    "\n",
    "nclusters = range(2, 11)  # graspologic nclusters goes from 2 to max_clusters\n",
    "silhouette = km_clust.silhouette_ # obtain the respective silhouettes\n",
    "\n",
    "# place into pandas dataframe\n",
    "ss_df = df({\"Number of Communities\": nclusters, \"Silhouette Score\": silhouette})"
   ]
  },
  {
   "cell_type": "code",
   "execution_count": null,
   "id": "809639ab-bdb6-427d-bd7d-1e23287d4272",
   "metadata": {},
   "outputs": [],
   "source": [
    "# compute the confusion matrix between the true labels z\n",
    "# and the predicted labels labels_kmeans\n",
    "cf_matrix_kmclust = confusion_matrix(zperm, labels_kmclust)\n",
    "\n",
    "labels_kmeans_remap_kmclust = remap_labels(zperm, labels_kmeans)\n",
    "\n",
    "# compute which assigned labels from labels_kmeans_remap differ from the true labels z\n",
    "error_kmclust = zperm - labels_kmeans_remap_kmclust\n",
    "# if the difference between the community labels is non-zero, an error has occurred\n",
    "error_kmclust = error_kmclust != 0\n",
    "error_rate_kmclust = np.mean(error_kmclust)  # error rate is the frequency of making an error"
   ]
  },
  {
   "cell_type": "code",
   "execution_count": null,
   "id": "3e933504-b8ad-448c-8f91-ee20c4923ed1",
   "metadata": {},
   "outputs": [],
   "source": [
    "fig, axs = plt.subplots(2, 2, figsize=(15, 10), gridspec_kw={\"width_ratios\": [1, 1.5]})\n",
    "sns.lineplot(data=ss_df, x=\"Number of Communities\", y=\"Silhouette Score\", ax=axs[0][0])\n",
    "axs[0][0].set_title(\"(A) Silhouette score\")\n",
    "\n",
    "plot_latents(Xhat[:,1:3], labels=labels_kmclust,\n",
    "            title=\"(B) Optimal clustering based on silhouette score\", ax=axs[0][1], s=30)\n",
    "axs[0][1].set_xlabel(\"Dimension 2\")\n",
    "axs[0][1].set_ylabel(\"Dimension 3\")\n",
    "axs[0][1].legend(bbox_to_anchor=(1.05, 1), title=\"Predicted Community\", loc='upper left', borderaxespad=0.)\n",
    "\n",
    "heatmap(cf_matrix_kmclust.astype(float), yticks=[1.5, 2.5, 3.5], yticklabels=[1, 2, 3],\n",
    "        xticks=[0.5, 1.5, 2.5], xticklabels=[0, 1, 2], xtitle=\"Predicted label\",\n",
    "        ytitle=\"True label (community)\", title=\"\", legend_title=\"Count\", ax=axs[1][0])\n",
    "axs[1][0].invert_yaxis()\n",
    "axs[1][0].set_ylim((1, 4))\n",
    "axs[1][0].set_xlim((0, 4))\n",
    "axs[1][0].set_title(\"(C) Confusion matrix\", pad=56, fontsize=23)\n",
    "\n",
    "error_str = [\"Correct Pred.\" if err == 0 else \"Wrong Pred.\" for err in error_kmclust]\n",
    "plot_latents(Xhat[:,1:3], labels=error_str,\n",
    "            title=\"(D) Misclassified nodes\", ax=axs[1][1], s=30,\n",
    "            palette={\"Correct Pred.\": \"#11EE11\", \"Wrong Pred.\": \"#EE1111\"})\n",
    "axs[1][1].set_xlabel(\"Dimension 2\")\n",
    "axs[1][1].set_ylabel(\"Dimension 3\")\n",
    "axs[1][1].legend(bbox_to_anchor=(1.05, 1), title=\"Community\", loc='upper left', borderaxespad=0.)\n",
    "\n",
    "fig.tight_layout()\n",
    "\n",
    "fname = \"comm_detect_kmclust\"\n",
    "if mode == \"png\":\n",
    "    fig.savefig(\"Figures/{}.{}\".format(fname, mode))\n",
    "    fig.savefig(\"Figures/{}.svg\".format(fname))\n",
    "else:\n",
    "    pass\n",
    "    fig.savefig(\"Figures/{}.svg\".format(fname))"
   ]
  }
 ],
 "metadata": {
  "kernelspec": {
   "display_name": "Python 3 (ipykernel)",
   "language": "python",
   "name": "python3"
  },
  "language_info": {
   "codemirror_mode": {
    "name": "ipython",
    "version": 3
   },
   "file_extension": ".py",
   "mimetype": "text/x-python",
   "name": "python",
   "nbconvert_exporter": "python",
   "pygments_lexer": "ipython3",
   "version": "3.9.13"
  }
 },
 "nbformat": 4,
 "nbformat_minor": 5
}
