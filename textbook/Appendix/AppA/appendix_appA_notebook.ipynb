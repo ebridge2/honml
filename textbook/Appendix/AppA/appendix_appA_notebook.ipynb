{
  "nbformat": 4,
  "nbformat_minor": 5,
  "metadata": {},
  "cells": [
    {
      "id": "8d32369e",
      "cell_type": "markdown",
      "source": "(appA:code_repr)=\n# Code Reproducibility",
      "metadata": {}
    },
    {
      "id": "289181e3",
      "cell_type": "code",
      "metadata": {},
      "execution_count": null,
      "source": "import seaborn as sns\nimport numpy as np\nfrom math import comb\n\n\nn = np.arange(2, 51)\nlogAn = np.array([comb(ni, 2) for ni in n])*np.log10(2)",
      "outputs": []
    }
  ]
}