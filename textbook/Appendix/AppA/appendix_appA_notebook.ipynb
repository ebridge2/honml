{
 "cells": [
  {
   "cell_type": "markdown",
   "id": "83ac8330-de7a-427b-9eb2-1f83b5956f77",
   "metadata": {},
   "source": [
    "# Code Reproducibility: Appendix A"
   ]
  },
  {
   "cell_type": "code",
   "execution_count": null,
   "id": "485b02eb-e14d-47e8-9fd0-c2b0db42cce1",
   "metadata": {},
   "outputs": [],
   "source": [
    "import seaborn as sns\n",
    "import numpy as np\n",
    "from math import comb\n",
    "\n",
    "\n",
    "n = np.arange(2, 51)\n",
    "logAn = np.array([comb(ni, 2) for ni in n])*np.log10(2)"
   ]
  }
 ],
 "metadata": {
  "kernelspec": {
   "display_name": "Python 3 (ipykernel)",
   "language": "python",
   "name": "python3"
  },
  "language_info": {
   "codemirror_mode": {
    "name": "ipython",
    "version": 3
   },
   "file_extension": ".py",
   "mimetype": "text/x-python",
   "name": "python",
   "nbconvert_exporter": "python",
   "pygments_lexer": "ipython3",
   "version": "3.9.13"
  }
 },
 "nbformat": 4,
 "nbformat_minor": 5
}
