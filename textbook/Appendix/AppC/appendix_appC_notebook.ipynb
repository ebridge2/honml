{
 "cells": [
  {
   "cell_type": "markdown",
   "id": "389bfde2-d1de-4099-bc9e-5eec07e22acc",
   "metadata": {},
   "source": [
    "(appC:code_repr)=\n",
    "# Code Reproducibility: Appendix C"
   ]
  },
  {
   "cell_type": "code",
   "execution_count": null,
   "id": "8463a051-1587-4bef-9976-b469cbdac799",
   "metadata": {},
   "outputs": [],
   "source": [
    "from graspologic.simulations import sbm\n",
    "from graspologic.embed import AdjacencySpectralEmbed as ASE\n",
    "import numpy as np\n",
    "\n",
    "ns = [50, 40, 30]\n",
    "B = [[0.6, 0.2, 0.2],\n",
    "     [0.2, 0.6, 0.2],\n",
    "     [0.2, 0.2, 0.6]]\n",
    "\n",
    "np.random.seed(1234)\n",
    "A = sbm(n=ns, p = B)\n",
    "\n",
    "# the true community labels\n",
    "z = [0 for i in range(0,ns[0])] + [1 for i in range(0, ns[1])] + [2 for i in range(0, ns[2])]\n",
    "Xhat = ASE(n_components=3).fit(A).latent_left_"
   ]
  },
  {
   "cell_type": "code",
   "execution_count": null,
   "id": "c509f80d",
   "metadata": {},
   "outputs": [],
   "source": [
    "from pandas import DataFrame\n",
    "import seaborn as sns\n",
    "import matplotlib.pyplot as plt\n",
    "\n",
    "data = DataFrame({\"Dimension 2\" : Xhat[:,1], \"Dimension 3\" : Xhat[:,2]})\n",
    "palette = {\"0\" : \"blue\", \"1\": \"green\", \"2\": \"red\"}\n",
    "fig, ax = plt.subplots(1, 1, figsize=(6, 4))\n",
    "sns.scatterplot(data=data, x=\"Dimension 2\", y=\"Dimension 3\", color=\"gray\", ax=ax)\n",
    "ax.set_title(\"Estimates of latent positions\");"
   ]
  },
  {
   "cell_type": "code",
   "execution_count": null,
   "id": "013fc4a1",
   "metadata": {},
   "outputs": [],
   "source": [
    "centers = np.array([[.5, .5], [-0.05, 0.05], [-0.05, -0.05]])\n",
    "datcenters = DataFrame({\"Dimension 2\": centers[:,0], \"Dimension 3\": centers[:,1], \"Cluster\": [\"0\", \"1\",\"2\"]})"
   ]
  },
  {
   "cell_type": "code",
   "execution_count": null,
   "id": "8ec8d44b",
   "metadata": {},
   "outputs": [],
   "source": [
    "from scipy.spatial import distance_matrix\n",
    "distances = distance_matrix(Xhat[:,1:3], centers)\n",
    "assignment = np.argmin(distances, axis=1)\n",
    "\n",
    "data[\"Closest Center\"] = assignment.astype(str)"
   ]
  },
  {
   "cell_type": "code",
   "execution_count": null,
   "id": "1bf264fb",
   "metadata": {},
   "outputs": [],
   "source": [
    "centers = np.array([np.mean(Xhat[assignment == k,1:3], axis=0) for k in range(0, 3)])\n",
    "\n",
    "datcenters = DataFrame({\"Dimension 2\": centers[:,0], \"Dimension 3\": centers[:,1], \"Cluster\": [\"0\", \"1\",\"2\"]})"
   ]
  },
  {
   "cell_type": "code",
   "execution_count": null,
   "id": "c4d6e9fa",
   "metadata": {},
   "outputs": [],
   "source": [
    "distances = distance_matrix(Xhat[:,1:3], centers)\n",
    "assignment = np.argmin(distances, axis=1)\n",
    "centers_new = np.array([np.mean(Xhat[assignment == k,1:3], axis=0) for k in range(0, 3)])\n",
    "\n",
    "data[\"Closest Center\"] = assignment.astype(str)"
   ]
  },
  {
   "cell_type": "code",
   "execution_count": null,
   "id": "7eb4ca6d",
   "metadata": {},
   "outputs": [],
   "source": [
    "from sklearn.cluster import KMeans\n",
    "\n",
    "labels_kmeans = KMeans(n_clusters = 3, random_state=1234).fit_predict(Xhat)"
   ]
  },
  {
   "cell_type": "code",
   "execution_count": null,
   "id": "094458d7",
   "metadata": {},
   "outputs": [],
   "source": [
    "from graspologic.plot import pairplot\n",
    "\n",
    "_ = pairplot(Xhat, labels=labels_kmeans, title=\"Pairplot of embedding of $A$\", legend_name=\"Predicted Cluster\")"
   ]
  },
  {
   "cell_type": "code",
   "execution_count": null,
   "id": "cde8bcd2",
   "metadata": {},
   "outputs": [],
   "source": [
    "from sklearn.metrics import confusion_matrix\n",
    "# compute the confusion matrix between the true labels z\n",
    "# and the predicted labels labels_kmeans\n",
    "cf_matrix = confusion_matrix(z, labels_kmeans)"
   ]
  },
  {
   "cell_type": "code",
   "execution_count": null,
   "id": "26786ac8",
   "metadata": {},
   "outputs": [],
   "source": [
    "cfm_norm = cf_matrix/cf_matrix.sum(axis=1)[:,None]"
   ]
  },
  {
   "cell_type": "code",
   "execution_count": null,
   "id": "4690f4f3",
   "metadata": {},
   "outputs": [],
   "source": [
    "fig, ax = plt.subplots(1,1, figsize=(6,4))\n",
    "sns.heatmap(cfm_norm, cmap=cmaps[\"sequential\"], ax=ax)\n",
    "ax.set_title(\"Normalized confusion matrix\")\n",
    "ax.set_ylabel(\"True Label\")\n",
    "ax.set_xlabel(\"Predicted Label\");"
   ]
  },
  {
   "cell_type": "code",
   "execution_count": null,
   "id": "64f259f2",
   "metadata": {},
   "outputs": [],
   "source": [
    "from sklearn.metrics import adjusted_rand_score\n",
    "\n",
    "ari_kmeans = adjusted_rand_score(z, labels_kmeans)"
   ]
  },
  {
   "cell_type": "code",
   "execution_count": null,
   "id": "83ec5b6d",
   "metadata": {},
   "outputs": [],
   "source": [
    "print(\"ARI(predicted communities, true communities) = {}\".format(ari_kmeans))"
   ]
  }
 ],
 "metadata": {
  "kernelspec": {
   "display_name": "Python 3 (ipykernel)",
   "language": "python",
   "name": "python3"
  },
  "language_info": {
   "codemirror_mode": {
    "name": "ipython",
    "version": 3
   },
   "file_extension": ".py",
   "mimetype": "text/x-python",
   "name": "python",
   "nbconvert_exporter": "python",
   "pygments_lexer": "ipython3",
   "version": "3.9.13"
  }
 },
 "nbformat": 4,
 "nbformat_minor": 5
}
