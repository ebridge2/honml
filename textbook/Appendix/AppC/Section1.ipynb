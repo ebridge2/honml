{
 "cells": [
  {
   "cell_type": "markdown",
   "id": "722c7b00-9a0d-4f53-aa44-77cc6330dcc4",
   "metadata": {},
   "source": [
    "(appC:unsup)=\n",
    "# C.1 Unsupervised machine learning"
   ]
  },
  {
   "cell_type": "code",
   "execution_count": null,
   "id": "7805f0a8-af2e-4313-9b22-d48746d23bde",
   "metadata": {},
   "outputs": [],
   "source": [
    "mode = \"svg\"\n",
    "\n",
    "import matplotlib\n",
    "\n",
    "font = {'family' : 'Dejavu Sans',\n",
    "        'weight' : 'normal',\n",
    "        'size'   : 20}\n",
    "\n",
    "matplotlib.rc('font', **font)\n",
    "\n",
    "import matplotlib\n",
    "from matplotlib import pyplot as plt"
   ]
  },
  {
   "cell_type": "code",
   "execution_count": null,
   "id": "146a19f7-ddc5-4d90-a710-8457edef0938",
   "metadata": {},
   "outputs": [],
   "source": [
    "from graspologic.simulations import sbm\n",
    "from graspologic.embed import AdjacencySpectralEmbed as ASE\n",
    "import numpy as np\n",
    "\n",
    "ns = [50, 40, 30]\n",
    "B = [[0.6, 0.2, 0.2],\n",
    "     [0.2, 0.6, 0.2],\n",
    "     [0.2, 0.2, 0.6]]\n",
    "\n",
    "np.random.seed(1234)\n",
    "A = sbm(n=ns, p = B)\n",
    "\n",
    "# the true community labels\n",
    "z = [0 for i in range(0,ns[0])] + [1 for i in range(0, ns[1])] + [2 for i in range(0, ns[2])]\n",
    "Xhat = ASE(n_components=3).fit(A).latent_left_"
   ]
  },
  {
   "cell_type": "code",
   "execution_count": null,
   "id": "d2372142-e231-447b-9e5e-6a558169bb92",
   "metadata": {},
   "outputs": [],
   "source": [
    "from pandas import DataFrame\n",
    "import seaborn as sns\n",
    "import matplotlib.pyplot as plt\n",
    "\n",
    "data = DataFrame({\"Dimension 2\" : Xhat[:,1], \"Dimension 3\" : Xhat[:,2]})\n",
    "palette = {\"0\" : \"blue\", \"1\": \"green\", \"2\": \"red\"}\n",
    "fig, ax = plt.subplots(1, 1, figsize=(6, 4))\n",
    "sns.scatterplot(data=data, x=\"Dimension 2\", y=\"Dimension 3\", color=\"gray\", ax=ax)\n",
    "ax.set_title(\"Estimates of latent positions\");"
   ]
  },
  {
   "cell_type": "code",
   "execution_count": null,
   "id": "75c64241-f6bf-4295-a5d6-39e83f482ae5",
   "metadata": {},
   "outputs": [],
   "source": [
    "centers = np.array([[.5, .5], [-0.05, 0.05], [-0.05, -0.05]])\n",
    "datcenters = DataFrame({\"Dimension 2\": centers[:,0], \"Dimension 3\": centers[:,1], \"Cluster\": [\"0\", \"1\",\"2\"]})"
   ]
  },
  {
   "cell_type": "code",
   "execution_count": null,
   "id": "b1e551e2-f14f-4665-ab25-44925e97e743",
   "metadata": {},
   "outputs": [],
   "source": [
    "from scipy.spatial import distance_matrix\n",
    "distances = distance_matrix(Xhat[:,1:3], centers)\n",
    "assignment = np.argmin(distances, axis=1)\n",
    "\n",
    "data[\"Closest Center\"] = assignment.astype(str)"
   ]
  },
  {
   "cell_type": "code",
   "execution_count": null,
   "id": "9ddc92e0-7a17-422e-abb7-d339b5bcb5ce",
   "metadata": {},
   "outputs": [],
   "source": [
    "centers = np.array([np.mean(Xhat[assignment == k,1:3], axis=0) for k in range(0, 3)])\n",
    "\n",
    "datcenters = DataFrame({\"Dimension 2\": centers[:,0], \"Dimension 3\": centers[:,1], \"Cluster\": [\"0\", \"1\",\"2\"]})"
   ]
  },
  {
   "cell_type": "code",
   "execution_count": null,
   "id": "5e6cb839-de28-4dee-bd85-111994d43012",
   "metadata": {},
   "outputs": [],
   "source": [
    "distances = distance_matrix(Xhat[:,1:3], centers)\n",
    "assignment = np.argmin(distances, axis=1)\n",
    "centers_new = np.array([np.mean(Xhat[assignment == k,1:3], axis=0) for k in range(0, 3)])\n",
    "\n",
    "data[\"Closest Center\"] = assignment.astype(str)"
   ]
  },
  {
   "cell_type": "code",
   "execution_count": null,
   "id": "5076a969-caf7-478b-b697-72b792335eae",
   "metadata": {},
   "outputs": [],
   "source": [
    "import os\n",
    "\n",
    "fig, axs = plt.subplots(1, 3, figsize=(20, 6))\n",
    "color_kwarg = [{\"color\": \"gray\"}, {\"hue\": \"Closest Center\"}, {\"hue\": \"Closest Center\"}]\n",
    "cdat = [centers, centers, centers_new]\n",
    "titles = [\"(A) Centers from previous iteration\", \"(B) Temporary cluster assignments\", \"(C) Update centers\"]\n",
    "\n",
    "for i, ax in enumerate(axs.flat):\n",
    "    sns.scatterplot(data=data, x=\"Dimension 2\", y=\"Dimension 3\", ax=ax, **color_kwarg[i],\n",
    "                    palette=palette, legend=False)\n",
    "    datcenters = DataFrame({\"Dimension 2\": cdat[i][:,0], \"Dimension 3\": cdat[i][:,1], \"Cluster\": [\"0\", \"1\",\"2\"]})\n",
    "    sns.scatterplot(data=datcenters, x=\"Dimension 2\", y=\"Dimension 3\", hue=\"Cluster\",\n",
    "                    palette=palette, ax=ax, s=200)\n",
    "    ax.set_title(titles[i])\n",
    "    if i != 2:\n",
    "        ax.get_legend().remove()\n",
    "\n",
    "fig.tight_layout()\n",
    "\n",
    "os.makedirs(\"Figures\", exist_ok=True)\n",
    "fname = \"kmeans_process\"\n",
    "if mode != \"png\":\n",
    "    os.makedirs(f\"Figures/{mode:s}\", exist_ok=True)\n",
    "    fig.savefig(f\"Figures/{mode:s}/{fname:s}.{mode:s}\")\n",
    "\n",
    "os.makedirs(\"Figures/png\", exist_ok=True)\n",
    "fig.savefig(f\"Figures/png/{fname:s}.png\")"
   ]
  },
  {
   "cell_type": "code",
   "execution_count": null,
   "id": "c4c966cf-0b75-4f01-af2d-801229e6efbc",
   "metadata": {},
   "outputs": [],
   "source": [
    "from sklearn.cluster import KMeans\n",
    "\n",
    "labels_kmeans = KMeans(n_clusters = 3, random_state=1234).fit_predict(Xhat)"
   ]
  },
  {
   "cell_type": "code",
   "execution_count": null,
   "id": "91614d4f-3036-467a-80c0-0e80e18dd271",
   "metadata": {},
   "outputs": [],
   "source": [
    "from graspologic.plot import pairplot\n",
    "\n",
    "fig = pairplot(Xhat, labels=labels_kmeans, title=\"Pairplot of embedding of $A$\", legend_name=\"Predicted Cluster\")\n",
    "\n",
    "fname = \"kmeans_out\"\n",
    "if mode != \"png\":\n",
    "    fig.savefig(f\"Figures/{mode:s}/{fname:s}.{mode:s}\")\n",
    "\n",
    "fig.savefig(f\"Figures/png/{fname:s}.png\")"
   ]
  },
  {
   "cell_type": "code",
   "execution_count": null,
   "id": "7ccbff4e-cb0c-4c13-b649-64aec4a65cf8",
   "metadata": {},
   "outputs": [],
   "source": [
    "from sklearn.metrics import confusion_matrix\n",
    "# compute the confusion matrix between the true labels z\n",
    "# and the predicted labels labels_kmeans\n",
    "cf_matrix = confusion_matrix(z, labels_kmeans)"
   ]
  },
  {
   "cell_type": "code",
   "execution_count": null,
   "id": "493f1007-12e7-4b32-8938-1a7ed7fdcab0",
   "metadata": {},
   "outputs": [],
   "source": [
    "cfm_norm = cf_matrix/cf_matrix.sum(axis=1)[:,None]"
   ]
  },
  {
   "cell_type": "code",
   "execution_count": null,
   "id": "06820fbf-88d8-474a-a912-7e3d82284ce6",
   "metadata": {},
   "outputs": [],
   "source": [
    "from graphbook_code import cmaps\n",
    "\n",
    "fig, axs = plt.subplots(1,2, figsize=(12,5))\n",
    "\n",
    "sns.heatmap(cf_matrix, cmap=cmaps[\"sequential\"], ax=axs[0], annot=True, cbar_kws={\"label\": \"Count\", \"shrink\": 0.6})\n",
    "axs[0].set_title(\"(A) Confusion matrix\")\n",
    "axs[0].set_ylabel(\"True Label\")\n",
    "axs[0].set_xlabel(\"Predicted Label\")\n",
    "\n",
    "sns.heatmap(cfm_norm, cmap=cmaps[\"sequential\"], ax=axs[1], annot=True, cbar_kws={\"label\": \"Fraction\", \"shrink\": 0.6})\n",
    "axs[1].set_title(\"(B) Normalized confusion matrix\")\n",
    "axs[1].set_ylabel(\"True Label\")\n",
    "axs[1].set_xlabel(\"Predicted Label\")\n",
    "\n",
    "fig.tight_layout()\n",
    "\n",
    "fname = \"kmeans_cfmtx\"\n",
    "if mode != \"png\":\n",
    "    fig.savefig(f\"Figures/{mode:s}/{fname:s}.{mode:s}\")\n",
    "\n",
    "fig.savefig(f\"Figures/png/{fname:s}.png\")"
   ]
  },
  {
   "cell_type": "code",
   "execution_count": null,
   "id": "12371e1c-bab4-435c-ba17-82cc972e0957",
   "metadata": {},
   "outputs": [],
   "source": [
    "from sklearn.metrics import adjusted_rand_score\n",
    "\n",
    "ari_kmeans = adjusted_rand_score(z, labels_kmeans)"
   ]
  },
  {
   "cell_type": "code",
   "execution_count": null,
   "id": "16365029-52ca-47dd-a1ee-d741df072265",
   "metadata": {},
   "outputs": [],
   "source": [
    "print(\"ARI(predicted communities, true communities) = {}\".format(ari_kmeans))"
   ]
  },
  {
   "cell_type": "code",
   "execution_count": null,
   "id": "ac627032-58db-4e37-999e-aa22ef83c89e",
   "metadata": {},
   "outputs": [],
   "source": []
  }
 ],
 "metadata": {
  "kernelspec": {
   "display_name": "Python 3 (ipykernel)",
   "language": "python",
   "name": "python3"
  },
  "language_info": {
   "codemirror_mode": {
    "name": "ipython",
    "version": 3
   },
   "file_extension": ".py",
   "mimetype": "text/x-python",
   "name": "python",
   "nbconvert_exporter": "python",
   "pygments_lexer": "ipython3",
   "version": "3.9.13"
  }
 },
 "nbformat": 4,
 "nbformat_minor": 5
}
