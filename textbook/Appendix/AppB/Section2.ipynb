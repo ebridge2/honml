{
 "cells": [
  {
   "cell_type": "markdown",
   "id": "3184b169-31a9-41c8-943f-8a1c9a899b84",
   "metadata": {},
   "source": [
    "(appB:spectral)=\n",
    "# B.2 Theoretical considerations for spectral embeddings"
   ]
  },
  {
   "cell_type": "code",
   "execution_count": null,
   "id": "712a6a71-ac0a-4ee0-ad72-12b1c349fdd8",
   "metadata": {},
   "outputs": [],
   "source": [
    "mode = \"svg\"\n",
    "\n",
    "import matplotlib\n",
    "\n",
    "font = {'family' : 'Dejavu Sans',\n",
    "        'weight' : 'normal',\n",
    "        'size'   : 20}\n",
    "\n",
    "matplotlib.rc('font', **font)\n",
    "\n",
    "import matplotlib\n",
    "from matplotlib import pyplot as plt"
   ]
  },
  {
   "cell_type": "code",
   "execution_count": null,
   "id": "9cbcb070-c26c-4ecb-89f5-57fedcec810b",
   "metadata": {},
   "outputs": [],
   "source": [
    "import numpy as np\n",
    "from graspologic.simulations import er_np\n",
    "from graspologic.embed import AdjacencySpectralEmbed\n",
    "\n",
    "def orthogonal_align(Xhat, p=0.5):\n",
    "    return -Xhat if ((Xhat*np.sqrt(p)).sum() < 0) else Xhat\n",
    "\n",
    "p = 0.5\n",
    "ns = np.round(10**np.linspace(1.5, 3.5, 5)).astype(int)\n",
    "ase = AdjacencySpectralEmbed(n_components=1)\n",
    "\n",
    "As = [[er_np(n, p) for _ in range(50)] for n in ns]\n",
    "Xhats_aligned = [[orthogonal_align(ase.fit_transform(A)) for A in An] for An in As]"
   ]
  },
  {
   "cell_type": "code",
   "execution_count": null,
   "id": "a122769c-4590-4184-9ac2-e4f5a1dfd9f5",
   "metadata": {},
   "outputs": [],
   "source": [
    "import pandas as pd\n",
    "\n",
    "data = []\n",
    "for n_idx, n in enumerate(ns):\n",
    "    for j in range(50):\n",
    "        data.extend([(Xhats_aligned[n_idx][j][i][0], i, n, j, np.sqrt(p)) for i in range(n)])\n",
    "\n",
    "df = pd.DataFrame(data, columns=[\"Xhat\", \"i\", \"n\", \"j\", \"X\"])\n",
    "df[\"abs_diff\"] = np.abs(df[\"Xhat\"] - df[\"X\"])\n",
    "\n",
    "max_pernet = df.groupby([\"n\", \"j\"])[\"abs_diff\"].max().reset_index()\n",
    "max_pernet[\"norm_factor\"] = np.log(max_pernet[\"n\"])**2 / np.sqrt(max_pernet[\"n\"])\n",
    "max_pernet[\"norm_diff\"] = max_pernet[\"abs_diff\"] / max_pernet[\"norm_factor\"]"
   ]
  },
  {
   "cell_type": "code",
   "execution_count": null,
   "id": "c074197e-9284-4cf2-b9e8-2ee386c9f55e",
   "metadata": {},
   "outputs": [],
   "source": [
    "import seaborn as sns\n",
    "import matplotlib.pyplot as plt\n",
    "import os\n",
    "\n",
    "fig, ax = plt.subplots(1,1, figsize=(10, 4))\n",
    "                        \n",
    "sns.lineplot(data=max_pernet, x=\"n\", y=\"norm_diff\", color=\"black\", ax=ax)\n",
    "ax.set_xlabel(\"Number of Nodes\")\n",
    "ax.set_ylabel(\"$ \\\\frac{\\\\sqrt{n}\\\\,\\\\, max_i |\\\\hat x_i - \\\\sqrt{p} w_n|}{\\\\log^2(n)}$\")\n",
    "ax.set_title(\"Uniform closeness\")\n",
    "\n",
    "fig.tight_layout()\n",
    "\n",
    "os.makedirs(\"Figures\", exist_ok=True)\n",
    "fname = \"spectral_unif_cl\"\n",
    "if mode != \"png\":\n",
    "    os.makedirs(f\"Figures/{mode:s}\", exist_ok=True)\n",
    "    fig.savefig(f\"Figures/{mode:s}/{fname:s}.{mode:s}\")\n",
    "\n",
    "os.makedirs(\"Figures/png\", exist_ok=True)\n",
    "fig.savefig(f\"Figures/png/{fname:s}.png\")"
   ]
  },
  {
   "cell_type": "code",
   "execution_count": null,
   "id": "e6f0b32d-4c3f-4049-8769-cb8a582789b6",
   "metadata": {},
   "outputs": [],
   "source": [
    "df_reduced = df[df[\"j\"] == 0].copy()\n",
    "df_reduced[\"limiting_factor\"] = np.sqrt(df_reduced[\"n\"]) * (df_reduced[\"Xhat\"] - df_reduced[\"X\"])"
   ]
  },
  {
   "cell_type": "code",
   "execution_count": null,
   "id": "3cc7671c-3bda-4bac-accd-d8fd663050cb",
   "metadata": {},
   "outputs": [],
   "source": [
    "from scipy.stats import norm\n",
    "\n",
    "g = sns.FacetGrid(df_reduced, col=\"n\")\n",
    "g.map(sns.histplot, \"limiting_factor\", stat=\"density\", color=\"black\")\n",
    "truth = pd.DataFrame({\"x\" :  np.linspace(-2, 2, 100)})\n",
    "truth[\"y\"] = norm.pdf(truth[\"x\"], scale=np.sqrt(1-p))\n",
    "\n",
    "axes = g.fig.axes\n",
    "for ax in axes:\n",
    "    sns.lineplot(data=truth, x=\"x\", y=\"y\", ax=ax, color=\"#BBBBBB\", linestyle=\"--\", linewidth=2.5);\n",
    "g.set_axis_labels(\"$\\\\sqrt{n}(\\\\hat x_i - \\\\sqrt{p})$\");\n",
    "\n",
    "fig = g.fig\n",
    "fig.tight_layout()\n",
    "fname = \"spectral_asy_norm\"\n",
    "if mode != \"png\":\n",
    "    fig.savefig(f\"Figures/{mode:s}/{fname:s}.{mode:s}\")\n",
    "\n",
    "fig.savefig(f\"Figures/png/{fname:s}.png\")"
   ]
  },
  {
   "cell_type": "code",
   "execution_count": null,
   "id": "6a3f5267-507e-4816-89fd-3036c2f45a45",
   "metadata": {},
   "outputs": [],
   "source": []
  }
 ],
 "metadata": {
  "kernelspec": {
   "display_name": "Python 3 (ipykernel)",
   "language": "python",
   "name": "python3"
  },
  "language_info": {
   "codemirror_mode": {
    "name": "ipython",
    "version": 3
   },
   "file_extension": ".py",
   "mimetype": "text/x-python",
   "name": "python",
   "nbconvert_exporter": "python",
   "pygments_lexer": "ipython3",
   "version": "3.9.13"
  }
 },
 "nbformat": 4,
 "nbformat_minor": 5
}
