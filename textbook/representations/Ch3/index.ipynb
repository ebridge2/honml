{
 "cells": [
  {
   "cell_type": "markdown",
   "id": "3645bd0c-7676-4018-a1f0-ce6b4bd71563",
   "metadata": {},
   "source": [
    "(ch3)=\n",
    "# 3 Characterizing and preparing network data"
   ]
  },
  {
   "cell_type": "markdown",
   "id": "c8455bb4-4c18-4df2-bf6c-b00a9c2c9e3d",
   "metadata": {},
   "source": [
    "+ {ref}`ch3:propnet`\n",
    "+ {ref}`ch3:descriptive_nodes`\n",
    "+ {ref}`ch3:summary_stats`\n",
    "+ {ref}`ch3:matrix-representations`\n",
    "+ {ref}`ch3:subnetworks`\n",
    "+ {ref}`ch3:reg_nodes`\n",
    "+ {ref}`ch3:reg_edges`\n",
    "+ {ref}`ch3:edge_rescaling`"
   ]
  }
 ],
 "metadata": {
  "kernelspec": {
   "display_name": "Python 3 (ipykernel)",
   "language": "python",
   "name": "python3"
  },
  "language_info": {
   "codemirror_mode": {
    "name": "ipython",
    "version": 3
   },
   "file_extension": ".py",
   "mimetype": "text/x-python",
   "name": "python",
   "nbconvert_exporter": "python",
   "pygments_lexer": "ipython3",
   "version": "3.9.13"
  }
 },
 "nbformat": 4,
 "nbformat_minor": 5
}
