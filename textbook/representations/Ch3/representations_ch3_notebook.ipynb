{
 "cells": [
  {
   "cell_type": "markdown",
   "id": "0ab5e47f-bbb3-44b0-bae9-04e0b2404511",
   "metadata": {},
   "source": [
    "# Code Reproducibility: Chapter 3"
   ]
  },
  {
   "cell_type": "code",
   "execution_count": null,
   "id": "62b6f3c9-6463-42d6-ab73-b4a514ed0232",
   "metadata": {},
   "outputs": [],
   "source": [
    "import numpy as np\n",
    "import networkx as nx\n",
    "\n",
    "G = nx.DiGraph()\n",
    "# add nodes to the network\n",
    "G.add_node(\"1\", pos=(1,1))\n",
    "G.add_node(\"2\", pos=(4,4))\n",
    "G.add_node(\"3\", pos=(4,2))\n",
    "# add edges to the network\n",
    "G.add_edge(\"1\", \"2\")\n",
    "G.add_edge(\"2\", \"1\")\n",
    "G.add_edge(\"1\", \"3\")\n",
    "G.add_edge(\"3\", \"1\")\n",
    "\n",
    "# the coordinates in space to use for plotting the nodes\n",
    "# in the layout plot\n",
    "pos = {\"1\": (0, 0), \"2\": (1, 0), \"3\": (.5, .5)}\n",
    "\n",
    "nx.draw_networkx(G, with_labels=True, node_color=\"white\", pos=pos,\n",
    "                font_size=10, font_color=\"black\", arrows=False, edge_color=\"black\",\n",
    "                width=1)"
   ]
  },
  {
   "cell_type": "code",
   "execution_count": null,
   "id": "a75db8b1",
   "metadata": {},
   "outputs": [],
   "source": [
    "from graphbook_code import heatmap\n",
    "import matplotlib.pyplot as plt\n",
    "import seaborn as sns\n",
    "\n",
    "# convert the networkx graph to a numpy array\n",
    "A = np.asarray(nx.to_numpy_array(G))\n",
    "\n",
    "heatmap(A, annot=True, linewidths=.1, cbar=False, \n",
    "        title=\"Adjacency matrix\", xticklabels=[1,2,3], xtitle=\"Node\", \n",
    "        yticklabels=[1,2,3], ytitle=\"Node\"\n",
    "       )"
   ]
  },
  {
   "cell_type": "code",
   "execution_count": null,
   "id": "df62735c",
   "metadata": {},
   "outputs": [],
   "source": [
    "import networkx as nx\n",
    "from graphbook_code import heatmap\n",
    "\n",
    "# create an undirected network G\n",
    "G = nx.Graph()\n",
    "# add the nodes like before\n",
    "G.add_node(\"SI\", pos=(2,1))\n",
    "G.add_node(\"MH\", pos=(4,4))\n",
    "G.add_node(\"BK\", pos=(4,1.7))\n",
    "G.add_node(\"Q\", pos=(6,3))\n",
    "G.add_node(\"BX\", pos=(6,6))\n",
    "\n",
    "# specify boroughs that are adjacent to one another\n",
    "pos = nx.get_node_attributes(G, 'pos')\n",
    "G.add_edge(\"SI\", \"BK\")\n",
    "G.add_edge(\"MH\", \"BK\")\n",
    "G.add_edge(\"BK\", \"Q\")\n",
    "G.add_edge(\"MH\", \"Q\")\n",
    "G.add_edge(\"MH\", \"BX\")\n",
    "G.add_edge(\"Q\", \"BX\")\n",
    "\n",
    "A = nx.to_numpy_array(G)\n",
    "\n",
    "# plotting\n",
    "nx.draw_networkx(G, with_labels=True, node_color=\"black\", pos=pos,\n",
    "                font_color=\"white\", edge_color=\"black\")\n",
    "\n",
    "# pass in the xticklabels and yticklabels corresponding to the\n",
    "# appropriately ordered boroughs (in the order we constructed them)\n",
    "heatmap(A.astype(int), xticklabels=[\"SI\", \"MH\", \"BK\", \"Q\", \"BX\"],\n",
    "        yticklabels=[\"SI\", \"MH\", \"BK\", \"Q\", \"BX\"],\n",
    "        xtitle=\"Borough\", ytitle=\"Borough\"\n",
    "       )"
   ]
  },
  {
   "cell_type": "code",
   "execution_count": null,
   "id": "51a093ca",
   "metadata": {},
   "outputs": [],
   "source": [
    "from copy import deepcopy\n",
    "\n",
    "G_dir = G.to_directed()\n",
    "\n",
    "# remove the edge from BK to SI\n",
    "G_dir.remove_edge(\"BK\", \"SI\")\n",
    "\n",
    "nx.draw_networkx(G_dir, with_labels=True, node_color=\"black\", pos=pos,\n",
    "                font_color=\"white\", arrows=True, edge_color=\"black\")"
   ]
  },
  {
   "cell_type": "code",
   "execution_count": null,
   "id": "30a70959",
   "metadata": {},
   "outputs": [],
   "source": [
    "from graspologic.utils import is_symmetric\n",
    "\n",
    "A = nx.to_numpy_array(G)\n",
    "is_symmetric(A)\n",
    "# True\n",
    "A_dir = nx.to_numpy_array(G_dir)\n",
    "is_symmetric(A_dir)\n",
    "# False"
   ]
  },
  {
   "cell_type": "code",
   "execution_count": null,
   "id": "041859c5",
   "metadata": {},
   "outputs": [],
   "source": [
    "G_loopy = deepcopy(G)\n",
    "# add edge from SI to itself\n",
    "G_loopy.add_edge(\"SI\", \"SI\")\n",
    "nx.draw_networkx(G_loopy, with_labels=True, node_color=\"black\", pos=pos,\n",
    "                font_color=\"white\", edge_color=\"black\")"
   ]
  },
  {
   "cell_type": "code",
   "execution_count": null,
   "id": "2008cedc",
   "metadata": {},
   "outputs": [],
   "source": [
    "from graspologic.utils import is_loopless\n",
    "is_loopless(A)\n",
    "# True\n",
    "A_loopy = nx.to_numpy_array(G_loopy)\n",
    "is_loopless(A_loopy)\n",
    "# False"
   ]
  },
  {
   "cell_type": "code",
   "execution_count": null,
   "id": "8eec63b9",
   "metadata": {},
   "outputs": [],
   "source": [
    "G_weight = nx.Graph()\n",
    "\n",
    "G_weight.add_node(\"SI\", pos=(2,1))\n",
    "G_weight.add_node(\"MH\", pos=(4,4))\n",
    "G_weight.add_node(\"BK\", pos=(4,1.7))\n",
    "G_weight.add_node(\"Q\", pos=(6,3))\n",
    "G_weight.add_node(\"BX\", pos=(6,6))\n",
    "\n",
    "# this time, we add weights to the edges\n",
    "pos = nx.get_node_attributes(G, 'pos')\n",
    "G_weight.add_edge(\"SI\", \"BK\", weight=20)\n",
    "G_weight.add_edge(\"MH\", \"BK\", weight=15)\n",
    "G_weight.add_edge(\"BK\", \"Q\", weight=5)\n",
    "G_weight.add_edge(\"MH\", \"Q\", weight=15)\n",
    "G_weight.add_edge(\"MH\", \"BX\", weight=5)\n",
    "G_weight.add_edge(\"Q\", \"BX\", weight=15)\n",
    "\n",
    "edge_wts = nx.get_edge_attributes(G_weight, \"weight\")\n",
    "nx.draw_networkx(G_weight, with_labels=True, node_color=\"black\", pos=pos,\n",
    "                 font_color=\"white\", edge_color=\"black\")\n",
    "nx.draw_networkx_edge_labels(G_weight, pos, edge_wts)"
   ]
  },
  {
   "cell_type": "code",
   "execution_count": null,
   "id": "dd680d05",
   "metadata": {},
   "outputs": [],
   "source": [
    "from graspologic.utils import is_unweighted\n",
    "\n",
    "A_weight = nx.to_numpy_array(G_weight)\n",
    "is_unweighted(A)\n",
    "# True\n",
    "is_unweighted(A_weight)\n",
    "# False"
   ]
  },
  {
   "cell_type": "code",
   "execution_count": null,
   "id": "9d69fce5",
   "metadata": {},
   "outputs": [],
   "source": [
    "A_weight = nx.to_numpy_array(G_weight, nonedge=0).astype(float)\n",
    "\n",
    "heatmap(A_weight, xticklabels=[\"SI\", \"MH\", \"BK\", \"Q\", \"BX\"],\n",
    "        yticklabels=[\"SI\", \"MH\", \"BK\", \"Q\", \"BX\"], title=\"Weighted adjacency matrix\", \n",
    "        xtitle=\"Borough\", ytitle=\"Borough\")"
   ]
  },
  {
   "cell_type": "code",
   "execution_count": null,
   "id": "2d41dfc7",
   "metadata": {},
   "outputs": [],
   "source": [
    "def in_degrees(A):\n",
    "    \"\"\"\n",
    "    A function to compute the in-degrees for the nodes of an adjacency matrix.\n",
    "    \"\"\"\n",
    "    return A.sum(axis=1)\n",
    "\n",
    "def out_degrees(A):\n",
    "    \"\"\"\n",
    "    A function to compute the out-degrees for the nodes of an adjacency matrix.\n",
    "    \"\"\"\n",
    "    return A.sum(axis=0)\n",
    "\n",
    "# get the degree for node BK, which is node 2 in our network,\n",
    "# using either the in- or out-degree\n",
    "print(in_degrees(A)[2])\n",
    "# 3.0"
   ]
  },
  {
   "cell_type": "code",
   "execution_count": null,
   "id": "25d6ed28",
   "metadata": {},
   "outputs": [],
   "source": [
    "D = nx.floyd_warshall_numpy(G)\n",
    "heatmap(D, title=\"Distance matrix\",  xticklabels=[\"SI\", \"MH\", \"BK\", \"Q\", \"BX\"],\n",
    "        yticklabels=[\"SI\", \"MH\", \"BK\", \"Q\", \"BX\"], xtitle=\"Borough\", ytitle=\"Borough\")"
   ]
  },
  {
   "cell_type": "code",
   "execution_count": null,
   "id": "a2bffd37",
   "metadata": {},
   "outputs": [],
   "source": [
    "nx.density(G)\n",
    "# 0.6"
   ]
  },
  {
   "cell_type": "code",
   "execution_count": null,
   "id": "6d731f2e",
   "metadata": {},
   "outputs": [],
   "source": [
    "G_clus = nx.Graph()\n",
    "\n",
    "G_clus.add_node(\"MH\", pos=(4,4))\n",
    "G_clus.add_node(\"BK\", pos=(4,1.7))\n",
    "G_clus.add_node(\"Q\", pos=(6,3))\n",
    "G_clus.add_node(\"BX\", pos=(6,6))\n",
    "\n",
    "\n",
    "pos = nx.get_node_attributes(G, 'pos')\n",
    "G_clus.add_edge(\"MH\", \"BX\")\n",
    "G_clus.add_edge(\"MH\", \"BK\")\n",
    "G_clus.add_edge(\"BK\", \"Q\")\n",
    "G_clus.add_edge(\"MH\", \"Q\")\n",
    "G_clus.add_edge(\"Q\", \"BX\")\n",
    "\n",
    "nx.draw_networkx(G_clus, with_labels=True, node_color=\"black\", pos=pos,\n",
    "                 font_color=\"white\", edge_color=\"black\")"
   ]
  },
  {
   "cell_type": "code",
   "execution_count": null,
   "id": "f738a80e",
   "metadata": {},
   "outputs": [],
   "source": [
    "nx.transitivity(G_clus)\n",
    "# 0.75"
   ]
  },
  {
   "cell_type": "code",
   "execution_count": null,
   "id": "ac59b4ae",
   "metadata": {},
   "outputs": [],
   "source": [
    "# in-degree matrix\n",
    "D_in = np.diag(in_degrees(A))\n",
    "# out-degree matrix\n",
    "D_out = np.diag(out_degrees(A))\n",
    "# the network is undirected, so in and out degrees are same\n",
    "print(np.all(D_in == D_out))\n",
    "# True"
   ]
  },
  {
   "cell_type": "code",
   "execution_count": null,
   "id": "495dfe84",
   "metadata": {},
   "outputs": [],
   "source": [
    "# arbitrarily set degree matrix to in-degree matrix\n",
    "D = D_in"
   ]
  },
  {
   "cell_type": "code",
   "execution_count": null,
   "id": "cad798ab",
   "metadata": {},
   "outputs": [],
   "source": [
    "L = D - A"
   ]
  },
  {
   "cell_type": "code",
   "execution_count": null,
   "id": "a4eb731b",
   "metadata": {},
   "outputs": [],
   "source": [
    "from graspologic.utils import to_laplacian\n",
    "L_sym = to_laplacian(A, form=\"I-DAD\")"
   ]
  },
  {
   "cell_type": "code",
   "execution_count": null,
   "id": "ebdcf356",
   "metadata": {},
   "outputs": [],
   "source": [
    "L_dad = to_laplacian(A, form=\"DAD\")"
   ]
  },
  {
   "cell_type": "code",
   "execution_count": null,
   "id": "0eb4d07a",
   "metadata": {},
   "outputs": [],
   "source": [
    "tau = 1\n",
    "L_rdad = to_laplacian(A, form=\"R-DAD\", regularizer=tau)"
   ]
  },
  {
   "cell_type": "code",
   "execution_count": null,
   "id": "00f4a8ea",
   "metadata": {},
   "outputs": [],
   "source": [
    "G_induced = G.subgraph([\"BK\", \"MH\", \"Q\", \"BX\"]).copy()\n",
    "nx.draw_networkx(G_induced, with_labels=True, node_color=\"black\", pos=pos,\n",
    "                 font_color=\"white\", edge_color=\"black\")"
   ]
  },
  {
   "cell_type": "code",
   "execution_count": null,
   "id": "b4daac65",
   "metadata": {},
   "outputs": [],
   "source": [
    "G_withbos = deepcopy(G)\n",
    "G_withbos.add_node(\"BO\", pos=(8, 6))\n",
    "G_withbos.add_node(\"CA\", pos=(8, 8))\n",
    "G_withbos.add_edge(\"BO\", \"CA\")\n",
    "# fetch positions with boston and cambridge added\n",
    "pos = nx.get_node_attributes(G_withbos, 'pos')\n",
    "# plot\n",
    "nx.draw_networkx(G_withbos, with_labels=True, node_color=\"black\", pos=pos,\n",
    "                font_color=\"white\", edge_color=\"black\")"
   ]
  },
  {
   "cell_type": "code",
   "execution_count": null,
   "id": "51338601",
   "metadata": {},
   "outputs": [],
   "source": [
    "# returns a list of connected components, ordered \n",
    "# by decreasing size (#nodes)\n",
    "cc_withbos = nx.connected_components(G_withbos)\n",
    "# return the connected components, as networks\n",
    "CC_nets = [G_withbos.subgraph(cc).copy() for cc in cc_withbos]\n",
    "\n",
    "# plot the LCC\n",
    "nx.draw_networkx(CC_nets[0], with_labels=True, node_color=\"black\", pos=pos,\n",
    "                font_color=\"white\", edge_color=\"black\")"
   ]
  },
  {
   "cell_type": "code",
   "execution_count": null,
   "id": "653a7309",
   "metadata": {},
   "outputs": [],
   "source": [
    "from graphbook_code import heatmap\n",
    "from matplotlib import pyplot as plt\n",
    "from graspologic.simulations import er_np\n",
    "import networkx as nx\n",
    "\n",
    "n = 10\n",
    "A_bus = er_np(n, 0.6)\n",
    "\n",
    "# add pendants\n",
    "n_pend = 3\n",
    "A_bus = np.column_stack([np.row_stack([A_bus, np.zeros((n_pend, n))]), \n",
    "                         np.zeros((n + n_pend, n_pend))])\n",
    "n = n + n_pend\n",
    "\n",
    "# add pizza hut node\n",
    "n_pizza = 1\n",
    "A_bus = np.column_stack([np.row_stack([A_bus, np.ones((n_pizza, n))]), \n",
    "                         np.ones((n + n_pizza, n_pizza))])\n",
    "n = n + n_pizza\n",
    "\n",
    "# add isolates\n",
    "n_iso = 3\n",
    "A_bus = np.column_stack([np.row_stack([A_bus, np.zeros((n_iso, n))]), \n",
    "                         np.zeros((n + n_iso, n_iso))])\n",
    "A_bus = A_bus - np.diag(np.diag(A_bus))\n",
    "n = n + n_iso\n",
    "\n",
    "# as a heatmap\n",
    "node_names = [i for i in range(0, n)]\n",
    "heatmap(A_bus.astype(int), title=\"Business Network Adjacency Matrix\", \n",
    "               xticklabels=node_names, yticklabels=node_names)\n",
    "               \n",
    "# as a layout plot\n",
    "G_bus = nx.from_numpy_array(A_bus)\n",
    "node_pos = nx.shell_layout(G_bus)\n",
    "\n",
    "plt.figure()\n",
    "nx.draw(G_bus, pos=node_pos, node_color='white', edgecolors='black', with_labels=True, node_size=1500)"
   ]
  },
  {
   "cell_type": "code",
   "execution_count": null,
   "id": "c48b1e73",
   "metadata": {},
   "outputs": [],
   "source": [
    "def compute_degrees(A):\n",
    "    # compute the degrees of the network A\n",
    "    # since A is undirected, we can just sum\n",
    "    # along an axis.\n",
    "    return A.sum(axis=1)\n",
    "\n",
    "def prune_low_degree(A, return_inds=True, threshold=1):\n",
    "    # remove nodes which have a degree under a given\n",
    "    # threshold. For a simple network, threshold=0 removes isolates,\n",
    "    # and threshold=1 removes pendants\n",
    "    degrees = compute_degrees(A)\n",
    "    non_prunes = degrees > threshold\n",
    "    robj = A[np.where(non_prunes)[0],:][:,np.where(non_prunes)[0]]\n",
    "    if return_inds:\n",
    "        robj = (robj, np.where(non_prunes)[0])\n",
    "    return robj\n",
    "\n",
    "A_bus_lowpruned, nonpruned_nodes = prune_low_degree(A_bus)"
   ]
  },
  {
   "cell_type": "code",
   "execution_count": null,
   "id": "9644f547",
   "metadata": {},
   "outputs": [],
   "source": [
    "# relabel the nodes from 0:10 to their original identifier names\n",
    "node_names_lowpruned = {i: nodeidx for i, nodeidx in enumerate(nonpruned_nodes)}\n",
    "\n",
    "G_bus_lowpruned = nx.from_numpy_array(A_bus_lowpruned)\n",
    "G_bus_lowpruned = nx.relabel_nodes(G_bus_lowpruned, node_names_lowpruned)\n",
    "\n",
    "nx.draw(G_bus_lowpruned, pos=node_pos, with_labels=True, node_color='white', edgecolors='black', node_size=1500)"
   ]
  },
  {
   "cell_type": "code",
   "execution_count": null,
   "id": "4e109663",
   "metadata": {},
   "outputs": [],
   "source": [
    "degrees_before = compute_degrees(A_bus)\n",
    "degrees_after = compute_degrees(A_bus_lowpruned)"
   ]
  },
  {
   "cell_type": "code",
   "execution_count": null,
   "id": "241a887d",
   "metadata": {},
   "outputs": [],
   "source": [
    "from seaborn import histplot\n",
    "fig, axs = plt.subplots(1,2, figsize=(15, 4))\n",
    "\n",
    "ax = histplot(degrees_before, ax=axs[0], binwidth=1, binrange=(0, 14))\n",
    "ax.set_xlabel(\"Node degree\");\n",
    "ax.set_ylabel(\"Number of Nodes\");\n",
    "ax.set_title(\"Business Network, before pruning\");\n",
    "ax = histplot(degrees_after, ax=axs[1], binwidth=1, binrange=(0, 14))\n",
    "ax.set_xlabel(\"Node degree\");\n",
    "ax.set_title(\"Business Network, after pruning\")"
   ]
  },
  {
   "cell_type": "code",
   "execution_count": null,
   "id": "74ab1fc9",
   "metadata": {},
   "outputs": [],
   "source": [
    "def prune_high_degree(A, return_inds=True, threshold=0):\n",
    "    # remove nodes which have a degree over a given\n",
    "    # threshold. For a simple network, threshold=A.shape[0] - 1\n",
    "    # removes any pizza hut node\n",
    "    degrees = compute_degrees(A)\n",
    "    non_prunes = degrees < threshold\n",
    "    robj = A[np.where(non_prunes)[0],:][:,np.where(non_prunes)[0]]\n",
    "    if return_inds:\n",
    "        robj = (robj, np.where(non_prunes)[0])\n",
    "    return robj\n",
    "\n",
    "# pruning nodes \n",
    "A_bus_pruned, highpruned_nodes = prune_high_degree(A_bus_lowpruned, threshold=A_bus_lowpruned.shape[0] - 1)\n",
    "\n",
    "# relabel the nodes from 0:9 to their original identifier names,\n",
    "# using the previous filters from node_names_lowpruned\n",
    "node_names_highpruned = {i: node_names_lowpruned[lowpruned_idx] for \n",
    "                          i, lowpruned_idx in enumerate(highpruned_nodes)}\n",
    "\n",
    "G_bus_pruned = nx.from_numpy_array(A_bus_pruned)\n",
    "G_bus_pruned = nx.relabel_nodes(G_bus_pruned, node_names_highpruned)\n",
    "nx.draw(G_bus_pruned, pos=node_pos, with_labels=True, node_color='white', edgecolors='black', node_size=1500)"
   ]
  },
  {
   "cell_type": "code",
   "execution_count": null,
   "id": "3bcbbd44",
   "metadata": {},
   "outputs": [],
   "source": [
    "from graspologic.simulations import sbm\n",
    "import numpy as np\n",
    "\n",
    "wtargsa = [[dict(n=50, p=.09), dict(n=50, p=.02)],\n",
    "          [dict(n=50, p=.02), dict(n=50, p=.06)]]\n",
    "# activity network as upper triangle matrix\n",
    "A_activity_uppertri = sbm(n=[25, 25], p=[[1,1], [1,1]], wt=np.random.binomial, wtargs=wtargsa, loops=False, directed=False)\n",
    "A_activity_uppertri = np.triu(A_activity_uppertri)\n",
    "\n",
    "# friend network\n",
    "wtargsf = [[dict(a=4, b=2), dict(a=2, b=5)],\n",
    "          [dict(a=2, b=5), dict(a=6, b=2)]]\n",
    "A_friend = sbm(n=[25, 25], p=[[.8, .4], [.4, 1]], wt=np.random.beta, wtargs=wtargsf, directed=True)"
   ]
  },
  {
   "cell_type": "code",
   "execution_count": null,
   "id": "f37b288a",
   "metadata": {},
   "outputs": [],
   "source": [
    "from graspologic.utils import symmetrize\n",
    "\n",
    "# upper-triangle symmetrize the upper triangle\n",
    "A_activity = symmetrize(A_activity_uppertri, method=\"triu\")"
   ]
  },
  {
   "cell_type": "code",
   "execution_count": null,
   "id": "9713fc1e",
   "metadata": {},
   "outputs": [],
   "source": [
    "# symmetrize with averaging\n",
    "A_friend_avg_sym = symmetrize(A_friend, method=\"avg\")"
   ]
  },
  {
   "cell_type": "code",
   "execution_count": null,
   "id": "16434ea9",
   "metadata": {},
   "outputs": [],
   "source": [
    "from graspologic.utils import augment_diagonal\n",
    "\n",
    "A_friend_aug = augment_diagonal(A_friend)"
   ]
  },
  {
   "cell_type": "code",
   "execution_count": null,
   "id": "41774d72",
   "metadata": {},
   "outputs": [],
   "source": [
    "def discard_diagonal(A):\n",
    "    \"\"\"\n",
    "    A function that discards the diagonal of a matrix,\n",
    "    and returns its non-diagonal edge-weights.\n",
    "    \"\"\"\n",
    "    # create a mask that is True for the non-diagonal edges\n",
    "    non_diag_idx = np.where(~np.eye(A.shape[0], dtype=bool))\n",
    "    return A[non_diag_idx].flatten()\n",
    "    \n",
    "# obtain the non-diagonal edge-weights\n",
    "friend_nondiag_ew = discard_diagonal(A_friend)\n",
    "# get the non-zero, non-diagonal edge weights\n",
    "friend_nondiag_nz_ew = friend_nondiag_ew[friend_nondiag_ew > 0]\n",
    "\n",
    "# plot the histogram, as above\n",
    "histplot(friend_nondiag_nz_ew, bins=20, binrange=(0, 1))"
   ]
  },
  {
   "cell_type": "code",
   "execution_count": null,
   "id": "d90bf44a",
   "metadata": {},
   "outputs": [],
   "source": [
    "def truncate_network(A, threshold):\n",
    "    A_cp = np.copy(A)\n",
    "    A_cp[A_cp <= threshold] = 0\n",
    "    return A_cp\n",
    "\n",
    "tau = 0.4\n",
    "A_friend_trunc = truncate_network(A_friend, threshold=tau)"
   ]
  },
  {
   "cell_type": "code",
   "execution_count": null,
   "id": "246c7d39",
   "metadata": {},
   "outputs": [],
   "source": [
    "friend_trunc_nondiag_ew = discard_diagonal(A_friend_trunc)\n",
    "# get the non-zero, non-diagonal edge weights\n",
    "friend_trunc_nondiag_nz_ew = friend_trunc_nondiag_ew[friend_trunc_nondiag_ew > 0]\n",
    "histplot(friend_trunc_nondiag_nz_ew, bins=20, binrange=(0, 1))"
   ]
  },
  {
   "cell_type": "code",
   "execution_count": null,
   "id": "bb3bee21",
   "metadata": {},
   "outputs": [],
   "source": [
    "# find the indices which are in the upper triangle and not in the diagonal\n",
    "upper_tri_non_diag_idx = np.where(np.triu(np.ones(A_activity.shape), k=1).astype(bool))\n",
    "q = 0.5  # desired percentile is 50, or a fraction of 0.5\n",
    "histplot(A_activity[upper_tri_non_diag_idx].flatten())\n",
    "# use the quantile function with the desired fraction q\n",
    "tau = np.quantile(A_activity[upper_tri_non_diag_idx], q=q)"
   ]
  },
  {
   "cell_type": "code",
   "execution_count": null,
   "id": "0a6b7d98",
   "metadata": {},
   "outputs": [],
   "source": [
    "n_lteq_tau = np.sum(A_activity[upper_tri_non_diag_idx] <= tau)\n",
    "n_gt_tau = np.sum(A_activity[upper_tri_non_diag_idx] > tau)\n",
    "print(\"Number of edges less than or equal to tau: {}\".format(n_lteq_tau))\n",
    "print(\"Number of edges greater than to tau: {}\".format(n_gt_tau))"
   ]
  },
  {
   "cell_type": "code",
   "execution_count": null,
   "id": "67ed7c9c",
   "metadata": {},
   "outputs": [],
   "source": [
    "from numpy import copy\n",
    "\n",
    "def min_difference(arr):\n",
    "    b = np.diff(np.sort(arr))\n",
    "    return b[b>0].min()\n",
    "\n",
    "def quantile_threshold_network(A, directed=False, loops=False, q=0.5):\n",
    "    # a function to threshold a network on the basis of the\n",
    "    # fraction q\n",
    "    A_cp = np.copy(A)\n",
    "    n = A.shape[0]\n",
    "    E = np.random.uniform(low=0, high=min_difference(A)/10, size=(n, n))\n",
    "    if not directed:\n",
    "        # make E symmetric\n",
    "        E = (E + E.transpose())/2\n",
    "    mask = np.ones((n, n))\n",
    "    if not loops:\n",
    "        # remove diagonal from E\n",
    "        E = E - np.diag(np.diag(E))\n",
    "        # exclude diagonal from the mask\n",
    "        mask = mask - np.diag(np.diag(mask))\n",
    "    Ap = A_cp + E\n",
    "    tau = np.quantile(Ap[np.where(mask)].flatten(), q=q)\n",
    "    A_cp[Ap <= tau] = 0; A_cp[Ap > tau] = 1\n",
    "    return A_cp\n",
    "\n",
    "A_activity_thresholded03 = quantile_threshold_network(A_activity, q=0.3)\n",
    "A_activity_thresholded07 = quantile_threshold_network(A_activity, q=0.7)"
   ]
  },
  {
   "cell_type": "code",
   "execution_count": null,
   "id": "c7edd085",
   "metadata": {},
   "outputs": [],
   "source": [
    "from graspologic.utils import is_unweighted, is_loopless, is_symmetric\n",
    "\n",
    "def simple_network_dens(X):\n",
    "    # make sure the network is simple\n",
    "    if (not is_unweighted(X)) or (not is_loopless(X)) or (not is_symmetric(X)):\n",
    "        raise TypeError(\"Network is not simple!\")\n",
    "    # count the non-zero entries in the upper-right triangle\n",
    "    # for a simple network X\n",
    "    nnz = np.triu(X, k=1).sum()\n",
    "    # number of nodes\n",
    "    n = X.shape[0]\n",
    "    # number of possible edges is 1/2*n*(n-1)\n",
    "    poss_edges = 0.5*n*(n-1)\n",
    "    return nnz/poss_edges\n",
    "\n",
    "print(\"Network Density: {:.3f}\".format(simple_network_dens(A_activity_thresholded03)))\n",
    "# Network Density: 0.700"
   ]
  },
  {
   "cell_type": "code",
   "execution_count": null,
   "id": "c05b1048",
   "metadata": {},
   "outputs": [],
   "source": [
    "from scipy.stats import zscore\n",
    "\n",
    "def z_score_directed_loopless(X, undirected=False):\n",
    "    if not is_loopless(X):\n",
    "        raise TypeError(\"The network has loops!\")\n",
    "    if not is_undirected(X):\n",
    "        raise TypeError(\"The network is undirected!\")\n",
    "    # the entries of the adjacency matrix that are not on the diagonal\n",
    "    non_diag_idx = np.where(~np.eye(X.shape[0], dtype=bool))\n",
    "    Z = np.zeros(X.shape)\n",
    "    Z[non_diag_idx] = zscore(X[non_diag_idx])\n",
    "    return Z\n",
    "\n",
    "ZA_friend = z_score_directed_loopless(A_friend)"
   ]
  },
  {
   "cell_type": "code",
   "execution_count": null,
   "id": "34cf554a",
   "metadata": {},
   "outputs": [],
   "source": [
    "from graspologic.utils import pass_to_ranks\n",
    "\n",
    "RA_friend = pass_to_ranks(A_friend)"
   ]
  },
  {
   "cell_type": "code",
   "execution_count": null,
   "id": "6e132df7",
   "metadata": {},
   "outputs": [],
   "source": [
    "RA_friend_zb = pass_to_ranks(A_friend, method=\"zero-boost\")"
   ]
  },
  {
   "cell_type": "code",
   "execution_count": null,
   "id": "7bd7364b",
   "metadata": {},
   "outputs": [],
   "source": [
    "def augment_zeros(X, base=10):\n",
    "    if np.any(X < 0):\n",
    "        raise TypeError(\"The logarithm is not defined for negative values!\")\n",
    "    am = np.min(X[np.where(X > 0)])  # the smallest non-zero entry of X\n",
    "    eps = am/base  # epsilon is one order of magnitude smaller than the smallest non-zero entry\n",
    "    return X + eps  # augment all entries of X by epsilon\n",
    "\n",
    "def log_transform(X, base=10):\n",
    "    \"\"\"\n",
    "    A function to log transform an adjacency matrix X, which may\n",
    "    have zero-weight edges.\n",
    "    \"\"\"\n",
    "    X_aug = augment_zeros(X, base=base)\n",
    "    return np.log(X_aug)/np.log(base)\n",
    "\n",
    "A_activity_log = log_transform(A_activity)"
   ]
  }
 ],
 "metadata": {
  "kernelspec": {
   "display_name": "Python 3 (ipykernel)",
   "language": "python",
   "name": "python3"
  },
  "language_info": {
   "codemirror_mode": {
    "name": "ipython",
    "version": 3
   },
   "file_extension": ".py",
   "mimetype": "text/x-python",
   "name": "python",
   "nbconvert_exporter": "python",
   "pygments_lexer": "ipython3",
   "version": "3.9.13"
  }
 },
 "nbformat": 4,
 "nbformat_minor": 5
}
