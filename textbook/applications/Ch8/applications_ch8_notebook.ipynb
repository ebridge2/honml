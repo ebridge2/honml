{
 "cells": [
  {
   "cell_type": "markdown",
   "id": "b05fc2d4-2f6e-4a47-ab13-5162e09ddd7b",
   "metadata": {},
   "source": [
    "# Code Reproducibility: Chapter 8"
   ]
  },
  {
   "cell_type": "code",
   "execution_count": null,
   "id": "de93c756-ec1c-43cb-98ca-4a1bd4396407",
   "metadata": {},
   "outputs": [],
   "source": [
    "import numpy as np\n",
    "from graspologic.simulations import sbm\n",
    "from graphbook_code import dcsbm\n",
    "\n",
    "# the block matrix for the neurons before learning\n",
    "B0 = 0.05*np.ones((3, 3))\n",
    "np.fill_diagonal(B0, 0.4)\n",
    "\n",
    "nk = 40\n",
    "ns = np.repeat(nk, 3)\n",
    "\n",
    "theta = np.tile(np.linspace(np.sqrt(2), np.sqrt(2) - 1, nk), 3)\n",
    "zs = np.repeat([1,2,3], nk)\n",
    "\n",
    "T = 12\n",
    "np.random.seed(0)\n",
    "networks = np.array([sbm(ns, B0) if (t < 6 or t >= 9) else dcsbm(zs, theta, B0) for t in range(T)])"
   ]
  },
  {
   "cell_type": "code",
   "execution_count": null,
   "id": "3a068b4f",
   "metadata": {},
   "outputs": [],
   "source": [
    "from graspologic.inference import latent_position_test\n",
    "import warnings\n",
    "from tqdm import tqdm\n",
    "\n",
    "warnings.filterwarnings('ignore')\n",
    "pvalues = [latent_position_test(networks[t + 1], networks[t], n_components=3,\n",
    "                                n_bootstraps=1000, workers=-1)[1] for t in tqdm(range(T-1))]"
   ]
  },
  {
   "cell_type": "code",
   "execution_count": null,
   "id": "56b8c8bd",
   "metadata": {},
   "outputs": [],
   "source": [
    "from statsmodels.stats.multitest import multipletests\n",
    "\n",
    "alpha = 0.05\n",
    "_, adj_pvals, _, _ = multipletests(pvalues, alpha=alpha, method=\"holm\")"
   ]
  },
  {
   "cell_type": "code",
   "execution_count": null,
   "id": "3b3816ec",
   "metadata": {},
   "outputs": [],
   "source": [
    "import numpy as np\n",
    "\n",
    "pi_astronaut = 0.45\n",
    "pi_earthling = 0.55\n",
    "M = 200\n",
    "\n",
    "# roll a 2-sided die 200 times, with probability 0.55 of landing on side 1 (earthling)p\n",
    "# and robability 0.45 of landing on side 2 (astronaut)\n",
    "classnames = [\"Earthling\", \"Earthling\"]\n",
    "np.random.seed(0)\n",
    "ys = np.random.choice([1, 2], p=[pi_earthling, pi_astronaut], size=M)\n",
    "print(f\"Number of individuals who are earthlings: {(ys == 1).sum():d}\")\n",
    "print(f\"Number of individuals who are astronauts: {(ys == 2).sum():d}\")"
   ]
  },
  {
   "cell_type": "code",
   "execution_count": null,
   "id": "529a309b",
   "metadata": {},
   "outputs": [],
   "source": [
    "n = 5\n",
    "P_earthling = np.full(shape=(n, n), fill_value=0.3)\n",
    "\n",
    "nodenames = [\n",
    "    \"SI\", \"L\", \"H/E\", \n",
    "    \"T/M\", \"BS\"\n",
    "]\n",
    "\n",
    "signal_subnetwork = np.full(shape=(n, n), fill_value=False)\n",
    "signal_subnetwork[1:n, 0] = True\n",
    "signal_subnetwork[0, 1:n] = True\n",
    "P_astronaut = np.copy(P_earthling)\n",
    "\n",
    "# probabilities for signal edges are higher in astronauts than earthlings\n",
    "P_astronaut[signal_subnetwork] = np.tile(np.linspace(0.4, 0.9, num=4), reps=2)"
   ]
  },
  {
   "cell_type": "code",
   "execution_count": null,
   "id": "994ee3a1",
   "metadata": {},
   "outputs": [],
   "source": [
    "from graspologic.simulations import sample_edges\n",
    "\n",
    "# the probability matrices for each class\n",
    "Ps = [P_earthling, P_astronaut]\n",
    "\n",
    "# sample networks with the indicated probability matrix\n",
    "np.random.seed(0)\n",
    "As = np.stack([sample_edges(P=Ps[y-1]) for y in ys], axis=2)"
   ]
  },
  {
   "cell_type": "code",
   "execution_count": null,
   "id": "4a0dbba3",
   "metadata": {},
   "outputs": [],
   "source": [
    "def generate_table(As, ys, i, j):\n",
    "    \"\"\"\n",
    "    A function to generate a contingency table for a given edge.\n",
    "    \"\"\"\n",
    "    # count the number of earthlings with edge i,j\n",
    "    a = As[i,j,ys == 1].sum()\n",
    "    # count the number of astronauts with edge i,j\n",
    "    b = As[i,j,ys == 2].sum()\n",
    "\n",
    "    c = len(As[i,j,ys == 1]) - a\n",
    "    d = len(As[i,j,ys == 2]) - b\n",
    "    \n",
    "    edge_tab = np.array([[a, b], [c, d]])\n",
    "    return edge_tab\n",
    "\n",
    "# edge (0, 4) corresponds to SI to BS\n",
    "edge_tab = generate_table(As, ys, 0, 4)\n",
    "print(edge_tab)"
   ]
  },
  {
   "cell_type": "code",
   "execution_count": null,
   "id": "f2f1a2aa",
   "metadata": {},
   "outputs": [],
   "source": [
    "from scipy.stats import fisher_exact\n",
    "\n",
    "_, pval = fisher_exact(edge_tab)\n",
    "print(f\"p-value: {pval:.4f}\")\n",
    "# p-value: 0.0000"
   ]
  },
  {
   "cell_type": "code",
   "execution_count": null,
   "id": "882b58c0",
   "metadata": {},
   "outputs": [],
   "source": [
    "_, pval = fisher_exact(generate_table(As, ys, 2, 1))\n",
    "print(f\"p-value: {pval:.4f}\")\n",
    "# p-value: 0.7600"
   ]
  },
  {
   "cell_type": "code",
   "execution_count": null,
   "id": "9590a909",
   "metadata": {},
   "outputs": [],
   "source": [
    "from graspologic.utils import symmetrize\n",
    "from scipy.stats import rankdata\n",
    "\n",
    "fisher_mtx = np.empty((n, n))\n",
    "fisher_mtx[:] = np.nan\n",
    "\n",
    "for i in range(0, n):\n",
    "    for j in range(i+1, n):\n",
    "        fisher_mtx[i, j] = fisher_exact(generate_table(As, ys, i, j))[1]\n",
    "fisher_mtx = symmetrize(fisher_mtx, method=\"triu\")\n",
    "# use rankdata on -fisher_mtx, to rank from largest p-value to smallest p-value\n",
    "edge_imp = rankdata(-fisher_mtx, method=\"dense\", nan_policy=\"omit\").reshape(fisher_mtx.shape)\n",
    "np.fill_diagonal(edge_imp, 0)"
   ]
  },
  {
   "cell_type": "code",
   "execution_count": null,
   "id": "981872e0",
   "metadata": {},
   "outputs": [],
   "source": [
    "from graspologic.subgraph import SignalSubgraph\n",
    "\n",
    "K = 8  # the number of edges in the subgraph\n",
    "ssn_mod = SignalSubgraph()\n",
    "# graspologic signal subgraph module assumes labels are 0, ..., K-1\n",
    "# so use ys - 1 to rescale from (1, 2) to (0, 1)\n",
    "ssn_mod.fit_transform(As, labels=ys - 1, constraints=K);\n",
    "\n",
    "sn_est = np.zeros((n,n))  # initialize empty matrix\n",
    "sn_est[ssn_mod.sigsub_] = 1"
   ]
  },
  {
   "cell_type": "code",
   "execution_count": null,
   "id": "530ea901",
   "metadata": {},
   "outputs": [],
   "source": [
    "D = As[ssn_mod.sigsub_[0], ssn_mod.sigsub_[1],:].T"
   ]
  },
  {
   "cell_type": "code",
   "execution_count": null,
   "id": "38585f38",
   "metadata": {},
   "outputs": [],
   "source": [
    "from sklearn.naive_bayes import BernoulliNB\n",
    "\n",
    "classifier = BernoulliNB()\n",
    "# fit the classifier using the vector of classes for each sample\n",
    "classifier.fit(D, ys)"
   ]
  },
  {
   "cell_type": "code",
   "execution_count": null,
   "id": "ffe50f43",
   "metadata": {},
   "outputs": [],
   "source": [
    "# number of holdout samples\n",
    "Mp = 200\n",
    "# new random seed so heldout samples differ\n",
    "np.random.seed(123)\n",
    "y_heldout = np.random.choice([1, 2], p=[pi_earthling, pi_astronaut], size=Mp)\n",
    "# sample networks with the appropriate probability matrix\n",
    "A_heldout = np.stack([sample_edges(Ps[y-1]) for y in y_heldout], axis=2)\n",
    "\n",
    "# compute testing data on the estimated signal subnetwork\n",
    "D_heldout = A_heldout[ssn_mod.sigsub_[0], ssn_mod.sigsub_[1],:].T\n",
    "\n",
    "yhat_heldout = classifier.predict(D_heldout)\n",
    "\n",
    "# classifier accuracy is the fraction of predictions that are correct\n",
    "heldout_acc = np.mean(yhat_heldout == y_heldout)\n",
    "print(f\"Classifier Testing Accuracy: {heldout_acc:.3f}\")\n",
    "# Classifier Testing Accuracy: 0.810"
   ]
  },
  {
   "cell_type": "code",
   "execution_count": null,
   "id": "d6f7b9f4",
   "metadata": {},
   "outputs": [],
   "source": [
    "def train_and_eval_ssn(Atrain, ytrain, Atest, ytest, K):\n",
    "    \"\"\"\n",
    "    A function which trains and tests an incoherent signal subnetwork\n",
    "    classifier with K signal edges.\n",
    "    \"\"\"\n",
    "    ssn_mod = SignalSubgraph()\n",
    "    ssn_mod.fit_transform(Atrain, labels=ytrain - 1, constraints=int(K));\n",
    "\n",
    "    Dtrain = Atrain[ssn_mod.sigsub_[0], ssn_mod.sigsub_[1],:].T\n",
    "    classifier = BernoulliNB()\n",
    "    # fit the classifier using the vector of classes for each sample\n",
    "    classifier.fit(Dtrain, ytrain)\n",
    "\n",
    "    # compute testing data on the estimated signal subnetwork\n",
    "    Dtest = Atest[ssn_mod.sigsub_[0], ssn_mod.sigsub_[1],:].T\n",
    "    yhat_test = classifier.predict(Dtest)\n",
    "    \n",
    "    # classifier accuracy is the fraction of predictions that are correct\n",
    "    return (np.mean(yhat_test == ytest), ssn_mod, classifier)"
   ]
  },
  {
   "cell_type": "code",
   "execution_count": null,
   "id": "52312b00",
   "metadata": {},
   "outputs": [],
   "source": [
    "from sklearn.model_selection import KFold\n",
    "import pandas as pd\n",
    "\n",
    "kf = KFold(n_splits=20, shuffle=True, random_state=0)\n",
    "xv_res = []\n",
    "for l, (train_index, test_index) in enumerate(kf.split(range(0, M))):\n",
    "    A_train, A_test = As[:,:,train_index], As[:,:,test_index]\n",
    "    y_train, y_test = ys[train_index], ys[test_index]\n",
    "    nl = len(test_index)\n",
    "    \n",
    "    for k in np.arange(2, 20, step=2):\n",
    "        acc_kl, _, _ = train_and_eval_ssn(A_train, y_train, A_test, y_test, k)\n",
    "        xv_res.append({\"Fold\": l, \"k\": k, \"nl\": nl, \"Accuracy\": acc_kl})\n",
    "xv_data = pd.DataFrame(xv_res)\n",
    "\n",
    "def weighted_avg(group):\n",
    "    acc = group['Accuracy']\n",
    "    nl = group['nl']\n",
    "    return (acc * nl).sum() / nl.sum()\n",
    "\n",
    "xv_acc = xv_data.groupby([\"k\"]).apply(weighted_avg)\n",
    "print(xv_acc)"
   ]
  },
  {
   "cell_type": "code",
   "execution_count": null,
   "id": "fa5c34db",
   "metadata": {},
   "outputs": [],
   "source": [
    "from graspologic.subgraph import SignalSubgraph\n",
    "K = 8  # the number of signal edges\n",
    "V = 1  # the number of signal nodes\n",
    "\n",
    "# the incoherent signal subnetwork estimator\n",
    "ssn_est_inco = SignalSubgraph()\n",
    "ssn_est_inco.fit_transform(Atrain, labels=ytrain-1, constraints=K)\n",
    "\n",
    "# the coherent signal subnetwork estimator\n",
    "ssn_est_coherent = SignalSubgraph()\n",
    "ssn_est_coherent.fit_transform(Atrain, labels=ytrain-1, constraints=[K, V])"
   ]
  },
  {
   "cell_type": "code",
   "execution_count": null,
   "id": "6a017c36",
   "metadata": {},
   "outputs": [],
   "source": [
    "ssn_coherent = np.zeros((n, n))\n",
    "ssn_incoherent = np.zeros((n, n))\n",
    "\n",
    "ssn_incoherent[ssn_est_inco.sigsub_] = 1\n",
    "ssn_coherent[ssn_est_coherent.sigsub_] = 1"
   ]
  },
  {
   "cell_type": "code",
   "execution_count": null,
   "id": "b1413648",
   "metadata": {},
   "outputs": [],
   "source": [
    "from sklearn.naive_bayes import BernoulliNB\n",
    "\n",
    "def train_and_eval_coherent_ssn(Atrain, ytrain, Atest, ytest, K, V):\n",
    "    \"\"\"\n",
    "    A function which trains and tests an incoherent signal subnetwork\n",
    "    classifier with K signal edges and V signal nodes.\n",
    "    \"\"\"\n",
    "    ssn_mod = SignalSubgraph()\n",
    "    ssn_mod.fit_transform(Atrain, labels=ytrain-1, constraints=[int(K), int(V)]);\n",
    "\n",
    "    Dtrain = Atrain[ssn_mod.sigsub_[0], ssn_mod.sigsub_[1],:].T\n",
    "    classifier = BernoulliNB()\n",
    "    # fit the classifier using the vector of classes for each sample\n",
    "    classifier.fit(Dtrain, ytrain)\n",
    "\n",
    "    # compute testing data on the estimated signal subnetwork\n",
    "    Dtest = Atest[ssn_mod.sigsub_[0], ssn_mod.sigsub_[1],:].T\n",
    "    yhat_test = classifier.predict(Dtest)\n",
    "    \n",
    "    # classifier accuracy is the fraction of predictions that are correct\n",
    "    return (np.mean(yhat_test == ytest), ssn_mod, classifier)"
   ]
  },
  {
   "cell_type": "code",
   "execution_count": null,
   "id": "ad9e876d",
   "metadata": {},
   "outputs": [],
   "source": [
    "from sklearn.model_selection import KFold\n",
    "import pandas as pd\n",
    "from tqdm import tqdm\n",
    "\n",
    "kf = KFold(n_splits=20, shuffle=True, random_state=0)\n",
    "xv_res = []\n",
    "for l, (train_index, test_index) in tqdm(enumerate(kf.split(range(0, M)))):\n",
    "    A_train, A_test = Atrain[:,:,train_index], Atrain[:,:,test_index]\n",
    "    y_train, y_test = ytrain[train_index], ytrain[test_index]\n",
    "    nl = len(test_index)\n",
    "    \n",
    "    for k in np.arange(2, n*(n-1), step=2):\n",
    "        for v in range(1, n+1):\n",
    "            try:\n",
    "                acc_kl, _, _ = train_and_eval_coherent_ssn(A_train, y_train, A_test, y_test, k, v)\n",
    "                xv_res.append({\"Fold\": l, \"k\": k, \"nl\": nl, \"v\": v, \"Accuracy\": acc_kl})\n",
    "            except:\n",
    "                xv_res.append({\"Fold\": l, \"k\": k, \"nl\": nl, \"v\": v, \"Accuracy\": np.nan})\n",
    "xv_data = pd.DataFrame(xv_res)\n",
    "\n",
    "def weighted_avg(group):\n",
    "    acc = group['Accuracy']\n",
    "    nl = group['nl']\n",
    "    return (acc * nl).sum() / nl.sum()\n",
    "\n",
    "xv_acc = xv_data.groupby([\"k\", \"v\"]).apply(weighted_avg).reset_index(name='Accuracy')\n",
    "# convert the pandas dataframe (long format) to a data matrix (wide format)\n",
    "df_hm = xv_acc.pivot(index=\"k\", columns=\"v\", values=\"Accuracy\")"
   ]
  },
  {
   "cell_type": "code",
   "execution_count": null,
   "id": "9b214897",
   "metadata": {},
   "outputs": [],
   "source": [
    "# the coherent signal subnetwork estimator, using the parameters from xv\n",
    "ssn_est_coherent_xv = SignalSubgraph()\n",
    "ssn_est_coherent_xv.fit_transform(Atrain, labels=ytrain-1, constraints=[6, 1])\n",
    "\n",
    "ssn_coherent_xv = np.zeros((n, n))\n",
    "ssn_coherent_xv[ssn_est_coherent_xv.sigsub_] = 1"
   ]
  }
 ],
 "metadata": {
  "kernelspec": {
   "display_name": "Python 3 (ipykernel)",
   "language": "python",
   "name": "python3"
  },
  "language_info": {
   "codemirror_mode": {
    "name": "ipython",
    "version": 3
   },
   "file_extension": ".py",
   "mimetype": "text/x-python",
   "name": "python",
   "nbconvert_exporter": "python",
   "pygments_lexer": "ipython3",
   "version": "3.9.13"
  }
 },
 "nbformat": 4,
 "nbformat_minor": 5
}
