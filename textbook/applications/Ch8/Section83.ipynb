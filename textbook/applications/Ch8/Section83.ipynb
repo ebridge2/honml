{
 "cells": [
  {
   "cell_type": "markdown",
   "id": "04c265e5-2f42-4094-90fe-63e5842c8596",
   "metadata": {},
   "source": [
    "(ch8:ssn_coherent)=\n",
    "# 8.3 Building coherent signal subnetworks"
   ]
  },
  {
   "cell_type": "code",
   "execution_count": null,
   "id": "2a0a4cd7-32cf-4c61-b072-57b643cce1f5",
   "metadata": {},
   "outputs": [],
   "source": [
    "mode = \"svg\"\n",
    "\n",
    "import matplotlib\n",
    "\n",
    "font = {'family' : 'Dejavu Sans',\n",
    "        'weight' : 'normal',\n",
    "        'size'   : 20}\n",
    "\n",
    "matplotlib.rc('font', **font)\n",
    "\n",
    "import matplotlib\n",
    "from matplotlib import pyplot as plt"
   ]
  },
  {
   "cell_type": "code",
   "execution_count": null,
   "id": "4ef36907-f052-40b7-b8a8-c8516c0ff5b1",
   "metadata": {},
   "outputs": [],
   "source": [
    "import numpy as np\n",
    "from graspologic.simulations import sample_edges\n",
    "\n",
    "nodenames = [\n",
    "    \"SI\", \"L\", \"H/E\", \n",
    "    \"T/M\", \"BS\"\n",
    "]\n",
    "\n",
    "# generate probability matrices\n",
    "n = 5  # the number of nodes\n",
    "P_earthling = 0.3*np.ones((n, n))\n",
    "signal_subnetwork = np.zeros((n, n), dtype=bool)\n",
    "signal_subnetwork[1:n, 0] = True\n",
    "signal_subnetwork[0, 1:n] = True\n",
    "P_astronaut = np.copy(P_earthling)\n",
    "P_astronaut[signal_subnetwork] = np.tile(np.linspace(0.4, 0.9, num=4), 2)\n",
    "\n",
    "# sample the classes of each sample\n",
    "M = 200  # the number of training and testing samples\n",
    "pi_astronaut = 0.45\n",
    "pi_earthling = 0.55\n",
    "np.random.seed(0)\n",
    "ytrain = np.random.choice([1,2], p=[pi_earthling, pi_astronaut], size=M)\n",
    "ytest = np.random.choice([1,2], p=[pi_earthling, pi_astronaut], size=M)\n",
    "\n",
    "# sample network realizations given the class of each sample\n",
    "Ps = [P_earthling, P_astronaut]\n",
    "np.random.seed(0)\n",
    "Atrain = np.stack([sample_edges(Ps[y-1]) for y in ytrain], axis=2)\n",
    "Atest = np.stack([sample_edges(Ps[y-1]) for y in ytest], axis=2)"
   ]
  },
  {
   "cell_type": "code",
   "execution_count": null,
   "id": "c70ed4cd-1c48-4193-a4c3-0ef8bd63924f",
   "metadata": {},
   "outputs": [],
   "source": [
    "from graspologic.subgraph import SignalSubgraph\n",
    "K = 8  # the number of signal edges\n",
    "V = 1  # the number of signal nodes\n",
    "\n",
    "# the incoherent signal subnetwork estimator\n",
    "ssn_est_inco = SignalSubgraph()\n",
    "ssn_est_inco.fit_transform(Atrain, labels=ytrain-1, constraints=K)\n",
    "\n",
    "# the coherent signal subnetwork estimator\n",
    "ssn_est_coherent = SignalSubgraph()\n",
    "ssn_est_coherent.fit_transform(Atrain, labels=ytrain-1, constraints=[K, V])"
   ]
  },
  {
   "cell_type": "code",
   "execution_count": null,
   "id": "1706f2e5-fac5-4381-938e-e7fefa83d3ac",
   "metadata": {},
   "outputs": [],
   "source": [
    "ssn_coherent = np.zeros((n, n))\n",
    "ssn_incoherent = np.zeros((n, n))\n",
    "\n",
    "ssn_incoherent[ssn_est_inco.sigsub_] = 1\n",
    "ssn_coherent[ssn_est_coherent.sigsub_] = 1"
   ]
  },
  {
   "cell_type": "code",
   "execution_count": null,
   "id": "73fa9a29-f1a5-4d7b-a6ae-1251f3016212",
   "metadata": {},
   "outputs": [],
   "source": [
    "import os\n",
    "from graphbook_code import heatmap\n",
    "\n",
    "fig, axs = plt.subplots(1, 3, figsize=(18, 6), gridspec_kw={\"width_ratios\": [1.25, 1, 1.25]})\n",
    "\n",
    "heatmap(signal_subnetwork.astype(int), ax = axs[0], title=\"(A) Signal subnetwork\",\n",
    "        xtitle=\"Brain area\", ytitle=\"Brain area\", xticklabels=nodenames, yticklabels=nodenames,\n",
    "        legend_title=\"Part of $\\\\mathcal{S}$?\", shrink=0.5)\n",
    "heatmap(ssn_incoherent.astype(int), ax = axs[1], title=\"(B) Incoherent signal subnetwork\",\n",
    "        xtitle=\"Brain area\", ytitle=\"Brain area\", xticklabels=nodenames, yticklabels=nodenames,\n",
    "        legend_title=\"Edge importance\", cbar=False)\n",
    "heatmap(ssn_coherent.astype(int), ax = axs[2], title=\"(C) Coherent signal subnetwork\",\n",
    "        xtitle=\"Brain area\", ytitle=\"Brain area\", shrink=0.5, xticklabels=nodenames, yticklabels=nodenames,\n",
    "        legend_title=\"Part of $\\\\hat{\\\\mathcal{S}}$?\")\n",
    "fig.tight_layout()\n",
    "\n",
    "os.makedirs(\"Figures\", exist_ok=True)\n",
    "fname = \"ssn_co\"\n",
    "if mode != \"png\":\n",
    "    os.makedirs(f\"Figures/{mode:s}\", exist_ok=True)\n",
    "    fig.savefig(f\"Figures/{mode:s}/{fname:s}.{mode:s}\")\n",
    "\n",
    "os.makedirs(\"Figures/png\", exist_ok=True)\n",
    "fig.savefig(f\"Figures/png/{fname:s}.png\")"
   ]
  },
  {
   "cell_type": "code",
   "execution_count": null,
   "id": "8cdc6d79-d14b-4523-b768-63b1ea3a88a1",
   "metadata": {},
   "outputs": [],
   "source": [
    "from sklearn.naive_bayes import BernoulliNB\n",
    "\n",
    "def train_and_eval_coherent_ssn(Atrain, ytrain, Atest, ytest, K, V):\n",
    "    \"\"\"\n",
    "    A function which trains and tests an incoherent signal subnetwork\n",
    "    classifier with K signal edges and V signal nodes.\n",
    "    \"\"\"\n",
    "    ssn_mod = SignalSubgraph()\n",
    "    ssn_mod.fit_transform(Atrain, labels=ytrain-1, constraints=[int(K), int(V)]);\n",
    "\n",
    "    Dtrain = Atrain[ssn_mod.sigsub_[0], ssn_mod.sigsub_[1],:].T\n",
    "    classifier = BernoulliNB()\n",
    "    # fit the classifier using the vector of classes for each sample\n",
    "    classifier.fit(Dtrain, ytrain)\n",
    "\n",
    "    # compute testing data on the estimated signal subnetwork\n",
    "    Dtest = Atest[ssn_mod.sigsub_[0], ssn_mod.sigsub_[1],:].T\n",
    "    yhat_test = classifier.predict(Dtest)\n",
    "    \n",
    "    # classifier accuracy is the fraction of predictions that are correct\n",
    "    return (np.mean(yhat_test == ytest), ssn_mod, classifier)"
   ]
  },
  {
   "cell_type": "code",
   "execution_count": null,
   "id": "fee57bc0-df0c-4751-be87-716d18b9af78",
   "metadata": {},
   "outputs": [],
   "source": [
    "from sklearn.model_selection import KFold\n",
    "import pandas as pd\n",
    "from tqdm import tqdm\n",
    "\n",
    "kf = KFold(n_splits=20, shuffle=True, random_state=0)\n",
    "xv_res = []\n",
    "for l, (train_index, test_index) in tqdm(enumerate(kf.split(range(0, M)))):\n",
    "    A_train, A_test = Atrain[:,:,train_index], Atrain[:,:,test_index]\n",
    "    y_train, y_test = ytrain[train_index], ytrain[test_index]\n",
    "    nl = len(test_index)\n",
    "    \n",
    "    for k in np.arange(2, n*(n-1), step=2):\n",
    "        for v in range(1, n+1):\n",
    "            try:\n",
    "                acc_kl, _, _ = train_and_eval_coherent_ssn(A_train, y_train, A_test, y_test, k, v)\n",
    "                xv_res.append({\"Fold\": l, \"k\": k, \"nl\": nl, \"v\": v, \"Accuracy\": acc_kl})\n",
    "            except:\n",
    "                xv_res.append({\"Fold\": l, \"k\": k, \"nl\": nl, \"v\": v, \"Accuracy\": np.nan})\n",
    "xv_data = pd.DataFrame(xv_res)\n",
    "\n",
    "def weighted_avg(group):\n",
    "    acc = group['Accuracy']\n",
    "    nl = group['nl']\n",
    "    return (acc * nl).sum() / nl.sum()\n",
    "\n",
    "xv_acc = xv_data.groupby([\"k\", \"v\"]).apply(weighted_avg).reset_index(name='Accuracy')\n",
    "# convert the pandas dataframe (long format) to a data matrix (wide format)\n",
    "df_hm = xv_acc.pivot(index=\"k\", columns=\"v\", values=\"Accuracy\")"
   ]
  },
  {
   "cell_type": "code",
   "execution_count": null,
   "id": "61edfcab-8921-47ff-a402-dbe92c1ccef9",
   "metadata": {},
   "outputs": [],
   "source": [
    "# the coherent signal subnetwork estimator, using the parameters from xv\n",
    "ssn_est_coherent_xv = SignalSubgraph()\n",
    "ssn_est_coherent_xv.fit_transform(Atrain, labels=ytrain-1, constraints=[6, 1])\n",
    "\n",
    "ssn_coherent_xv = np.zeros((n, n))\n",
    "ssn_coherent_xv[ssn_est_coherent_xv.sigsub_] = 1"
   ]
  },
  {
   "cell_type": "code",
   "execution_count": null,
   "id": "05bfa873-9c46-495b-9d7c-b9fae15a3852",
   "metadata": {},
   "outputs": [],
   "source": [
    "from graphbook_code import lpm_heatmap\n",
    "\n",
    "fig, axs = plt.subplots(1, 2, figsize=(15, 6))\n",
    "\n",
    "lpm_heatmap(df_hm, legend_title=\"Accuracy\", ax=axs[0], vmin=.75,\n",
    "            xtitle=\"Number of signal nodes\", ytitle=\"Number of signal edges\",\n",
    "            xticklabels=list(xv_acc[\"v\"].unique()), yticklabels=list(xv_acc[\"k\"].unique()),\n",
    "            title=\"(A) Cross validation results\", shrink=0.8)\n",
    "heatmap(ssn_coherent_xv.astype(int), ax = axs[1], title=\"(B) Coherent estimate, with XV\",\n",
    "        xtitle=\"Brain area\", ytitle=\"Brain area\", shrink=0.5, xticklabels=nodenames, yticklabels=nodenames,\n",
    "        legend_title=\"Part of $\\\\hat{\\\\mathcal{S}}$?\")\n",
    "\n",
    "fig.tight_layout()\n",
    "\n",
    "fname = \"ssn_co_acc\"\n",
    "if mode != \"png\":\n",
    "    fig.savefig(f\"Figures/{mode:s}/{fname:s}.{mode:s}\")\n",
    "\n",
    "fig.savefig(f\"Figures/png/{fname:s}.png\")"
   ]
  },
  {
   "cell_type": "code",
   "execution_count": null,
   "id": "930db31d-d3d5-41a4-bc44-5aac308debd5",
   "metadata": {},
   "outputs": [],
   "source": []
  }
 ],
 "metadata": {
  "kernelspec": {
   "display_name": "Python 3 (ipykernel)",
   "language": "python",
   "name": "python3"
  },
  "language_info": {
   "codemirror_mode": {
    "name": "ipython",
    "version": 3
   },
   "file_extension": ".py",
   "mimetype": "text/x-python",
   "name": "python",
   "nbconvert_exporter": "python",
   "pygments_lexer": "ipython3",
   "version": "3.9.13"
  }
 },
 "nbformat": 4,
 "nbformat_minor": 5
}
