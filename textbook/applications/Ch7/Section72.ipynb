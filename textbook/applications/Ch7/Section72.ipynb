{
 "cells": [
  {
   "cell_type": "markdown",
   "id": "74f74635-d2ea-4663-9112-8a1684ba626a",
   "metadata": {},
   "source": [
    "(ch7:twosamplesbm)=\n",
    "# 7.2 Two-sample testing for SBMs"
   ]
  },
  {
   "cell_type": "code",
   "execution_count": null,
   "id": "2a0a4cd7-32cf-4c61-b072-57b643cce1f5",
   "metadata": {},
   "outputs": [],
   "source": [
    "mode = \"svg\"\n",
    "\n",
    "import matplotlib\n",
    "\n",
    "font = {'family' : 'Dejavu Sans',\n",
    "        'weight' : 'normal',\n",
    "        'size'   : 20}\n",
    "\n",
    "matplotlib.rc('font', **font)\n",
    "\n",
    "import matplotlib\n",
    "from matplotlib import pyplot as plt"
   ]
  },
  {
   "cell_type": "code",
   "execution_count": null,
   "id": "401a854f-08a9-43fd-a24c-14f697eed342",
   "metadata": {},
   "outputs": [],
   "source": [
    "import numpy as np\n",
    "from graspologic.simulations import sbm\n",
    "\n",
    "ns = [45, 30, 25]  # number of exits\n",
    "\n",
    "states = [\"NY\", \"NJ\", \"PA\"]\n",
    "# z is a column vector indicating which state each exit is in\n",
    "z = np.repeat(states, ns)\n",
    "\n",
    "Bnight = np.array([[.3, .2, .05], [.2, .3, .05], [.05, .05, .3]])\n",
    "Bday = Bnight*2  # day time block matrix is generally 50% more than night\n",
    "\n",
    "# people tend to commute from New Jersey to New York during the day\n",
    "# at anomalously high rates\n",
    "Bday[0, 1] = .5; Bday[1,0] = .5\n",
    "\n",
    "np.random.seed(0)\n",
    "Anight = sbm(ns, Bnight)\n",
    "Aday = sbm(ns, Bday)"
   ]
  },
  {
   "cell_type": "code",
   "execution_count": null,
   "id": "8b058a26-e511-4e91-a849-f62491751e1e",
   "metadata": {},
   "outputs": [],
   "source": [
    "from graphbook_code import heatmap\n",
    "import os\n",
    "\n",
    "fig, axs = plt.subplots(2, 2, figsize=(10, 10))\n",
    "\n",
    "heatmap(Bday, legend_title=\"Probability\", ax=axs[0][0],\n",
    "       xtitle=\"State\", xticklabels=states, yticklabels=states, vmin=0, vmax=1,\n",
    "       title=\"(A) $B^{(1)}$ Day block matrix\", annot=True)\n",
    "heatmap(Aday.astype(int), ax=axs[1][0],\n",
    "       xtitle=\"Exit\", inner_hier_labels=z,\n",
    "       title=\"(C) $A^{(1)}$, Day adjacency matrix\", shrink=0.5)\n",
    "\n",
    "heatmap(Bnight, legend_title=\"Probability\", ax=axs[0][1],\n",
    "       xtitle=\"State\", vmin=0, vmax=1, xticklabels=states, yticklabels=states,\n",
    "       title=\"(B) $B^{(2)}$ Night block matrix\", annot=True)\n",
    "heatmap(Anight.astype(int), ax=axs[1][1],\n",
    "       xtitle=\"Exit\", inner_hier_labels=z,\n",
    "       title=\"(D) $A^{(2)}$, Night adjacency matrix\", shrink=0.5)\n",
    "\n",
    "fig.tight_layout()\n",
    "\n",
    "os.makedirs(\"Figures\", exist_ok=True)\n",
    "fname = \"twosamp_sbm_ex\"\n",
    "if mode != \"png\":\n",
    "    os.makedirs(f\"Figures/{mode:s}\", exist_ok=True)\n",
    "    fig.savefig(f\"Figures/{mode:s}/{fname:s}.{mode:s}\")\n",
    "\n",
    "os.makedirs(\"Figures/png\", exist_ok=True)\n",
    "fig.savefig(f\"Figures/png/{fname:s}.png\")"
   ]
  },
  {
   "cell_type": "code",
   "execution_count": null,
   "id": "102c6924-8095-455e-877f-c959917cf6ac",
   "metadata": {},
   "outputs": [],
   "source": [
    "from scipy.stats import fisher_exact\n",
    "\n",
    "K = 3\n",
    "Pvals = np.empty((K, K))\n",
    "# fill matrix with NaNs\n",
    "Pvals[:] = np.nan\n",
    "\n",
    "# get the indices of the upper triangle of Aday\n",
    "upper_tri_idx = np.triu_indices(Aday.shape[0], k=1)\n",
    "# create a boolean array that is nxn\n",
    "upper_tri_mask = np.zeros(Aday.shape, dtype=bool)\n",
    "# set indices which correspond to the upper triangle to True\n",
    "upper_tri_mask[upper_tri_idx] = True\n",
    "\n",
    "for k in range(0, K):\n",
    "    for l in range(k, K):\n",
    "        comm_mask = np.outer(z == states[k], z == states[l])\n",
    "        table = [[Aday[comm_mask & upper_tri_mask].sum(),\n",
    "                 (Aday[comm_mask & upper_tri_mask] == 0).sum()],\n",
    "                 [Anight[comm_mask & upper_tri_mask].sum(),\n",
    "                 (Anight[comm_mask & upper_tri_mask] == 0).sum()]]\n",
    "        Pvals[k,l] = fisher_exact(table)[1]"
   ]
  },
  {
   "cell_type": "code",
   "execution_count": null,
   "id": "5641b03d-3d3d-4714-9292-a449ad6609be",
   "metadata": {},
   "outputs": [],
   "source": [
    "import numpy as np\n",
    "from graspologic.simulations import er_np\n",
    "import seaborn as sns\n",
    "from scipy.stats import binomtest\n",
    "\n",
    "ncoins = 5000 # the number of coins\n",
    "p = 0.5  # the true probability\n",
    "n = 500  # the number of flips\n",
    "\n",
    "# the number of heads from each experiment\n",
    "experiments = np.random.binomial(n, p, size=ncoins)\n",
    "\n",
    "# perform binomial test to see if the number of heads we obtain supports that the\n",
    "# true probabiily is 0.5\n",
    "pvals = [binomtest(nheads_i, n, p=p).pvalue for nheads_i in experiments]"
   ]
  },
  {
   "cell_type": "code",
   "execution_count": null,
   "id": "a646deb5-f026-4a1c-84d0-f11d645339ad",
   "metadata": {},
   "outputs": [],
   "source": [
    "from statsmodels.stats.multitest import multipletests\n",
    "\n",
    "alpha = 0.05  # the desired alpha of the test\n",
    "_, adj_pvals, _, _ = multipletests(pvals, alpha=alpha, method=\"holm\")"
   ]
  },
  {
   "cell_type": "code",
   "execution_count": null,
   "id": "cadfa7fa-d7c1-43b6-958c-4b94b4aa0c9b",
   "metadata": {},
   "outputs": [],
   "source": [
    "import seaborn as sns\n",
    "\n",
    "fig, axs = plt.subplots(1, 2, figsize=(15, 5))\n",
    "\n",
    "sns.histplot(pvals, stat=\"probability\", bins=20, ax=axs[0], color=\"black\")\n",
    "axs[0].set_title(\"(A) Multiple comparisons problem\")\n",
    "axs[0].set_xlabel(\"p-value\")\n",
    "axs[0].set_ylabel(\"Fraction of tests\")\n",
    "axs[0].axvline(alpha, color=\"#888888\")\n",
    "axs[0].annotate(\"$\\\\alpha = 0.05$\", color=\"#888888\", xy=(alpha, .08))\n",
    "axs[0].set_xlim([0, 1.05])\n",
    "\n",
    "sns.histplot(adj_pvals, stat=\"probability\", bins=20, ax=axs[1], color=\"black\")\n",
    "axs[1].set_title(\"(B) Multiple comparisons adjustments\")\n",
    "axs[1].set_xlabel(\"p-value\")\n",
    "axs[1].set_ylabel(\"Fraction of tests\")\n",
    "axs[1].axvline(alpha, color=\"#888888\")\n",
    "axs[1].annotate(\"$\\\\alpha = 0.05$\", color=\"#888888\", xy=(alpha, .7))\n",
    "axs[1].set_xlim([0, 1.05])\n",
    "axs[1].set_ylim([0, 1])\n",
    "\n",
    "fig.tight_layout()\n",
    "\n",
    "fname = \"twosampsbm_mc\"\n",
    "if mode != \"png\":\n",
    "    fig.savefig(f\"Figures/{mode:s}/{fname:s}.{mode:s}\")\n",
    "\n",
    "fig.savefig(f\"Figures/png/{fname:s}.png\")"
   ]
  },
  {
   "cell_type": "code",
   "execution_count": null,
   "id": "23e6f230-12c9-41c2-b56b-a86695fccb27",
   "metadata": {},
   "outputs": [],
   "source": [
    "from graspologic.utils import symmetrize\n",
    "\n",
    "Pvals_adj = multipletests(Pvals.flatten(), method=\"holm\")[1].reshape(K, K)\n",
    "Pvals_adj = symmetrize(Pvals_adj, method=\"triu\")"
   ]
  },
  {
   "cell_type": "code",
   "execution_count": null,
   "id": "c2c71c08-138c-4c96-b56e-13a47822ff0d",
   "metadata": {},
   "outputs": [],
   "source": [
    "pval_dif = Pvals_adj.min()\n",
    "print(f\"p-value of block matrix difference: {pval_dif:.4f}\")\n",
    "# p-value of block matrix difference: 0.0000"
   ]
  },
  {
   "cell_type": "code",
   "execution_count": null,
   "id": "a8ef9615-2e4e-4c0b-b570-f309ab88ee95",
   "metadata": {},
   "outputs": [],
   "source": [
    "from graspologic.inference import group_connection_test\n",
    "\n",
    "stat, pval_diff_rescale, misc = group_connection_test(Aday, Anight,\n",
    "    labels1=z, labels2=z, density_adjustment=True)\n",
    "Pval_adj_rescaled = np.array(misc[\"corrected_pvalues\"])\n",
    "print(f\"p-value of block matrix difference, after rescaling: {pval_diff_rescale:.4f}\")\n",
    "# p-value of block matrix difference: 0.0000"
   ]
  },
  {
   "cell_type": "code",
   "execution_count": null,
   "id": "241566a0-186e-4b67-805c-cf6274b5ed21",
   "metadata": {},
   "outputs": [],
   "source": [
    "fig, axs = plt.subplots(1, 2, figsize=(10, 5))\n",
    "\n",
    "heatmap(Pvals_adj, legend_title=\"$p$-value\", ax=axs[0],\n",
    "       xtitle=\"State\", vmin=0, vmax=1,\n",
    "       title=\"(A) Matrix of $p$-values\", annot=True)\n",
    "\n",
    "heatmap(Pval_adj_rescaled, legend_title=\"$p$-value\", ax=axs[1],\n",
    "       xtitle=\"State\", vmin=0, vmax=1,\n",
    "       title=\"(B) $p$-values after rescaling\", annot=True)\n",
    "fig.tight_layout()\n",
    "\n",
    "fname = \"twosamp_sbm_pvals\"\n",
    "if mode != \"png\":\n",
    "    fig.savefig(f\"Figures/{mode:s}/{fname:s}.{mode:s}\")\n",
    "\n",
    "fig.savefig(f\"Figures/png/{fname:s}.png\")"
   ]
  },
  {
   "cell_type": "code",
   "execution_count": null,
   "id": "b0c595e4",
   "metadata": {},
   "outputs": [],
   "source": []
  }
 ],
 "metadata": {
  "kernelspec": {
   "display_name": "Python 3 (ipykernel)",
   "language": "python",
   "name": "python3"
  },
  "language_info": {
   "codemirror_mode": {
    "name": "ipython",
    "version": 3
   },
   "file_extension": ".py",
   "mimetype": "text/x-python",
   "name": "python",
   "nbconvert_exporter": "python",
   "pygments_lexer": "ipython3",
   "version": "3.9.13"
  }
 },
 "nbformat": 4,
 "nbformat_minor": 5
}
