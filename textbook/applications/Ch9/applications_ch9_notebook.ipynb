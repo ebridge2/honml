{
 "cells": [
  {
   "cell_type": "markdown",
   "id": "64bfc8ae-ad45-4d33-92a9-fbd15d5755f1",
   "metadata": {},
   "source": [
    "(ch9:code_repr)=\n",
    "# Code Reproducibility: Chapter 9"
   ]
  },
  {
   "cell_type": "code",
   "execution_count": null,
   "id": "dae8eeca-a17a-4eb4-b931-40e5bb5c2258",
   "metadata": {},
   "outputs": [],
   "source": [
    "from torch_geometric.datasets import MoleculeNet\n",
    "\n",
    "dataset = MoleculeNet(root='data/clintox', name='ClinTox')\n",
    "print(f'Dataset: {dataset}\\nNumber of molecules/graphs: {len(dataset)}\\nNumber of classes: {dataset.num_classes}')"
   ]
  },
  {
   "cell_type": "code",
   "execution_count": null,
   "id": "7e7fceb6",
   "metadata": {},
   "outputs": [],
   "source": [
    "mols = dataset[26], dataset[83]\n",
    "for m in mols:\n",
    "    print(m.smiles)"
   ]
  },
  {
   "cell_type": "code",
   "execution_count": null,
   "id": "7b2b45c6",
   "metadata": {},
   "outputs": [],
   "source": [
    "from rdkit import Chem\n",
    "from rdkit.Chem.Draw import rdMolDraw2D\n",
    "from IPython.display import SVG\n",
    "\n",
    "smiles = [Chem.MolFromSmiles(m.smiles) for m in mols]\n",
    "d2d = rdMolDraw2D.MolDraw2DSVG(600,280,300,280)\n",
    "d2d.drawOptions().addAtomIndices = True\n",
    "d2d.DrawMolecules(smiles)\n",
    "d2d.FinishDrawing()\n",
    "SVG(d2d.GetDrawingText())"
   ]
  },
  {
   "cell_type": "code",
   "execution_count": null,
   "id": "3e2b9194",
   "metadata": {},
   "outputs": [],
   "source": [
    "for i,m in enumerate(mols):\n",
    "    print(f'Molecule {i+1}: Number of atoms={m.x.shape[0]}, Features per atom={m.x.shape[1]}')"
   ]
  },
  {
   "cell_type": "code",
   "execution_count": null,
   "id": "31d8e02d",
   "metadata": {},
   "outputs": [],
   "source": [
    "d2d = rdMolDraw2D.MolDraw2DSVG(600,280,300,280)\n",
    "d2d.drawOptions().addBondIndices = True\n",
    "d2d.DrawMolecules(smiles)\n",
    "d2d.FinishDrawing()\n",
    "SVG(d2d.GetDrawingText())"
   ]
  },
  {
   "cell_type": "code",
   "execution_count": null,
   "id": "4f4ff45a",
   "metadata": {},
   "outputs": [],
   "source": [
    "import numpy as np\n",
    "\n",
    "_process = lambda x: [e[0] for e in np.split(x, 2)]\n",
    "def adj_from_edgelist(molecule):\n",
    "    \"\"\"\n",
    "    A function that takes a molecule edgelist and produces an adjacency matrix.\n",
    "    \"\"\"\n",
    "    # the number of nodes is the number of atoms (rows of .x attribute)\n",
    "    n = molecule.x.shape[0]\n",
    "    # the adjacency matrix is n x n\n",
    "    A = np.zeros((n, n))\n",
    "    edgelist = m.edge_index.numpy()\n",
    "    # loop over the edges e_k, and for each edge, unpack the \n",
    "    # nodes that are incident it. for this pair of nodes, \n",
    "    # change the adjacency matrix entry to 1\n",
    "    for e_k, (i, j) in enumerate(zip(*_process(edgelist))):\n",
    "        A[i, j] = 1\n",
    "    return A"
   ]
  },
  {
   "cell_type": "code",
   "execution_count": null,
   "id": "7be2b077",
   "metadata": {},
   "outputs": [],
   "source": [
    "from graphbook_code import heatmap\n",
    "\n",
    "for m_i, m in enumerate(mols):\n",
    "    A = adj_from_edgelist(m)\n",
    "    heatmap(A)"
   ]
  },
  {
   "cell_type": "code",
   "execution_count": null,
   "id": "163a60d9",
   "metadata": {},
   "outputs": [],
   "source": [
    "import torch\n",
    "# for notebook reproducibility\n",
    "torch.manual_seed(12345)\n",
    "\n",
    "dataset = dataset.shuffle()\n",
    "\n",
    "train_dataset = dataset[:-150]\n",
    "test_dataset = dataset[-150:]\n",
    "\n",
    "print(f'Number of training networks: {len(train_dataset)}')\n",
    "print(f'Number of test networks: {len(test_dataset)}')"
   ]
  },
  {
   "cell_type": "code",
   "execution_count": null,
   "id": "25c2cc54",
   "metadata": {},
   "outputs": [],
   "source": [
    "from torch_geometric.loader import DataLoader\n",
    "\n",
    "train_loader = DataLoader(train_dataset, batch_size=64, shuffle=True)\n",
    "test_loader = DataLoader(test_dataset, batch_size=64, shuffle=False)"
   ]
  },
  {
   "cell_type": "code",
   "execution_count": null,
   "id": "a8d7c3d0",
   "metadata": {},
   "outputs": [],
   "source": [
    "for step, data in enumerate(iter(train_loader)):\n",
    "    print(f'Step {step + 1}:')\n",
    "    print(f'Number of networks in the current batch: {data.num_graphs}')\n",
    "    print(data)"
   ]
  },
  {
   "cell_type": "code",
   "execution_count": null,
   "id": "73608d92",
   "metadata": {},
   "outputs": [],
   "source": [
    "from torch import nn\n",
    "from torch.nn import Linear\n",
    "import torch.nn.functional as F\n",
    "from torch_geometric.nn import GCNConv\n",
    "from torch_geometric.nn import global_mean_pool\n",
    "\n",
    "torch.manual_seed(12345)\n",
    "class GCN(nn.Module):\n",
    "    def __init__(self, hidden_channels):\n",
    "        super(GCN, self).__init__()\n",
    "        self.conv1 = GCNConv(dataset.num_node_features, hidden_channels)\n",
    "        self.conv2 = GCNConv(hidden_channels, hidden_channels)\n",
    "        self.conv3 = GCNConv(hidden_channels, hidden_channels)\n",
    "        self.lin = Linear(hidden_channels, dataset.num_classes, bias=False)\n",
    "\n",
    "    def forward(self, x, edge_index, batch):\n",
    "\n",
    "        # 1. Obtain node embeddings via convolutional layers\n",
    "        x = self.conv1(x, edge_index)\n",
    "        x = x.relu()\n",
    "        x = self.conv2(x, edge_index)\n",
    "        x = x.relu()\n",
    "        x = self.conv3(x, edge_index)\n",
    "\n",
    "        # 2. Readout layer to produce network embedding\n",
    "        x = global_mean_pool(x, batch)  # [batch_size, hidden_channels]\n",
    "\n",
    "        # 3. Apply a prediction classifier to the network embedding\n",
    "        x = self.lin(x)\n",
    "\n",
    "        return x\n",
    "\n",
    "model = GCN(hidden_channels=64)\n",
    "print(model)"
   ]
  },
  {
   "cell_type": "code",
   "execution_count": null,
   "id": "3812c0c6",
   "metadata": {},
   "outputs": [],
   "source": [
    "model = GCN(hidden_channels=64)\n",
    "optimizer = torch.optim.Adam(model.parameters(), lr=0.0001)\n",
    "criterion = torch.nn.CrossEntropyLoss()\n",
    "\n",
    "def train():\n",
    "    model.train()\n",
    "    for data in train_loader:  # Iterate in batches over the training dataset.\n",
    "        out = model(data.x.float(), data.edge_index, data.batch)  # Perform a single forward pass.\n",
    "        # Handle a pyg bug where last element in batch may be all zeros and excluded in the model output.\n",
    "        # https://github.com/pyg-team/pytorch_geometric/issues/1813\n",
    "        num_batch = out.shape[0]\n",
    "        loss = criterion(out, data.y[:num_batch, 0].long())  # Compute the loss.\n",
    "        \n",
    "        loss.backward()  # Derive gradients.\n",
    "        optimizer.step()  # Update parameters based on gradients.\n",
    "        optimizer.zero_grad()  # Clear gradients.\n",
    "\n",
    "def test(loader):\n",
    "        model.eval()\n",
    "        correct = 0\n",
    "        for data in loader:  # Iterate in batches over the training/test dataset.\n",
    "            out = model(data.x.float(), data.edge_index, data.batch)  \n",
    "            pred = out.argmax(dim=1)  # Use the class with highest probability.\n",
    "            num_batch = pred.shape[0]\n",
    "            correct += int((pred == data.y[:num_batch, 0]).sum())  # Check against ground-truth labels.\n",
    "        return correct / len(loader.dataset)  # Derive ratio of correct predictions.\n",
    "\n",
    "R = 10  # number of epochs\n",
    "for epoch in range(0, R):\n",
    "    train()\n",
    "    train_acc = test(train_loader)\n",
    "    test_acc = test(test_loader)\n",
    "    print(f'Epoch: {epoch:03d}, Train Acc: {train_acc:.4f}, Test Acc: {test_acc:.4f}')"
   ]
  },
  {
   "cell_type": "code",
   "execution_count": null,
   "id": "194e5e4a",
   "metadata": {},
   "outputs": [],
   "source": [
    "import numpy as np\n",
    "\n",
    "# define the node names\n",
    "node_names = np.array([\"SI\", \"MH\", \"BK\", \"Q\", \"BX\"])\n",
    "# define the adjacency matrix\n",
    "A = np.array([[0,0,1,0,0],  # Staten Island neighbors Brooklyn\n",
    "              [0,0,1,1,1],  # Manhattan Neighbors all but Staten Island\n",
    "              [1,1,0,1,0],  # Brooklyn neighbors all but Bronx\n",
    "              [0,1,1,0,1],  # Queens neighbors all but Staten Island\n",
    "              [0,1,0,1,0]]) # Bronx neighbors Manhattan and Queens"
   ]
  },
  {
   "cell_type": "code",
   "execution_count": null,
   "id": "06db93a1",
   "metadata": {},
   "outputs": [],
   "source": [
    "# compute the degree of each node\n",
    "di = A.sum(axis=0)\n",
    "# the probability matrix is the adjacency divided by\n",
    "# degree of the starting node\n",
    "P = (A / di).T"
   ]
  },
  {
   "cell_type": "code",
   "execution_count": null,
   "id": "36d1979a",
   "metadata": {},
   "outputs": [],
   "source": [
    "x0 = np.array([0,1,0,0,0])  # x vector indicating we start at MH\n",
    "ps0 = P.T @ x0  # p vector for timestep 1 starting at node MH at time 0\n",
    "# choose the next node using the probability vector we calculated\n",
    "next_node = np.random.choice(range(0, len(node_names)), p=ps0)\n",
    "print(f\"Next node: {node_names[next_node]:s}\")"
   ]
  },
  {
   "cell_type": "code",
   "execution_count": null,
   "id": "2a225a17",
   "metadata": {},
   "outputs": [],
   "source": [
    "p = 5  # return parameter\n",
    "q = 1/2  # in-out parameter\n",
    "bias_vector = np.ones(len(node_names))\n",
    "bias_vector[node_names == \"BX\"] = 1/q\n",
    "bias_vector[node_names == \"BK\"] = 1/p"
   ]
  },
  {
   "cell_type": "code",
   "execution_count": null,
   "id": "ca61a938",
   "metadata": {},
   "outputs": [],
   "source": [
    "xt = [0, 1, 0, 0, 0]  # starting vector at MH\n",
    "pst = P.T @ xt  # probability vector is Pt*x"
   ]
  },
  {
   "cell_type": "code",
   "execution_count": null,
   "id": "319ef089",
   "metadata": {},
   "outputs": [],
   "source": [
    "bias_factors = pst*bias_vector"
   ]
  },
  {
   "cell_type": "code",
   "execution_count": null,
   "id": "dd254289",
   "metadata": {},
   "outputs": [],
   "source": [
    "biased_pst = bias_factors/bias_factors.sum()"
   ]
  },
  {
   "cell_type": "code",
   "execution_count": null,
   "id": "6092fb4c",
   "metadata": {},
   "outputs": [],
   "source": [
    "# choose the next node using the second-order biased transition probability\n",
    "next_node = np.random.choice(range(0, len(node_names)), p=biased_pst)\n",
    "print(f\"Next node: {node_names[next_node]:s}\")"
   ]
  },
  {
   "cell_type": "code",
   "execution_count": null,
   "id": "8d02487e",
   "metadata": {},
   "outputs": [],
   "source": [
    "from graphbook_code import dcsbm\n",
    "\n",
    "nk = 100  # 100 nodes per community\n",
    "zs = np.repeat([1, 2], nk)\n",
    "B = np.array([[0.6, 0.3], [0.3, 0.6]])\n",
    "theta = b = np.repeat([1, .2, 1, .2], nk // 2)\n",
    "deg_map = {1: \"Core\", 0.2: \"Per.\"}\n",
    "\n",
    "zs_deg = [f\"{deg_map[theta[i]]:s}\" for i in range(len(theta))]\n",
    "zs_aug = [f\"{z:d}, {deg:s}\" for z, deg in zip(zs, zs_deg)]\n",
    "\n",
    "A, P = dcsbm(zs, theta, B, return_prob=True)"
   ]
  },
  {
   "cell_type": "code",
   "execution_count": null,
   "id": "5e221b28",
   "metadata": {},
   "outputs": [],
   "source": [
    "from graspologic.embed import node2vec_embed\n",
    "import networkx as nx\n",
    "p=1; q=10; T=200; r=500\n",
    "d = 4\n",
    "\n",
    "np.random.seed(0)\n",
    "Xhat1, _ = node2vec_embed(nx.from_numpy_array(A),\n",
    "                         return_hyperparameter=float(p), inout_hyperparameter=float(q),\n",
    "                         dimensions=d, num_walks=r, walk_length=T)"
   ]
  },
  {
   "cell_type": "code",
   "execution_count": null,
   "id": "20e01571",
   "metadata": {},
   "outputs": [],
   "source": [
    "p=1; q=1/10; T=200; r=500\n",
    "d = 4\n",
    "\n",
    "np.random.seed(0)\n",
    "Xhat2, _ = node2vec_embed(nx.from_numpy_array(A), return_hyperparameter=float(p), inout_hyperparameter=float(q),\n",
    "                   dimensions=d, num_walks=r, walk_length=T)"
   ]
  }
 ],
 "metadata": {
  "kernelspec": {
   "display_name": "Python 3 (ipykernel)",
   "language": "python",
   "name": "python3"
  },
  "language_info": {
   "codemirror_mode": {
    "name": "ipython",
    "version": 3
   },
   "file_extension": ".py",
   "mimetype": "text/x-python",
   "name": "python",
   "nbconvert_exporter": "python",
   "pygments_lexer": "ipython3",
   "version": "3.9.13"
  }
 },
 "nbformat": 4,
 "nbformat_minor": 5
}
