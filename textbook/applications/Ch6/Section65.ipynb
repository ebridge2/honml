{
 "cells": [
  {
   "cell_type": "markdown",
   "id": "a2b7c0e8-f714-49ad-be77-37184db9f5b7",
   "metadata": {},
   "source": [
    "(ch6:vn)=\n",
    "# 6.5 The vertex nomination problem"
   ]
  },
  {
   "cell_type": "code",
   "execution_count": null,
   "id": "2a0a4cd7-32cf-4c61-b072-57b643cce1f5",
   "metadata": {},
   "outputs": [],
   "source": [
    "mode = \"svg\"\n",
    "\n",
    "import matplotlib\n",
    "\n",
    "font = {'family' : 'Dejavu Sans',\n",
    "        'weight' : 'normal',\n",
    "        'size'   : 20}\n",
    "\n",
    "matplotlib.rc('font', **font)\n",
    "\n",
    "import matplotlib\n",
    "from matplotlib import pyplot as plt"
   ]
  },
  {
   "cell_type": "code",
   "execution_count": null,
   "id": "7ae7dea4-2235-4d73-a16d-021d57fccccf",
   "metadata": {},
   "outputs": [],
   "source": [
    "import numpy as np\n",
    "from graspologic.simulations import sbm\n",
    "\n",
    "# first 100 nodes are traffickers, second 900 are non-traffickers\n",
    "ns = [100, 900]\n",
    "B = np.array([[0.3, 0.1], [0.1, 0.2]])\n",
    "np.random.seed(0)\n",
    "A = sbm(ns, B)"
   ]
  },
  {
   "cell_type": "code",
   "execution_count": null,
   "id": "15865c48-d343-42d0-b12e-55fcf11e260d",
   "metadata": {},
   "outputs": [],
   "source": [
    "# the number of seed nodes\n",
    "nseeds = 20\n",
    "# The first ns[0] nodes are the human traffickers, so choose 20 seeds\n",
    "# at random\n",
    "seed_ids = np.random.choice(ns[0], size=20, replace=False)"
   ]
  },
  {
   "cell_type": "code",
   "execution_count": null,
   "id": "aac63624-5d09-41b5-a617-dccc580a0688",
   "metadata": {},
   "outputs": [],
   "source": [
    "from graspologic.embed import AdjacencySpectralEmbed as ase\n",
    "\n",
    "Xhat = ase(n_components=2, svd_seed=0).fit_transform(A)"
   ]
  },
  {
   "cell_type": "code",
   "execution_count": null,
   "id": "f46df7b6-7df4-4edb-941d-736166588a7b",
   "metadata": {},
   "outputs": [],
   "source": [
    "from sklearn.cluster import KMeans\n",
    "\n",
    "# community detection with kmeans\n",
    "km_clust = KMeans(n_clusters=2, random_state=0)\n",
    "km_clust.fit(Xhat)\n",
    "labels_kmeans = km_clust.fit_predict(Xhat)"
   ]
  },
  {
   "cell_type": "code",
   "execution_count": null,
   "id": "781edd78-1363-45ac-ae85-fc154d1b60e1",
   "metadata": {},
   "outputs": [],
   "source": [
    "from graphbook_code import ohe_comm_vec\n",
    "\n",
    "# estimated community assignment matrix\n",
    "Chat = ohe_comm_vec(labels_kmeans)\n",
    "\n",
    "# get the community (class) with the most seeds\n",
    "comm_of_seeds = np.argmax(Chat[seed_ids,:].sum(axis=0))\n",
    "\n",
    "# get centroid of the community that seeds tend to be\n",
    "# assigned to\n",
    "centroid_seeds = km_clust.cluster_centers_[comm_of_seeds]"
   ]
  },
  {
   "cell_type": "code",
   "execution_count": null,
   "id": "40ec570e-9c3a-4164-9b91-446fd52e6a2d",
   "metadata": {},
   "outputs": [],
   "source": [
    "from graspologic.embed import AdjacencySpectralEmbed as ase\n",
    "from sklearn.cluster import KMeans\n",
    "from graphbook_code import ohe_comm_vec\n",
    "\n",
    "Xhat = ase().fit_transform(A)\n",
    "# community detection with kmeans\n",
    "km_clust = KMeans(n_clusters=2, random_state=0)\n",
    "km_clust.fit(Xhat)\n",
    "labels_kmeans = km_clust.fit_predict(Xhat)"
   ]
  },
  {
   "cell_type": "code",
   "execution_count": null,
   "id": "cd5f8fe9-07b3-49ff-8dfa-b4c857c0c254",
   "metadata": {},
   "outputs": [],
   "source": [
    "from scipy.spatial.distance import cdist\n",
    "from scipy.stats import rankdata\n",
    "\n",
    "# compute the distance to the centroid for all estimated latent positions\n",
    "dists_to_centroid = cdist(Xhat, centroid_seeds.reshape(1, -1)).reshape(-1)\n",
    "# compute the node numbers for all the nonseed nodes\n",
    "nonseed_bool = np.ones((np.sum(ns)))\n",
    "nonseed_bool[seed_ids] = 0\n",
    "nonseed_ids = np.array(np.where(nonseed_bool)).reshape(-1)\n",
    "\n",
    "# isolate the distances to the centroid for the nonseed nodes\n",
    "nonseed_dists = dists_to_centroid[nonseed_ids]"
   ]
  },
  {
   "cell_type": "code",
   "execution_count": null,
   "id": "a5ed10d9-ee67-4bff-9401-102897f34ce1",
   "metadata": {},
   "outputs": [],
   "source": [
    "# produce the nomination list\n",
    "nom_list_nonseeds = np.argsort(nonseed_dists).reshape(-1)\n",
    "# obtain a nomination list in terms of the original node ids\n",
    "nom_list = nonseed_ids[nom_list_nonseeds]"
   ]
  },
  {
   "cell_type": "code",
   "execution_count": null,
   "id": "e91644c0-ebfe-4795-9095-4ae3a7243142",
   "metadata": {},
   "outputs": [],
   "source": [
    "from graphbook_code import heatmap, plot_latents\n",
    "import pandas as pd\n",
    "import seaborn as sns\n",
    "import os\n",
    "\n",
    "fig, axs = plt.subplots(1, 3, figsize=(20, 6), gridspec_kw={\"width_ratios\": [2, 2, 2]})\n",
    "\n",
    "heatmap(A.astype(int), xtitle=\"Node\", ytitle=\"Node\",\n",
    "        title=\"(A) Adjacency matrix\", ax=axs[0])\n",
    "axs[0].set_title(\"(A) Adjacency matrix\", loc=\"left\")\n",
    "seed_labels = [\"Seed\" if i in seed_ids else \"Non-seed\" for i in range(0, np.sum(ns))]\n",
    "plot_latents(Xhat[seed_ids,:], title=\"(B) Spectral partitioning\",\n",
    "             xtitle=\"Dimension 1\", ytitle=\"Dimension 2\",\n",
    "             s=30, alpha=1, legend=False,\n",
    "             ax=axs[1])\n",
    "axs[1].plot(centroid_seeds[0], centroid_seeds[1], marker=\"*\", markersize=25, color=\"black\", label=\"Seed centroid\")\n",
    "\n",
    "plot_latents(Xhat, title=\"(B) Spectral partitioning\",\n",
    "             xtitle=\"Dimension 1\", ytitle=\"Dimension 2\",\n",
    "             labels= seed_labels, s=30, alpha=0.5, legend=False,\n",
    "             ax=axs[1], palette={\"Seed\": \"#000000\", \"Non-seed\": \"#999999\"})\n",
    "axs[1].legend()\n",
    "\n",
    "nom_df = pd.DataFrame({\"x\":Xhat[nom_list,0], \"y\": Xhat[nom_list,1]})\n",
    "nom_df[\"Priority\"] = nom_df.reset_index().index\n",
    "sns.scatterplot(data=nom_df, x=\"x\", y=\"y\", ax=axs[2], hue=\"Priority\", palette=\"Greys_r\", legend=False)\n",
    "axs[2].set_title(\"(C) Non-seed nomination list\", loc=\"left\")\n",
    "axs[2].set_xlabel(\"Dimension 1\")\n",
    "axs[2].set_ylabel(\"Dimension 2\")\n",
    "\n",
    "norm = plt.Normalize(vmin=nom_df[\"Priority\"].min(), vmax=nom_df[\"Priority\"].max())\n",
    "sm = plt.cm.ScalarMappable(cmap=\"Greys_r\", norm=norm)\n",
    "sm.set_array([])\n",
    "\n",
    "cbar = plt.colorbar(sm, ax=axs[2], ticks=[nom_df[\"Priority\"].min(), nom_df[\"Priority\"].max()])\n",
    "cbar.set_label(\"Priority\")\n",
    "cbar.set_ticklabels([\"High\", \"Low\"])\n",
    "\n",
    "fig.tight_layout()\n",
    "\n",
    "os.makedirs(\"Figures\", exist_ok=True)\n",
    "fname = \"vn\"\n",
    "if mode != \"png\":\n",
    "    os.makedirs(f\"Figures/{mode:s}\", exist_ok=True)\n",
    "    fig.savefig(f\"Figures/{mode:s}/{fname:s}.{mode:s}\")\n",
    "\n",
    "os.makedirs(\"Figures/png\", exist_ok=True)\n",
    "fig.savefig(f\"Figures/png/{fname:s}.png\")"
   ]
  },
  {
   "cell_type": "code",
   "execution_count": null,
   "id": "12a367d0-62a0-421c-ac15-865179eace33",
   "metadata": {},
   "outputs": [],
   "source": []
  }
 ],
 "metadata": {
  "kernelspec": {
   "display_name": "Python 3 (ipykernel)",
   "language": "python",
   "name": "python3"
  },
  "language_info": {
   "codemirror_mode": {
    "name": "ipython",
    "version": 3
   },
   "file_extension": ".py",
   "mimetype": "text/x-python",
   "name": "python",
   "nbconvert_exporter": "python",
   "pygments_lexer": "ipython3",
   "version": "3.9.13"
  }
 },
 "nbformat": 4,
 "nbformat_minor": 5
}
