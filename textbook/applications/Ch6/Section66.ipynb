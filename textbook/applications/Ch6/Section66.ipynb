{
 "cells": [
  {
   "cell_type": "markdown",
   "id": "96946c40-b453-402e-a617-6f9073bf7f91",
   "metadata": {},
   "source": [
    "(ch6:oos)=\n",
    "# 6.6 Out-of-sample embedding"
   ]
  },
  {
   "cell_type": "code",
   "execution_count": null,
   "id": "2a0a4cd7-32cf-4c61-b072-57b643cce1f5",
   "metadata": {},
   "outputs": [],
   "source": [
    "mode = \"svg\"\n",
    "\n",
    "import matplotlib\n",
    "\n",
    "font = {'family' : 'Dejavu Sans',\n",
    "        'weight' : 'normal',\n",
    "        'size'   : 20}\n",
    "\n",
    "matplotlib.rc('font', **font)\n",
    "\n",
    "import matplotlib\n",
    "from matplotlib import pyplot as plt"
   ]
  },
  {
   "cell_type": "code",
   "execution_count": null,
   "id": "e7ef73e6-4f88-4203-a731-d3fa6ea87795",
   "metadata": {},
   "outputs": [],
   "source": [
    "import numpy as np\n",
    "from graspologic.simulations import sbm\n",
    "\n",
    "# the in-sample nodes\n",
    "n = 100\n",
    "nk = 50\n",
    "# the out-of-sample nodes\n",
    "np1 = 1; np2 = 2\n",
    "B = np.array([[0.6, 0.2], [0.2, 0.4]])\n",
    "# sample network\n",
    "np.random.seed(0)\n",
    "A, zs = sbm([nk + np1, nk + np2], B, return_labels=True)"
   ]
  },
  {
   "cell_type": "code",
   "execution_count": null,
   "id": "6e3a124b-6b50-4c67-9f16-e2ca4cc05726",
   "metadata": {},
   "outputs": [],
   "source": [
    "from graspologic.utils import remove_vertices\n",
    "\n",
    "# the indices of the out-of-sample nodes\n",
    "oos_idx = [nk, nk + np1 + nk, nk + np1 + nk + 1]\n",
    "# get adjacency matrix and the adjacency vectors A prime\n",
    "Ain, Aoos = remove_vertices(A, indices=oos_idx, return_removed=True)"
   ]
  },
  {
   "cell_type": "code",
   "execution_count": null,
   "id": "9cb4041d-bec4-47ad-958b-d3712ea4d27e",
   "metadata": {},
   "outputs": [],
   "source": [
    "from graspologic.embed import AdjacencySpectralEmbed as ase\n",
    "\n",
    "oos_embedder = ase()\n",
    "# estimate latent positions for the in-sample nodes\n",
    "# using the subnetwork induced by the in-sample nodes\n",
    "Xhat_in = oos_embedder.fit_transform(Ain)"
   ]
  },
  {
   "cell_type": "code",
   "execution_count": null,
   "id": "6d383690-fa0f-468e-8dca-ded24a60cfe0",
   "metadata": {},
   "outputs": [],
   "source": [
    "Xhat_oos = oos_embedder.transform(Aoos)\n",
    "print(Xhat_oos.shape)"
   ]
  },
  {
   "cell_type": "code",
   "execution_count": null,
   "id": "3fe6e69c-f4b6-477e-b90d-85dbccf7a1a5",
   "metadata": {},
   "outputs": [],
   "source": [
    "from graphbook_code import heatmap, lpm_heatmap, plot_latents\n",
    "import os\n",
    "\n",
    "zin = np.delete(zs, oos_idx) + 1\n",
    "fig, axs = plt.subplots(1, 3, figsize=(18, 6), gridspec_kw={\"width_ratios\": [2, 1, 2]})\n",
    "\n",
    "heatmap(Ain.astype(int), title=\"\", xtitle=\"In-sample node\", ax=axs[0],\n",
    "        inner_hier_labels=zin, xticks=[0.5, 49.5, 99.5], xticklabels=[1, 50, 100], \n",
    "        yticks=[0.5, 49.5, 99.5], yticklabels=[1, 50, 100], cbar=False)\n",
    "axs[0].set_title(\"(A) Adjacency matrix\", pad=50, loc=\"left\")\n",
    "\n",
    "lpm_heatmap(Aoos.T.astype(int), title=\"\", xtitle=\"Out-of-sample node\", ytitle=\"In-sample node\",\n",
    "            xticks=[0.5, 1.5, 2.5], xticklabels=[1, 2, 3], yticks=[0.5, 49.5, 99.5],\n",
    "            yticklabels=[1, 50, 100], ax=axs[1])\n",
    "axs[1].set_title(\"(B) $A'^\\\\top$\", loc=\"left\", pad=25)\n",
    "\n",
    "plot_latents(Xhat_in, labels=zin, ax=axs[2], s=50, alpha=0.3, title=\"(C) Estimated latent positions\",\n",
    "            xtitle=\"Dimension 1\", ytitle=\"Dimension 2\")\n",
    "axs[2].set_title(\"(C) Estimated latent positions\", loc=\"left\", pad=25)\n",
    "plot_latents(Xhat_oos, ax=axs[2], labels=zs[oos_idx] + 1, s=100)\n",
    "\n",
    "handles, labels = axs[2].get_legend_handles_labels()\n",
    "axs[2].legend(handles=handles[:2], labels=labels[:2], title=\"Community\")\n",
    "\n",
    "for i in range(Xhat_oos.shape[0]):\n",
    "    axs[2].annotate(f\"OOS Node {i+1:d}\", xy=(Xhat_oos[i,0], Xhat_oos[i,1]))\n",
    "fig.tight_layout()\n",
    "\n",
    "os.makedirs(\"Figures\", exist_ok=True)\n",
    "fname = \"oos_ex\"\n",
    "if mode != \"png\":\n",
    "    os.makedirs(f\"Figures/{mode:s}\", exist_ok=True)\n",
    "    fig.savefig(f\"Figures/{mode:s}/{fname:s}.{mode:s}\")\n",
    "\n",
    "os.makedirs(\"Figures/png\", exist_ok=True)\n",
    "fig.savefig(f\"Figures/png/{fname:s}.png\")"
   ]
  },
  {
   "cell_type": "code",
   "execution_count": null,
   "id": "e09cf208-10ab-45cf-a3e8-0fe95fb68677",
   "metadata": {},
   "outputs": [],
   "source": []
  }
 ],
 "metadata": {
  "kernelspec": {
   "display_name": "Python 3 (ipykernel)",
   "language": "python",
   "name": "python3"
  },
  "language_info": {
   "codemirror_mode": {
    "name": "ipython",
    "version": 3
   },
   "file_extension": ".py",
   "mimetype": "text/x-python",
   "name": "python",
   "nbconvert_exporter": "python",
   "pygments_lexer": "ipython3",
   "version": "3.9.13"
  }
 },
 "nbformat": 4,
 "nbformat_minor": 5
}
